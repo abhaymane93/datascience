{
 "cells": [
  {
   "cell_type": "markdown",
   "metadata": {},
   "source": [
    "# Sentiment Analysis of Mobile Phone Reviews\n",
    "[DataSet](http://jmcauley.ucsd.edu/data/amazon/)"
   ]
  },
  {
   "cell_type": "code",
   "execution_count": 1,
   "metadata": {
    "collapsed": true
   },
   "outputs": [],
   "source": [
    "import graphlab"
   ]
  },
  {
   "cell_type": "code",
   "execution_count": 2,
   "metadata": {
    "collapsed": false
   },
   "outputs": [
    {
     "name": "stdout",
     "output_type": "stream",
     "text": [
      "This non-commercial license of GraphLab Create for academic use is assigned to shashankdeshpande18@gmail.com and will expire on December 28, 2017.\n"
     ]
    },
    {
     "name": "stderr",
     "output_type": "stream",
     "text": [
      "[INFO] graphlab.cython.cy_server: GraphLab Create v2.1 started. Logging: /tmp/graphlab_server_1486148096.log\n"
     ]
    },
    {
     "data": {
      "text/html": [
       "<pre>Finished parsing file /home/hdpuser/Project/Mobiles/reviews_Cell_Phones_and_Accessories.json</pre>"
      ],
      "text/plain": [
       "Finished parsing file /home/hdpuser/Project/Mobiles/reviews_Cell_Phones_and_Accessories.json"
      ]
     },
     "metadata": {},
     "output_type": "display_data"
    },
    {
     "data": {
      "text/html": [
       "<pre>Parsing completed. Parsed 100 lines in 1.78555 secs.</pre>"
      ],
      "text/plain": [
       "Parsing completed. Parsed 100 lines in 1.78555 secs."
      ]
     },
     "metadata": {},
     "output_type": "display_data"
    },
    {
     "name": "stdout",
     "output_type": "stream",
     "text": [
      "------------------------------------------------------\n",
      "Inferred types from first 100 line(s) of file as \n",
      "column_type_hints=[dict]\n",
      "If parsing fails due to incorrect types, you can correct\n",
      "the inferred type list above and pass it to read_csv in\n",
      "the column_type_hints argument\n",
      "------------------------------------------------------\n"
     ]
    },
    {
     "data": {
      "text/html": [
       "<pre>Read 74955 lines. Lines per second: 22352.2</pre>"
      ],
      "text/plain": [
       "Read 74955 lines. Lines per second: 22352.2"
      ]
     },
     "metadata": {},
     "output_type": "display_data"
    },
    {
     "data": {
      "text/html": [
       "<pre>Read 322105 lines. Lines per second: 36660.8</pre>"
      ],
      "text/plain": [
       "Read 322105 lines. Lines per second: 36660.8"
      ]
     },
     "metadata": {},
     "output_type": "display_data"
    },
    {
     "data": {
      "text/html": [
       "<pre>Read 584435 lines. Lines per second: 40531.1</pre>"
      ],
      "text/plain": [
       "Read 584435 lines. Lines per second: 40531.1"
      ]
     },
     "metadata": {},
     "output_type": "display_data"
    },
    {
     "data": {
      "text/html": [
       "<pre>Read 857437 lines. Lines per second: 43611.5</pre>"
      ],
      "text/plain": [
       "Read 857437 lines. Lines per second: 43611.5"
      ]
     },
     "metadata": {},
     "output_type": "display_data"
    },
    {
     "data": {
      "text/html": [
       "<pre>Read 1138278 lines. Lines per second: 45759</pre>"
      ],
      "text/plain": [
       "Read 1138278 lines. Lines per second: 45759"
      ]
     },
     "metadata": {},
     "output_type": "display_data"
    },
    {
     "data": {
      "text/html": [
       "<pre>Read 1427853 lines. Lines per second: 47284.9</pre>"
      ],
      "text/plain": [
       "Read 1427853 lines. Lines per second: 47284.9"
      ]
     },
     "metadata": {},
     "output_type": "display_data"
    },
    {
     "data": {
      "text/html": [
       "<pre>Read 1726875 lines. Lines per second: 48515.5</pre>"
      ],
      "text/plain": [
       "Read 1726875 lines. Lines per second: 48515.5"
      ]
     },
     "metadata": {},
     "output_type": "display_data"
    },
    {
     "data": {
      "text/html": [
       "<pre>Read 2031860 lines. Lines per second: 49600.5</pre>"
      ],
      "text/plain": [
       "Read 2031860 lines. Lines per second: 49600.5"
      ]
     },
     "metadata": {},
     "output_type": "display_data"
    },
    {
     "data": {
      "text/html": [
       "<pre>Read 2326404 lines. Lines per second: 50389.5</pre>"
      ],
      "text/plain": [
       "Read 2326404 lines. Lines per second: 50389.5"
      ]
     },
     "metadata": {},
     "output_type": "display_data"
    },
    {
     "data": {
      "text/html": [
       "<pre>Read 2619829 lines. Lines per second: 50812</pre>"
      ],
      "text/plain": [
       "Read 2619829 lines. Lines per second: 50812"
      ]
     },
     "metadata": {},
     "output_type": "display_data"
    },
    {
     "data": {
      "text/html": [
       "<pre>Read 2917752 lines. Lines per second: 51256.3</pre>"
      ],
      "text/plain": [
       "Read 2917752 lines. Lines per second: 51256.3"
      ]
     },
     "metadata": {},
     "output_type": "display_data"
    },
    {
     "data": {
      "text/html": [
       "<pre>Read 3215224 lines. Lines per second: 51448.9</pre>"
      ],
      "text/plain": [
       "Read 3215224 lines. Lines per second: 51448.9"
      ]
     },
     "metadata": {},
     "output_type": "display_data"
    },
    {
     "data": {
      "text/html": [
       "<pre>Finished parsing file /home/hdpuser/Project/Mobiles/reviews_Cell_Phones_and_Accessories.json</pre>"
      ],
      "text/plain": [
       "Finished parsing file /home/hdpuser/Project/Mobiles/reviews_Cell_Phones_and_Accessories.json"
      ]
     },
     "metadata": {},
     "output_type": "display_data"
    },
    {
     "data": {
      "text/html": [
       "<pre>Parsing completed. Parsed 3447249 lines in 65.8404 secs.</pre>"
      ],
      "text/plain": [
       "Parsing completed. Parsed 3447249 lines in 65.8404 secs."
      ]
     },
     "metadata": {},
     "output_type": "display_data"
    }
   ],
   "source": [
    "mobile=graphlab.SFrame.read_json('reviews_Cell_Phones_and_Accessories.json',orient='lines')"
   ]
  },
  {
   "cell_type": "code",
   "execution_count": 3,
   "metadata": {
    "collapsed": false
   },
   "outputs": [
    {
     "data": {
      "text/plain": [
       "(3447249, 9)"
      ]
     },
     "execution_count": 3,
     "metadata": {},
     "output_type": "execute_result"
    }
   ],
   "source": [
    "mobile.shape"
   ]
  },
  {
   "cell_type": "code",
   "execution_count": 4,
   "metadata": {
    "collapsed": false
   },
   "outputs": [
    {
     "data": {
      "text/html": [
       "<pre>Finished parsing file /home/hdpuser/Project/Mobiles/meta_Cell_Phones_and_Accessories.json</pre>"
      ],
      "text/plain": [
       "Finished parsing file /home/hdpuser/Project/Mobiles/meta_Cell_Phones_and_Accessories.json"
      ]
     },
     "metadata": {},
     "output_type": "display_data"
    },
    {
     "data": {
      "text/html": [
       "<pre>Parsing completed. Parsed 100 lines in 1.63236 secs.</pre>"
      ],
      "text/plain": [
       "Parsing completed. Parsed 100 lines in 1.63236 secs."
      ]
     },
     "metadata": {},
     "output_type": "display_data"
    },
    {
     "name": "stdout",
     "output_type": "stream",
     "text": [
      "------------------------------------------------------\n",
      "Inferred types from first 100 line(s) of file as \n",
      "column_type_hints=[dict]\n",
      "If parsing fails due to incorrect types, you can correct\n",
      "the inferred type list above and pass it to read_csv in\n",
      "the column_type_hints argument\n",
      "------------------------------------------------------\n"
     ]
    },
    {
     "data": {
      "text/html": [
       "<pre>Read 56056 lines. Lines per second: 17643.6</pre>"
      ],
      "text/plain": [
       "Read 56056 lines. Lines per second: 17643.6"
      ]
     },
     "metadata": {},
     "output_type": "display_data"
    },
    {
     "data": {
      "text/html": [
       "<pre>Read 200293 lines. Lines per second: 23536.6</pre>"
      ],
      "text/plain": [
       "Read 200293 lines. Lines per second: 23536.6"
      ]
     },
     "metadata": {},
     "output_type": "display_data"
    },
    {
     "data": {
      "text/html": [
       "<pre>Finished parsing file /home/hdpuser/Project/Mobiles/meta_Cell_Phones_and_Accessories.json</pre>"
      ],
      "text/plain": [
       "Finished parsing file /home/hdpuser/Project/Mobiles/meta_Cell_Phones_and_Accessories.json"
      ]
     },
     "metadata": {},
     "output_type": "display_data"
    },
    {
     "data": {
      "text/html": [
       "<pre>Parsing completed. Parsed 346793 lines in 13.762 secs.</pre>"
      ],
      "text/plain": [
       "Parsing completed. Parsed 346793 lines in 13.762 secs."
      ]
     },
     "metadata": {},
     "output_type": "display_data"
    }
   ],
   "source": [
    "meta_data=graphlab.SFrame.read_json('meta_Cell_Phones_and_Accessories.json',orient='lines')"
   ]
  },
  {
   "cell_type": "code",
   "execution_count": 5,
   "metadata": {
    "collapsed": false
   },
   "outputs": [
    {
     "data": {
      "text/plain": [
       "(346793, 9)"
      ]
     },
     "execution_count": 5,
     "metadata": {},
     "output_type": "execute_result"
    }
   ],
   "source": [
    "meta_data.shape"
   ]
  },
  {
   "cell_type": "code",
   "execution_count": null,
   "metadata": {
    "collapsed": false
   },
   "outputs": [],
   "source": [
    "mobile"
   ]
  },
  {
   "cell_type": "code",
   "execution_count": null,
   "metadata": {
    "collapsed": false
   },
   "outputs": [],
   "source": [
    "meta_data"
   ]
  },
  {
   "cell_type": "code",
   "execution_count": 6,
   "metadata": {
    "collapsed": false
   },
   "outputs": [],
   "source": [
    "mobile=mobile.join(meta_data)"
   ]
  },
  {
   "cell_type": "code",
   "execution_count": 7,
   "metadata": {
    "collapsed": false
   },
   "outputs": [
    {
     "data": {
      "text/plain": [
       "['asin',\n",
       " 'helpful',\n",
       " 'overall',\n",
       " 'reviewText',\n",
       " 'reviewTime',\n",
       " 'reviewerID',\n",
       " 'reviewerName',\n",
       " 'summary',\n",
       " 'unixReviewTime',\n",
       " 'brand',\n",
       " 'categories',\n",
       " 'description',\n",
       " 'imUrl',\n",
       " 'price',\n",
       " 'related',\n",
       " 'salesRank',\n",
       " 'title']"
      ]
     },
     "execution_count": 7,
     "metadata": {},
     "output_type": "execute_result"
    }
   ],
   "source": [
    "mobile.column_names()"
   ]
  },
  {
   "cell_type": "code",
   "execution_count": null,
   "metadata": {
    "collapsed": false
   },
   "outputs": [],
   "source": [
    "mobile.show()"
   ]
  },
  {
   "cell_type": "code",
   "execution_count": 8,
   "metadata": {
    "collapsed": false
   },
   "outputs": [],
   "source": [
    "mobile=mobile.stack('categories',new_column_name='new_categories')"
   ]
  },
  {
   "cell_type": "code",
   "execution_count": 9,
   "metadata": {
    "collapsed": false
   },
   "outputs": [
    {
     "data": {
      "text/plain": [
       "(3936977, 17)"
      ]
     },
     "execution_count": 9,
     "metadata": {},
     "output_type": "execute_result"
    }
   ],
   "source": [
    "mobile.shape"
   ]
  },
  {
   "cell_type": "code",
   "execution_count": 10,
   "metadata": {
    "collapsed": true
   },
   "outputs": [],
   "source": [
    "categories=mobile.stack('new_categories',new_column_name='product_categories')"
   ]
  },
  {
   "cell_type": "code",
   "execution_count": null,
   "metadata": {
    "collapsed": false
   },
   "outputs": [],
   "source": [
    "mobile.column_names()"
   ]
  },
  {
   "cell_type": "code",
   "execution_count": 11,
   "metadata": {
    "collapsed": true
   },
   "outputs": [],
   "source": [
    "categories=categories['product_categories']"
   ]
  },
  {
   "cell_type": "code",
   "execution_count": null,
   "metadata": {
    "collapsed": false,
    "scrolled": true
   },
   "outputs": [],
   "source": [
    "categories"
   ]
  },
  {
   "cell_type": "code",
   "execution_count": 12,
   "metadata": {
    "collapsed": true
   },
   "outputs": [],
   "source": [
    "distinct_categories=[]\n",
    "for i in categories:\n",
    "    if i not in distinct_categories:\n",
    "        distinct_categories.append(i)"
   ]
  },
  {
   "cell_type": "code",
   "execution_count": 13,
   "metadata": {
    "collapsed": false
   },
   "outputs": [
    {
     "data": {
      "text/plain": [
       "460"
      ]
     },
     "execution_count": 13,
     "metadata": {},
     "output_type": "execute_result"
    }
   ],
   "source": [
    "len(distinct_categories)"
   ]
  },
  {
   "cell_type": "code",
   "execution_count": 14,
   "metadata": {
    "collapsed": true
   },
   "outputs": [],
   "source": [
    "d=distinct_categories[1:]"
   ]
  },
  {
   "cell_type": "code",
   "execution_count": 15,
   "metadata": {
    "collapsed": false
   },
   "outputs": [],
   "source": [
    "#applying 1 hot encoding\n",
    "for category in distinct_categories:\n",
    "    mobile[category]=mobile['new_categories'].apply(lambda s: +1 if category in s else 0)"
   ]
  },
  {
   "cell_type": "code",
   "execution_count": 16,
   "metadata": {
    "collapsed": false,
    "scrolled": true
   },
   "outputs": [
    {
     "data": {
      "text/html": [
       "<div style=\"max-height:1000px;max-width:1500px;overflow:auto;\"><table frame=\"box\" rules=\"cols\">\n",
       "    <tr>\n",
       "        <th style=\"padding-left: 1em; padding-right: 1em; text-align: center\">asin</th>\n",
       "        <th style=\"padding-left: 1em; padding-right: 1em; text-align: center\">helpful</th>\n",
       "        <th style=\"padding-left: 1em; padding-right: 1em; text-align: center\">overall</th>\n",
       "        <th style=\"padding-left: 1em; padding-right: 1em; text-align: center\">reviewText</th>\n",
       "        <th style=\"padding-left: 1em; padding-right: 1em; text-align: center\">reviewTime</th>\n",
       "        <th style=\"padding-left: 1em; padding-right: 1em; text-align: center\">reviewerID</th>\n",
       "        <th style=\"padding-left: 1em; padding-right: 1em; text-align: center\">reviewerName</th>\n",
       "    </tr>\n",
       "    <tr>\n",
       "        <td style=\"padding-left: 1em; padding-right: 1em; text-align: center; vertical-align: top\">011040047X</td>\n",
       "        <td style=\"padding-left: 1em; padding-right: 1em; text-align: center; vertical-align: top\">[2, 2]</td>\n",
       "        <td style=\"padding-left: 1em; padding-right: 1em; text-align: center; vertical-align: top\">1.0</td>\n",
       "        <td style=\"padding-left: 1em; padding-right: 1em; text-align: center; vertical-align: top\">The case pictured is a<br>soft violet color, but ...</td>\n",
       "        <td style=\"padding-left: 1em; padding-right: 1em; text-align: center; vertical-align: top\">08 14, 2012</td>\n",
       "        <td style=\"padding-left: 1em; padding-right: 1em; text-align: center; vertical-align: top\">A1EWN6KZ4HMLT7</td>\n",
       "        <td style=\"padding-left: 1em; padding-right: 1em; text-align: center; vertical-align: top\">S. Prescott</td>\n",
       "    </tr>\n",
       "    <tr>\n",
       "        <td style=\"padding-left: 1em; padding-right: 1em; text-align: center; vertical-align: top\">0110400550</td>\n",
       "        <td style=\"padding-left: 1em; padding-right: 1em; text-align: center; vertical-align: top\">[0, 0]</td>\n",
       "        <td style=\"padding-left: 1em; padding-right: 1em; text-align: center; vertical-align: top\">5.0</td>\n",
       "        <td style=\"padding-left: 1em; padding-right: 1em; text-align: center; vertical-align: top\">Saw this same case at a<br>theme park store for 25 ...</td>\n",
       "        <td style=\"padding-left: 1em; padding-right: 1em; text-align: center; vertical-align: top\">11 22, 2012</td>\n",
       "        <td style=\"padding-left: 1em; padding-right: 1em; text-align: center; vertical-align: top\">A1YX2RBMS1L9L</td>\n",
       "        <td style=\"padding-left: 1em; padding-right: 1em; text-align: center; vertical-align: top\">Andrea Busch</td>\n",
       "    </tr>\n",
       "    <tr>\n",
       "        <td style=\"padding-left: 1em; padding-right: 1em; text-align: center; vertical-align: top\">0110400550</td>\n",
       "        <td style=\"padding-left: 1em; padding-right: 1em; text-align: center; vertical-align: top\">[3, 3]</td>\n",
       "        <td style=\"padding-left: 1em; padding-right: 1em; text-align: center; vertical-align: top\">5.0</td>\n",
       "        <td style=\"padding-left: 1em; padding-right: 1em; text-align: center; vertical-align: top\">case fits perfectly and I<br>always gets compliments ...</td>\n",
       "        <td style=\"padding-left: 1em; padding-right: 1em; text-align: center; vertical-align: top\">07 18, 2013</td>\n",
       "        <td style=\"padding-left: 1em; padding-right: 1em; text-align: center; vertical-align: top\">A180NNPPKWCCU0</td>\n",
       "        <td style=\"padding-left: 1em; padding-right: 1em; text-align: center; vertical-align: top\">Aniya pennington</td>\n",
       "    </tr>\n",
       "    <tr>\n",
       "        <td style=\"padding-left: 1em; padding-right: 1em; text-align: center; vertical-align: top\">0110400550</td>\n",
       "        <td style=\"padding-left: 1em; padding-right: 1em; text-align: center; vertical-align: top\">[4, 4]</td>\n",
       "        <td style=\"padding-left: 1em; padding-right: 1em; text-align: center; vertical-align: top\">5.0</td>\n",
       "        <td style=\"padding-left: 1em; padding-right: 1em; text-align: center; vertical-align: top\">Best phone case ever .<br>Everywhere I go I get a ...</td>\n",
       "        <td style=\"padding-left: 1em; padding-right: 1em; text-align: center; vertical-align: top\">01 13, 2013</td>\n",
       "        <td style=\"padding-left: 1em; padding-right: 1em; text-align: center; vertical-align: top\">A3HVRXV0LVJN7</td>\n",
       "        <td style=\"padding-left: 1em; padding-right: 1em; text-align: center; vertical-align: top\">BiancaNicole</td>\n",
       "    </tr>\n",
       "    <tr>\n",
       "        <td style=\"padding-left: 1em; padding-right: 1em; text-align: center; vertical-align: top\">0110400550</td>\n",
       "        <td style=\"padding-left: 1em; padding-right: 1em; text-align: center; vertical-align: top\">[0, 1]</td>\n",
       "        <td style=\"padding-left: 1em; padding-right: 1em; text-align: center; vertical-align: top\">1.0</td>\n",
       "        <td style=\"padding-left: 1em; padding-right: 1em; text-align: center; vertical-align: top\">It may look cute. This<br>case started off pretty ...</td>\n",
       "        <td style=\"padding-left: 1em; padding-right: 1em; text-align: center; vertical-align: top\">11 26, 2012</td>\n",
       "        <td style=\"padding-left: 1em; padding-right: 1em; text-align: center; vertical-align: top\">A292527VPX98P8</td>\n",
       "        <td style=\"padding-left: 1em; padding-right: 1em; text-align: center; vertical-align: top\">Cebell</td>\n",
       "    </tr>\n",
       "    <tr>\n",
       "        <td style=\"padding-left: 1em; padding-right: 1em; text-align: center; vertical-align: top\">0110400550</td>\n",
       "        <td style=\"padding-left: 1em; padding-right: 1em; text-align: center; vertical-align: top\">[0, 3]</td>\n",
       "        <td style=\"padding-left: 1em; padding-right: 1em; text-align: center; vertical-align: top\">1.0</td>\n",
       "        <td style=\"padding-left: 1em; padding-right: 1em; text-align: center; vertical-align: top\">ITEM NOT SENT from Blue<br>Top Company in Hong Kong ...</td>\n",
       "        <td style=\"padding-left: 1em; padding-right: 1em; text-align: center; vertical-align: top\">01 30, 2013</td>\n",
       "        <td style=\"padding-left: 1em; padding-right: 1em; text-align: center; vertical-align: top\">A1BJGDS0L1IO6I</td>\n",
       "        <td style=\"padding-left: 1em; padding-right: 1em; text-align: center; vertical-align: top\">cf \"t\"</td>\n",
       "    </tr>\n",
       "    <tr>\n",
       "        <td style=\"padding-left: 1em; padding-right: 1em; text-align: center; vertical-align: top\">0110400550</td>\n",
       "        <td style=\"padding-left: 1em; padding-right: 1em; text-align: center; vertical-align: top\">[1, 1]</td>\n",
       "        <td style=\"padding-left: 1em; padding-right: 1em; text-align: center; vertical-align: top\">2.0</td>\n",
       "        <td style=\"padding-left: 1em; padding-right: 1em; text-align: center; vertical-align: top\">this is a cute case, I<br>bought it for my wife ...</td>\n",
       "        <td style=\"padding-left: 1em; padding-right: 1em; text-align: center; vertical-align: top\">01 8, 2014</td>\n",
       "        <td style=\"padding-left: 1em; padding-right: 1em; text-align: center; vertical-align: top\">ANG01NK4RXCI9</td>\n",
       "        <td style=\"padding-left: 1em; padding-right: 1em; text-align: center; vertical-align: top\">Charles Kodi Bomberry</td>\n",
       "    </tr>\n",
       "    <tr>\n",
       "        <td style=\"padding-left: 1em; padding-right: 1em; text-align: center; vertical-align: top\">0110400550</td>\n",
       "        <td style=\"padding-left: 1em; padding-right: 1em; text-align: center; vertical-align: top\">[0, 0]</td>\n",
       "        <td style=\"padding-left: 1em; padding-right: 1em; text-align: center; vertical-align: top\">3.0</td>\n",
       "        <td style=\"padding-left: 1em; padding-right: 1em; text-align: center; vertical-align: top\">it came in ok but there<br>was a crack on the left ...</td>\n",
       "        <td style=\"padding-left: 1em; padding-right: 1em; text-align: center; vertical-align: top\">12 25, 2013</td>\n",
       "        <td style=\"padding-left: 1em; padding-right: 1em; text-align: center; vertical-align: top\">AL7D46UHDVZVC</td>\n",
       "        <td style=\"padding-left: 1em; padding-right: 1em; text-align: center; vertical-align: top\">Claire</td>\n",
       "    </tr>\n",
       "    <tr>\n",
       "        <td style=\"padding-left: 1em; padding-right: 1em; text-align: center; vertical-align: top\">0110400550</td>\n",
       "        <td style=\"padding-left: 1em; padding-right: 1em; text-align: center; vertical-align: top\">[0, 1]</td>\n",
       "        <td style=\"padding-left: 1em; padding-right: 1em; text-align: center; vertical-align: top\">3.0</td>\n",
       "        <td style=\"padding-left: 1em; padding-right: 1em; text-align: center; vertical-align: top\">The case is good, but the<br>two pieces do not fit ...</td>\n",
       "        <td style=\"padding-left: 1em; padding-right: 1em; text-align: center; vertical-align: top\">12 20, 2012</td>\n",
       "        <td style=\"padding-left: 1em; padding-right: 1em; text-align: center; vertical-align: top\">A1KO9L34Z7548N</td>\n",
       "        <td style=\"padding-left: 1em; padding-right: 1em; text-align: center; vertical-align: top\">clevebrowns626</td>\n",
       "    </tr>\n",
       "    <tr>\n",
       "        <td style=\"padding-left: 1em; padding-right: 1em; text-align: center; vertical-align: top\">0110400550</td>\n",
       "        <td style=\"padding-left: 1em; padding-right: 1em; text-align: center; vertical-align: top\">[1, 1]</td>\n",
       "        <td style=\"padding-left: 1em; padding-right: 1em; text-align: center; vertical-align: top\">4.0</td>\n",
       "        <td style=\"padding-left: 1em; padding-right: 1em; text-align: center; vertical-align: top\">I got this for my 14 year<br>old sister.  She loves ...</td>\n",
       "        <td style=\"padding-left: 1em; padding-right: 1em; text-align: center; vertical-align: top\">03 20, 2013</td>\n",
       "        <td style=\"padding-left: 1em; padding-right: 1em; text-align: center; vertical-align: top\">A30P2CYOUYAJM8</td>\n",
       "        <td style=\"padding-left: 1em; padding-right: 1em; text-align: center; vertical-align: top\">Gene</td>\n",
       "    </tr>\n",
       "</table>\n",
       "<table frame=\"box\" rules=\"cols\">\n",
       "    <tr>\n",
       "        <th style=\"padding-left: 1em; padding-right: 1em; text-align: center\">summary</th>\n",
       "        <th style=\"padding-left: 1em; padding-right: 1em; text-align: center\">unixReviewTime</th>\n",
       "        <th style=\"padding-left: 1em; padding-right: 1em; text-align: center\">brand</th>\n",
       "        <th style=\"padding-left: 1em; padding-right: 1em; text-align: center\">description</th>\n",
       "        <th style=\"padding-left: 1em; padding-right: 1em; text-align: center\">imUrl</th>\n",
       "        <th style=\"padding-left: 1em; padding-right: 1em; text-align: center\">price</th>\n",
       "    </tr>\n",
       "    <tr>\n",
       "        <td style=\"padding-left: 1em; padding-right: 1em; text-align: center; vertical-align: top\">Wrong color</td>\n",
       "        <td style=\"padding-left: 1em; padding-right: 1em; text-align: center; vertical-align: top\">1344902400</td>\n",
       "        <td style=\"padding-left: 1em; padding-right: 1em; text-align: center; vertical-align: top\">None</td>\n",
       "        <td style=\"padding-left: 1em; padding-right: 1em; text-align: center; vertical-align: top\">Purple Hard Case Cover<br>for iPhone 4 4S 4G With ...</td>\n",
       "        <td style=\"padding-left: 1em; padding-right: 1em; text-align: center; vertical-align: top\">http://ecx.images-amazon.<br>com/images/I/41WCZc2d ...</td>\n",
       "        <td style=\"padding-left: 1em; padding-right: 1em; text-align: center; vertical-align: top\">1.94</td>\n",
       "    </tr>\n",
       "    <tr>\n",
       "        <td style=\"padding-left: 1em; padding-right: 1em; text-align: center; vertical-align: top\">Great product</td>\n",
       "        <td style=\"padding-left: 1em; padding-right: 1em; text-align: center; vertical-align: top\">1353542400</td>\n",
       "        <td style=\"padding-left: 1em; padding-right: 1em; text-align: center; vertical-align: top\"></td>\n",
       "        <td style=\"padding-left: 1em; padding-right: 1em; text-align: center; vertical-align: top\">Pink &amp; White 3D Melt Ice-<br>Cream Skin Hard Case ...</td>\n",
       "        <td style=\"padding-left: 1em; padding-right: 1em; text-align: center; vertical-align: top\">http://ecx.images-amazon.<br>com/images/I/31zn6SOL ...</td>\n",
       "        <td style=\"padding-left: 1em; padding-right: 1em; text-align: center; vertical-align: top\">3.33</td>\n",
       "    </tr>\n",
       "    <tr>\n",
       "        <td style=\"padding-left: 1em; padding-right: 1em; text-align: center; vertical-align: top\">Perfect</td>\n",
       "        <td style=\"padding-left: 1em; padding-right: 1em; text-align: center; vertical-align: top\">1374105600</td>\n",
       "        <td style=\"padding-left: 1em; padding-right: 1em; text-align: center; vertical-align: top\"></td>\n",
       "        <td style=\"padding-left: 1em; padding-right: 1em; text-align: center; vertical-align: top\">Pink &amp; White 3D Melt Ice-<br>Cream Skin Hard Case ...</td>\n",
       "        <td style=\"padding-left: 1em; padding-right: 1em; text-align: center; vertical-align: top\">http://ecx.images-amazon.<br>com/images/I/31zn6SOL ...</td>\n",
       "        <td style=\"padding-left: 1em; padding-right: 1em; text-align: center; vertical-align: top\">3.33</td>\n",
       "    </tr>\n",
       "    <tr>\n",
       "        <td style=\"padding-left: 1em; padding-right: 1em; text-align: center; vertical-align: top\">A++++</td>\n",
       "        <td style=\"padding-left: 1em; padding-right: 1em; text-align: center; vertical-align: top\">1358035200</td>\n",
       "        <td style=\"padding-left: 1em; padding-right: 1em; text-align: center; vertical-align: top\"></td>\n",
       "        <td style=\"padding-left: 1em; padding-right: 1em; text-align: center; vertical-align: top\">Pink &amp; White 3D Melt Ice-<br>Cream Skin Hard Case ...</td>\n",
       "        <td style=\"padding-left: 1em; padding-right: 1em; text-align: center; vertical-align: top\">http://ecx.images-amazon.<br>com/images/I/31zn6SOL ...</td>\n",
       "        <td style=\"padding-left: 1em; padding-right: 1em; text-align: center; vertical-align: top\">3.33</td>\n",
       "    </tr>\n",
       "    <tr>\n",
       "        <td style=\"padding-left: 1em; padding-right: 1em; text-align: center; vertical-align: top\">Do NOT GET IT!!</td>\n",
       "        <td style=\"padding-left: 1em; padding-right: 1em; text-align: center; vertical-align: top\">1353888000</td>\n",
       "        <td style=\"padding-left: 1em; padding-right: 1em; text-align: center; vertical-align: top\"></td>\n",
       "        <td style=\"padding-left: 1em; padding-right: 1em; text-align: center; vertical-align: top\">Pink &amp; White 3D Melt Ice-<br>Cream Skin Hard Case ...</td>\n",
       "        <td style=\"padding-left: 1em; padding-right: 1em; text-align: center; vertical-align: top\">http://ecx.images-amazon.<br>com/images/I/31zn6SOL ...</td>\n",
       "        <td style=\"padding-left: 1em; padding-right: 1em; text-align: center; vertical-align: top\">3.33</td>\n",
       "    </tr>\n",
       "    <tr>\n",
       "        <td style=\"padding-left: 1em; padding-right: 1em; text-align: center; vertical-align: top\">ITEM NOT SENT!!</td>\n",
       "        <td style=\"padding-left: 1em; padding-right: 1em; text-align: center; vertical-align: top\">1359504000</td>\n",
       "        <td style=\"padding-left: 1em; padding-right: 1em; text-align: center; vertical-align: top\"></td>\n",
       "        <td style=\"padding-left: 1em; padding-right: 1em; text-align: center; vertical-align: top\">Pink &amp; White 3D Melt Ice-<br>Cream Skin Hard Case ...</td>\n",
       "        <td style=\"padding-left: 1em; padding-right: 1em; text-align: center; vertical-align: top\">http://ecx.images-amazon.<br>com/images/I/31zn6SOL ...</td>\n",
       "        <td style=\"padding-left: 1em; padding-right: 1em; text-align: center; vertical-align: top\">3.33</td>\n",
       "    </tr>\n",
       "    <tr>\n",
       "        <td style=\"padding-left: 1em; padding-right: 1em; text-align: center; vertical-align: top\">meh</td>\n",
       "        <td style=\"padding-left: 1em; padding-right: 1em; text-align: center; vertical-align: top\">1389139200</td>\n",
       "        <td style=\"padding-left: 1em; padding-right: 1em; text-align: center; vertical-align: top\"></td>\n",
       "        <td style=\"padding-left: 1em; padding-right: 1em; text-align: center; vertical-align: top\">Pink &amp; White 3D Melt Ice-<br>Cream Skin Hard Case ...</td>\n",
       "        <td style=\"padding-left: 1em; padding-right: 1em; text-align: center; vertical-align: top\">http://ecx.images-amazon.<br>com/images/I/31zn6SOL ...</td>\n",
       "        <td style=\"padding-left: 1em; padding-right: 1em; text-align: center; vertical-align: top\">3.33</td>\n",
       "    </tr>\n",
       "    <tr>\n",
       "        <td style=\"padding-left: 1em; padding-right: 1em; text-align: center; vertical-align: top\">alright</td>\n",
       "        <td style=\"padding-left: 1em; padding-right: 1em; text-align: center; vertical-align: top\">1387929600</td>\n",
       "        <td style=\"padding-left: 1em; padding-right: 1em; text-align: center; vertical-align: top\"></td>\n",
       "        <td style=\"padding-left: 1em; padding-right: 1em; text-align: center; vertical-align: top\">Pink &amp; White 3D Melt Ice-<br>Cream Skin Hard Case ...</td>\n",
       "        <td style=\"padding-left: 1em; padding-right: 1em; text-align: center; vertical-align: top\">http://ecx.images-amazon.<br>com/images/I/31zn6SOL ...</td>\n",
       "        <td style=\"padding-left: 1em; padding-right: 1em; text-align: center; vertical-align: top\">3.33</td>\n",
       "    </tr>\n",
       "    <tr>\n",
       "        <td style=\"padding-left: 1em; padding-right: 1em; text-align: center; vertical-align: top\">OK for the price</td>\n",
       "        <td style=\"padding-left: 1em; padding-right: 1em; text-align: center; vertical-align: top\">1355961600</td>\n",
       "        <td style=\"padding-left: 1em; padding-right: 1em; text-align: center; vertical-align: top\"></td>\n",
       "        <td style=\"padding-left: 1em; padding-right: 1em; text-align: center; vertical-align: top\">Pink &amp; White 3D Melt Ice-<br>Cream Skin Hard Case ...</td>\n",
       "        <td style=\"padding-left: 1em; padding-right: 1em; text-align: center; vertical-align: top\">http://ecx.images-amazon.<br>com/images/I/31zn6SOL ...</td>\n",
       "        <td style=\"padding-left: 1em; padding-right: 1em; text-align: center; vertical-align: top\">3.33</td>\n",
       "    </tr>\n",
       "    <tr>\n",
       "        <td style=\"padding-left: 1em; padding-right: 1em; text-align: center; vertical-align: top\">Cool purchase.</td>\n",
       "        <td style=\"padding-left: 1em; padding-right: 1em; text-align: center; vertical-align: top\">1363737600</td>\n",
       "        <td style=\"padding-left: 1em; padding-right: 1em; text-align: center; vertical-align: top\"></td>\n",
       "        <td style=\"padding-left: 1em; padding-right: 1em; text-align: center; vertical-align: top\">Pink &amp; White 3D Melt Ice-<br>Cream Skin Hard Case ...</td>\n",
       "        <td style=\"padding-left: 1em; padding-right: 1em; text-align: center; vertical-align: top\">http://ecx.images-amazon.<br>com/images/I/31zn6SOL ...</td>\n",
       "        <td style=\"padding-left: 1em; padding-right: 1em; text-align: center; vertical-align: top\">3.33</td>\n",
       "    </tr>\n",
       "</table>\n",
       "<table frame=\"box\" rules=\"cols\">\n",
       "    <tr>\n",
       "        <th style=\"padding-left: 1em; padding-right: 1em; text-align: center\">related</th>\n",
       "        <th style=\"padding-left: 1em; padding-right: 1em; text-align: center\">salesRank</th>\n",
       "        <th style=\"padding-left: 1em; padding-right: 1em; text-align: center\">title</th>\n",
       "        <th style=\"padding-left: 1em; padding-right: 1em; text-align: center\">new_categories</th>\n",
       "        <th style=\"padding-left: 1em; padding-right: 1em; text-align: center\">Cell Phones &amp; Accessories</th>\n",
       "    </tr>\n",
       "    <tr>\n",
       "        <td style=\"padding-left: 1em; padding-right: 1em; text-align: center; vertical-align: top\">{'buy_after_viewing':<br>['B008RU7UL2', ...</td>\n",
       "        <td style=\"padding-left: 1em; padding-right: 1em; text-align: center; vertical-align: top\">{'Cell Phones &amp;<br>Accessories': 495795} ...</td>\n",
       "        <td style=\"padding-left: 1em; padding-right: 1em; text-align: center; vertical-align: top\">Purple Hard Case Cover<br>for Iphone 4 4s 4g with ...</td>\n",
       "        <td style=\"padding-left: 1em; padding-right: 1em; text-align: center; vertical-align: top\">[Cell Phones &amp;<br>Accessories, Cases, B ...</td>\n",
       "        <td style=\"padding-left: 1em; padding-right: 1em; text-align: center; vertical-align: top\">1</td>\n",
       "    </tr>\n",
       "    <tr>\n",
       "        <td style=\"padding-left: 1em; padding-right: 1em; text-align: center; vertical-align: top\">{'also_bought':<br>['B00C56IXFG', ...</td>\n",
       "        <td style=\"padding-left: 1em; padding-right: 1em; text-align: center; vertical-align: top\">{'Cell Phones &amp;<br>Accessories': 83460} ...</td>\n",
       "        <td style=\"padding-left: 1em; padding-right: 1em; text-align: center; vertical-align: top\">Pink &amp;amp; White 3d Melt<br>Ice-cream Skin Hard Case ...</td>\n",
       "        <td style=\"padding-left: 1em; padding-right: 1em; text-align: center; vertical-align: top\">[Cell Phones &amp;<br>Accessories, Cases, B ...</td>\n",
       "        <td style=\"padding-left: 1em; padding-right: 1em; text-align: center; vertical-align: top\">1</td>\n",
       "    </tr>\n",
       "    <tr>\n",
       "        <td style=\"padding-left: 1em; padding-right: 1em; text-align: center; vertical-align: top\">{'also_bought':<br>['B00C56IXFG', ...</td>\n",
       "        <td style=\"padding-left: 1em; padding-right: 1em; text-align: center; vertical-align: top\">{'Cell Phones &amp;<br>Accessories': 83460} ...</td>\n",
       "        <td style=\"padding-left: 1em; padding-right: 1em; text-align: center; vertical-align: top\">Pink &amp;amp; White 3d Melt<br>Ice-cream Skin Hard Case ...</td>\n",
       "        <td style=\"padding-left: 1em; padding-right: 1em; text-align: center; vertical-align: top\">[Cell Phones &amp;<br>Accessories, Cases, B ...</td>\n",
       "        <td style=\"padding-left: 1em; padding-right: 1em; text-align: center; vertical-align: top\">1</td>\n",
       "    </tr>\n",
       "    <tr>\n",
       "        <td style=\"padding-left: 1em; padding-right: 1em; text-align: center; vertical-align: top\">{'also_bought':<br>['B00C56IXFG', ...</td>\n",
       "        <td style=\"padding-left: 1em; padding-right: 1em; text-align: center; vertical-align: top\">{'Cell Phones &amp;<br>Accessories': 83460} ...</td>\n",
       "        <td style=\"padding-left: 1em; padding-right: 1em; text-align: center; vertical-align: top\">Pink &amp;amp; White 3d Melt<br>Ice-cream Skin Hard Case ...</td>\n",
       "        <td style=\"padding-left: 1em; padding-right: 1em; text-align: center; vertical-align: top\">[Cell Phones &amp;<br>Accessories, Cases, B ...</td>\n",
       "        <td style=\"padding-left: 1em; padding-right: 1em; text-align: center; vertical-align: top\">1</td>\n",
       "    </tr>\n",
       "    <tr>\n",
       "        <td style=\"padding-left: 1em; padding-right: 1em; text-align: center; vertical-align: top\">{'also_bought':<br>['B00C56IXFG', ...</td>\n",
       "        <td style=\"padding-left: 1em; padding-right: 1em; text-align: center; vertical-align: top\">{'Cell Phones &amp;<br>Accessories': 83460} ...</td>\n",
       "        <td style=\"padding-left: 1em; padding-right: 1em; text-align: center; vertical-align: top\">Pink &amp;amp; White 3d Melt<br>Ice-cream Skin Hard Case ...</td>\n",
       "        <td style=\"padding-left: 1em; padding-right: 1em; text-align: center; vertical-align: top\">[Cell Phones &amp;<br>Accessories, Cases, B ...</td>\n",
       "        <td style=\"padding-left: 1em; padding-right: 1em; text-align: center; vertical-align: top\">1</td>\n",
       "    </tr>\n",
       "    <tr>\n",
       "        <td style=\"padding-left: 1em; padding-right: 1em; text-align: center; vertical-align: top\">{'also_bought':<br>['B00C56IXFG', ...</td>\n",
       "        <td style=\"padding-left: 1em; padding-right: 1em; text-align: center; vertical-align: top\">{'Cell Phones &amp;<br>Accessories': 83460} ...</td>\n",
       "        <td style=\"padding-left: 1em; padding-right: 1em; text-align: center; vertical-align: top\">Pink &amp;amp; White 3d Melt<br>Ice-cream Skin Hard Case ...</td>\n",
       "        <td style=\"padding-left: 1em; padding-right: 1em; text-align: center; vertical-align: top\">[Cell Phones &amp;<br>Accessories, Cases, B ...</td>\n",
       "        <td style=\"padding-left: 1em; padding-right: 1em; text-align: center; vertical-align: top\">1</td>\n",
       "    </tr>\n",
       "    <tr>\n",
       "        <td style=\"padding-left: 1em; padding-right: 1em; text-align: center; vertical-align: top\">{'also_bought':<br>['B00C56IXFG', ...</td>\n",
       "        <td style=\"padding-left: 1em; padding-right: 1em; text-align: center; vertical-align: top\">{'Cell Phones &amp;<br>Accessories': 83460} ...</td>\n",
       "        <td style=\"padding-left: 1em; padding-right: 1em; text-align: center; vertical-align: top\">Pink &amp;amp; White 3d Melt<br>Ice-cream Skin Hard Case ...</td>\n",
       "        <td style=\"padding-left: 1em; padding-right: 1em; text-align: center; vertical-align: top\">[Cell Phones &amp;<br>Accessories, Cases, B ...</td>\n",
       "        <td style=\"padding-left: 1em; padding-right: 1em; text-align: center; vertical-align: top\">1</td>\n",
       "    </tr>\n",
       "    <tr>\n",
       "        <td style=\"padding-left: 1em; padding-right: 1em; text-align: center; vertical-align: top\">{'also_bought':<br>['B00C56IXFG', ...</td>\n",
       "        <td style=\"padding-left: 1em; padding-right: 1em; text-align: center; vertical-align: top\">{'Cell Phones &amp;<br>Accessories': 83460} ...</td>\n",
       "        <td style=\"padding-left: 1em; padding-right: 1em; text-align: center; vertical-align: top\">Pink &amp;amp; White 3d Melt<br>Ice-cream Skin Hard Case ...</td>\n",
       "        <td style=\"padding-left: 1em; padding-right: 1em; text-align: center; vertical-align: top\">[Cell Phones &amp;<br>Accessories, Cases, B ...</td>\n",
       "        <td style=\"padding-left: 1em; padding-right: 1em; text-align: center; vertical-align: top\">1</td>\n",
       "    </tr>\n",
       "    <tr>\n",
       "        <td style=\"padding-left: 1em; padding-right: 1em; text-align: center; vertical-align: top\">{'also_bought':<br>['B00C56IXFG', ...</td>\n",
       "        <td style=\"padding-left: 1em; padding-right: 1em; text-align: center; vertical-align: top\">{'Cell Phones &amp;<br>Accessories': 83460} ...</td>\n",
       "        <td style=\"padding-left: 1em; padding-right: 1em; text-align: center; vertical-align: top\">Pink &amp;amp; White 3d Melt<br>Ice-cream Skin Hard Case ...</td>\n",
       "        <td style=\"padding-left: 1em; padding-right: 1em; text-align: center; vertical-align: top\">[Cell Phones &amp;<br>Accessories, Cases, B ...</td>\n",
       "        <td style=\"padding-left: 1em; padding-right: 1em; text-align: center; vertical-align: top\">1</td>\n",
       "    </tr>\n",
       "    <tr>\n",
       "        <td style=\"padding-left: 1em; padding-right: 1em; text-align: center; vertical-align: top\">{'also_bought':<br>['B00C56IXFG', ...</td>\n",
       "        <td style=\"padding-left: 1em; padding-right: 1em; text-align: center; vertical-align: top\">{'Cell Phones &amp;<br>Accessories': 83460} ...</td>\n",
       "        <td style=\"padding-left: 1em; padding-right: 1em; text-align: center; vertical-align: top\">Pink &amp;amp; White 3d Melt<br>Ice-cream Skin Hard Case ...</td>\n",
       "        <td style=\"padding-left: 1em; padding-right: 1em; text-align: center; vertical-align: top\">[Cell Phones &amp;<br>Accessories, Cases, B ...</td>\n",
       "        <td style=\"padding-left: 1em; padding-right: 1em; text-align: center; vertical-align: top\">1</td>\n",
       "    </tr>\n",
       "</table>\n",
       "<table frame=\"box\" rules=\"cols\">\n",
       "    <tr>\n",
       "        <th style=\"padding-left: 1em; padding-right: 1em; text-align: center\">Cases</th>\n",
       "        <th style=\"padding-left: 1em; padding-right: 1em; text-align: center\">Basic Cases</th>\n",
       "        <th style=\"padding-left: 1em; padding-right: 1em; text-align: center\">Accessories</th>\n",
       "        <th style=\"padding-left: 1em; padding-right: 1em; text-align: center\">Chargers</th>\n",
       "        <th style=\"padding-left: 1em; padding-right: 1em; text-align: center\">Travel Chargers</th>\n",
       "        <th style=\"padding-left: 1em; padding-right: 1em; text-align: center\">Car Chargers</th>\n",
       "        <th style=\"padding-left: 1em; padding-right: 1em; text-align: center\">Data Cables</th>\n",
       "        <th style=\"padding-left: 1em; padding-right: 1em; text-align: center\">Replacement Parts</th>\n",
       "        <th style=\"padding-left: 1em; padding-right: 1em; text-align: center\">Accessory Kits</th>\n",
       "    </tr>\n",
       "    <tr>\n",
       "        <td style=\"padding-left: 1em; padding-right: 1em; text-align: center; vertical-align: top\">1</td>\n",
       "        <td style=\"padding-left: 1em; padding-right: 1em; text-align: center; vertical-align: top\">1</td>\n",
       "        <td style=\"padding-left: 1em; padding-right: 1em; text-align: center; vertical-align: top\">0</td>\n",
       "        <td style=\"padding-left: 1em; padding-right: 1em; text-align: center; vertical-align: top\">0</td>\n",
       "        <td style=\"padding-left: 1em; padding-right: 1em; text-align: center; vertical-align: top\">0</td>\n",
       "        <td style=\"padding-left: 1em; padding-right: 1em; text-align: center; vertical-align: top\">0</td>\n",
       "        <td style=\"padding-left: 1em; padding-right: 1em; text-align: center; vertical-align: top\">0</td>\n",
       "        <td style=\"padding-left: 1em; padding-right: 1em; text-align: center; vertical-align: top\">0</td>\n",
       "        <td style=\"padding-left: 1em; padding-right: 1em; text-align: center; vertical-align: top\">0</td>\n",
       "    </tr>\n",
       "    <tr>\n",
       "        <td style=\"padding-left: 1em; padding-right: 1em; text-align: center; vertical-align: top\">1</td>\n",
       "        <td style=\"padding-left: 1em; padding-right: 1em; text-align: center; vertical-align: top\">1</td>\n",
       "        <td style=\"padding-left: 1em; padding-right: 1em; text-align: center; vertical-align: top\">0</td>\n",
       "        <td style=\"padding-left: 1em; padding-right: 1em; text-align: center; vertical-align: top\">0</td>\n",
       "        <td style=\"padding-left: 1em; padding-right: 1em; text-align: center; vertical-align: top\">0</td>\n",
       "        <td style=\"padding-left: 1em; padding-right: 1em; text-align: center; vertical-align: top\">0</td>\n",
       "        <td style=\"padding-left: 1em; padding-right: 1em; text-align: center; vertical-align: top\">0</td>\n",
       "        <td style=\"padding-left: 1em; padding-right: 1em; text-align: center; vertical-align: top\">0</td>\n",
       "        <td style=\"padding-left: 1em; padding-right: 1em; text-align: center; vertical-align: top\">0</td>\n",
       "    </tr>\n",
       "    <tr>\n",
       "        <td style=\"padding-left: 1em; padding-right: 1em; text-align: center; vertical-align: top\">1</td>\n",
       "        <td style=\"padding-left: 1em; padding-right: 1em; text-align: center; vertical-align: top\">1</td>\n",
       "        <td style=\"padding-left: 1em; padding-right: 1em; text-align: center; vertical-align: top\">0</td>\n",
       "        <td style=\"padding-left: 1em; padding-right: 1em; text-align: center; vertical-align: top\">0</td>\n",
       "        <td style=\"padding-left: 1em; padding-right: 1em; text-align: center; vertical-align: top\">0</td>\n",
       "        <td style=\"padding-left: 1em; padding-right: 1em; text-align: center; vertical-align: top\">0</td>\n",
       "        <td style=\"padding-left: 1em; padding-right: 1em; text-align: center; vertical-align: top\">0</td>\n",
       "        <td style=\"padding-left: 1em; padding-right: 1em; text-align: center; vertical-align: top\">0</td>\n",
       "        <td style=\"padding-left: 1em; padding-right: 1em; text-align: center; vertical-align: top\">0</td>\n",
       "    </tr>\n",
       "    <tr>\n",
       "        <td style=\"padding-left: 1em; padding-right: 1em; text-align: center; vertical-align: top\">1</td>\n",
       "        <td style=\"padding-left: 1em; padding-right: 1em; text-align: center; vertical-align: top\">1</td>\n",
       "        <td style=\"padding-left: 1em; padding-right: 1em; text-align: center; vertical-align: top\">0</td>\n",
       "        <td style=\"padding-left: 1em; padding-right: 1em; text-align: center; vertical-align: top\">0</td>\n",
       "        <td style=\"padding-left: 1em; padding-right: 1em; text-align: center; vertical-align: top\">0</td>\n",
       "        <td style=\"padding-left: 1em; padding-right: 1em; text-align: center; vertical-align: top\">0</td>\n",
       "        <td style=\"padding-left: 1em; padding-right: 1em; text-align: center; vertical-align: top\">0</td>\n",
       "        <td style=\"padding-left: 1em; padding-right: 1em; text-align: center; vertical-align: top\">0</td>\n",
       "        <td style=\"padding-left: 1em; padding-right: 1em; text-align: center; vertical-align: top\">0</td>\n",
       "    </tr>\n",
       "    <tr>\n",
       "        <td style=\"padding-left: 1em; padding-right: 1em; text-align: center; vertical-align: top\">1</td>\n",
       "        <td style=\"padding-left: 1em; padding-right: 1em; text-align: center; vertical-align: top\">1</td>\n",
       "        <td style=\"padding-left: 1em; padding-right: 1em; text-align: center; vertical-align: top\">0</td>\n",
       "        <td style=\"padding-left: 1em; padding-right: 1em; text-align: center; vertical-align: top\">0</td>\n",
       "        <td style=\"padding-left: 1em; padding-right: 1em; text-align: center; vertical-align: top\">0</td>\n",
       "        <td style=\"padding-left: 1em; padding-right: 1em; text-align: center; vertical-align: top\">0</td>\n",
       "        <td style=\"padding-left: 1em; padding-right: 1em; text-align: center; vertical-align: top\">0</td>\n",
       "        <td style=\"padding-left: 1em; padding-right: 1em; text-align: center; vertical-align: top\">0</td>\n",
       "        <td style=\"padding-left: 1em; padding-right: 1em; text-align: center; vertical-align: top\">0</td>\n",
       "    </tr>\n",
       "    <tr>\n",
       "        <td style=\"padding-left: 1em; padding-right: 1em; text-align: center; vertical-align: top\">1</td>\n",
       "        <td style=\"padding-left: 1em; padding-right: 1em; text-align: center; vertical-align: top\">1</td>\n",
       "        <td style=\"padding-left: 1em; padding-right: 1em; text-align: center; vertical-align: top\">0</td>\n",
       "        <td style=\"padding-left: 1em; padding-right: 1em; text-align: center; vertical-align: top\">0</td>\n",
       "        <td style=\"padding-left: 1em; padding-right: 1em; text-align: center; vertical-align: top\">0</td>\n",
       "        <td style=\"padding-left: 1em; padding-right: 1em; text-align: center; vertical-align: top\">0</td>\n",
       "        <td style=\"padding-left: 1em; padding-right: 1em; text-align: center; vertical-align: top\">0</td>\n",
       "        <td style=\"padding-left: 1em; padding-right: 1em; text-align: center; vertical-align: top\">0</td>\n",
       "        <td style=\"padding-left: 1em; padding-right: 1em; text-align: center; vertical-align: top\">0</td>\n",
       "    </tr>\n",
       "    <tr>\n",
       "        <td style=\"padding-left: 1em; padding-right: 1em; text-align: center; vertical-align: top\">1</td>\n",
       "        <td style=\"padding-left: 1em; padding-right: 1em; text-align: center; vertical-align: top\">1</td>\n",
       "        <td style=\"padding-left: 1em; padding-right: 1em; text-align: center; vertical-align: top\">0</td>\n",
       "        <td style=\"padding-left: 1em; padding-right: 1em; text-align: center; vertical-align: top\">0</td>\n",
       "        <td style=\"padding-left: 1em; padding-right: 1em; text-align: center; vertical-align: top\">0</td>\n",
       "        <td style=\"padding-left: 1em; padding-right: 1em; text-align: center; vertical-align: top\">0</td>\n",
       "        <td style=\"padding-left: 1em; padding-right: 1em; text-align: center; vertical-align: top\">0</td>\n",
       "        <td style=\"padding-left: 1em; padding-right: 1em; text-align: center; vertical-align: top\">0</td>\n",
       "        <td style=\"padding-left: 1em; padding-right: 1em; text-align: center; vertical-align: top\">0</td>\n",
       "    </tr>\n",
       "    <tr>\n",
       "        <td style=\"padding-left: 1em; padding-right: 1em; text-align: center; vertical-align: top\">1</td>\n",
       "        <td style=\"padding-left: 1em; padding-right: 1em; text-align: center; vertical-align: top\">1</td>\n",
       "        <td style=\"padding-left: 1em; padding-right: 1em; text-align: center; vertical-align: top\">0</td>\n",
       "        <td style=\"padding-left: 1em; padding-right: 1em; text-align: center; vertical-align: top\">0</td>\n",
       "        <td style=\"padding-left: 1em; padding-right: 1em; text-align: center; vertical-align: top\">0</td>\n",
       "        <td style=\"padding-left: 1em; padding-right: 1em; text-align: center; vertical-align: top\">0</td>\n",
       "        <td style=\"padding-left: 1em; padding-right: 1em; text-align: center; vertical-align: top\">0</td>\n",
       "        <td style=\"padding-left: 1em; padding-right: 1em; text-align: center; vertical-align: top\">0</td>\n",
       "        <td style=\"padding-left: 1em; padding-right: 1em; text-align: center; vertical-align: top\">0</td>\n",
       "    </tr>\n",
       "    <tr>\n",
       "        <td style=\"padding-left: 1em; padding-right: 1em; text-align: center; vertical-align: top\">1</td>\n",
       "        <td style=\"padding-left: 1em; padding-right: 1em; text-align: center; vertical-align: top\">1</td>\n",
       "        <td style=\"padding-left: 1em; padding-right: 1em; text-align: center; vertical-align: top\">0</td>\n",
       "        <td style=\"padding-left: 1em; padding-right: 1em; text-align: center; vertical-align: top\">0</td>\n",
       "        <td style=\"padding-left: 1em; padding-right: 1em; text-align: center; vertical-align: top\">0</td>\n",
       "        <td style=\"padding-left: 1em; padding-right: 1em; text-align: center; vertical-align: top\">0</td>\n",
       "        <td style=\"padding-left: 1em; padding-right: 1em; text-align: center; vertical-align: top\">0</td>\n",
       "        <td style=\"padding-left: 1em; padding-right: 1em; text-align: center; vertical-align: top\">0</td>\n",
       "        <td style=\"padding-left: 1em; padding-right: 1em; text-align: center; vertical-align: top\">0</td>\n",
       "    </tr>\n",
       "    <tr>\n",
       "        <td style=\"padding-left: 1em; padding-right: 1em; text-align: center; vertical-align: top\">1</td>\n",
       "        <td style=\"padding-left: 1em; padding-right: 1em; text-align: center; vertical-align: top\">1</td>\n",
       "        <td style=\"padding-left: 1em; padding-right: 1em; text-align: center; vertical-align: top\">0</td>\n",
       "        <td style=\"padding-left: 1em; padding-right: 1em; text-align: center; vertical-align: top\">0</td>\n",
       "        <td style=\"padding-left: 1em; padding-right: 1em; text-align: center; vertical-align: top\">0</td>\n",
       "        <td style=\"padding-left: 1em; padding-right: 1em; text-align: center; vertical-align: top\">0</td>\n",
       "        <td style=\"padding-left: 1em; padding-right: 1em; text-align: center; vertical-align: top\">0</td>\n",
       "        <td style=\"padding-left: 1em; padding-right: 1em; text-align: center; vertical-align: top\">0</td>\n",
       "        <td style=\"padding-left: 1em; padding-right: 1em; text-align: center; vertical-align: top\">0</td>\n",
       "    </tr>\n",
       "</table>\n",
       "<table frame=\"box\" rules=\"cols\">\n",
       "    <tr>\n",
       "        <th style=\"padding-left: 1em; padding-right: 1em; text-align: center\">Electronics</th>\n",
       "        <th style=\"padding-left: 1em; padding-right: 1em; text-align: center\">Computers &amp; Accessories</th>\n",
       "        <th style=\"padding-left: 1em; padding-right: 1em; text-align: center\">Touch Screen Tablet<br>Accessories ...</th>\n",
       "        <th style=\"padding-left: 1em; padding-right: 1em; text-align: center\">Screen Protectors</th>\n",
       "        <th style=\"padding-left: 1em; padding-right: 1em; text-align: center\">Car Accessories</th>\n",
       "        <th style=\"padding-left: 1em; padding-right: 1em; text-align: center\">Car Cradles &amp; Mounts</th>\n",
       "    </tr>\n",
       "    <tr>\n",
       "        <td style=\"padding-left: 1em; padding-right: 1em; text-align: center; vertical-align: top\">0</td>\n",
       "        <td style=\"padding-left: 1em; padding-right: 1em; text-align: center; vertical-align: top\">0</td>\n",
       "        <td style=\"padding-left: 1em; padding-right: 1em; text-align: center; vertical-align: top\">0</td>\n",
       "        <td style=\"padding-left: 1em; padding-right: 1em; text-align: center; vertical-align: top\">0</td>\n",
       "        <td style=\"padding-left: 1em; padding-right: 1em; text-align: center; vertical-align: top\">0</td>\n",
       "        <td style=\"padding-left: 1em; padding-right: 1em; text-align: center; vertical-align: top\">0</td>\n",
       "    </tr>\n",
       "    <tr>\n",
       "        <td style=\"padding-left: 1em; padding-right: 1em; text-align: center; vertical-align: top\">0</td>\n",
       "        <td style=\"padding-left: 1em; padding-right: 1em; text-align: center; vertical-align: top\">0</td>\n",
       "        <td style=\"padding-left: 1em; padding-right: 1em; text-align: center; vertical-align: top\">0</td>\n",
       "        <td style=\"padding-left: 1em; padding-right: 1em; text-align: center; vertical-align: top\">0</td>\n",
       "        <td style=\"padding-left: 1em; padding-right: 1em; text-align: center; vertical-align: top\">0</td>\n",
       "        <td style=\"padding-left: 1em; padding-right: 1em; text-align: center; vertical-align: top\">0</td>\n",
       "    </tr>\n",
       "    <tr>\n",
       "        <td style=\"padding-left: 1em; padding-right: 1em; text-align: center; vertical-align: top\">0</td>\n",
       "        <td style=\"padding-left: 1em; padding-right: 1em; text-align: center; vertical-align: top\">0</td>\n",
       "        <td style=\"padding-left: 1em; padding-right: 1em; text-align: center; vertical-align: top\">0</td>\n",
       "        <td style=\"padding-left: 1em; padding-right: 1em; text-align: center; vertical-align: top\">0</td>\n",
       "        <td style=\"padding-left: 1em; padding-right: 1em; text-align: center; vertical-align: top\">0</td>\n",
       "        <td style=\"padding-left: 1em; padding-right: 1em; text-align: center; vertical-align: top\">0</td>\n",
       "    </tr>\n",
       "    <tr>\n",
       "        <td style=\"padding-left: 1em; padding-right: 1em; text-align: center; vertical-align: top\">0</td>\n",
       "        <td style=\"padding-left: 1em; padding-right: 1em; text-align: center; vertical-align: top\">0</td>\n",
       "        <td style=\"padding-left: 1em; padding-right: 1em; text-align: center; vertical-align: top\">0</td>\n",
       "        <td style=\"padding-left: 1em; padding-right: 1em; text-align: center; vertical-align: top\">0</td>\n",
       "        <td style=\"padding-left: 1em; padding-right: 1em; text-align: center; vertical-align: top\">0</td>\n",
       "        <td style=\"padding-left: 1em; padding-right: 1em; text-align: center; vertical-align: top\">0</td>\n",
       "    </tr>\n",
       "    <tr>\n",
       "        <td style=\"padding-left: 1em; padding-right: 1em; text-align: center; vertical-align: top\">0</td>\n",
       "        <td style=\"padding-left: 1em; padding-right: 1em; text-align: center; vertical-align: top\">0</td>\n",
       "        <td style=\"padding-left: 1em; padding-right: 1em; text-align: center; vertical-align: top\">0</td>\n",
       "        <td style=\"padding-left: 1em; padding-right: 1em; text-align: center; vertical-align: top\">0</td>\n",
       "        <td style=\"padding-left: 1em; padding-right: 1em; text-align: center; vertical-align: top\">0</td>\n",
       "        <td style=\"padding-left: 1em; padding-right: 1em; text-align: center; vertical-align: top\">0</td>\n",
       "    </tr>\n",
       "    <tr>\n",
       "        <td style=\"padding-left: 1em; padding-right: 1em; text-align: center; vertical-align: top\">0</td>\n",
       "        <td style=\"padding-left: 1em; padding-right: 1em; text-align: center; vertical-align: top\">0</td>\n",
       "        <td style=\"padding-left: 1em; padding-right: 1em; text-align: center; vertical-align: top\">0</td>\n",
       "        <td style=\"padding-left: 1em; padding-right: 1em; text-align: center; vertical-align: top\">0</td>\n",
       "        <td style=\"padding-left: 1em; padding-right: 1em; text-align: center; vertical-align: top\">0</td>\n",
       "        <td style=\"padding-left: 1em; padding-right: 1em; text-align: center; vertical-align: top\">0</td>\n",
       "    </tr>\n",
       "    <tr>\n",
       "        <td style=\"padding-left: 1em; padding-right: 1em; text-align: center; vertical-align: top\">0</td>\n",
       "        <td style=\"padding-left: 1em; padding-right: 1em; text-align: center; vertical-align: top\">0</td>\n",
       "        <td style=\"padding-left: 1em; padding-right: 1em; text-align: center; vertical-align: top\">0</td>\n",
       "        <td style=\"padding-left: 1em; padding-right: 1em; text-align: center; vertical-align: top\">0</td>\n",
       "        <td style=\"padding-left: 1em; padding-right: 1em; text-align: center; vertical-align: top\">0</td>\n",
       "        <td style=\"padding-left: 1em; padding-right: 1em; text-align: center; vertical-align: top\">0</td>\n",
       "    </tr>\n",
       "    <tr>\n",
       "        <td style=\"padding-left: 1em; padding-right: 1em; text-align: center; vertical-align: top\">0</td>\n",
       "        <td style=\"padding-left: 1em; padding-right: 1em; text-align: center; vertical-align: top\">0</td>\n",
       "        <td style=\"padding-left: 1em; padding-right: 1em; text-align: center; vertical-align: top\">0</td>\n",
       "        <td style=\"padding-left: 1em; padding-right: 1em; text-align: center; vertical-align: top\">0</td>\n",
       "        <td style=\"padding-left: 1em; padding-right: 1em; text-align: center; vertical-align: top\">0</td>\n",
       "        <td style=\"padding-left: 1em; padding-right: 1em; text-align: center; vertical-align: top\">0</td>\n",
       "    </tr>\n",
       "    <tr>\n",
       "        <td style=\"padding-left: 1em; padding-right: 1em; text-align: center; vertical-align: top\">0</td>\n",
       "        <td style=\"padding-left: 1em; padding-right: 1em; text-align: center; vertical-align: top\">0</td>\n",
       "        <td style=\"padding-left: 1em; padding-right: 1em; text-align: center; vertical-align: top\">0</td>\n",
       "        <td style=\"padding-left: 1em; padding-right: 1em; text-align: center; vertical-align: top\">0</td>\n",
       "        <td style=\"padding-left: 1em; padding-right: 1em; text-align: center; vertical-align: top\">0</td>\n",
       "        <td style=\"padding-left: 1em; padding-right: 1em; text-align: center; vertical-align: top\">0</td>\n",
       "    </tr>\n",
       "    <tr>\n",
       "        <td style=\"padding-left: 1em; padding-right: 1em; text-align: center; vertical-align: top\">0</td>\n",
       "        <td style=\"padding-left: 1em; padding-right: 1em; text-align: center; vertical-align: top\">0</td>\n",
       "        <td style=\"padding-left: 1em; padding-right: 1em; text-align: center; vertical-align: top\">0</td>\n",
       "        <td style=\"padding-left: 1em; padding-right: 1em; text-align: center; vertical-align: top\">0</td>\n",
       "        <td style=\"padding-left: 1em; padding-right: 1em; text-align: center; vertical-align: top\">0</td>\n",
       "        <td style=\"padding-left: 1em; padding-right: 1em; text-align: center; vertical-align: top\">0</td>\n",
       "    </tr>\n",
       "</table>\n",
       "<table frame=\"box\" rules=\"cols\">\n",
       "    <tr>\n",
       "        <th style=\"padding-left: 1em; padding-right: 1em; text-align: center\">Car Mounts</th>\n",
       "        <th style=\"padding-left: 1em; padding-right: 1em; text-align: center\">Cell Phones</th>\n",
       "        <th style=\"padding-left: 1em; padding-right: 1em; text-align: center\">Unlocked Cell Phones</th>\n",
       "        <th style=\"padding-left: 1em; padding-right: 1em; text-align: center\">Batteries</th>\n",
       "        <th style=\"padding-left: 1em; padding-right: 1em; text-align: center\">Internal Batteries</th>\n",
       "        <th style=\"padding-left: 1em; padding-right: 1em; text-align: center\">Car Kits</th>\n",
       "        <th style=\"padding-left: 1em; padding-right: 1em; text-align: center\">Headsets</th>\n",
       "        <th style=\"padding-left: 1em; padding-right: 1em; text-align: center\">...</th>\n",
       "    </tr>\n",
       "    <tr>\n",
       "        <td style=\"padding-left: 1em; padding-right: 1em; text-align: center; vertical-align: top\">0</td>\n",
       "        <td style=\"padding-left: 1em; padding-right: 1em; text-align: center; vertical-align: top\">0</td>\n",
       "        <td style=\"padding-left: 1em; padding-right: 1em; text-align: center; vertical-align: top\">0</td>\n",
       "        <td style=\"padding-left: 1em; padding-right: 1em; text-align: center; vertical-align: top\">0</td>\n",
       "        <td style=\"padding-left: 1em; padding-right: 1em; text-align: center; vertical-align: top\">0</td>\n",
       "        <td style=\"padding-left: 1em; padding-right: 1em; text-align: center; vertical-align: top\">0</td>\n",
       "        <td style=\"padding-left: 1em; padding-right: 1em; text-align: center; vertical-align: top\">0</td>\n",
       "        <td style=\"padding-left: 1em; padding-right: 1em; text-align: center; vertical-align: top\">...</td>\n",
       "    </tr>\n",
       "    <tr>\n",
       "        <td style=\"padding-left: 1em; padding-right: 1em; text-align: center; vertical-align: top\">0</td>\n",
       "        <td style=\"padding-left: 1em; padding-right: 1em; text-align: center; vertical-align: top\">0</td>\n",
       "        <td style=\"padding-left: 1em; padding-right: 1em; text-align: center; vertical-align: top\">0</td>\n",
       "        <td style=\"padding-left: 1em; padding-right: 1em; text-align: center; vertical-align: top\">0</td>\n",
       "        <td style=\"padding-left: 1em; padding-right: 1em; text-align: center; vertical-align: top\">0</td>\n",
       "        <td style=\"padding-left: 1em; padding-right: 1em; text-align: center; vertical-align: top\">0</td>\n",
       "        <td style=\"padding-left: 1em; padding-right: 1em; text-align: center; vertical-align: top\">0</td>\n",
       "        <td style=\"padding-left: 1em; padding-right: 1em; text-align: center; vertical-align: top\">...</td>\n",
       "    </tr>\n",
       "    <tr>\n",
       "        <td style=\"padding-left: 1em; padding-right: 1em; text-align: center; vertical-align: top\">0</td>\n",
       "        <td style=\"padding-left: 1em; padding-right: 1em; text-align: center; vertical-align: top\">0</td>\n",
       "        <td style=\"padding-left: 1em; padding-right: 1em; text-align: center; vertical-align: top\">0</td>\n",
       "        <td style=\"padding-left: 1em; padding-right: 1em; text-align: center; vertical-align: top\">0</td>\n",
       "        <td style=\"padding-left: 1em; padding-right: 1em; text-align: center; vertical-align: top\">0</td>\n",
       "        <td style=\"padding-left: 1em; padding-right: 1em; text-align: center; vertical-align: top\">0</td>\n",
       "        <td style=\"padding-left: 1em; padding-right: 1em; text-align: center; vertical-align: top\">0</td>\n",
       "        <td style=\"padding-left: 1em; padding-right: 1em; text-align: center; vertical-align: top\">...</td>\n",
       "    </tr>\n",
       "    <tr>\n",
       "        <td style=\"padding-left: 1em; padding-right: 1em; text-align: center; vertical-align: top\">0</td>\n",
       "        <td style=\"padding-left: 1em; padding-right: 1em; text-align: center; vertical-align: top\">0</td>\n",
       "        <td style=\"padding-left: 1em; padding-right: 1em; text-align: center; vertical-align: top\">0</td>\n",
       "        <td style=\"padding-left: 1em; padding-right: 1em; text-align: center; vertical-align: top\">0</td>\n",
       "        <td style=\"padding-left: 1em; padding-right: 1em; text-align: center; vertical-align: top\">0</td>\n",
       "        <td style=\"padding-left: 1em; padding-right: 1em; text-align: center; vertical-align: top\">0</td>\n",
       "        <td style=\"padding-left: 1em; padding-right: 1em; text-align: center; vertical-align: top\">0</td>\n",
       "        <td style=\"padding-left: 1em; padding-right: 1em; text-align: center; vertical-align: top\">...</td>\n",
       "    </tr>\n",
       "    <tr>\n",
       "        <td style=\"padding-left: 1em; padding-right: 1em; text-align: center; vertical-align: top\">0</td>\n",
       "        <td style=\"padding-left: 1em; padding-right: 1em; text-align: center; vertical-align: top\">0</td>\n",
       "        <td style=\"padding-left: 1em; padding-right: 1em; text-align: center; vertical-align: top\">0</td>\n",
       "        <td style=\"padding-left: 1em; padding-right: 1em; text-align: center; vertical-align: top\">0</td>\n",
       "        <td style=\"padding-left: 1em; padding-right: 1em; text-align: center; vertical-align: top\">0</td>\n",
       "        <td style=\"padding-left: 1em; padding-right: 1em; text-align: center; vertical-align: top\">0</td>\n",
       "        <td style=\"padding-left: 1em; padding-right: 1em; text-align: center; vertical-align: top\">0</td>\n",
       "        <td style=\"padding-left: 1em; padding-right: 1em; text-align: center; vertical-align: top\">...</td>\n",
       "    </tr>\n",
       "    <tr>\n",
       "        <td style=\"padding-left: 1em; padding-right: 1em; text-align: center; vertical-align: top\">0</td>\n",
       "        <td style=\"padding-left: 1em; padding-right: 1em; text-align: center; vertical-align: top\">0</td>\n",
       "        <td style=\"padding-left: 1em; padding-right: 1em; text-align: center; vertical-align: top\">0</td>\n",
       "        <td style=\"padding-left: 1em; padding-right: 1em; text-align: center; vertical-align: top\">0</td>\n",
       "        <td style=\"padding-left: 1em; padding-right: 1em; text-align: center; vertical-align: top\">0</td>\n",
       "        <td style=\"padding-left: 1em; padding-right: 1em; text-align: center; vertical-align: top\">0</td>\n",
       "        <td style=\"padding-left: 1em; padding-right: 1em; text-align: center; vertical-align: top\">0</td>\n",
       "        <td style=\"padding-left: 1em; padding-right: 1em; text-align: center; vertical-align: top\">...</td>\n",
       "    </tr>\n",
       "    <tr>\n",
       "        <td style=\"padding-left: 1em; padding-right: 1em; text-align: center; vertical-align: top\">0</td>\n",
       "        <td style=\"padding-left: 1em; padding-right: 1em; text-align: center; vertical-align: top\">0</td>\n",
       "        <td style=\"padding-left: 1em; padding-right: 1em; text-align: center; vertical-align: top\">0</td>\n",
       "        <td style=\"padding-left: 1em; padding-right: 1em; text-align: center; vertical-align: top\">0</td>\n",
       "        <td style=\"padding-left: 1em; padding-right: 1em; text-align: center; vertical-align: top\">0</td>\n",
       "        <td style=\"padding-left: 1em; padding-right: 1em; text-align: center; vertical-align: top\">0</td>\n",
       "        <td style=\"padding-left: 1em; padding-right: 1em; text-align: center; vertical-align: top\">0</td>\n",
       "        <td style=\"padding-left: 1em; padding-right: 1em; text-align: center; vertical-align: top\">...</td>\n",
       "    </tr>\n",
       "    <tr>\n",
       "        <td style=\"padding-left: 1em; padding-right: 1em; text-align: center; vertical-align: top\">0</td>\n",
       "        <td style=\"padding-left: 1em; padding-right: 1em; text-align: center; vertical-align: top\">0</td>\n",
       "        <td style=\"padding-left: 1em; padding-right: 1em; text-align: center; vertical-align: top\">0</td>\n",
       "        <td style=\"padding-left: 1em; padding-right: 1em; text-align: center; vertical-align: top\">0</td>\n",
       "        <td style=\"padding-left: 1em; padding-right: 1em; text-align: center; vertical-align: top\">0</td>\n",
       "        <td style=\"padding-left: 1em; padding-right: 1em; text-align: center; vertical-align: top\">0</td>\n",
       "        <td style=\"padding-left: 1em; padding-right: 1em; text-align: center; vertical-align: top\">0</td>\n",
       "        <td style=\"padding-left: 1em; padding-right: 1em; text-align: center; vertical-align: top\">...</td>\n",
       "    </tr>\n",
       "    <tr>\n",
       "        <td style=\"padding-left: 1em; padding-right: 1em; text-align: center; vertical-align: top\">0</td>\n",
       "        <td style=\"padding-left: 1em; padding-right: 1em; text-align: center; vertical-align: top\">0</td>\n",
       "        <td style=\"padding-left: 1em; padding-right: 1em; text-align: center; vertical-align: top\">0</td>\n",
       "        <td style=\"padding-left: 1em; padding-right: 1em; text-align: center; vertical-align: top\">0</td>\n",
       "        <td style=\"padding-left: 1em; padding-right: 1em; text-align: center; vertical-align: top\">0</td>\n",
       "        <td style=\"padding-left: 1em; padding-right: 1em; text-align: center; vertical-align: top\">0</td>\n",
       "        <td style=\"padding-left: 1em; padding-right: 1em; text-align: center; vertical-align: top\">0</td>\n",
       "        <td style=\"padding-left: 1em; padding-right: 1em; text-align: center; vertical-align: top\">...</td>\n",
       "    </tr>\n",
       "    <tr>\n",
       "        <td style=\"padding-left: 1em; padding-right: 1em; text-align: center; vertical-align: top\">0</td>\n",
       "        <td style=\"padding-left: 1em; padding-right: 1em; text-align: center; vertical-align: top\">0</td>\n",
       "        <td style=\"padding-left: 1em; padding-right: 1em; text-align: center; vertical-align: top\">0</td>\n",
       "        <td style=\"padding-left: 1em; padding-right: 1em; text-align: center; vertical-align: top\">0</td>\n",
       "        <td style=\"padding-left: 1em; padding-right: 1em; text-align: center; vertical-align: top\">0</td>\n",
       "        <td style=\"padding-left: 1em; padding-right: 1em; text-align: center; vertical-align: top\">0</td>\n",
       "        <td style=\"padding-left: 1em; padding-right: 1em; text-align: center; vertical-align: top\">0</td>\n",
       "        <td style=\"padding-left: 1em; padding-right: 1em; text-align: center; vertical-align: top\">...</td>\n",
       "    </tr>\n",
       "</table>\n",
       "[10 rows x 477 columns]<br/>\n",
       "</div>"
      ],
      "text/plain": [
       "Columns:\n",
       "\tasin\tstr\n",
       "\thelpful\tlist\n",
       "\toverall\tfloat\n",
       "\treviewText\tstr\n",
       "\treviewTime\tstr\n",
       "\treviewerID\tstr\n",
       "\treviewerName\tstr\n",
       "\tsummary\tstr\n",
       "\tunixReviewTime\tint\n",
       "\tbrand\tstr\n",
       "\tdescription\tstr\n",
       "\timUrl\tstr\n",
       "\tprice\tfloat\n",
       "\trelated\tdict\n",
       "\tsalesRank\tdict\n",
       "\ttitle\tstr\n",
       "\tnew_categories\tlist\n",
       "\tCell Phones & Accessories\tint\n",
       "\tCases\tint\n",
       "\tBasic Cases\tint\n",
       "\tAccessories\tint\n",
       "\tChargers\tint\n",
       "\tTravel Chargers\tint\n",
       "\tCar Chargers\tint\n",
       "\tData Cables\tint\n",
       "\tReplacement Parts\tint\n",
       "\tAccessory Kits\tint\n",
       "\tElectronics\tint\n",
       "\tComputers & Accessories\tint\n",
       "\tTouch Screen Tablet Accessories\tint\n",
       "\tScreen Protectors\tint\n",
       "\tCar Accessories\tint\n",
       "\tCar Cradles & Mounts\tint\n",
       "\tCar Mounts\tint\n",
       "\tCell Phones\tint\n",
       "\tUnlocked Cell Phones\tint\n",
       "\tBatteries\tint\n",
       "\tInternal Batteries\tint\n",
       "\tCar Kits\tint\n",
       "\tHeadsets\tint\n",
       "\tBluetooth Headsets\tint\n",
       "\tPhone Charms\tint\n",
       "\tBattery Charger Cases\tint\n",
       "\tExternal Battery Packs\tint\n",
       "\tWallet Cases\tint\n",
       "\tStylus Pens\tint\n",
       "\tCases & Sleeves\tint\n",
       "\tSmart Watches & Accessories\tint\n",
       "\tWired Headsets\tint\n",
       "\tBluetooth Speakers\tint\n",
       "\tArmbands\tint\n",
       "\tSIM Cards & Tools\tint\n",
       "\tHolsters & Clips\tint\n",
       "\tVideo Games\tint\n",
       "\tKids & Family\tint\n",
       "\tPC\tint\n",
       "\tCables & Accessories\tint\n",
       "\tHeadsets & Microphones\tint\n",
       "\tAccessories & Supplies\tint\n",
       "\tTools & Home Improvement\tint\n",
       "\tPower & Hand Tools\tint\n",
       "\tHand Tools\tint\n",
       "\tScrewdrivers\tint\n",
       "\tTool Sets\tint\n",
       "\tCar Cradles\tint\n",
       "\tCar & Vehicle Electronics\tint\n",
       "\tCar Electronics\tint\n",
       "\tSignal Boosters\tint\n",
       "\tAudio Adapters\tint\n",
       "\tSports & Outdoors\tint\n",
       "\tFan Shop\tint\n",
       "\tCell Phone Accessories\tint\n",
       "\tCell Phone Docks\tint\n",
       "\tPortable Audio & Video\tint\n",
       "\tCB & Two-Way Radios\tint\n",
       "\tNo-Contract Cell Phones\tint\n",
       "\tPhones\tint\n",
       "\tOffice Products\tint\n",
       "\tOffice Electronics\tint\n",
       "\tGames\tint\n",
       "\tContract Cell Phones\tint\n",
       "\tComputer Speakers\tint\n",
       "\tComputer Components\tint\n",
       "\tInternal Modems\tint\n",
       "\tMore Systems\tint\n",
       "\tClothing, Shoes & Jewelry\tint\n",
       "\tWomen\tint\n",
       "\tHandbags & Wallets\tint\n",
       "\tShoulder Bags\tint\n",
       "\tSoftware\tint\n",
       "\tUtilities\tint\n",
       "\tMobile Utilities\tint\n",
       "\tAudio & Video Accessories\tint\n",
       "\tCables & Interconnects\tint\n",
       "\tCamera & Photo\tint\n",
       "\tBlank Video Media\tint\n",
       "\tVehicle Electronics Accessories\tint\n",
       "\tCar Speakerphones\tint\n",
       "\tMinutes\tint\n",
       "\tTelephone Accessories\tint\n",
       "\tTelephones & Accessories\tint\n",
       "\tAnswering Devices\tint\n",
       "\tCorded-Cordless Combo Telephones\tint\n",
       "\tVoIP\tint\n",
       "\tLaptop & Netbook Computer Accessories\tint\n",
       "\tPDAs, Handhelds & Accessories\tint\n",
       "\tPDA & Handheld Accessories\tint\n",
       "\tWaterproof Cases\tint\n",
       "\tSleeves\tint\n",
       "\tMonitor Accessories\tint\n",
       "\tFilm Photography\tint\n",
       "\tFilm Cameras\tint\n",
       "\tAutomotive\tint\n",
       "\tTools & Equipment\tint\n",
       "\tJump Starters, Battery Chargers & Portable Power\tint\n",
       "\tBattery Chargers\tint\n",
       "\tSony PSP\tint\n",
       "\tCables & Cradles\tint\n",
       "\tHome Audio\tint\n",
       "\tMP3 Players & Accessories\tint\n",
       "\tMP3 Player Accessories\tint\n",
       "\tOther Office Equipment\tint\n",
       "\tCar Video\tint\n",
       "\tHeadphones\tint\n",
       "\tBusiness & Office\tint\n",
       "\tCommunication\tint\n",
       "\tProgramming & Web Development\tint\n",
       "\tWeb Design\tint\n",
       "\tInternet Utilities\tint\n",
       "\tInternet Phone\tint\n",
       "\tDesign & Illustration\tint\n",
       "\tNintendo DS\tint\n",
       "\tHealth & Personal Care\tint\n",
       "\tHousehold Supplies\tint\n",
       "\tCycling\tint\n",
       "\tBiking Gloves\tint\n",
       "\tToys & Games\tint\n",
       "\tDress Up & Pretend Play\tint\n",
       "\tPretend Play\tint\n",
       "\tMagnet & Felt Playboards\tint\n",
       "\tBatteries, Chargers & Accessories\tint\n",
       "\tAC Adapters\tint\n",
       "\tSolar Chargers\tint\n",
       "\tConnected Devices\tint\n",
       "\tMobile Broadband\tint\n",
       "\tMobile Hotspots\tint\n",
       "\tBags & Cases\tint\n",
       "\tPrinters & Accessories\tint\n",
       "\tPrinter Accessories\tint\n",
       "\tKindle Store\tint\n",
       "\tKindle Accessories\tint\n",
       "\tPower Adapters\tint\n",
       "\tKindle (1st Generation) Adapters\tint\n",
       "\tAudio Cables\tint\n",
       "\tRCA Cables\tint\n",
       "\tClothing\tint\n",
       "\tCables\tint\n",
       "\tUSB Modems\tint\n",
       "\tHousehold Batteries\tint\n",
       "\t12V\tint\n",
       "\tMP3 Players\tint\n",
       "\tMounts\tint\n",
       "\tComputer & Monitor Mounts\tint\n",
       "\tAntennas\tint\n",
       "\tRadio Antennas\tint\n",
       "\tGPS & Navigation\tint\n",
       "\tGPS System Accessories\tint\n",
       "\tChargers & Cables\tint\n",
       "\tNetworking Products\tint\n",
       "\tNetwork Antennas\tint\n",
       "\tPlayStation 3\tint\n",
       "\tNovelty, Costumes & More\tint\n",
       "\tBand & Music Fan\tint\n",
       "\tWatches\tint\n",
       "\tWrist Watches\tint\n",
       "\tLuggage & Travel Gear\tint\n",
       "\tTravel Accessories\tint\n",
       "\tCases & Protectors\tint\n",
       "\teBook Readers & Accessories\tint\n",
       "\tHunting & Fishing\tint\n",
       "\tHunting\tint\n",
       "\tGun Holsters, Cases & Bags\tint\n",
       "\tPower Strips\tint\n",
       "\tWii\tint\n",
       "\tDocking Stations\tint\n",
       "\tSpeaker Systems\tint\n",
       "\tBooks\tint\n",
       "\tChildren's Books\tint\n",
       "\tGrowing Up & Facts of Life\tint\n",
       "\tFamily Life\tint\n",
       "\tFriendship, Social Skills & School Life\tint\n",
       "\tFriendship\tint\n",
       "\tMysteries & Detectives\tint\n",
       "\tReference\tint\n",
       "\tKindle eBooks\tint\n",
       "\tChildren's eBooks\tint\n",
       "\tLiterature & Fiction\tint\n",
       "\tShort Stories\tint\n",
       "\tBatteries & Accessories\tint\n",
       "\tSafety & Security\tint\n",
       "\tEmergency & Survival Kits\tint\n",
       "\tEmergency Survival Kits\tint\n",
       "\tBluetooth Car Kits\tint\n",
       "\tUSB Cables\tint\n",
       "\tSwitches\tint\n",
       "\tArts & Crafts\tint\n",
       "\tDrawing & Painting Supplies\tint\n",
       "\tPaints\tint\n",
       "\tLuggage\tint\n",
       "\tPC Headsets\tint\n",
       "\tInternational Chargers\tint\n",
       "\tChargers & Adapters\tint\n",
       "\tData Cards\tint\n",
       "\tCDs & Vinyl\tint\n",
       "\tPop\tint\n",
       "\tPainting Supplies & Wall Treatments\tint\n",
       "\tWall Stickers & Murals\tint\n",
       "\tPDUs\tint\n",
       "\tCradles, Mounts & Stands\tint\n",
       "\tStands\tint\n",
       "\tReplacement Screens\tint\n",
       "\tJewelry\tint\n",
       "\tFine\tint\n",
       "\tRings\tint\n",
       "\tPatio, Lawn & Garden\tint\n",
       "\tLawn Mowers & Outdoor Power Tools\tint\n",
       "\tReplacement Parts & Accessories\tint\n",
       "\tLawn Mower Parts & Accessories\tint\n",
       "\tLawn Mower Replacement Parts\tint\n",
       "\tHandle Parts\tint\n",
       "\tWall Chargers\tint\n",
       "\tVideo Cables\tint\n",
       "\tHDMI Cables\tint\n",
       "\tMen\tint\n",
       "\tTablets\tint\n",
       "\tMedical Supplies & Equipment\tint\n",
       "\tDiabetes Care\tint\n",
       "\tGenerators & Portable Power\tint\n",
       "\tSolar & Wind Power\tint\n",
       "\tCamera Cases\tint\n",
       "\tTV Accessories & Parts\tint\n",
       "\tTV Ceiling & Wall Mounts\tint\n",
       "\tService & Replacement Plans\tint\n",
       "\tDaily Living Aids\tint\n",
       "\tVisual Impairment Aids\tint\n",
       "\tBig Button & Amplified Telephones\tint\n",
       "\tTeam Sports\tint\n",
       "\tBasketball\tint\n",
       "\tUnderwater Photography\tint\n",
       "\tHome & Kitchen\tint\n",
       "\tKitchen & Dining\tint\n",
       "\tDining & Entertaining\tint\n",
       "\tConnectors & Adapters\tint\n",
       "\tSkins & Decals\tint\n",
       "\tProfessional Video Accessories\tint\n",
       "\tMicrophones\tint\n",
       "\tCord Management\tint\n",
       "\tFlashlights\tint\n",
       "\tElectronics & Gadgets\tint\n",
       "\tSolar Panels\tint\n",
       "\tParts & Components\tint\n",
       "\tBike Brakes & Parts\tint\n",
       "\tBrake Parts\tint\n",
       "\tMounts & Adapters\tint\n",
       "\tAviation Electronics\tint\n",
       "\tAircraft Accessories\tint\n",
       "\tArchery\tint\n",
       "\tBow Maintenance Accessories\tint\n",
       "\tKisser Buttons\tint\n",
       "\tBinocular, Camera & Camcorder Straps\tint\n",
       "\tSpeaker Parts & Components\tint\n",
       "\tMotorcycle Electronics\tint\n",
       "\tMotorcycle Bluetooth Headsets\tint\n",
       "\tMemory\tint\n",
       "\tCharger Kits\tint\n",
       "\tHunting Optics\tint\n",
       "\tSpotting Scopes\tint\n",
       "\tPersonal Protective Equipment\tint\n",
       "\tInput Devices\tint\n",
       "\tDigital Pens\tint\n",
       "\tAll-New Kindle Fire HD Power Adapters\tint\n",
       "\tKindle Fire HDX 8.9\" Power Adapters\tint\n",
       "\tKindle Fire HDX Power Adapters\tint\n",
       "\tKindle Paperwhite Power Adapters\tint\n",
       "\tKindle Power Adapters\tint\n",
       "\tJewelry: International Shipping Available\tint\n",
       "\tWatch Bands\tint\n",
       "\tAudio Car Mounts\tint\n",
       "\tIndustrial & Scientific\tint\n",
       "\tMaterial Handling Products\tint\n",
       "\tVideo\tint\n",
       "\tCamcorders\tint\n",
       "\tSports & Action Video Cameras\tint\n",
       "\tVehicle Mounts\tint\n",
       "\tDesktops\tint\n",
       "\tNetwork Adapters\tint\n",
       "\tPC Microphones\tint\n",
       "\tData Storage\tint\n",
       "\tUSB Flash Drives\tint\n",
       "\tStereo Components\tint\n",
       "\tSpeakers\tint\n",
       "\tLenses\tint\n",
       "\tCamera Lenses\tint\n",
       "\tTripods & Monopods\tint\n",
       "\tComplete Tripods\tint\n",
       "\tTripod Heads\tint\n",
       "\tComputer Cases\tint\n",
       "\tPower Tool Accessories\tint\n",
       "\tBattery Packs & Chargers\tint\n",
       "\tCharger & Converters\tint\n",
       "\tCovers\tint\n",
       "\tBluetooth Network Adapters\tint\n",
       "\tDigital Camera Lenses\tint\n",
       "\tHeadphone Accessories\tint\n",
       "\tAmps\tint\n",
       "\tKindle Fire Covers\tint\n",
       "\tKindle Fire HD 7\" (Previous Generation) Covers\tint\n",
       "\tKindle Fire HD 8.9\" Covers\tint\n",
       "\tMusical Instruments\tint\n",
       "\tMicrophones & Accessories\tint\n",
       "\tStationery & Party Supplies\tint\n",
       "\tParty Supplies\tint\n",
       "\tFavors\tint\n",
       "\tPlayStation Vita\tint\n",
       "\tCables & Cords\tint\n",
       "\tNovelty & Gag Toys\tint\n",
       "\tPDAs & Handhelds\tint\n",
       "\tOffice Electronics Accessories\tint\n",
       "\tVideo Surveillance\tint\n",
       "\tSurveillance Cameras\tint\n",
       "\tSimulated Cameras\tint\n",
       "\tElectronics for Kids\tint\n",
       "\tRC Figures & Robots\tint\n",
       "\tModems\tint\n",
       "\tWireless Access Points\tint\n",
       "\tStyluses\tint\n",
       "\tGPS Trackers\tint\n",
       "\tAirsoft, Air Guns & Slingshots\tint\n",
       "\tAir Guns\tint\n",
       "\tTripod Legs\tint\n",
       "\tPower Cables\tint\n",
       "\tDJ, Electronic Music & Karaoke\tint\n",
       "\tDJ Equipment\tint\n",
       "\tMixers\tint\n",
       "\tRemote Controls\tint\n",
       "\tLightning Cables\tint\n",
       "\tVitamins & Dietary Supplements\tint\n",
       "\tWeight Loss\tint\n",
       "\tSupplements\tint\n",
       "\tRaspberry Ketones\tint\n",
       "\tCameras\tint\n",
       "\tCar Dash Mounting Kits\tint\n",
       "\tFitness Trackers\tint\n",
       "\tHeart Rate Monitors\tint\n",
       "\tPedometers\tint\n",
       "\tExercise & Fitness\tint\n",
       "\tBattery Packs\tint\n",
       "\tAudio\tint\n",
       "\tAll-New Kindle Fire HD Audio\tint\n",
       "\tKindle Fire Audio\tint\n",
       "\tKindle Fire HD 7\" (Previous Generation) Audio\tint\n",
       "\tKindle Fire HD 8.9\" Audio\tint\n",
       "\tKindle Fire HDX 8.9\" Audio\tint\n",
       "\tKindle Fire HDX Audio\tint\n",
       "\tKindle Touch Audio\tint\n",
       "\tInvitations\tint\n",
       "\tTelescope & Microscope Accessories\tint\n",
       "\tMicroscope Accessories\tint\n",
       "\tStorage & Organization\tint\n",
       "\tWine Racks\tint\n",
       "\tVideo Projectors\tint\n",
       "\tB\tint\n",
       "\tBCBGeneration\tint\n",
       "\tWristlets\tint\n",
       "\tLive Sound & Stage\tint\n",
       "\tPower Amplifiers\tint\n",
       "\tTactical & Duty\tint\n",
       "\tPersonal Defense Equipment\tint\n",
       "\tCompact Stereos\tint\n",
       "\tBatteries & Chargers\tint\n",
       "\tCamera Batteries\tint\n",
       "\tSeiko Watches\tint\n",
       "\tComputer Cable Adapters\tint\n",
       "\tEarpads\tint\n",
       "\tScience Fiction & Fantasy\tint\n",
       "\tArts, Crafts & Sewing\tint\n",
       "\tCraft Supplies\tint\n",
       "\tLeathercraft\tint\n",
       "\tRadios\tint\n",
       "\tVGA Cables\tint\n",
       "\tDigital Cameras\tint\n",
       "\tMac\tint\n",
       "\tPet Supplies\tint\n",
       "\tPet Supplies: International Shipping Available\tint\n",
       "\tTripods\tint\n",
       "\tMonopods\tint\n",
       "\tLighting & Studio\tint\n",
       "\tLight Meters & Accessories\tint\n",
       "\tLight Meters\tint\n",
       "\tMice\tint\n",
       "\tKindle Fire HD 7\" (Previous Generation) Power Adapters\tint\n",
       "\tKindle Fire HD 8.9\" Power Adapters\tint\n",
       "\tHand & Arm Protection\tint\n",
       "\tLab, Safety & Work Gloves\tint\n",
       "\tSafety Work Gloves\tint\n",
       "\tBaby Products\tint\n",
       "\tNursery\tint\n",
       "\tFurniture\tint\n",
       "\tChanging Tables\tint\n",
       "\tBaby & Toddler Toys\tint\n",
       "\tBags, Packs & Accessories\tint\n",
       "\tWallets\tint\n",
       "\tBundles\tint\n",
       "\tGirls\tint\n",
       "\tKids' Watches\tint\n",
       "\tBoys\tint\n",
       "\tSoccer\tint\n",
       "\tPicnic Baskets & Accessories\tint\n",
       "\tPicnic Backpacks\tint\n",
       "\tCable Straps\tint\n",
       "\tGrocery & Gourmet Food\tint\n",
       "\tSnack Foods\tint\n",
       "\tParty Mix\tint\n",
       "\tCondenser Microphones\tint\n",
       "\tMultipurpose\tint\n",
       "\tFlash Accessories\tint\n",
       "\tHealth Care\tint\n",
       "\tPersonal Care\tint\n",
       "\tActivity, Health & Wellness Monitors\tint\n",
       "\tCleaning & Repair\tint\n",
       "\tNovelty\tint\n",
       "\tFashion Watches\tint\n",
       "\tGear\tint\n",
       "\tBackpacks & Carriers\tint\n",
       "\tOffice & School Supplies\tint\n",
       "\tEnvelopes, Mailers & Shipping Supplies\tint\n",
       "\tPostal Scales\tint\n",
       "\tMirrors\tint\n",
       "\tSafety\tint\n",
       "\tHarnesses & Leashes\tint\n",
       "\tLaptop & Messenger Bags\tint\n",
       "\tLaptop Bags\tint\n",
       "\tLuxury Watches\tint\n",
       "\tRolex Watches\tint\n",
       "\tWomen's Luxury Brands\tint\n",
       "\tShower Radios\tint\n",
       "\tKids' Bikes & Accessories\tint\n",
       "\tKids' Protective Gear\tint\n",
       "\tBeauty\tint\n",
       "\tBath & Body\tint\n",
       "\tSets\tint\n",
       "\tDesk Accessories & Workspace Organizers\tint\n",
       "\tMouse Pads & Wrist Rests\tint\n",
       "\tWrist Rests\tint\n",
       "\tRespiratory Aids & Accessories\tint\n",
       "\tPurse Making\tint\n",
       "\tHandlebars, Headsets & Stems\tint\n",
       "\tBackyard Birding & Wildlife\tint\n",
       "\tButterflies\tint\n",
       "\tBathing & Skin Care\tint\n",
       "\tKaraoke Equipment\tint\n",
       "\tCustomizable Cases\tint\n",
       "\tMouse Pads\tint\n",
       "\tCutting Tools\tint\n",
       "\tSharpening Tools\tint\n",
       "\tPhoto Studio\tint\n",
       "\tStorage & Presentation Materials\tint\n",
       "\tDigital Picture Frames\tint\n",
       "\tExternal Hard Drives\tint\n",
       "\tInterior Accessories\tint\n",
       "\tConsoles & Organizers\tint\n",
       "\tDoor & Seat Back Organizers\tint\n",
       "\tCollectible Watches\tint\n",
       "\tTelevision & Video\tint\n",
       "\tStrollers\tint\n",
       "\tKids' Furniture\tint\n",
       "\tBookcases, Cabinets & Shelves\tint\n",
       "\n",
       "Rows: 10\n",
       "\n",
       "Data:\n",
       "+------------+---------+---------+-------------------------------+-------------+\n",
       "|    asin    | helpful | overall |           reviewText          |  reviewTime |\n",
       "+------------+---------+---------+-------------------------------+-------------+\n",
       "| 011040047X |  [2, 2] |   1.0   | The case pictured is a sof... | 08 14, 2012 |\n",
       "| 0110400550 |  [0, 0] |   5.0   | Saw this same case at a th... | 11 22, 2012 |\n",
       "| 0110400550 |  [3, 3] |   5.0   | case fits perfectly and I ... | 07 18, 2013 |\n",
       "| 0110400550 |  [4, 4] |   5.0   | Best phone case ever . Eve... | 01 13, 2013 |\n",
       "| 0110400550 |  [0, 1] |   1.0   | It may look cute. This cas... | 11 26, 2012 |\n",
       "| 0110400550 |  [0, 3] |   1.0   | ITEM NOT SENT from Blue To... | 01 30, 2013 |\n",
       "| 0110400550 |  [1, 1] |   2.0   | this is a cute case, I bou... |  01 8, 2014 |\n",
       "| 0110400550 |  [0, 0] |   3.0   | it came in ok but there wa... | 12 25, 2013 |\n",
       "| 0110400550 |  [0, 1] |   3.0   | The case is good, but the ... | 12 20, 2012 |\n",
       "| 0110400550 |  [1, 1] |   4.0   | I got this for my 14 year ... | 03 20, 2013 |\n",
       "+------------+---------+---------+-------------------------------+-------------+\n",
       "+----------------+-----------------------+------------------+----------------+\n",
       "|   reviewerID   |      reviewerName     |     summary      | unixReviewTime |\n",
       "+----------------+-----------------------+------------------+----------------+\n",
       "| A1EWN6KZ4HMLT7 |      S. Prescott      |   Wrong color    |   1344902400   |\n",
       "| A1YX2RBMS1L9L  |      Andrea Busch     |  Great product   |   1353542400   |\n",
       "| A180NNPPKWCCU0 |    Aniya pennington   |     Perfect      |   1374105600   |\n",
       "| A3HVRXV0LVJN7  |      BiancaNicole     |      A++++       |   1358035200   |\n",
       "| A292527VPX98P8 |         Cebell        | Do NOT GET IT!!  |   1353888000   |\n",
       "| A1BJGDS0L1IO6I |         cf \"t\"        | ITEM NOT SENT!!  |   1359504000   |\n",
       "| ANG01NK4RXCI9  | Charles Kodi Bomberry |       meh        |   1389139200   |\n",
       "| AL7D46UHDVZVC  |         Claire        |     alright      |   1387929600   |\n",
       "| A1KO9L34Z7548N |     clevebrowns626    | OK for the price |   1355961600   |\n",
       "| A30P2CYOUYAJM8 |          Gene         |  Cool purchase.  |   1363737600   |\n",
       "+----------------+-----------------------+------------------+----------------+\n",
       "+-------+-------------------------------+-------------------------------+-------+\n",
       "| brand |          description          |             imUrl             | price |\n",
       "+-------+-------------------------------+-------------------------------+-------+\n",
       "|  None | Purple Hard Case Cover for... | http://ecx.images-amazon.c... |  1.94 |\n",
       "|       | Pink & White 3D Melt Ice-C... | http://ecx.images-amazon.c... |  3.33 |\n",
       "|       | Pink & White 3D Melt Ice-C... | http://ecx.images-amazon.c... |  3.33 |\n",
       "|       | Pink & White 3D Melt Ice-C... | http://ecx.images-amazon.c... |  3.33 |\n",
       "|       | Pink & White 3D Melt Ice-C... | http://ecx.images-amazon.c... |  3.33 |\n",
       "|       | Pink & White 3D Melt Ice-C... | http://ecx.images-amazon.c... |  3.33 |\n",
       "|       | Pink & White 3D Melt Ice-C... | http://ecx.images-amazon.c... |  3.33 |\n",
       "|       | Pink & White 3D Melt Ice-C... | http://ecx.images-amazon.c... |  3.33 |\n",
       "|       | Pink & White 3D Melt Ice-C... | http://ecx.images-amazon.c... |  3.33 |\n",
       "|       | Pink & White 3D Melt Ice-C... | http://ecx.images-amazon.c... |  3.33 |\n",
       "+-------+-------------------------------+-------------------------------+-------+\n",
       "+-------------------------------+-------------------------------+\n",
       "|            related            |           salesRank           |\n",
       "+-------------------------------+-------------------------------+\n",
       "| {'buy_after_viewing': ['B0... | {'Cell Phones & Accessorie... |\n",
       "| {'also_bought': ['B00C56IX... | {'Cell Phones & Accessorie... |\n",
       "| {'also_bought': ['B00C56IX... | {'Cell Phones & Accessorie... |\n",
       "| {'also_bought': ['B00C56IX... | {'Cell Phones & Accessorie... |\n",
       "| {'also_bought': ['B00C56IX... | {'Cell Phones & Accessorie... |\n",
       "| {'also_bought': ['B00C56IX... | {'Cell Phones & Accessorie... |\n",
       "| {'also_bought': ['B00C56IX... | {'Cell Phones & Accessorie... |\n",
       "| {'also_bought': ['B00C56IX... | {'Cell Phones & Accessorie... |\n",
       "| {'also_bought': ['B00C56IX... | {'Cell Phones & Accessorie... |\n",
       "| {'also_bought': ['B00C56IX... | {'Cell Phones & Accessorie... |\n",
       "+-------------------------------+-------------------------------+\n",
       "+-------------------------------+-------------------------------+---------------------------+\n",
       "|             title             |         new_categories        | Cell Phones & Accessories |\n",
       "+-------------------------------+-------------------------------+---------------------------+\n",
       "| Purple Hard Case Cover for... | [Cell Phones & Accessories... |             1             |\n",
       "| Pink &amp; White 3d Melt I... | [Cell Phones & Accessories... |             1             |\n",
       "| Pink &amp; White 3d Melt I... | [Cell Phones & Accessories... |             1             |\n",
       "| Pink &amp; White 3d Melt I... | [Cell Phones & Accessories... |             1             |\n",
       "| Pink &amp; White 3d Melt I... | [Cell Phones & Accessories... |             1             |\n",
       "| Pink &amp; White 3d Melt I... | [Cell Phones & Accessories... |             1             |\n",
       "| Pink &amp; White 3d Melt I... | [Cell Phones & Accessories... |             1             |\n",
       "| Pink &amp; White 3d Melt I... | [Cell Phones & Accessories... |             1             |\n",
       "| Pink &amp; White 3d Melt I... | [Cell Phones & Accessories... |             1             |\n",
       "| Pink &amp; White 3d Melt I... | [Cell Phones & Accessories... |             1             |\n",
       "+-------------------------------+-------------------------------+---------------------------+\n",
       "+-------+-------------+-----+\n",
       "| Cases | Basic Cases | ... |\n",
       "+-------+-------------+-----+\n",
       "|   1   |      1      | ... |\n",
       "|   1   |      1      | ... |\n",
       "|   1   |      1      | ... |\n",
       "|   1   |      1      | ... |\n",
       "|   1   |      1      | ... |\n",
       "|   1   |      1      | ... |\n",
       "|   1   |      1      | ... |\n",
       "|   1   |      1      | ... |\n",
       "|   1   |      1      | ... |\n",
       "|   1   |      1      | ... |\n",
       "+-------+-------------+-----+\n",
       "[10 rows x 477 columns]"
      ]
     },
     "execution_count": 16,
     "metadata": {},
     "output_type": "execute_result"
    }
   ],
   "source": [
    "mobile.head()"
   ]
  },
  {
   "cell_type": "code",
   "execution_count": 19,
   "metadata": {
    "collapsed": false
   },
   "outputs": [
    {
     "data": {
      "text/plain": [
       "['Cell Phones & Accessories',\n",
       " 'Cases',\n",
       " 'Basic Cases',\n",
       " 'Accessories',\n",
       " 'Chargers',\n",
       " 'Travel Chargers',\n",
       " 'Car Chargers',\n",
       " 'Data Cables',\n",
       " 'Replacement Parts',\n",
       " 'Accessory Kits',\n",
       " 'Electronics',\n",
       " 'Computers & Accessories',\n",
       " 'Touch Screen Tablet Accessories',\n",
       " 'Screen Protectors',\n",
       " 'Car Accessories',\n",
       " 'Car Cradles & Mounts',\n",
       " 'Car Mounts',\n",
       " 'Cell Phones',\n",
       " 'Unlocked Cell Phones',\n",
       " 'Batteries',\n",
       " 'Internal Batteries',\n",
       " 'Car Kits',\n",
       " 'Headsets',\n",
       " 'Bluetooth Headsets',\n",
       " 'Phone Charms',\n",
       " 'Battery Charger Cases',\n",
       " 'External Battery Packs',\n",
       " 'Wallet Cases',\n",
       " 'Stylus Pens',\n",
       " 'Cases & Sleeves',\n",
       " 'Smart Watches & Accessories',\n",
       " 'Wired Headsets',\n",
       " 'Bluetooth Speakers',\n",
       " 'Armbands',\n",
       " 'SIM Cards & Tools',\n",
       " 'Holsters & Clips',\n",
       " 'Video Games',\n",
       " 'Kids & Family',\n",
       " 'PC',\n",
       " 'Cables & Accessories',\n",
       " 'Headsets & Microphones',\n",
       " 'Accessories & Supplies',\n",
       " 'Tools & Home Improvement',\n",
       " 'Power & Hand Tools',\n",
       " 'Hand Tools',\n",
       " 'Screwdrivers',\n",
       " 'Tool Sets',\n",
       " 'Car Cradles',\n",
       " 'Car & Vehicle Electronics',\n",
       " 'Car Electronics',\n",
       " 'Signal Boosters',\n",
       " 'Audio Adapters',\n",
       " 'Sports & Outdoors',\n",
       " 'Fan Shop',\n",
       " 'Cell Phone Accessories',\n",
       " 'Cell Phone Docks',\n",
       " 'Portable Audio & Video',\n",
       " 'CB & Two-Way Radios',\n",
       " 'No-Contract Cell Phones',\n",
       " 'Phones',\n",
       " 'Office Products',\n",
       " 'Office Electronics',\n",
       " 'Games',\n",
       " 'Contract Cell Phones',\n",
       " 'Computer Speakers',\n",
       " 'Computer Components',\n",
       " 'Internal Modems',\n",
       " 'More Systems',\n",
       " 'Clothing, Shoes & Jewelry',\n",
       " 'Women',\n",
       " 'Handbags & Wallets',\n",
       " 'Shoulder Bags',\n",
       " 'Software',\n",
       " 'Utilities',\n",
       " 'Mobile Utilities',\n",
       " 'Audio & Video Accessories',\n",
       " 'Cables & Interconnects',\n",
       " 'Camera & Photo',\n",
       " 'Blank Video Media',\n",
       " 'Vehicle Electronics Accessories',\n",
       " 'Car Speakerphones',\n",
       " 'Minutes',\n",
       " 'Telephone Accessories',\n",
       " 'Telephones & Accessories',\n",
       " 'Answering Devices',\n",
       " 'Corded-Cordless Combo Telephones',\n",
       " 'VoIP',\n",
       " 'Laptop & Netbook Computer Accessories',\n",
       " 'PDAs, Handhelds & Accessories',\n",
       " 'PDA & Handheld Accessories',\n",
       " 'Waterproof Cases',\n",
       " 'Sleeves',\n",
       " 'Monitor Accessories',\n",
       " 'Film Photography',\n",
       " 'Film Cameras',\n",
       " 'Automotive',\n",
       " 'Tools & Equipment',\n",
       " 'Jump Starters, Battery Chargers & Portable Power',\n",
       " 'Battery Chargers',\n",
       " 'Sony PSP',\n",
       " 'Cables & Cradles',\n",
       " 'Home Audio',\n",
       " 'MP3 Players & Accessories',\n",
       " 'MP3 Player Accessories',\n",
       " 'Other Office Equipment',\n",
       " 'Car Video',\n",
       " 'Headphones',\n",
       " 'Business & Office',\n",
       " 'Communication',\n",
       " 'Programming & Web Development',\n",
       " 'Web Design',\n",
       " 'Internet Utilities',\n",
       " 'Internet Phone',\n",
       " 'Design & Illustration',\n",
       " 'Nintendo DS',\n",
       " 'Health & Personal Care',\n",
       " 'Household Supplies',\n",
       " 'Cycling',\n",
       " 'Biking Gloves',\n",
       " 'Toys & Games',\n",
       " 'Dress Up & Pretend Play',\n",
       " 'Pretend Play',\n",
       " 'Magnet & Felt Playboards',\n",
       " 'Batteries, Chargers & Accessories',\n",
       " 'AC Adapters',\n",
       " 'Solar Chargers',\n",
       " 'Connected Devices',\n",
       " 'Mobile Broadband',\n",
       " 'Mobile Hotspots',\n",
       " 'Bags & Cases',\n",
       " 'Printers & Accessories',\n",
       " 'Printer Accessories',\n",
       " 'Kindle Store',\n",
       " 'Kindle Accessories',\n",
       " 'Power Adapters',\n",
       " 'Kindle (1st Generation) Adapters',\n",
       " 'Audio Cables',\n",
       " 'RCA Cables',\n",
       " 'Clothing',\n",
       " 'Cables',\n",
       " 'USB Modems',\n",
       " 'Household Batteries',\n",
       " '12V',\n",
       " 'MP3 Players',\n",
       " 'Mounts',\n",
       " 'Computer & Monitor Mounts',\n",
       " 'Antennas',\n",
       " 'Radio Antennas',\n",
       " 'GPS & Navigation',\n",
       " 'GPS System Accessories',\n",
       " 'Chargers & Cables',\n",
       " 'Networking Products',\n",
       " 'Network Antennas',\n",
       " 'PlayStation 3',\n",
       " 'Novelty, Costumes & More',\n",
       " 'Band & Music Fan',\n",
       " 'Watches',\n",
       " 'Wrist Watches',\n",
       " 'Luggage & Travel Gear',\n",
       " 'Travel Accessories',\n",
       " 'Cases & Protectors',\n",
       " 'eBook Readers & Accessories',\n",
       " 'Hunting & Fishing',\n",
       " 'Hunting',\n",
       " 'Gun Holsters, Cases & Bags',\n",
       " 'Power Strips',\n",
       " 'Wii',\n",
       " 'Docking Stations',\n",
       " 'Speaker Systems',\n",
       " 'Books',\n",
       " \"Children's Books\",\n",
       " 'Growing Up & Facts of Life',\n",
       " 'Family Life',\n",
       " 'Friendship, Social Skills & School Life',\n",
       " 'Friendship',\n",
       " 'Mysteries & Detectives',\n",
       " 'Reference',\n",
       " 'Kindle eBooks',\n",
       " \"Children's eBooks\",\n",
       " 'Literature & Fiction',\n",
       " 'Short Stories',\n",
       " 'Batteries & Accessories',\n",
       " 'Safety & Security',\n",
       " 'Emergency & Survival Kits',\n",
       " 'Emergency Survival Kits',\n",
       " 'Bluetooth Car Kits',\n",
       " 'USB Cables',\n",
       " 'Switches',\n",
       " 'Arts & Crafts',\n",
       " 'Drawing & Painting Supplies',\n",
       " 'Paints',\n",
       " 'Luggage',\n",
       " 'PC Headsets',\n",
       " 'International Chargers',\n",
       " 'Chargers & Adapters',\n",
       " 'Data Cards',\n",
       " 'CDs & Vinyl',\n",
       " 'Pop',\n",
       " 'Painting Supplies & Wall Treatments',\n",
       " 'Wall Stickers & Murals',\n",
       " 'PDUs',\n",
       " 'Cradles, Mounts & Stands',\n",
       " 'Stands',\n",
       " 'Replacement Screens',\n",
       " 'Jewelry',\n",
       " 'Fine',\n",
       " 'Rings',\n",
       " 'Patio, Lawn & Garden',\n",
       " 'Lawn Mowers & Outdoor Power Tools',\n",
       " 'Replacement Parts & Accessories',\n",
       " 'Lawn Mower Parts & Accessories',\n",
       " 'Lawn Mower Replacement Parts',\n",
       " 'Handle Parts',\n",
       " 'Wall Chargers',\n",
       " 'Video Cables',\n",
       " 'HDMI Cables',\n",
       " 'Men',\n",
       " 'Tablets',\n",
       " 'Medical Supplies & Equipment',\n",
       " 'Diabetes Care',\n",
       " 'Generators & Portable Power',\n",
       " 'Solar & Wind Power',\n",
       " 'Camera Cases',\n",
       " 'TV Accessories & Parts',\n",
       " 'TV Ceiling & Wall Mounts',\n",
       " 'Service & Replacement Plans',\n",
       " 'Daily Living Aids',\n",
       " 'Visual Impairment Aids',\n",
       " 'Big Button & Amplified Telephones',\n",
       " 'Team Sports',\n",
       " 'Basketball',\n",
       " 'Underwater Photography',\n",
       " 'Home & Kitchen',\n",
       " 'Kitchen & Dining',\n",
       " 'Dining & Entertaining',\n",
       " 'Connectors & Adapters',\n",
       " 'Skins & Decals',\n",
       " 'Professional Video Accessories',\n",
       " 'Microphones',\n",
       " 'Cord Management',\n",
       " 'Flashlights',\n",
       " 'Electronics & Gadgets',\n",
       " 'Solar Panels',\n",
       " 'Parts & Components',\n",
       " 'Bike Brakes & Parts',\n",
       " 'Brake Parts',\n",
       " 'Mounts & Adapters',\n",
       " 'Aviation Electronics',\n",
       " 'Aircraft Accessories',\n",
       " 'Archery',\n",
       " 'Bow Maintenance Accessories',\n",
       " 'Kisser Buttons',\n",
       " 'Binocular, Camera & Camcorder Straps',\n",
       " 'Speaker Parts & Components',\n",
       " 'Motorcycle Electronics',\n",
       " 'Motorcycle Bluetooth Headsets',\n",
       " 'Memory',\n",
       " 'Charger Kits',\n",
       " 'Hunting Optics',\n",
       " 'Spotting Scopes',\n",
       " 'Personal Protective Equipment',\n",
       " 'Input Devices',\n",
       " 'Digital Pens',\n",
       " 'All-New Kindle Fire HD Power Adapters',\n",
       " 'Kindle Fire HDX 8.9\" Power Adapters',\n",
       " 'Kindle Fire HDX Power Adapters',\n",
       " 'Kindle Paperwhite Power Adapters',\n",
       " 'Kindle Power Adapters',\n",
       " 'Jewelry: International Shipping Available',\n",
       " 'Watch Bands',\n",
       " 'Audio Car Mounts',\n",
       " 'Industrial & Scientific',\n",
       " 'Material Handling Products',\n",
       " 'Video',\n",
       " 'Camcorders',\n",
       " 'Sports & Action Video Cameras',\n",
       " 'Vehicle Mounts',\n",
       " 'Desktops',\n",
       " 'Network Adapters',\n",
       " 'PC Microphones',\n",
       " 'Data Storage',\n",
       " 'USB Flash Drives',\n",
       " 'Stereo Components',\n",
       " 'Speakers',\n",
       " 'Lenses',\n",
       " 'Camera Lenses',\n",
       " 'Tripods & Monopods',\n",
       " 'Complete Tripods',\n",
       " 'Tripod Heads',\n",
       " 'Computer Cases',\n",
       " 'Power Tool Accessories',\n",
       " 'Battery Packs & Chargers',\n",
       " 'Charger & Converters',\n",
       " 'Covers',\n",
       " 'Bluetooth Network Adapters',\n",
       " 'Digital Camera Lenses',\n",
       " 'Headphone Accessories',\n",
       " 'Amps',\n",
       " 'Kindle Fire Covers',\n",
       " 'Kindle Fire HD 7\" (Previous Generation) Covers',\n",
       " 'Kindle Fire HD 8.9\" Covers',\n",
       " 'Musical Instruments',\n",
       " 'Microphones & Accessories',\n",
       " 'Stationery & Party Supplies',\n",
       " 'Party Supplies',\n",
       " 'Favors',\n",
       " 'PlayStation Vita',\n",
       " 'Cables & Cords',\n",
       " 'Novelty & Gag Toys',\n",
       " 'PDAs & Handhelds',\n",
       " 'Office Electronics Accessories',\n",
       " 'Video Surveillance',\n",
       " 'Surveillance Cameras',\n",
       " 'Simulated Cameras',\n",
       " 'Electronics for Kids',\n",
       " 'RC Figures & Robots',\n",
       " 'Modems',\n",
       " 'Wireless Access Points',\n",
       " 'Styluses',\n",
       " 'GPS Trackers',\n",
       " 'Airsoft, Air Guns & Slingshots',\n",
       " 'Air Guns',\n",
       " 'Tripod Legs',\n",
       " 'Power Cables',\n",
       " 'DJ, Electronic Music & Karaoke',\n",
       " 'DJ Equipment',\n",
       " 'Mixers',\n",
       " 'Remote Controls',\n",
       " 'Lightning Cables',\n",
       " 'Vitamins & Dietary Supplements',\n",
       " 'Weight Loss',\n",
       " 'Supplements',\n",
       " 'Raspberry Ketones',\n",
       " 'Cameras',\n",
       " 'Car Dash Mounting Kits',\n",
       " 'Fitness Trackers',\n",
       " 'Heart Rate Monitors',\n",
       " 'Pedometers',\n",
       " 'Exercise & Fitness',\n",
       " 'Battery Packs',\n",
       " 'Audio',\n",
       " 'All-New Kindle Fire HD Audio',\n",
       " 'Kindle Fire Audio',\n",
       " 'Kindle Fire HD 7\" (Previous Generation) Audio',\n",
       " 'Kindle Fire HD 8.9\" Audio',\n",
       " 'Kindle Fire HDX 8.9\" Audio',\n",
       " 'Kindle Fire HDX Audio',\n",
       " 'Kindle Touch Audio',\n",
       " 'Invitations',\n",
       " 'Telescope & Microscope Accessories',\n",
       " 'Microscope Accessories',\n",
       " 'Storage & Organization',\n",
       " 'Wine Racks',\n",
       " 'Video Projectors',\n",
       " 'B',\n",
       " 'BCBGeneration',\n",
       " 'Wristlets',\n",
       " 'Live Sound & Stage',\n",
       " 'Power Amplifiers',\n",
       " 'Tactical & Duty',\n",
       " 'Personal Defense Equipment',\n",
       " 'Compact Stereos',\n",
       " 'Batteries & Chargers',\n",
       " 'Camera Batteries',\n",
       " 'Seiko Watches',\n",
       " 'Computer Cable Adapters',\n",
       " 'Earpads',\n",
       " 'Science Fiction & Fantasy',\n",
       " 'Arts, Crafts & Sewing',\n",
       " 'Craft Supplies',\n",
       " 'Leathercraft',\n",
       " 'Radios',\n",
       " 'VGA Cables',\n",
       " 'Digital Cameras',\n",
       " 'Mac',\n",
       " 'Pet Supplies',\n",
       " 'Pet Supplies: International Shipping Available',\n",
       " 'Tripods',\n",
       " 'Monopods',\n",
       " 'Lighting & Studio',\n",
       " 'Light Meters & Accessories',\n",
       " 'Light Meters',\n",
       " 'Mice',\n",
       " 'Kindle Fire HD 7\" (Previous Generation) Power Adapters',\n",
       " 'Kindle Fire HD 8.9\" Power Adapters',\n",
       " 'Hand & Arm Protection',\n",
       " 'Lab, Safety & Work Gloves',\n",
       " 'Safety Work Gloves',\n",
       " 'Baby Products',\n",
       " 'Nursery',\n",
       " 'Furniture',\n",
       " 'Changing Tables',\n",
       " 'Baby & Toddler Toys',\n",
       " 'Bags, Packs & Accessories',\n",
       " 'Wallets',\n",
       " 'Bundles',\n",
       " 'Girls',\n",
       " \"Kids' Watches\",\n",
       " 'Boys',\n",
       " 'Soccer',\n",
       " 'Picnic Baskets & Accessories',\n",
       " 'Picnic Backpacks',\n",
       " 'Cable Straps',\n",
       " 'Grocery & Gourmet Food',\n",
       " 'Snack Foods',\n",
       " 'Party Mix',\n",
       " 'Condenser Microphones',\n",
       " 'Multipurpose',\n",
       " 'Flash Accessories',\n",
       " 'Health Care',\n",
       " 'Personal Care',\n",
       " 'Activity, Health & Wellness Monitors',\n",
       " 'Cleaning & Repair',\n",
       " 'Novelty',\n",
       " 'Fashion Watches',\n",
       " 'Gear',\n",
       " 'Backpacks & Carriers',\n",
       " 'Office & School Supplies',\n",
       " 'Envelopes, Mailers & Shipping Supplies',\n",
       " 'Postal Scales',\n",
       " 'Mirrors',\n",
       " 'Safety',\n",
       " 'Harnesses & Leashes',\n",
       " 'Laptop & Messenger Bags',\n",
       " 'Laptop Bags',\n",
       " 'Luxury Watches',\n",
       " 'Rolex Watches',\n",
       " \"Women's Luxury Brands\",\n",
       " 'Shower Radios',\n",
       " \"Kids' Bikes & Accessories\",\n",
       " \"Kids' Protective Gear\",\n",
       " 'Beauty',\n",
       " 'Bath & Body',\n",
       " 'Sets',\n",
       " 'Desk Accessories & Workspace Organizers',\n",
       " 'Mouse Pads & Wrist Rests',\n",
       " 'Wrist Rests',\n",
       " 'Respiratory Aids & Accessories',\n",
       " 'Purse Making',\n",
       " 'Handlebars, Headsets & Stems',\n",
       " 'Backyard Birding & Wildlife',\n",
       " 'Butterflies',\n",
       " 'Bathing & Skin Care',\n",
       " 'Karaoke Equipment',\n",
       " 'Customizable Cases',\n",
       " 'Mouse Pads',\n",
       " 'Cutting Tools',\n",
       " 'Sharpening Tools',\n",
       " 'Photo Studio',\n",
       " 'Storage & Presentation Materials',\n",
       " 'Digital Picture Frames',\n",
       " 'External Hard Drives',\n",
       " 'Interior Accessories',\n",
       " 'Consoles & Organizers',\n",
       " 'Door & Seat Back Organizers',\n",
       " 'Collectible Watches',\n",
       " 'Television & Video',\n",
       " 'Strollers',\n",
       " \"Kids' Furniture\",\n",
       " 'Bookcases, Cabinets & Shelves']"
      ]
     },
     "execution_count": 19,
     "metadata": {},
     "output_type": "execute_result"
    }
   ],
   "source": [
    "distinct_categories"
   ]
  },
  {
   "cell_type": "code",
   "execution_count": 20,
   "metadata": {
    "collapsed": true
   },
   "outputs": [],
   "source": [
    "cell_phone=mobile[mobile['Cell Phones']==1]"
   ]
  },
  {
   "cell_type": "code",
   "execution_count": null,
   "metadata": {
    "collapsed": false,
    "scrolled": true
   },
   "outputs": [],
   "source": [
    "cell_phone.head()"
   ]
  },
  {
   "cell_type": "code",
   "execution_count": 21,
   "metadata": {
    "collapsed": true
   },
   "outputs": [],
   "source": [
    "unlocked_cell_phone=mobile[mobile['Unlocked Cell Phones']==1]"
   ]
  },
  {
   "cell_type": "code",
   "execution_count": 22,
   "metadata": {
    "collapsed": true
   },
   "outputs": [],
   "source": [
    "phone=mobile[mobile['Phones']==1]"
   ]
  },
  {
   "cell_type": "code",
   "execution_count": 23,
   "metadata": {
    "collapsed": true
   },
   "outputs": [],
   "source": [
    "tablets=mobile[mobile['Tablets']==1]"
   ]
  },
  {
   "cell_type": "code",
   "execution_count": null,
   "metadata": {
    "collapsed": false,
    "scrolled": true
   },
   "outputs": [],
   "source": [
    "cell_phone"
   ]
  },
  {
   "cell_type": "code",
   "execution_count": 24,
   "metadata": {
    "collapsed": true
   },
   "outputs": [],
   "source": [
    "my_data=cell_phone.append(unlocked_cell_phone)"
   ]
  },
  {
   "cell_type": "code",
   "execution_count": 25,
   "metadata": {
    "collapsed": true
   },
   "outputs": [],
   "source": [
    "my_data=my_data.append(phone)"
   ]
  },
  {
   "cell_type": "code",
   "execution_count": 26,
   "metadata": {
    "collapsed": true
   },
   "outputs": [],
   "source": [
    "my_data=my_data.append(tablets)"
   ]
  },
  {
   "cell_type": "code",
   "execution_count": 28,
   "metadata": {
    "collapsed": false
   },
   "outputs": [
    {
     "data": {
      "text/plain": [
       "(351306, 477)"
      ]
     },
     "execution_count": 28,
     "metadata": {},
     "output_type": "execute_result"
    }
   ],
   "source": [
    "my_data.shape"
   ]
  },
  {
   "cell_type": "code",
   "execution_count": null,
   "metadata": {
    "collapsed": false,
    "scrolled": true
   },
   "outputs": [],
   "source": [
    "my_data.head()"
   ]
  },
  {
   "cell_type": "code",
   "execution_count": 29,
   "metadata": {
    "collapsed": false,
    "scrolled": true
   },
   "outputs": [
    {
     "data": {
      "text/plain": [
       "['asin',\n",
       " 'helpful',\n",
       " 'overall',\n",
       " 'reviewText',\n",
       " 'reviewTime',\n",
       " 'reviewerID',\n",
       " 'reviewerName',\n",
       " 'summary',\n",
       " 'unixReviewTime',\n",
       " 'brand',\n",
       " 'description',\n",
       " 'imUrl',\n",
       " 'price',\n",
       " 'related',\n",
       " 'salesRank',\n",
       " 'title',\n",
       " 'new_categories',\n",
       " 'Cell Phones & Accessories',\n",
       " 'Cases',\n",
       " 'Basic Cases',\n",
       " 'Accessories',\n",
       " 'Chargers',\n",
       " 'Travel Chargers',\n",
       " 'Car Chargers',\n",
       " 'Data Cables',\n",
       " 'Replacement Parts',\n",
       " 'Accessory Kits',\n",
       " 'Electronics',\n",
       " 'Computers & Accessories',\n",
       " 'Touch Screen Tablet Accessories',\n",
       " 'Screen Protectors',\n",
       " 'Car Accessories',\n",
       " 'Car Cradles & Mounts',\n",
       " 'Car Mounts',\n",
       " 'Cell Phones',\n",
       " 'Unlocked Cell Phones',\n",
       " 'Batteries',\n",
       " 'Internal Batteries',\n",
       " 'Car Kits',\n",
       " 'Headsets',\n",
       " 'Bluetooth Headsets',\n",
       " 'Phone Charms',\n",
       " 'Battery Charger Cases',\n",
       " 'External Battery Packs',\n",
       " 'Wallet Cases',\n",
       " 'Stylus Pens',\n",
       " 'Cases & Sleeves',\n",
       " 'Smart Watches & Accessories',\n",
       " 'Wired Headsets',\n",
       " 'Bluetooth Speakers',\n",
       " 'Armbands',\n",
       " 'SIM Cards & Tools',\n",
       " 'Holsters & Clips',\n",
       " 'Video Games',\n",
       " 'Kids & Family',\n",
       " 'PC',\n",
       " 'Cables & Accessories',\n",
       " 'Headsets & Microphones',\n",
       " 'Accessories & Supplies',\n",
       " 'Tools & Home Improvement',\n",
       " 'Power & Hand Tools',\n",
       " 'Hand Tools',\n",
       " 'Screwdrivers',\n",
       " 'Tool Sets',\n",
       " 'Car Cradles',\n",
       " 'Car & Vehicle Electronics',\n",
       " 'Car Electronics',\n",
       " 'Signal Boosters',\n",
       " 'Audio Adapters',\n",
       " 'Sports & Outdoors',\n",
       " 'Fan Shop',\n",
       " 'Cell Phone Accessories',\n",
       " 'Cell Phone Docks',\n",
       " 'Portable Audio & Video',\n",
       " 'CB & Two-Way Radios',\n",
       " 'No-Contract Cell Phones',\n",
       " 'Phones',\n",
       " 'Office Products',\n",
       " 'Office Electronics',\n",
       " 'Games',\n",
       " 'Contract Cell Phones',\n",
       " 'Computer Speakers',\n",
       " 'Computer Components',\n",
       " 'Internal Modems',\n",
       " 'More Systems',\n",
       " 'Clothing, Shoes & Jewelry',\n",
       " 'Women',\n",
       " 'Handbags & Wallets',\n",
       " 'Shoulder Bags',\n",
       " 'Software',\n",
       " 'Utilities',\n",
       " 'Mobile Utilities',\n",
       " 'Audio & Video Accessories',\n",
       " 'Cables & Interconnects',\n",
       " 'Camera & Photo',\n",
       " 'Blank Video Media',\n",
       " 'Vehicle Electronics Accessories',\n",
       " 'Car Speakerphones',\n",
       " 'Minutes',\n",
       " 'Telephone Accessories',\n",
       " 'Telephones & Accessories',\n",
       " 'Answering Devices',\n",
       " 'Corded-Cordless Combo Telephones',\n",
       " 'VoIP',\n",
       " 'Laptop & Netbook Computer Accessories',\n",
       " 'PDAs, Handhelds & Accessories',\n",
       " 'PDA & Handheld Accessories',\n",
       " 'Waterproof Cases',\n",
       " 'Sleeves',\n",
       " 'Monitor Accessories',\n",
       " 'Film Photography',\n",
       " 'Film Cameras',\n",
       " 'Automotive',\n",
       " 'Tools & Equipment',\n",
       " 'Jump Starters, Battery Chargers & Portable Power',\n",
       " 'Battery Chargers',\n",
       " 'Sony PSP',\n",
       " 'Cables & Cradles',\n",
       " 'Home Audio',\n",
       " 'MP3 Players & Accessories',\n",
       " 'MP3 Player Accessories',\n",
       " 'Other Office Equipment',\n",
       " 'Car Video',\n",
       " 'Headphones',\n",
       " 'Business & Office',\n",
       " 'Communication',\n",
       " 'Programming & Web Development',\n",
       " 'Web Design',\n",
       " 'Internet Utilities',\n",
       " 'Internet Phone',\n",
       " 'Design & Illustration',\n",
       " 'Nintendo DS',\n",
       " 'Health & Personal Care',\n",
       " 'Household Supplies',\n",
       " 'Cycling',\n",
       " 'Biking Gloves',\n",
       " 'Toys & Games',\n",
       " 'Dress Up & Pretend Play',\n",
       " 'Pretend Play',\n",
       " 'Magnet & Felt Playboards',\n",
       " 'Batteries, Chargers & Accessories',\n",
       " 'AC Adapters',\n",
       " 'Solar Chargers',\n",
       " 'Connected Devices',\n",
       " 'Mobile Broadband',\n",
       " 'Mobile Hotspots',\n",
       " 'Bags & Cases',\n",
       " 'Printers & Accessories',\n",
       " 'Printer Accessories',\n",
       " 'Kindle Store',\n",
       " 'Kindle Accessories',\n",
       " 'Power Adapters',\n",
       " 'Kindle (1st Generation) Adapters',\n",
       " 'Audio Cables',\n",
       " 'RCA Cables',\n",
       " 'Clothing',\n",
       " 'Cables',\n",
       " 'USB Modems',\n",
       " 'Household Batteries',\n",
       " '12V',\n",
       " 'MP3 Players',\n",
       " 'Mounts',\n",
       " 'Computer & Monitor Mounts',\n",
       " 'Antennas',\n",
       " 'Radio Antennas',\n",
       " 'GPS & Navigation',\n",
       " 'GPS System Accessories',\n",
       " 'Chargers & Cables',\n",
       " 'Networking Products',\n",
       " 'Network Antennas',\n",
       " 'PlayStation 3',\n",
       " 'Novelty, Costumes & More',\n",
       " 'Band & Music Fan',\n",
       " 'Watches',\n",
       " 'Wrist Watches',\n",
       " 'Luggage & Travel Gear',\n",
       " 'Travel Accessories',\n",
       " 'Cases & Protectors',\n",
       " 'eBook Readers & Accessories',\n",
       " 'Hunting & Fishing',\n",
       " 'Hunting',\n",
       " 'Gun Holsters, Cases & Bags',\n",
       " 'Power Strips',\n",
       " 'Wii',\n",
       " 'Docking Stations',\n",
       " 'Speaker Systems',\n",
       " 'Books',\n",
       " \"Children's Books\",\n",
       " 'Growing Up & Facts of Life',\n",
       " 'Family Life',\n",
       " 'Friendship, Social Skills & School Life',\n",
       " 'Friendship',\n",
       " 'Mysteries & Detectives',\n",
       " 'Reference',\n",
       " 'Kindle eBooks',\n",
       " \"Children's eBooks\",\n",
       " 'Literature & Fiction',\n",
       " 'Short Stories',\n",
       " 'Batteries & Accessories',\n",
       " 'Safety & Security',\n",
       " 'Emergency & Survival Kits',\n",
       " 'Emergency Survival Kits',\n",
       " 'Bluetooth Car Kits',\n",
       " 'USB Cables',\n",
       " 'Switches',\n",
       " 'Arts & Crafts',\n",
       " 'Drawing & Painting Supplies',\n",
       " 'Paints',\n",
       " 'Luggage',\n",
       " 'PC Headsets',\n",
       " 'International Chargers',\n",
       " 'Chargers & Adapters',\n",
       " 'Data Cards',\n",
       " 'CDs & Vinyl',\n",
       " 'Pop',\n",
       " 'Painting Supplies & Wall Treatments',\n",
       " 'Wall Stickers & Murals',\n",
       " 'PDUs',\n",
       " 'Cradles, Mounts & Stands',\n",
       " 'Stands',\n",
       " 'Replacement Screens',\n",
       " 'Jewelry',\n",
       " 'Fine',\n",
       " 'Rings',\n",
       " 'Patio, Lawn & Garden',\n",
       " 'Lawn Mowers & Outdoor Power Tools',\n",
       " 'Replacement Parts & Accessories',\n",
       " 'Lawn Mower Parts & Accessories',\n",
       " 'Lawn Mower Replacement Parts',\n",
       " 'Handle Parts',\n",
       " 'Wall Chargers',\n",
       " 'Video Cables',\n",
       " 'HDMI Cables',\n",
       " 'Men',\n",
       " 'Tablets',\n",
       " 'Medical Supplies & Equipment',\n",
       " 'Diabetes Care',\n",
       " 'Generators & Portable Power',\n",
       " 'Solar & Wind Power',\n",
       " 'Camera Cases',\n",
       " 'TV Accessories & Parts',\n",
       " 'TV Ceiling & Wall Mounts',\n",
       " 'Service & Replacement Plans',\n",
       " 'Daily Living Aids',\n",
       " 'Visual Impairment Aids',\n",
       " 'Big Button & Amplified Telephones',\n",
       " 'Team Sports',\n",
       " 'Basketball',\n",
       " 'Underwater Photography',\n",
       " 'Home & Kitchen',\n",
       " 'Kitchen & Dining',\n",
       " 'Dining & Entertaining',\n",
       " 'Connectors & Adapters',\n",
       " 'Skins & Decals',\n",
       " 'Professional Video Accessories',\n",
       " 'Microphones',\n",
       " 'Cord Management',\n",
       " 'Flashlights',\n",
       " 'Electronics & Gadgets',\n",
       " 'Solar Panels',\n",
       " 'Parts & Components',\n",
       " 'Bike Brakes & Parts',\n",
       " 'Brake Parts',\n",
       " 'Mounts & Adapters',\n",
       " 'Aviation Electronics',\n",
       " 'Aircraft Accessories',\n",
       " 'Archery',\n",
       " 'Bow Maintenance Accessories',\n",
       " 'Kisser Buttons',\n",
       " 'Binocular, Camera & Camcorder Straps',\n",
       " 'Speaker Parts & Components',\n",
       " 'Motorcycle Electronics',\n",
       " 'Motorcycle Bluetooth Headsets',\n",
       " 'Memory',\n",
       " 'Charger Kits',\n",
       " 'Hunting Optics',\n",
       " 'Spotting Scopes',\n",
       " 'Personal Protective Equipment',\n",
       " 'Input Devices',\n",
       " 'Digital Pens',\n",
       " 'All-New Kindle Fire HD Power Adapters',\n",
       " 'Kindle Fire HDX 8.9\" Power Adapters',\n",
       " 'Kindle Fire HDX Power Adapters',\n",
       " 'Kindle Paperwhite Power Adapters',\n",
       " 'Kindle Power Adapters',\n",
       " 'Jewelry: International Shipping Available',\n",
       " 'Watch Bands',\n",
       " 'Audio Car Mounts',\n",
       " 'Industrial & Scientific',\n",
       " 'Material Handling Products',\n",
       " 'Video',\n",
       " 'Camcorders',\n",
       " 'Sports & Action Video Cameras',\n",
       " 'Vehicle Mounts',\n",
       " 'Desktops',\n",
       " 'Network Adapters',\n",
       " 'PC Microphones',\n",
       " 'Data Storage',\n",
       " 'USB Flash Drives',\n",
       " 'Stereo Components',\n",
       " 'Speakers',\n",
       " 'Lenses',\n",
       " 'Camera Lenses',\n",
       " 'Tripods & Monopods',\n",
       " 'Complete Tripods',\n",
       " 'Tripod Heads',\n",
       " 'Computer Cases',\n",
       " 'Power Tool Accessories',\n",
       " 'Battery Packs & Chargers',\n",
       " 'Charger & Converters',\n",
       " 'Covers',\n",
       " 'Bluetooth Network Adapters',\n",
       " 'Digital Camera Lenses',\n",
       " 'Headphone Accessories',\n",
       " 'Amps',\n",
       " 'Kindle Fire Covers',\n",
       " 'Kindle Fire HD 7\" (Previous Generation) Covers',\n",
       " 'Kindle Fire HD 8.9\" Covers',\n",
       " 'Musical Instruments',\n",
       " 'Microphones & Accessories',\n",
       " 'Stationery & Party Supplies',\n",
       " 'Party Supplies',\n",
       " 'Favors',\n",
       " 'PlayStation Vita',\n",
       " 'Cables & Cords',\n",
       " 'Novelty & Gag Toys',\n",
       " 'PDAs & Handhelds',\n",
       " 'Office Electronics Accessories',\n",
       " 'Video Surveillance',\n",
       " 'Surveillance Cameras',\n",
       " 'Simulated Cameras',\n",
       " 'Electronics for Kids',\n",
       " 'RC Figures & Robots',\n",
       " 'Modems',\n",
       " 'Wireless Access Points',\n",
       " 'Styluses',\n",
       " 'GPS Trackers',\n",
       " 'Airsoft, Air Guns & Slingshots',\n",
       " 'Air Guns',\n",
       " 'Tripod Legs',\n",
       " 'Power Cables',\n",
       " 'DJ, Electronic Music & Karaoke',\n",
       " 'DJ Equipment',\n",
       " 'Mixers',\n",
       " 'Remote Controls',\n",
       " 'Lightning Cables',\n",
       " 'Vitamins & Dietary Supplements',\n",
       " 'Weight Loss',\n",
       " 'Supplements',\n",
       " 'Raspberry Ketones',\n",
       " 'Cameras',\n",
       " 'Car Dash Mounting Kits',\n",
       " 'Fitness Trackers',\n",
       " 'Heart Rate Monitors',\n",
       " 'Pedometers',\n",
       " 'Exercise & Fitness',\n",
       " 'Battery Packs',\n",
       " 'Audio',\n",
       " 'All-New Kindle Fire HD Audio',\n",
       " 'Kindle Fire Audio',\n",
       " 'Kindle Fire HD 7\" (Previous Generation) Audio',\n",
       " 'Kindle Fire HD 8.9\" Audio',\n",
       " 'Kindle Fire HDX 8.9\" Audio',\n",
       " 'Kindle Fire HDX Audio',\n",
       " 'Kindle Touch Audio',\n",
       " 'Invitations',\n",
       " 'Telescope & Microscope Accessories',\n",
       " 'Microscope Accessories',\n",
       " 'Storage & Organization',\n",
       " 'Wine Racks',\n",
       " 'Video Projectors',\n",
       " 'B',\n",
       " 'BCBGeneration',\n",
       " 'Wristlets',\n",
       " 'Live Sound & Stage',\n",
       " 'Power Amplifiers',\n",
       " 'Tactical & Duty',\n",
       " 'Personal Defense Equipment',\n",
       " 'Compact Stereos',\n",
       " 'Batteries & Chargers',\n",
       " 'Camera Batteries',\n",
       " 'Seiko Watches',\n",
       " 'Computer Cable Adapters',\n",
       " 'Earpads',\n",
       " 'Science Fiction & Fantasy',\n",
       " 'Arts, Crafts & Sewing',\n",
       " 'Craft Supplies',\n",
       " 'Leathercraft',\n",
       " 'Radios',\n",
       " 'VGA Cables',\n",
       " 'Digital Cameras',\n",
       " 'Mac',\n",
       " 'Pet Supplies',\n",
       " 'Pet Supplies: International Shipping Available',\n",
       " 'Tripods',\n",
       " 'Monopods',\n",
       " 'Lighting & Studio',\n",
       " 'Light Meters & Accessories',\n",
       " 'Light Meters',\n",
       " 'Mice',\n",
       " 'Kindle Fire HD 7\" (Previous Generation) Power Adapters',\n",
       " 'Kindle Fire HD 8.9\" Power Adapters',\n",
       " 'Hand & Arm Protection',\n",
       " 'Lab, Safety & Work Gloves',\n",
       " 'Safety Work Gloves',\n",
       " 'Baby Products',\n",
       " 'Nursery',\n",
       " 'Furniture',\n",
       " 'Changing Tables',\n",
       " 'Baby & Toddler Toys',\n",
       " 'Bags, Packs & Accessories',\n",
       " 'Wallets',\n",
       " 'Bundles',\n",
       " 'Girls',\n",
       " \"Kids' Watches\",\n",
       " 'Boys',\n",
       " 'Soccer',\n",
       " 'Picnic Baskets & Accessories',\n",
       " 'Picnic Backpacks',\n",
       " 'Cable Straps',\n",
       " 'Grocery & Gourmet Food',\n",
       " 'Snack Foods',\n",
       " 'Party Mix',\n",
       " 'Condenser Microphones',\n",
       " 'Multipurpose',\n",
       " 'Flash Accessories',\n",
       " 'Health Care',\n",
       " 'Personal Care',\n",
       " 'Activity, Health & Wellness Monitors',\n",
       " 'Cleaning & Repair',\n",
       " 'Novelty',\n",
       " 'Fashion Watches',\n",
       " 'Gear',\n",
       " 'Backpacks & Carriers',\n",
       " 'Office & School Supplies',\n",
       " 'Envelopes, Mailers & Shipping Supplies',\n",
       " 'Postal Scales',\n",
       " 'Mirrors',\n",
       " 'Safety',\n",
       " 'Harnesses & Leashes',\n",
       " 'Laptop & Messenger Bags',\n",
       " 'Laptop Bags',\n",
       " 'Luxury Watches',\n",
       " 'Rolex Watches',\n",
       " \"Women's Luxury Brands\",\n",
       " 'Shower Radios',\n",
       " \"Kids' Bikes & Accessories\",\n",
       " \"Kids' Protective Gear\",\n",
       " 'Beauty',\n",
       " 'Bath & Body',\n",
       " 'Sets',\n",
       " 'Desk Accessories & Workspace Organizers',\n",
       " 'Mouse Pads & Wrist Rests',\n",
       " 'Wrist Rests',\n",
       " 'Respiratory Aids & Accessories',\n",
       " 'Purse Making',\n",
       " 'Handlebars, Headsets & Stems',\n",
       " 'Backyard Birding & Wildlife',\n",
       " 'Butterflies',\n",
       " 'Bathing & Skin Care',\n",
       " 'Karaoke Equipment',\n",
       " 'Customizable Cases',\n",
       " 'Mouse Pads',\n",
       " 'Cutting Tools',\n",
       " 'Sharpening Tools',\n",
       " 'Photo Studio',\n",
       " 'Storage & Presentation Materials',\n",
       " 'Digital Picture Frames',\n",
       " 'External Hard Drives',\n",
       " 'Interior Accessories',\n",
       " 'Consoles & Organizers',\n",
       " 'Door & Seat Back Organizers',\n",
       " 'Collectible Watches',\n",
       " 'Television & Video',\n",
       " 'Strollers',\n",
       " \"Kids' Furniture\",\n",
       " 'Bookcases, Cabinets & Shelves']"
      ]
     },
     "execution_count": 29,
     "metadata": {},
     "output_type": "execute_result"
    }
   ],
   "source": [
    "my_data.column_names()"
   ]
  },
  {
   "cell_type": "code",
   "execution_count": 30,
   "metadata": {
    "collapsed": false
   },
   "outputs": [
    {
     "name": "stdout",
     "output_type": "stream",
     "text": [
      "Canvas is accessible via web browser at the URL: http://localhost:34979/index.html\n",
      "Opening Canvas in default web browser.\n"
     ]
    }
   ],
   "source": [
    "year=my_data['reviewTime']\n",
    "\n",
    "year.show()\n",
    "\n",
    "new_year=year.apply(lambda x: x.split()[0::2])\n",
    "\n",
    "new_year\n",
    "\n",
    "new_year=new_year.apply(lambda x: x[0]+' '+x[1])\n",
    "\n",
    "new_year\n",
    "\n",
    "new_year=graphlab.SFrame(new_year)\n",
    "\n",
    "new_year\n",
    "\n",
    "my_data['Month_Year']=new_year['X1']"
   ]
  },
  {
   "cell_type": "code",
   "execution_count": 31,
   "metadata": {
    "collapsed": true
   },
   "outputs": [],
   "source": [
    "my_data=my_data['asin','helpful','overall',\n",
    " 'reviewText',\n",
    "\n",
    " 'reviewerID',\n",
    "\n",
    " 'summary',\n",
    " 'unixReviewTime',\n",
    " 'brand',\n",
    " 'description',\n",
    " 'imUrl',\n",
    " 'price',\n",
    " 'salesRank',\n",
    " 'title',\n",
    " 'reviewTime'               \n",
    "]"
   ]
  },
  {
   "cell_type": "code",
   "execution_count": 32,
   "metadata": {
    "collapsed": false,
    "scrolled": false
   },
   "outputs": [
    {
     "data": {
      "text/html": [
       "<div style=\"max-height:1000px;max-width:1500px;overflow:auto;\"><table frame=\"box\" rules=\"cols\">\n",
       "    <tr>\n",
       "        <th style=\"padding-left: 1em; padding-right: 1em; text-align: center\">asin</th>\n",
       "        <th style=\"padding-left: 1em; padding-right: 1em; text-align: center\">helpful</th>\n",
       "        <th style=\"padding-left: 1em; padding-right: 1em; text-align: center\">overall</th>\n",
       "        <th style=\"padding-left: 1em; padding-right: 1em; text-align: center\">reviewText</th>\n",
       "        <th style=\"padding-left: 1em; padding-right: 1em; text-align: center\">reviewerID</th>\n",
       "        <th style=\"padding-left: 1em; padding-right: 1em; text-align: center\">summary</th>\n",
       "        <th style=\"padding-left: 1em; padding-right: 1em; text-align: center\">unixReviewTime</th>\n",
       "    </tr>\n",
       "    <tr>\n",
       "        <td style=\"padding-left: 1em; padding-right: 1em; text-align: center; vertical-align: top\">1466736038</td>\n",
       "        <td style=\"padding-left: 1em; padding-right: 1em; text-align: center; vertical-align: top\">[2, 2]</td>\n",
       "        <td style=\"padding-left: 1em; padding-right: 1em; text-align: center; vertical-align: top\">5.0</td>\n",
       "        <td style=\"padding-left: 1em; padding-right: 1em; text-align: center; vertical-align: top\">Product came exactly as<br>described and would ...</td>\n",
       "        <td style=\"padding-left: 1em; padding-right: 1em; text-align: center; vertical-align: top\">ACF628HTT7K73</td>\n",
       "        <td style=\"padding-left: 1em; padding-right: 1em; text-align: center; vertical-align: top\">Great</td>\n",
       "        <td style=\"padding-left: 1em; padding-right: 1em; text-align: center; vertical-align: top\">1394409600</td>\n",
       "    </tr>\n",
       "    <tr>\n",
       "        <td style=\"padding-left: 1em; padding-right: 1em; text-align: center; vertical-align: top\">1466736038</td>\n",
       "        <td style=\"padding-left: 1em; padding-right: 1em; text-align: center; vertical-align: top\">[0, 0]</td>\n",
       "        <td style=\"padding-left: 1em; padding-right: 1em; text-align: center; vertical-align: top\">5.0</td>\n",
       "        <td style=\"padding-left: 1em; padding-right: 1em; text-align: center; vertical-align: top\">First of all, I have a<br>Consumer Cellular plan ...</td>\n",
       "        <td style=\"padding-left: 1em; padding-right: 1em; text-align: center; vertical-align: top\">A2VJIXZ6L7WQLQ</td>\n",
       "        <td style=\"padding-left: 1em; padding-right: 1em; text-align: center; vertical-align: top\">Great phone at a<br>reasonable price ...</td>\n",
       "        <td style=\"padding-left: 1em; padding-right: 1em; text-align: center; vertical-align: top\">1398988800</td>\n",
       "    </tr>\n",
       "    <tr>\n",
       "        <td style=\"padding-left: 1em; padding-right: 1em; text-align: center; vertical-align: top\">1466736038</td>\n",
       "        <td style=\"padding-left: 1em; padding-right: 1em; text-align: center; vertical-align: top\">[1, 1]</td>\n",
       "        <td style=\"padding-left: 1em; padding-right: 1em; text-align: center; vertical-align: top\">5.0</td>\n",
       "        <td style=\"padding-left: 1em; padding-right: 1em; text-align: center; vertical-align: top\">I am very pleased with<br>the phone we received. ...</td>\n",
       "        <td style=\"padding-left: 1em; padding-right: 1em; text-align: center; vertical-align: top\">A1BTEONV9LZTSG</td>\n",
       "        <td style=\"padding-left: 1em; padding-right: 1em; text-align: center; vertical-align: top\">Excellent phone.</td>\n",
       "        <td style=\"padding-left: 1em; padding-right: 1em; text-align: center; vertical-align: top\">1395878400</td>\n",
       "    </tr>\n",
       "    <tr>\n",
       "        <td style=\"padding-left: 1em; padding-right: 1em; text-align: center; vertical-align: top\">1466736038</td>\n",
       "        <td style=\"padding-left: 1em; padding-right: 1em; text-align: center; vertical-align: top\">[0, 0]</td>\n",
       "        <td style=\"padding-left: 1em; padding-right: 1em; text-align: center; vertical-align: top\">5.0</td>\n",
       "        <td style=\"padding-left: 1em; padding-right: 1em; text-align: center; vertical-align: top\">The Samsung Galazy S3 is<br>one of the best phones ...</td>\n",
       "        <td style=\"padding-left: 1em; padding-right: 1em; text-align: center; vertical-align: top\">A3D84T6HETBCKY</td>\n",
       "        <td style=\"padding-left: 1em; padding-right: 1em; text-align: center; vertical-align: top\">As described and a great<br>phone ...</td>\n",
       "        <td style=\"padding-left: 1em; padding-right: 1em; text-align: center; vertical-align: top\">1396483200</td>\n",
       "    </tr>\n",
       "    <tr>\n",
       "        <td style=\"padding-left: 1em; padding-right: 1em; text-align: center; vertical-align: top\">1621911888</td>\n",
       "        <td style=\"padding-left: 1em; padding-right: 1em; text-align: center; vertical-align: top\">[0, 0]</td>\n",
       "        <td style=\"padding-left: 1em; padding-right: 1em; text-align: center; vertical-align: top\">1.0</td>\n",
       "        <td style=\"padding-left: 1em; padding-right: 1em; text-align: center; vertical-align: top\">The worst phone I've ever<br>bought. It's ...</td>\n",
       "        <td style=\"padding-left: 1em; padding-right: 1em; text-align: center; vertical-align: top\">A3DGN1GU561RZQ</td>\n",
       "        <td style=\"padding-left: 1em; padding-right: 1em; text-align: center; vertical-align: top\">Crap phone.</td>\n",
       "        <td style=\"padding-left: 1em; padding-right: 1em; text-align: center; vertical-align: top\">1403308800</td>\n",
       "    </tr>\n",
       "    <tr>\n",
       "        <td style=\"padding-left: 1em; padding-right: 1em; text-align: center; vertical-align: top\">1621911888</td>\n",
       "        <td style=\"padding-left: 1em; padding-right: 1em; text-align: center; vertical-align: top\">[0, 0]</td>\n",
       "        <td style=\"padding-left: 1em; padding-right: 1em; text-align: center; vertical-align: top\">1.0</td>\n",
       "        <td style=\"padding-left: 1em; padding-right: 1em; text-align: center; vertical-align: top\">It actually is a 2.3<br>Ginger Bread platform. ...</td>\n",
       "        <td style=\"padding-left: 1em; padding-right: 1em; text-align: center; vertical-align: top\">A1O9GEMIUKBPOI</td>\n",
       "        <td style=\"padding-left: 1em; padding-right: 1em; text-align: center; vertical-align: top\">Don't buy this phone</td>\n",
       "        <td style=\"padding-left: 1em; padding-right: 1em; text-align: center; vertical-align: top\">1398556800</td>\n",
       "    </tr>\n",
       "    <tr>\n",
       "        <td style=\"padding-left: 1em; padding-right: 1em; text-align: center; vertical-align: top\">1621911888</td>\n",
       "        <td style=\"padding-left: 1em; padding-right: 1em; text-align: center; vertical-align: top\">[0, 0]</td>\n",
       "        <td style=\"padding-left: 1em; padding-right: 1em; text-align: center; vertical-align: top\">5.0</td>\n",
       "        <td style=\"padding-left: 1em; padding-right: 1em; text-align: center; vertical-align: top\">good basic phone. go and<br>see many on line revi ...</td>\n",
       "        <td style=\"padding-left: 1em; padding-right: 1em; text-align: center; vertical-align: top\">AK55NSPES0MAW</td>\n",
       "        <td style=\"padding-left: 1em; padding-right: 1em; text-align: center; vertical-align: top\">good phone</td>\n",
       "        <td style=\"padding-left: 1em; padding-right: 1em; text-align: center; vertical-align: top\">1368057600</td>\n",
       "    </tr>\n",
       "    <tr>\n",
       "        <td style=\"padding-left: 1em; padding-right: 1em; text-align: center; vertical-align: top\">9043435856</td>\n",
       "        <td style=\"padding-left: 1em; padding-right: 1em; text-align: center; vertical-align: top\">[0, 0]</td>\n",
       "        <td style=\"padding-left: 1em; padding-right: 1em; text-align: center; vertical-align: top\">5.0</td>\n",
       "        <td style=\"padding-left: 1em; padding-right: 1em; text-align: center; vertical-align: top\">Quick delivery, phone is<br>great.  Exactly what I ...</td>\n",
       "        <td style=\"padding-left: 1em; padding-right: 1em; text-align: center; vertical-align: top\">A1PZOQBJFPPW9I</td>\n",
       "        <td style=\"padding-left: 1em; padding-right: 1em; text-align: center; vertical-align: top\">Great phone</td>\n",
       "        <td style=\"padding-left: 1em; padding-right: 1em; text-align: center; vertical-align: top\">1326326400</td>\n",
       "    </tr>\n",
       "    <tr>\n",
       "        <td style=\"padding-left: 1em; padding-right: 1em; text-align: center; vertical-align: top\">9043435856</td>\n",
       "        <td style=\"padding-left: 1em; padding-right: 1em; text-align: center; vertical-align: top\">[0, 0]</td>\n",
       "        <td style=\"padding-left: 1em; padding-right: 1em; text-align: center; vertical-align: top\">1.0</td>\n",
       "        <td style=\"padding-left: 1em; padding-right: 1em; text-align: center; vertical-align: top\">Once I received the<br>product in the mail I ...</td>\n",
       "        <td style=\"padding-left: 1em; padding-right: 1em; text-align: center; vertical-align: top\">A1OQ9J9JKXOC2G</td>\n",
       "        <td style=\"padding-left: 1em; padding-right: 1em; text-align: center; vertical-align: top\">Aggravated Mistake!!</td>\n",
       "        <td style=\"padding-left: 1em; padding-right: 1em; text-align: center; vertical-align: top\">1393027200</td>\n",
       "    </tr>\n",
       "    <tr>\n",
       "        <td style=\"padding-left: 1em; padding-right: 1em; text-align: center; vertical-align: top\">9043435856</td>\n",
       "        <td style=\"padding-left: 1em; padding-right: 1em; text-align: center; vertical-align: top\">[0, 2]</td>\n",
       "        <td style=\"padding-left: 1em; padding-right: 1em; text-align: center; vertical-align: top\">3.0</td>\n",
       "        <td style=\"padding-left: 1em; padding-right: 1em; text-align: center; vertical-align: top\">I would like to have or<br>to see the reall case ...</td>\n",
       "        <td style=\"padding-left: 1em; padding-right: 1em; text-align: center; vertical-align: top\">A3GZ9I0DWK335B</td>\n",
       "        <td style=\"padding-left: 1em; padding-right: 1em; text-align: center; vertical-align: top\">I would like more<br>information about the ...</td>\n",
       "        <td style=\"padding-left: 1em; padding-right: 1em; text-align: center; vertical-align: top\">1332720000</td>\n",
       "    </tr>\n",
       "</table>\n",
       "<table frame=\"box\" rules=\"cols\">\n",
       "    <tr>\n",
       "        <th style=\"padding-left: 1em; padding-right: 1em; text-align: center\">brand</th>\n",
       "        <th style=\"padding-left: 1em; padding-right: 1em; text-align: center\">description</th>\n",
       "        <th style=\"padding-left: 1em; padding-right: 1em; text-align: center\">imUrl</th>\n",
       "        <th style=\"padding-left: 1em; padding-right: 1em; text-align: center\">price</th>\n",
       "        <th style=\"padding-left: 1em; padding-right: 1em; text-align: center\">salesRank</th>\n",
       "    </tr>\n",
       "    <tr>\n",
       "        <td style=\"padding-left: 1em; padding-right: 1em; text-align: center; vertical-align: top\"></td>\n",
       "        <td style=\"padding-left: 1em; padding-right: 1em; text-align: center; vertical-align: top\">Brand New Unlocked<br>Camera: 8 MP, 3264x2448 ...</td>\n",
       "        <td style=\"padding-left: 1em; padding-right: 1em; text-align: center; vertical-align: top\">http://ecx.images-amazon.<br>com/images/I/51hAD8gs ...</td>\n",
       "        <td style=\"padding-left: 1em; padding-right: 1em; text-align: center; vertical-align: top\">284.49</td>\n",
       "        <td style=\"padding-left: 1em; padding-right: 1em; text-align: center; vertical-align: top\">{'Cell Phones &amp;<br>Accessories': 56138} ...</td>\n",
       "    </tr>\n",
       "    <tr>\n",
       "        <td style=\"padding-left: 1em; padding-right: 1em; text-align: center; vertical-align: top\"></td>\n",
       "        <td style=\"padding-left: 1em; padding-right: 1em; text-align: center; vertical-align: top\">Brand New Unlocked<br>Camera: 8 MP, 3264x2448 ...</td>\n",
       "        <td style=\"padding-left: 1em; padding-right: 1em; text-align: center; vertical-align: top\">http://ecx.images-amazon.<br>com/images/I/51hAD8gs ...</td>\n",
       "        <td style=\"padding-left: 1em; padding-right: 1em; text-align: center; vertical-align: top\">284.49</td>\n",
       "        <td style=\"padding-left: 1em; padding-right: 1em; text-align: center; vertical-align: top\">{'Cell Phones &amp;<br>Accessories': 56138} ...</td>\n",
       "    </tr>\n",
       "    <tr>\n",
       "        <td style=\"padding-left: 1em; padding-right: 1em; text-align: center; vertical-align: top\"></td>\n",
       "        <td style=\"padding-left: 1em; padding-right: 1em; text-align: center; vertical-align: top\">Brand New Unlocked<br>Camera: 8 MP, 3264x2448 ...</td>\n",
       "        <td style=\"padding-left: 1em; padding-right: 1em; text-align: center; vertical-align: top\">http://ecx.images-amazon.<br>com/images/I/51hAD8gs ...</td>\n",
       "        <td style=\"padding-left: 1em; padding-right: 1em; text-align: center; vertical-align: top\">284.49</td>\n",
       "        <td style=\"padding-left: 1em; padding-right: 1em; text-align: center; vertical-align: top\">{'Cell Phones &amp;<br>Accessories': 56138} ...</td>\n",
       "    </tr>\n",
       "    <tr>\n",
       "        <td style=\"padding-left: 1em; padding-right: 1em; text-align: center; vertical-align: top\"></td>\n",
       "        <td style=\"padding-left: 1em; padding-right: 1em; text-align: center; vertical-align: top\">Brand New Unlocked<br>Camera: 8 MP, 3264x2448 ...</td>\n",
       "        <td style=\"padding-left: 1em; padding-right: 1em; text-align: center; vertical-align: top\">http://ecx.images-amazon.<br>com/images/I/51hAD8gs ...</td>\n",
       "        <td style=\"padding-left: 1em; padding-right: 1em; text-align: center; vertical-align: top\">284.49</td>\n",
       "        <td style=\"padding-left: 1em; padding-right: 1em; text-align: center; vertical-align: top\">{'Cell Phones &amp;<br>Accessories': 56138} ...</td>\n",
       "    </tr>\n",
       "    <tr>\n",
       "        <td style=\"padding-left: 1em; padding-right: 1em; text-align: center; vertical-align: top\">None</td>\n",
       "        <td style=\"padding-left: 1em; padding-right: 1em; text-align: center; vertical-align: top\">The Samsung Galaxy S<br>Advance I9070 offers its ...</td>\n",
       "        <td style=\"padding-left: 1em; padding-right: 1em; text-align: center; vertical-align: top\">http://ecx.images-amazon.<br>com/images/I/41oafU78 ...</td>\n",
       "        <td style=\"padding-left: 1em; padding-right: 1em; text-align: center; vertical-align: top\">239.99</td>\n",
       "        <td style=\"padding-left: 1em; padding-right: 1em; text-align: center; vertical-align: top\">{'Cell Phones &amp;<br>Accessories': 209436} ...</td>\n",
       "    </tr>\n",
       "    <tr>\n",
       "        <td style=\"padding-left: 1em; padding-right: 1em; text-align: center; vertical-align: top\">None</td>\n",
       "        <td style=\"padding-left: 1em; padding-right: 1em; text-align: center; vertical-align: top\">The Samsung Galaxy S<br>Advance I9070 offers its ...</td>\n",
       "        <td style=\"padding-left: 1em; padding-right: 1em; text-align: center; vertical-align: top\">http://ecx.images-amazon.<br>com/images/I/41oafU78 ...</td>\n",
       "        <td style=\"padding-left: 1em; padding-right: 1em; text-align: center; vertical-align: top\">239.99</td>\n",
       "        <td style=\"padding-left: 1em; padding-right: 1em; text-align: center; vertical-align: top\">{'Cell Phones &amp;<br>Accessories': 209436} ...</td>\n",
       "    </tr>\n",
       "    <tr>\n",
       "        <td style=\"padding-left: 1em; padding-right: 1em; text-align: center; vertical-align: top\">None</td>\n",
       "        <td style=\"padding-left: 1em; padding-right: 1em; text-align: center; vertical-align: top\">The Samsung Galaxy S<br>Advance I9070 offers its ...</td>\n",
       "        <td style=\"padding-left: 1em; padding-right: 1em; text-align: center; vertical-align: top\">http://ecx.images-amazon.<br>com/images/I/41oafU78 ...</td>\n",
       "        <td style=\"padding-left: 1em; padding-right: 1em; text-align: center; vertical-align: top\">239.99</td>\n",
       "        <td style=\"padding-left: 1em; padding-right: 1em; text-align: center; vertical-align: top\">{'Cell Phones &amp;<br>Accessories': 209436} ...</td>\n",
       "    </tr>\n",
       "    <tr>\n",
       "        <td style=\"padding-left: 1em; padding-right: 1em; text-align: center; vertical-align: top\">None</td>\n",
       "        <td style=\"padding-left: 1em; padding-right: 1em; text-align: center; vertical-align: top\">Exclusive to T-Mobile,<br>the quad-band T-Mobile ...</td>\n",
       "        <td style=\"padding-left: 1em; padding-right: 1em; text-align: center; vertical-align: top\">http://ecx.images-amazon.<br>com/images/I/41%2B2y5 ...</td>\n",
       "        <td style=\"padding-left: 1em; padding-right: 1em; text-align: center; vertical-align: top\">68.49</td>\n",
       "        <td style=\"padding-left: 1em; padding-right: 1em; text-align: center; vertical-align: top\">{'Cell Phones &amp;<br>Accessories': 89187} ...</td>\n",
       "    </tr>\n",
       "    <tr>\n",
       "        <td style=\"padding-left: 1em; padding-right: 1em; text-align: center; vertical-align: top\">None</td>\n",
       "        <td style=\"padding-left: 1em; padding-right: 1em; text-align: center; vertical-align: top\">Exclusive to T-Mobile,<br>the quad-band T-Mobile ...</td>\n",
       "        <td style=\"padding-left: 1em; padding-right: 1em; text-align: center; vertical-align: top\">http://ecx.images-amazon.<br>com/images/I/41%2B2y5 ...</td>\n",
       "        <td style=\"padding-left: 1em; padding-right: 1em; text-align: center; vertical-align: top\">68.49</td>\n",
       "        <td style=\"padding-left: 1em; padding-right: 1em; text-align: center; vertical-align: top\">{'Cell Phones &amp;<br>Accessories': 89187} ...</td>\n",
       "    </tr>\n",
       "    <tr>\n",
       "        <td style=\"padding-left: 1em; padding-right: 1em; text-align: center; vertical-align: top\">None</td>\n",
       "        <td style=\"padding-left: 1em; padding-right: 1em; text-align: center; vertical-align: top\">Exclusive to T-Mobile,<br>the quad-band T-Mobile ...</td>\n",
       "        <td style=\"padding-left: 1em; padding-right: 1em; text-align: center; vertical-align: top\">http://ecx.images-amazon.<br>com/images/I/41%2B2y5 ...</td>\n",
       "        <td style=\"padding-left: 1em; padding-right: 1em; text-align: center; vertical-align: top\">68.49</td>\n",
       "        <td style=\"padding-left: 1em; padding-right: 1em; text-align: center; vertical-align: top\">{'Cell Phones &amp;<br>Accessories': 89187} ...</td>\n",
       "    </tr>\n",
       "</table>\n",
       "<table frame=\"box\" rules=\"cols\">\n",
       "    <tr>\n",
       "        <th style=\"padding-left: 1em; padding-right: 1em; text-align: center\">title</th>\n",
       "        <th style=\"padding-left: 1em; padding-right: 1em; text-align: center\">reviewTime</th>\n",
       "    </tr>\n",
       "    <tr>\n",
       "        <td style=\"padding-left: 1em; padding-right: 1em; text-align: center; vertical-align: top\">Samsung Galaxy S III I747<br>New Unlocked 16GB - Blue ...</td>\n",
       "        <td style=\"padding-left: 1em; padding-right: 1em; text-align: center; vertical-align: top\">03 10, 2014</td>\n",
       "    </tr>\n",
       "    <tr>\n",
       "        <td style=\"padding-left: 1em; padding-right: 1em; text-align: center; vertical-align: top\">Samsung Galaxy S III I747<br>New Unlocked 16GB - Blue ...</td>\n",
       "        <td style=\"padding-left: 1em; padding-right: 1em; text-align: center; vertical-align: top\">05 2, 2014</td>\n",
       "    </tr>\n",
       "    <tr>\n",
       "        <td style=\"padding-left: 1em; padding-right: 1em; text-align: center; vertical-align: top\">Samsung Galaxy S III I747<br>New Unlocked 16GB - Blue ...</td>\n",
       "        <td style=\"padding-left: 1em; padding-right: 1em; text-align: center; vertical-align: top\">03 27, 2014</td>\n",
       "    </tr>\n",
       "    <tr>\n",
       "        <td style=\"padding-left: 1em; padding-right: 1em; text-align: center; vertical-align: top\">Samsung Galaxy S III I747<br>New Unlocked 16GB - Blue ...</td>\n",
       "        <td style=\"padding-left: 1em; padding-right: 1em; text-align: center; vertical-align: top\">04 3, 2014</td>\n",
       "    </tr>\n",
       "    <tr>\n",
       "        <td style=\"padding-left: 1em; padding-right: 1em; text-align: center; vertical-align: top\">Samsung Galaxy S Advance<br>I9070 8Gb White WiFi ...</td>\n",
       "        <td style=\"padding-left: 1em; padding-right: 1em; text-align: center; vertical-align: top\">06 21, 2014</td>\n",
       "    </tr>\n",
       "    <tr>\n",
       "        <td style=\"padding-left: 1em; padding-right: 1em; text-align: center; vertical-align: top\">Samsung Galaxy S Advance<br>I9070 8Gb White WiFi ...</td>\n",
       "        <td style=\"padding-left: 1em; padding-right: 1em; text-align: center; vertical-align: top\">04 27, 2014</td>\n",
       "    </tr>\n",
       "    <tr>\n",
       "        <td style=\"padding-left: 1em; padding-right: 1em; text-align: center; vertical-align: top\">Samsung Galaxy S Advance<br>I9070 8Gb White WiFi ...</td>\n",
       "        <td style=\"padding-left: 1em; padding-right: 1em; text-align: center; vertical-align: top\">05 9, 2013</td>\n",
       "    </tr>\n",
       "    <tr>\n",
       "        <td style=\"padding-left: 1em; padding-right: 1em; text-align: center; vertical-align: top\">HTC Dash / S620 / S621<br>(Excalibur) Black Win ...</td>\n",
       "        <td style=\"padding-left: 1em; padding-right: 1em; text-align: center; vertical-align: top\">01 12, 2012</td>\n",
       "    </tr>\n",
       "    <tr>\n",
       "        <td style=\"padding-left: 1em; padding-right: 1em; text-align: center; vertical-align: top\">HTC Dash / S620 / S621<br>(Excalibur) Black Win ...</td>\n",
       "        <td style=\"padding-left: 1em; padding-right: 1em; text-align: center; vertical-align: top\">02 22, 2014</td>\n",
       "    </tr>\n",
       "    <tr>\n",
       "        <td style=\"padding-left: 1em; padding-right: 1em; text-align: center; vertical-align: top\">HTC Dash / S620 / S621<br>(Excalibur) Black Win ...</td>\n",
       "        <td style=\"padding-left: 1em; padding-right: 1em; text-align: center; vertical-align: top\">03 26, 2012</td>\n",
       "    </tr>\n",
       "</table>\n",
       "[351306 rows x 14 columns]<br/>Note: Only the head of the SFrame is printed.<br/>You can use print_rows(num_rows=m, num_columns=n) to print more rows and columns.\n",
       "</div>"
      ],
      "text/plain": [
       "Columns:\n",
       "\tasin\tstr\n",
       "\thelpful\tlist\n",
       "\toverall\tfloat\n",
       "\treviewText\tstr\n",
       "\treviewerID\tstr\n",
       "\tsummary\tstr\n",
       "\tunixReviewTime\tint\n",
       "\tbrand\tstr\n",
       "\tdescription\tstr\n",
       "\timUrl\tstr\n",
       "\tprice\tfloat\n",
       "\tsalesRank\tdict\n",
       "\ttitle\tstr\n",
       "\treviewTime\tstr\n",
       "\n",
       "Rows: 351306\n",
       "\n",
       "Data:\n",
       "+------------+---------+---------+-------------------------------+\n",
       "|    asin    | helpful | overall |           reviewText          |\n",
       "+------------+---------+---------+-------------------------------+\n",
       "| 1466736038 |  [2, 2] |   5.0   | Product came exactly as de... |\n",
       "| 1466736038 |  [0, 0] |   5.0   | First of all, I have a Con... |\n",
       "| 1466736038 |  [1, 1] |   5.0   | I am very pleased with the... |\n",
       "| 1466736038 |  [0, 0] |   5.0   | The Samsung Galazy S3 is o... |\n",
       "| 1621911888 |  [0, 0] |   1.0   | The worst phone I've ever ... |\n",
       "| 1621911888 |  [0, 0] |   1.0   | It actually is a 2.3 Ginge... |\n",
       "| 1621911888 |  [0, 0] |   5.0   | good basic phone. go and s... |\n",
       "| 9043435856 |  [0, 0] |   5.0   | Quick delivery, phone is g... |\n",
       "| 9043435856 |  [0, 0] |   1.0   | Once I received the produc... |\n",
       "| 9043435856 |  [0, 2] |   3.0   | I would like to have or to... |\n",
       "+------------+---------+---------+-------------------------------+\n",
       "+----------------+--------------------------------+----------------+-------+\n",
       "|   reviewerID   |            summary             | unixReviewTime | brand |\n",
       "+----------------+--------------------------------+----------------+-------+\n",
       "| ACF628HTT7K73  |             Great              |   1394409600   |       |\n",
       "| A2VJIXZ6L7WQLQ | Great phone at a reasonabl...  |   1398988800   |       |\n",
       "| A1BTEONV9LZTSG |        Excellent phone.        |   1395878400   |       |\n",
       "| A3D84T6HETBCKY | As described and a great phone |   1396483200   |       |\n",
       "| A3DGN1GU561RZQ |          Crap phone.           |   1403308800   |  None |\n",
       "| A1O9GEMIUKBPOI |      Don't buy this phone      |   1398556800   |  None |\n",
       "| AK55NSPES0MAW  |           good phone           |   1368057600   |  None |\n",
       "| A1PZOQBJFPPW9I |          Great phone           |   1326326400   |  None |\n",
       "| A1OQ9J9JKXOC2G |      Aggravated Mistake!!      |   1393027200   |  None |\n",
       "| A3GZ9I0DWK335B | I would like more informat...  |   1332720000   |  None |\n",
       "+----------------+--------------------------------+----------------+-------+\n",
       "+-------------------------------+-------------------------------+--------+\n",
       "|          description          |             imUrl             | price  |\n",
       "+-------------------------------+-------------------------------+--------+\n",
       "| Brand New Unlocked Camera:... | http://ecx.images-amazon.c... | 284.49 |\n",
       "| Brand New Unlocked Camera:... | http://ecx.images-amazon.c... | 284.49 |\n",
       "| Brand New Unlocked Camera:... | http://ecx.images-amazon.c... | 284.49 |\n",
       "| Brand New Unlocked Camera:... | http://ecx.images-amazon.c... | 284.49 |\n",
       "| The Samsung Galaxy S Advan... | http://ecx.images-amazon.c... | 239.99 |\n",
       "| The Samsung Galaxy S Advan... | http://ecx.images-amazon.c... | 239.99 |\n",
       "| The Samsung Galaxy S Advan... | http://ecx.images-amazon.c... | 239.99 |\n",
       "| Exclusive to T-Mobile, the... | http://ecx.images-amazon.c... | 68.49  |\n",
       "| Exclusive to T-Mobile, the... | http://ecx.images-amazon.c... | 68.49  |\n",
       "| Exclusive to T-Mobile, the... | http://ecx.images-amazon.c... | 68.49  |\n",
       "+-------------------------------+-------------------------------+--------+\n",
       "+-------------------------------+-------------------------------+-------------+\n",
       "|           salesRank           |             title             |  reviewTime |\n",
       "+-------------------------------+-------------------------------+-------------+\n",
       "| {'Cell Phones & Accessorie... | Samsung Galaxy S III I747 ... | 03 10, 2014 |\n",
       "| {'Cell Phones & Accessorie... | Samsung Galaxy S III I747 ... |  05 2, 2014 |\n",
       "| {'Cell Phones & Accessorie... | Samsung Galaxy S III I747 ... | 03 27, 2014 |\n",
       "| {'Cell Phones & Accessorie... | Samsung Galaxy S III I747 ... |  04 3, 2014 |\n",
       "| {'Cell Phones & Accessorie... | Samsung Galaxy S Advance I... | 06 21, 2014 |\n",
       "| {'Cell Phones & Accessorie... | Samsung Galaxy S Advance I... | 04 27, 2014 |\n",
       "| {'Cell Phones & Accessorie... | Samsung Galaxy S Advance I... |  05 9, 2013 |\n",
       "| {'Cell Phones & Accessorie... | HTC Dash / S620 / S621 (Ex... | 01 12, 2012 |\n",
       "| {'Cell Phones & Accessorie... | HTC Dash / S620 / S621 (Ex... | 02 22, 2014 |\n",
       "| {'Cell Phones & Accessorie... | HTC Dash / S620 / S621 (Ex... | 03 26, 2012 |\n",
       "+-------------------------------+-------------------------------+-------------+\n",
       "[351306 rows x 14 columns]\n",
       "Note: Only the head of the SFrame is printed.\n",
       "You can use print_rows(num_rows=m, num_columns=n) to print more rows and columns."
      ]
     },
     "execution_count": 32,
     "metadata": {},
     "output_type": "execute_result"
    }
   ],
   "source": [
    "my_data"
   ]
  },
  {
   "cell_type": "code",
   "execution_count": null,
   "metadata": {
    "collapsed": false
   },
   "outputs": [],
   "source": [
    "my_data.show()"
   ]
  },
  {
   "cell_type": "code",
   "execution_count": 33,
   "metadata": {
    "collapsed": true
   },
   "outputs": [],
   "source": [
    "temp_title=my_data['title']"
   ]
  },
  {
   "cell_type": "code",
   "execution_count": 34,
   "metadata": {
    "collapsed": false,
    "scrolled": true
   },
   "outputs": [
    {
     "data": {
      "text/plain": [
       "dtype: str\n",
       "Rows: 351306\n",
       "['Samsung Galaxy S III I747 New Unlocked 16GB - Blue', 'Samsung Galaxy S III I747 New Unlocked 16GB - Blue', 'Samsung Galaxy S III I747 New Unlocked 16GB - Blue', 'Samsung Galaxy S III I747 New Unlocked 16GB - Blue', 'Samsung Galaxy S Advance I9070 8Gb White WiFi Android 3G Cell Phone', 'Samsung Galaxy S Advance I9070 8Gb White WiFi Android 3G Cell Phone', 'Samsung Galaxy S Advance I9070 8Gb White WiFi Android 3G Cell Phone', 'HTC Dash / S620 / S621 (Excalibur) Black Windows WI-FI Smartphone GSM Unlocked T-mobile Cell Phone', 'HTC Dash / S620 / S621 (Excalibur) Black Windows WI-FI Smartphone GSM Unlocked T-mobile Cell Phone', 'HTC Dash / S620 / S621 (Excalibur) Black Windows WI-FI Smartphone GSM Unlocked T-mobile Cell Phone', 'HTC Dash / S620 / S621 (Excalibur) Black Windows WI-FI Smartphone GSM Unlocked T-mobile Cell Phone', 'HTC Dash / S620 / S621 (Excalibur) Black Windows WI-FI Smartphone GSM Unlocked T-mobile Cell Phone', 'HTC Dash / S620 / S621 (Excalibur) Black Windows WI-FI Smartphone GSM Unlocked T-mobile Cell Phone', 'HTC Dash / S620 / S621 (Excalibur) Black Windows WI-FI Smartphone GSM Unlocked T-mobile Cell Phone', 'HTC Dash / S620 / S621 (Excalibur) Black Windows WI-FI Smartphone GSM Unlocked T-mobile Cell Phone', 'HTC Dash / S620 / S621 (Excalibur) Black Windows WI-FI Smartphone GSM Unlocked T-mobile Cell Phone', 'HTC Dash / S620 / S621 (Excalibur) Black Windows WI-FI Smartphone GSM Unlocked T-mobile Cell Phone', 'HTC Dash / S620 / S621 (Excalibur) Black Windows WI-FI Smartphone GSM Unlocked T-mobile Cell Phone', 'HTC Dash / S620 / S621 (Excalibur) Black Windows WI-FI Smartphone GSM Unlocked T-mobile Cell Phone', 'HTC Dash / S620 / S621 (Excalibur) Black Windows WI-FI Smartphone GSM Unlocked T-mobile Cell Phone', 'Nokia 5180i TracFone Prepaid Cell Phone with 10 FREE MINUTES', 'Nokia 5180i TracFone Prepaid Cell Phone with 10 FREE MINUTES', 'Nokia 5180i TracFone Prepaid Cell Phone with 10 FREE MINUTES', 'Nokia 5180i TracFone Prepaid Cell Phone with 10 FREE MINUTES', 'Nokia 5180i TracFone Prepaid Cell Phone with 10 FREE MINUTES', 'Nokia 5180i TracFone Prepaid Cell Phone with 10 FREE MINUTES', 'Nokia 5180i TracFone Prepaid Cell Phone with 10 FREE MINUTES', 'Nokia 5180i TracFone Prepaid Cell Phone with 10 FREE MINUTES', 'Nokia 5180i TracFone Prepaid Cell Phone with 10 FREE MINUTES', 'Nokia 5180i TracFone Prepaid Cell Phone with 10 FREE MINUTES', 'Nokia 5180i TracFone Prepaid Cell Phone with 10 FREE MINUTES', 'Nokia 5180i TracFone Prepaid Cell Phone with 10 FREE MINUTES', 'Nokia 5180i TracFone Prepaid Cell Phone with 10 FREE MINUTES', 'Nokia 5180i TracFone Prepaid Cell Phone with 10 FREE MINUTES', 'Nokia 5180i TracFone Prepaid Cell Phone with 10 FREE MINUTES', 'Nokia 5180i TracFone Prepaid Cell Phone with 10 FREE MINUTES', 'Nokia 5180i TracFone Prepaid Cell Phone with 10 FREE MINUTES', 'Nokia 5180i TracFone Prepaid Cell Phone with 10 FREE MINUTES', 'Nokia 5180i TracFone Prepaid Cell Phone with 10 FREE MINUTES', 'Motorola i95cl Phone (Nextel)', 'Motorola i95cl Phone (Nextel)', 'Motorola i95cl Phone (Nextel)', 'Motorola i95cl Phone (Nextel)', 'Motorola i95cl Phone (Nextel)', 'Motorola i95cl Phone (Nextel)', 'Motorola i95cl Phone (Nextel)', 'Motorola i95cl Phone (Nextel)', 'Motorola i95cl Phone (Nextel)', 'Motorola i95cl Phone (Nextel)', 'Motorola i95cl Phone (Nextel)', 'Motorola i95cl Phone (Nextel)', 'T-Mobile Dual-Band Wireless Phone', 'T-Mobile Dual-Band Wireless Phone', 'T-Mobile Dual-Band Wireless Phone', 'T-Mobile Dual-Band Wireless Phone', 'T-Mobile Dual-Band Wireless Phone', 'T-Mobile Dual-Band Wireless Phone', 'T-Mobile Dual-Band Wireless Phone', 'T-Mobile Dual-Band Wireless Phone', 'T-Mobile Dual-Band Wireless Phone', 'T-Mobile Dual-Band Wireless Phone', 'T-Mobile Dual-Band Wireless Phone', 'T-Mobile Dual-Band Wireless Phone', 'T-Mobile Dual-Band Wireless Phone', 'T-Mobile Dual-Band Wireless Phone', 'T-Mobile Dual-Band Wireless Phone', 'T-Mobile Dual-Band Wireless Phone', 'T-Mobile Dual-Band Wireless Phone', 'T-Mobile Dual-Band Wireless Phone', 'T-Mobile Dual-Band Wireless Phone', 'T-Mobile Dual-Band Wireless Phone', 'T-Mobile Dual-Band Wireless Phone', 'T-Mobile Dual-Band Wireless Phone', 'T-Mobile Dual-Band Wireless Phone', 'T-Mobile Dual-Band Wireless Phone', 'T-Mobile Dual-Band Wireless Phone', 'T-Mobile Dual-Band Wireless Phone', 'T-Mobile Dual-Band Wireless Phone', 'T-Mobile Dual-Band Wireless Phone', 'T-Mobile Dual-Band Wireless Phone', 'T-Mobile Dual-Band Wireless Phone', 'T-Mobile Dual-Band Wireless Phone', 'T-Mobile Dual-Band Wireless Phone', 'Motorola V66 Phone (T-Mobile)', 'Motorola V66 Phone (T-Mobile)', 'Motorola V66 Phone (T-Mobile)', 'Motorola V66 Phone (T-Mobile)', 'Motorola V66 Phone (T-Mobile)', 'Motorola V66 Phone (T-Mobile)', 'Motorola V66 Phone (T-Mobile)', 'Motorola V66 Phone (T-Mobile)', 'Motorola V66 Phone (T-Mobile)', 'Motorola V66 Phone (T-Mobile)', 'Motorola V66 Phone (T-Mobile)', 'Motorola V66 Phone (T-Mobile)', 'Motorola V66 Phone (T-Mobile)', 'Motorola V66 Phone (T-Mobile)', 'Motorola V66 Phone (T-Mobile)', 'Motorola V66 Phone (T-Mobile)', 'Motorola V66 Phone (T-Mobile)', ... ]"
      ]
     },
     "execution_count": 34,
     "metadata": {},
     "output_type": "execute_result"
    }
   ],
   "source": [
    "temp_title"
   ]
  },
  {
   "cell_type": "code",
   "execution_count": null,
   "metadata": {
    "collapsed": false
   },
   "outputs": [],
   "source": [
    "temp_title.show()"
   ]
  },
  {
   "cell_type": "code",
   "execution_count": 35,
   "metadata": {
    "collapsed": true
   },
   "outputs": [],
   "source": [
    "title_brand=temp_title.apply(lambda x:'NotAvailable' if x=='' else x)"
   ]
  },
  {
   "cell_type": "code",
   "execution_count": 36,
   "metadata": {
    "collapsed": false
   },
   "outputs": [
    {
     "name": "stdout",
     "output_type": "stream",
     "text": [
      "Canvas is accessible via web browser at the URL: http://localhost:34979/index.html\n",
      "Opening Canvas in default web browser.\n"
     ]
    }
   ],
   "source": [
    "title_brand.show()"
   ]
  },
  {
   "cell_type": "code",
   "execution_count": 37,
   "metadata": {
    "collapsed": false
   },
   "outputs": [
    {
     "data": {
      "text/plain": [
       "dtype: str\n",
       "Rows: 351306\n",
       "['Samsung Galaxy S III I747 New Unlocked 16GB - Blue', 'Samsung Galaxy S III I747 New Unlocked 16GB - Blue', 'Samsung Galaxy S III I747 New Unlocked 16GB - Blue', 'Samsung Galaxy S III I747 New Unlocked 16GB - Blue', 'Samsung Galaxy S Advance I9070 8Gb White WiFi Android 3G Cell Phone', 'Samsung Galaxy S Advance I9070 8Gb White WiFi Android 3G Cell Phone', 'Samsung Galaxy S Advance I9070 8Gb White WiFi Android 3G Cell Phone', 'HTC Dash / S620 / S621 (Excalibur) Black Windows WI-FI Smartphone GSM Unlocked T-mobile Cell Phone', 'HTC Dash / S620 / S621 (Excalibur) Black Windows WI-FI Smartphone GSM Unlocked T-mobile Cell Phone', 'HTC Dash / S620 / S621 (Excalibur) Black Windows WI-FI Smartphone GSM Unlocked T-mobile Cell Phone', 'HTC Dash / S620 / S621 (Excalibur) Black Windows WI-FI Smartphone GSM Unlocked T-mobile Cell Phone', 'HTC Dash / S620 / S621 (Excalibur) Black Windows WI-FI Smartphone GSM Unlocked T-mobile Cell Phone', 'HTC Dash / S620 / S621 (Excalibur) Black Windows WI-FI Smartphone GSM Unlocked T-mobile Cell Phone', 'HTC Dash / S620 / S621 (Excalibur) Black Windows WI-FI Smartphone GSM Unlocked T-mobile Cell Phone', 'HTC Dash / S620 / S621 (Excalibur) Black Windows WI-FI Smartphone GSM Unlocked T-mobile Cell Phone', 'HTC Dash / S620 / S621 (Excalibur) Black Windows WI-FI Smartphone GSM Unlocked T-mobile Cell Phone', 'HTC Dash / S620 / S621 (Excalibur) Black Windows WI-FI Smartphone GSM Unlocked T-mobile Cell Phone', 'HTC Dash / S620 / S621 (Excalibur) Black Windows WI-FI Smartphone GSM Unlocked T-mobile Cell Phone', 'HTC Dash / S620 / S621 (Excalibur) Black Windows WI-FI Smartphone GSM Unlocked T-mobile Cell Phone', 'HTC Dash / S620 / S621 (Excalibur) Black Windows WI-FI Smartphone GSM Unlocked T-mobile Cell Phone', 'Nokia 5180i TracFone Prepaid Cell Phone with 10 FREE MINUTES', 'Nokia 5180i TracFone Prepaid Cell Phone with 10 FREE MINUTES', 'Nokia 5180i TracFone Prepaid Cell Phone with 10 FREE MINUTES', 'Nokia 5180i TracFone Prepaid Cell Phone with 10 FREE MINUTES', 'Nokia 5180i TracFone Prepaid Cell Phone with 10 FREE MINUTES', 'Nokia 5180i TracFone Prepaid Cell Phone with 10 FREE MINUTES', 'Nokia 5180i TracFone Prepaid Cell Phone with 10 FREE MINUTES', 'Nokia 5180i TracFone Prepaid Cell Phone with 10 FREE MINUTES', 'Nokia 5180i TracFone Prepaid Cell Phone with 10 FREE MINUTES', 'Nokia 5180i TracFone Prepaid Cell Phone with 10 FREE MINUTES', 'Nokia 5180i TracFone Prepaid Cell Phone with 10 FREE MINUTES', 'Nokia 5180i TracFone Prepaid Cell Phone with 10 FREE MINUTES', 'Nokia 5180i TracFone Prepaid Cell Phone with 10 FREE MINUTES', 'Nokia 5180i TracFone Prepaid Cell Phone with 10 FREE MINUTES', 'Nokia 5180i TracFone Prepaid Cell Phone with 10 FREE MINUTES', 'Nokia 5180i TracFone Prepaid Cell Phone with 10 FREE MINUTES', 'Nokia 5180i TracFone Prepaid Cell Phone with 10 FREE MINUTES', 'Nokia 5180i TracFone Prepaid Cell Phone with 10 FREE MINUTES', 'Nokia 5180i TracFone Prepaid Cell Phone with 10 FREE MINUTES', 'Motorola i95cl Phone (Nextel)', 'Motorola i95cl Phone (Nextel)', 'Motorola i95cl Phone (Nextel)', 'Motorola i95cl Phone (Nextel)', 'Motorola i95cl Phone (Nextel)', 'Motorola i95cl Phone (Nextel)', 'Motorola i95cl Phone (Nextel)', 'Motorola i95cl Phone (Nextel)', 'Motorola i95cl Phone (Nextel)', 'Motorola i95cl Phone (Nextel)', 'Motorola i95cl Phone (Nextel)', 'Motorola i95cl Phone (Nextel)', 'T-Mobile Dual-Band Wireless Phone', 'T-Mobile Dual-Band Wireless Phone', 'T-Mobile Dual-Band Wireless Phone', 'T-Mobile Dual-Band Wireless Phone', 'T-Mobile Dual-Band Wireless Phone', 'T-Mobile Dual-Band Wireless Phone', 'T-Mobile Dual-Band Wireless Phone', 'T-Mobile Dual-Band Wireless Phone', 'T-Mobile Dual-Band Wireless Phone', 'T-Mobile Dual-Band Wireless Phone', 'T-Mobile Dual-Band Wireless Phone', 'T-Mobile Dual-Band Wireless Phone', 'T-Mobile Dual-Band Wireless Phone', 'T-Mobile Dual-Band Wireless Phone', 'T-Mobile Dual-Band Wireless Phone', 'T-Mobile Dual-Band Wireless Phone', 'T-Mobile Dual-Band Wireless Phone', 'T-Mobile Dual-Band Wireless Phone', 'T-Mobile Dual-Band Wireless Phone', 'T-Mobile Dual-Band Wireless Phone', 'T-Mobile Dual-Band Wireless Phone', 'T-Mobile Dual-Band Wireless Phone', 'T-Mobile Dual-Band Wireless Phone', 'T-Mobile Dual-Band Wireless Phone', 'T-Mobile Dual-Band Wireless Phone', 'T-Mobile Dual-Band Wireless Phone', 'T-Mobile Dual-Band Wireless Phone', 'T-Mobile Dual-Band Wireless Phone', 'T-Mobile Dual-Band Wireless Phone', 'T-Mobile Dual-Band Wireless Phone', 'T-Mobile Dual-Band Wireless Phone', 'T-Mobile Dual-Band Wireless Phone', 'Motorola V66 Phone (T-Mobile)', 'Motorola V66 Phone (T-Mobile)', 'Motorola V66 Phone (T-Mobile)', 'Motorola V66 Phone (T-Mobile)', 'Motorola V66 Phone (T-Mobile)', 'Motorola V66 Phone (T-Mobile)', 'Motorola V66 Phone (T-Mobile)', 'Motorola V66 Phone (T-Mobile)', 'Motorola V66 Phone (T-Mobile)', 'Motorola V66 Phone (T-Mobile)', 'Motorola V66 Phone (T-Mobile)', 'Motorola V66 Phone (T-Mobile)', 'Motorola V66 Phone (T-Mobile)', 'Motorola V66 Phone (T-Mobile)', 'Motorola V66 Phone (T-Mobile)', 'Motorola V66 Phone (T-Mobile)', 'Motorola V66 Phone (T-Mobile)', ... ]"
      ]
     },
     "execution_count": 37,
     "metadata": {},
     "output_type": "execute_result"
    }
   ],
   "source": [
    "title_brand"
   ]
  },
  {
   "cell_type": "code",
   "execution_count": 38,
   "metadata": {
    "collapsed": false
   },
   "outputs": [],
   "source": [
    "replace_title=title_brand.apply(lambda x: x.split()[0])"
   ]
  },
  {
   "cell_type": "code",
   "execution_count": 39,
   "metadata": {
    "collapsed": false
   },
   "outputs": [
    {
     "data": {
      "text/plain": [
       "dtype: str\n",
       "Rows: 351306\n",
       "['Samsung', 'Samsung', 'Samsung', 'Samsung', 'Samsung', 'Samsung', 'Samsung', 'HTC', 'HTC', 'HTC', 'HTC', 'HTC', 'HTC', 'HTC', 'HTC', 'HTC', 'HTC', 'HTC', 'HTC', 'HTC', 'Nokia', 'Nokia', 'Nokia', 'Nokia', 'Nokia', 'Nokia', 'Nokia', 'Nokia', 'Nokia', 'Nokia', 'Nokia', 'Nokia', 'Nokia', 'Nokia', 'Nokia', 'Nokia', 'Nokia', 'Nokia', 'Nokia', 'Motorola', 'Motorola', 'Motorola', 'Motorola', 'Motorola', 'Motorola', 'Motorola', 'Motorola', 'Motorola', 'Motorola', 'Motorola', 'Motorola', 'T-Mobile', 'T-Mobile', 'T-Mobile', 'T-Mobile', 'T-Mobile', 'T-Mobile', 'T-Mobile', 'T-Mobile', 'T-Mobile', 'T-Mobile', 'T-Mobile', 'T-Mobile', 'T-Mobile', 'T-Mobile', 'T-Mobile', 'T-Mobile', 'T-Mobile', 'T-Mobile', 'T-Mobile', 'T-Mobile', 'T-Mobile', 'T-Mobile', 'T-Mobile', 'T-Mobile', 'T-Mobile', 'T-Mobile', 'T-Mobile', 'T-Mobile', 'T-Mobile', 'T-Mobile', 'T-Mobile', 'T-Mobile', 'Motorola', 'Motorola', 'Motorola', 'Motorola', 'Motorola', 'Motorola', 'Motorola', 'Motorola', 'Motorola', 'Motorola', 'Motorola', 'Motorola', 'Motorola', 'Motorola', 'Motorola', 'Motorola', 'Motorola', ... ]"
      ]
     },
     "execution_count": 39,
     "metadata": {},
     "output_type": "execute_result"
    }
   ],
   "source": [
    "replace_title"
   ]
  },
  {
   "cell_type": "code",
   "execution_count": 40,
   "metadata": {
    "collapsed": false
   },
   "outputs": [
    {
     "name": "stdout",
     "output_type": "stream",
     "text": [
      "Canvas is accessible via web browser at the URL: http://localhost:34979/index.html\n",
      "Opening Canvas in default web browser.\n"
     ]
    }
   ],
   "source": [
    "replace_title.show()"
   ]
  },
  {
   "cell_type": "code",
   "execution_count": 41,
   "metadata": {
    "collapsed": true
   },
   "outputs": [],
   "source": [
    "my_data_temp=graphlab.SFrame(my_data)"
   ]
  },
  {
   "cell_type": "code",
   "execution_count": 42,
   "metadata": {
    "collapsed": false,
    "scrolled": true
   },
   "outputs": [
    {
     "data": {
      "text/html": [
       "<div style=\"max-height:1000px;max-width:1500px;overflow:auto;\"><table frame=\"box\" rules=\"cols\">\n",
       "    <tr>\n",
       "        <th style=\"padding-left: 1em; padding-right: 1em; text-align: center\">asin</th>\n",
       "        <th style=\"padding-left: 1em; padding-right: 1em; text-align: center\">helpful</th>\n",
       "        <th style=\"padding-left: 1em; padding-right: 1em; text-align: center\">overall</th>\n",
       "        <th style=\"padding-left: 1em; padding-right: 1em; text-align: center\">reviewText</th>\n",
       "        <th style=\"padding-left: 1em; padding-right: 1em; text-align: center\">reviewerID</th>\n",
       "        <th style=\"padding-left: 1em; padding-right: 1em; text-align: center\">summary</th>\n",
       "        <th style=\"padding-left: 1em; padding-right: 1em; text-align: center\">unixReviewTime</th>\n",
       "    </tr>\n",
       "    <tr>\n",
       "        <td style=\"padding-left: 1em; padding-right: 1em; text-align: center; vertical-align: top\">1466736038</td>\n",
       "        <td style=\"padding-left: 1em; padding-right: 1em; text-align: center; vertical-align: top\">[2, 2]</td>\n",
       "        <td style=\"padding-left: 1em; padding-right: 1em; text-align: center; vertical-align: top\">5.0</td>\n",
       "        <td style=\"padding-left: 1em; padding-right: 1em; text-align: center; vertical-align: top\">Product came exactly as<br>described and would ...</td>\n",
       "        <td style=\"padding-left: 1em; padding-right: 1em; text-align: center; vertical-align: top\">ACF628HTT7K73</td>\n",
       "        <td style=\"padding-left: 1em; padding-right: 1em; text-align: center; vertical-align: top\">Great</td>\n",
       "        <td style=\"padding-left: 1em; padding-right: 1em; text-align: center; vertical-align: top\">1394409600</td>\n",
       "    </tr>\n",
       "    <tr>\n",
       "        <td style=\"padding-left: 1em; padding-right: 1em; text-align: center; vertical-align: top\">1466736038</td>\n",
       "        <td style=\"padding-left: 1em; padding-right: 1em; text-align: center; vertical-align: top\">[0, 0]</td>\n",
       "        <td style=\"padding-left: 1em; padding-right: 1em; text-align: center; vertical-align: top\">5.0</td>\n",
       "        <td style=\"padding-left: 1em; padding-right: 1em; text-align: center; vertical-align: top\">First of all, I have a<br>Consumer Cellular plan ...</td>\n",
       "        <td style=\"padding-left: 1em; padding-right: 1em; text-align: center; vertical-align: top\">A2VJIXZ6L7WQLQ</td>\n",
       "        <td style=\"padding-left: 1em; padding-right: 1em; text-align: center; vertical-align: top\">Great phone at a<br>reasonable price ...</td>\n",
       "        <td style=\"padding-left: 1em; padding-right: 1em; text-align: center; vertical-align: top\">1398988800</td>\n",
       "    </tr>\n",
       "    <tr>\n",
       "        <td style=\"padding-left: 1em; padding-right: 1em; text-align: center; vertical-align: top\">1466736038</td>\n",
       "        <td style=\"padding-left: 1em; padding-right: 1em; text-align: center; vertical-align: top\">[1, 1]</td>\n",
       "        <td style=\"padding-left: 1em; padding-right: 1em; text-align: center; vertical-align: top\">5.0</td>\n",
       "        <td style=\"padding-left: 1em; padding-right: 1em; text-align: center; vertical-align: top\">I am very pleased with<br>the phone we received. ...</td>\n",
       "        <td style=\"padding-left: 1em; padding-right: 1em; text-align: center; vertical-align: top\">A1BTEONV9LZTSG</td>\n",
       "        <td style=\"padding-left: 1em; padding-right: 1em; text-align: center; vertical-align: top\">Excellent phone.</td>\n",
       "        <td style=\"padding-left: 1em; padding-right: 1em; text-align: center; vertical-align: top\">1395878400</td>\n",
       "    </tr>\n",
       "    <tr>\n",
       "        <td style=\"padding-left: 1em; padding-right: 1em; text-align: center; vertical-align: top\">1466736038</td>\n",
       "        <td style=\"padding-left: 1em; padding-right: 1em; text-align: center; vertical-align: top\">[0, 0]</td>\n",
       "        <td style=\"padding-left: 1em; padding-right: 1em; text-align: center; vertical-align: top\">5.0</td>\n",
       "        <td style=\"padding-left: 1em; padding-right: 1em; text-align: center; vertical-align: top\">The Samsung Galazy S3 is<br>one of the best phones ...</td>\n",
       "        <td style=\"padding-left: 1em; padding-right: 1em; text-align: center; vertical-align: top\">A3D84T6HETBCKY</td>\n",
       "        <td style=\"padding-left: 1em; padding-right: 1em; text-align: center; vertical-align: top\">As described and a great<br>phone ...</td>\n",
       "        <td style=\"padding-left: 1em; padding-right: 1em; text-align: center; vertical-align: top\">1396483200</td>\n",
       "    </tr>\n",
       "    <tr>\n",
       "        <td style=\"padding-left: 1em; padding-right: 1em; text-align: center; vertical-align: top\">1621911888</td>\n",
       "        <td style=\"padding-left: 1em; padding-right: 1em; text-align: center; vertical-align: top\">[0, 0]</td>\n",
       "        <td style=\"padding-left: 1em; padding-right: 1em; text-align: center; vertical-align: top\">1.0</td>\n",
       "        <td style=\"padding-left: 1em; padding-right: 1em; text-align: center; vertical-align: top\">The worst phone I've ever<br>bought. It's ...</td>\n",
       "        <td style=\"padding-left: 1em; padding-right: 1em; text-align: center; vertical-align: top\">A3DGN1GU561RZQ</td>\n",
       "        <td style=\"padding-left: 1em; padding-right: 1em; text-align: center; vertical-align: top\">Crap phone.</td>\n",
       "        <td style=\"padding-left: 1em; padding-right: 1em; text-align: center; vertical-align: top\">1403308800</td>\n",
       "    </tr>\n",
       "    <tr>\n",
       "        <td style=\"padding-left: 1em; padding-right: 1em; text-align: center; vertical-align: top\">1621911888</td>\n",
       "        <td style=\"padding-left: 1em; padding-right: 1em; text-align: center; vertical-align: top\">[0, 0]</td>\n",
       "        <td style=\"padding-left: 1em; padding-right: 1em; text-align: center; vertical-align: top\">1.0</td>\n",
       "        <td style=\"padding-left: 1em; padding-right: 1em; text-align: center; vertical-align: top\">It actually is a 2.3<br>Ginger Bread platform. ...</td>\n",
       "        <td style=\"padding-left: 1em; padding-right: 1em; text-align: center; vertical-align: top\">A1O9GEMIUKBPOI</td>\n",
       "        <td style=\"padding-left: 1em; padding-right: 1em; text-align: center; vertical-align: top\">Don't buy this phone</td>\n",
       "        <td style=\"padding-left: 1em; padding-right: 1em; text-align: center; vertical-align: top\">1398556800</td>\n",
       "    </tr>\n",
       "    <tr>\n",
       "        <td style=\"padding-left: 1em; padding-right: 1em; text-align: center; vertical-align: top\">1621911888</td>\n",
       "        <td style=\"padding-left: 1em; padding-right: 1em; text-align: center; vertical-align: top\">[0, 0]</td>\n",
       "        <td style=\"padding-left: 1em; padding-right: 1em; text-align: center; vertical-align: top\">5.0</td>\n",
       "        <td style=\"padding-left: 1em; padding-right: 1em; text-align: center; vertical-align: top\">good basic phone. go and<br>see many on line revi ...</td>\n",
       "        <td style=\"padding-left: 1em; padding-right: 1em; text-align: center; vertical-align: top\">AK55NSPES0MAW</td>\n",
       "        <td style=\"padding-left: 1em; padding-right: 1em; text-align: center; vertical-align: top\">good phone</td>\n",
       "        <td style=\"padding-left: 1em; padding-right: 1em; text-align: center; vertical-align: top\">1368057600</td>\n",
       "    </tr>\n",
       "    <tr>\n",
       "        <td style=\"padding-left: 1em; padding-right: 1em; text-align: center; vertical-align: top\">9043435856</td>\n",
       "        <td style=\"padding-left: 1em; padding-right: 1em; text-align: center; vertical-align: top\">[0, 0]</td>\n",
       "        <td style=\"padding-left: 1em; padding-right: 1em; text-align: center; vertical-align: top\">5.0</td>\n",
       "        <td style=\"padding-left: 1em; padding-right: 1em; text-align: center; vertical-align: top\">Quick delivery, phone is<br>great.  Exactly what I ...</td>\n",
       "        <td style=\"padding-left: 1em; padding-right: 1em; text-align: center; vertical-align: top\">A1PZOQBJFPPW9I</td>\n",
       "        <td style=\"padding-left: 1em; padding-right: 1em; text-align: center; vertical-align: top\">Great phone</td>\n",
       "        <td style=\"padding-left: 1em; padding-right: 1em; text-align: center; vertical-align: top\">1326326400</td>\n",
       "    </tr>\n",
       "    <tr>\n",
       "        <td style=\"padding-left: 1em; padding-right: 1em; text-align: center; vertical-align: top\">9043435856</td>\n",
       "        <td style=\"padding-left: 1em; padding-right: 1em; text-align: center; vertical-align: top\">[0, 0]</td>\n",
       "        <td style=\"padding-left: 1em; padding-right: 1em; text-align: center; vertical-align: top\">1.0</td>\n",
       "        <td style=\"padding-left: 1em; padding-right: 1em; text-align: center; vertical-align: top\">Once I received the<br>product in the mail I ...</td>\n",
       "        <td style=\"padding-left: 1em; padding-right: 1em; text-align: center; vertical-align: top\">A1OQ9J9JKXOC2G</td>\n",
       "        <td style=\"padding-left: 1em; padding-right: 1em; text-align: center; vertical-align: top\">Aggravated Mistake!!</td>\n",
       "        <td style=\"padding-left: 1em; padding-right: 1em; text-align: center; vertical-align: top\">1393027200</td>\n",
       "    </tr>\n",
       "    <tr>\n",
       "        <td style=\"padding-left: 1em; padding-right: 1em; text-align: center; vertical-align: top\">9043435856</td>\n",
       "        <td style=\"padding-left: 1em; padding-right: 1em; text-align: center; vertical-align: top\">[0, 2]</td>\n",
       "        <td style=\"padding-left: 1em; padding-right: 1em; text-align: center; vertical-align: top\">3.0</td>\n",
       "        <td style=\"padding-left: 1em; padding-right: 1em; text-align: center; vertical-align: top\">I would like to have or<br>to see the reall case ...</td>\n",
       "        <td style=\"padding-left: 1em; padding-right: 1em; text-align: center; vertical-align: top\">A3GZ9I0DWK335B</td>\n",
       "        <td style=\"padding-left: 1em; padding-right: 1em; text-align: center; vertical-align: top\">I would like more<br>information about the ...</td>\n",
       "        <td style=\"padding-left: 1em; padding-right: 1em; text-align: center; vertical-align: top\">1332720000</td>\n",
       "    </tr>\n",
       "</table>\n",
       "<table frame=\"box\" rules=\"cols\">\n",
       "    <tr>\n",
       "        <th style=\"padding-left: 1em; padding-right: 1em; text-align: center\">brand</th>\n",
       "        <th style=\"padding-left: 1em; padding-right: 1em; text-align: center\">description</th>\n",
       "        <th style=\"padding-left: 1em; padding-right: 1em; text-align: center\">imUrl</th>\n",
       "        <th style=\"padding-left: 1em; padding-right: 1em; text-align: center\">price</th>\n",
       "        <th style=\"padding-left: 1em; padding-right: 1em; text-align: center\">salesRank</th>\n",
       "    </tr>\n",
       "    <tr>\n",
       "        <td style=\"padding-left: 1em; padding-right: 1em; text-align: center; vertical-align: top\"></td>\n",
       "        <td style=\"padding-left: 1em; padding-right: 1em; text-align: center; vertical-align: top\">Brand New Unlocked<br>Camera: 8 MP, 3264x2448 ...</td>\n",
       "        <td style=\"padding-left: 1em; padding-right: 1em; text-align: center; vertical-align: top\">http://ecx.images-amazon.<br>com/images/I/51hAD8gs ...</td>\n",
       "        <td style=\"padding-left: 1em; padding-right: 1em; text-align: center; vertical-align: top\">284.49</td>\n",
       "        <td style=\"padding-left: 1em; padding-right: 1em; text-align: center; vertical-align: top\">{'Cell Phones &amp;<br>Accessories': 56138} ...</td>\n",
       "    </tr>\n",
       "    <tr>\n",
       "        <td style=\"padding-left: 1em; padding-right: 1em; text-align: center; vertical-align: top\"></td>\n",
       "        <td style=\"padding-left: 1em; padding-right: 1em; text-align: center; vertical-align: top\">Brand New Unlocked<br>Camera: 8 MP, 3264x2448 ...</td>\n",
       "        <td style=\"padding-left: 1em; padding-right: 1em; text-align: center; vertical-align: top\">http://ecx.images-amazon.<br>com/images/I/51hAD8gs ...</td>\n",
       "        <td style=\"padding-left: 1em; padding-right: 1em; text-align: center; vertical-align: top\">284.49</td>\n",
       "        <td style=\"padding-left: 1em; padding-right: 1em; text-align: center; vertical-align: top\">{'Cell Phones &amp;<br>Accessories': 56138} ...</td>\n",
       "    </tr>\n",
       "    <tr>\n",
       "        <td style=\"padding-left: 1em; padding-right: 1em; text-align: center; vertical-align: top\"></td>\n",
       "        <td style=\"padding-left: 1em; padding-right: 1em; text-align: center; vertical-align: top\">Brand New Unlocked<br>Camera: 8 MP, 3264x2448 ...</td>\n",
       "        <td style=\"padding-left: 1em; padding-right: 1em; text-align: center; vertical-align: top\">http://ecx.images-amazon.<br>com/images/I/51hAD8gs ...</td>\n",
       "        <td style=\"padding-left: 1em; padding-right: 1em; text-align: center; vertical-align: top\">284.49</td>\n",
       "        <td style=\"padding-left: 1em; padding-right: 1em; text-align: center; vertical-align: top\">{'Cell Phones &amp;<br>Accessories': 56138} ...</td>\n",
       "    </tr>\n",
       "    <tr>\n",
       "        <td style=\"padding-left: 1em; padding-right: 1em; text-align: center; vertical-align: top\"></td>\n",
       "        <td style=\"padding-left: 1em; padding-right: 1em; text-align: center; vertical-align: top\">Brand New Unlocked<br>Camera: 8 MP, 3264x2448 ...</td>\n",
       "        <td style=\"padding-left: 1em; padding-right: 1em; text-align: center; vertical-align: top\">http://ecx.images-amazon.<br>com/images/I/51hAD8gs ...</td>\n",
       "        <td style=\"padding-left: 1em; padding-right: 1em; text-align: center; vertical-align: top\">284.49</td>\n",
       "        <td style=\"padding-left: 1em; padding-right: 1em; text-align: center; vertical-align: top\">{'Cell Phones &amp;<br>Accessories': 56138} ...</td>\n",
       "    </tr>\n",
       "    <tr>\n",
       "        <td style=\"padding-left: 1em; padding-right: 1em; text-align: center; vertical-align: top\">None</td>\n",
       "        <td style=\"padding-left: 1em; padding-right: 1em; text-align: center; vertical-align: top\">The Samsung Galaxy S<br>Advance I9070 offers its ...</td>\n",
       "        <td style=\"padding-left: 1em; padding-right: 1em; text-align: center; vertical-align: top\">http://ecx.images-amazon.<br>com/images/I/41oafU78 ...</td>\n",
       "        <td style=\"padding-left: 1em; padding-right: 1em; text-align: center; vertical-align: top\">239.99</td>\n",
       "        <td style=\"padding-left: 1em; padding-right: 1em; text-align: center; vertical-align: top\">{'Cell Phones &amp;<br>Accessories': 209436} ...</td>\n",
       "    </tr>\n",
       "    <tr>\n",
       "        <td style=\"padding-left: 1em; padding-right: 1em; text-align: center; vertical-align: top\">None</td>\n",
       "        <td style=\"padding-left: 1em; padding-right: 1em; text-align: center; vertical-align: top\">The Samsung Galaxy S<br>Advance I9070 offers its ...</td>\n",
       "        <td style=\"padding-left: 1em; padding-right: 1em; text-align: center; vertical-align: top\">http://ecx.images-amazon.<br>com/images/I/41oafU78 ...</td>\n",
       "        <td style=\"padding-left: 1em; padding-right: 1em; text-align: center; vertical-align: top\">239.99</td>\n",
       "        <td style=\"padding-left: 1em; padding-right: 1em; text-align: center; vertical-align: top\">{'Cell Phones &amp;<br>Accessories': 209436} ...</td>\n",
       "    </tr>\n",
       "    <tr>\n",
       "        <td style=\"padding-left: 1em; padding-right: 1em; text-align: center; vertical-align: top\">None</td>\n",
       "        <td style=\"padding-left: 1em; padding-right: 1em; text-align: center; vertical-align: top\">The Samsung Galaxy S<br>Advance I9070 offers its ...</td>\n",
       "        <td style=\"padding-left: 1em; padding-right: 1em; text-align: center; vertical-align: top\">http://ecx.images-amazon.<br>com/images/I/41oafU78 ...</td>\n",
       "        <td style=\"padding-left: 1em; padding-right: 1em; text-align: center; vertical-align: top\">239.99</td>\n",
       "        <td style=\"padding-left: 1em; padding-right: 1em; text-align: center; vertical-align: top\">{'Cell Phones &amp;<br>Accessories': 209436} ...</td>\n",
       "    </tr>\n",
       "    <tr>\n",
       "        <td style=\"padding-left: 1em; padding-right: 1em; text-align: center; vertical-align: top\">None</td>\n",
       "        <td style=\"padding-left: 1em; padding-right: 1em; text-align: center; vertical-align: top\">Exclusive to T-Mobile,<br>the quad-band T-Mobile ...</td>\n",
       "        <td style=\"padding-left: 1em; padding-right: 1em; text-align: center; vertical-align: top\">http://ecx.images-amazon.<br>com/images/I/41%2B2y5 ...</td>\n",
       "        <td style=\"padding-left: 1em; padding-right: 1em; text-align: center; vertical-align: top\">68.49</td>\n",
       "        <td style=\"padding-left: 1em; padding-right: 1em; text-align: center; vertical-align: top\">{'Cell Phones &amp;<br>Accessories': 89187} ...</td>\n",
       "    </tr>\n",
       "    <tr>\n",
       "        <td style=\"padding-left: 1em; padding-right: 1em; text-align: center; vertical-align: top\">None</td>\n",
       "        <td style=\"padding-left: 1em; padding-right: 1em; text-align: center; vertical-align: top\">Exclusive to T-Mobile,<br>the quad-band T-Mobile ...</td>\n",
       "        <td style=\"padding-left: 1em; padding-right: 1em; text-align: center; vertical-align: top\">http://ecx.images-amazon.<br>com/images/I/41%2B2y5 ...</td>\n",
       "        <td style=\"padding-left: 1em; padding-right: 1em; text-align: center; vertical-align: top\">68.49</td>\n",
       "        <td style=\"padding-left: 1em; padding-right: 1em; text-align: center; vertical-align: top\">{'Cell Phones &amp;<br>Accessories': 89187} ...</td>\n",
       "    </tr>\n",
       "    <tr>\n",
       "        <td style=\"padding-left: 1em; padding-right: 1em; text-align: center; vertical-align: top\">None</td>\n",
       "        <td style=\"padding-left: 1em; padding-right: 1em; text-align: center; vertical-align: top\">Exclusive to T-Mobile,<br>the quad-band T-Mobile ...</td>\n",
       "        <td style=\"padding-left: 1em; padding-right: 1em; text-align: center; vertical-align: top\">http://ecx.images-amazon.<br>com/images/I/41%2B2y5 ...</td>\n",
       "        <td style=\"padding-left: 1em; padding-right: 1em; text-align: center; vertical-align: top\">68.49</td>\n",
       "        <td style=\"padding-left: 1em; padding-right: 1em; text-align: center; vertical-align: top\">{'Cell Phones &amp;<br>Accessories': 89187} ...</td>\n",
       "    </tr>\n",
       "</table>\n",
       "<table frame=\"box\" rules=\"cols\">\n",
       "    <tr>\n",
       "        <th style=\"padding-left: 1em; padding-right: 1em; text-align: center\">title</th>\n",
       "        <th style=\"padding-left: 1em; padding-right: 1em; text-align: center\">reviewTime</th>\n",
       "    </tr>\n",
       "    <tr>\n",
       "        <td style=\"padding-left: 1em; padding-right: 1em; text-align: center; vertical-align: top\">Samsung Galaxy S III I747<br>New Unlocked 16GB - Blue ...</td>\n",
       "        <td style=\"padding-left: 1em; padding-right: 1em; text-align: center; vertical-align: top\">03 10, 2014</td>\n",
       "    </tr>\n",
       "    <tr>\n",
       "        <td style=\"padding-left: 1em; padding-right: 1em; text-align: center; vertical-align: top\">Samsung Galaxy S III I747<br>New Unlocked 16GB - Blue ...</td>\n",
       "        <td style=\"padding-left: 1em; padding-right: 1em; text-align: center; vertical-align: top\">05 2, 2014</td>\n",
       "    </tr>\n",
       "    <tr>\n",
       "        <td style=\"padding-left: 1em; padding-right: 1em; text-align: center; vertical-align: top\">Samsung Galaxy S III I747<br>New Unlocked 16GB - Blue ...</td>\n",
       "        <td style=\"padding-left: 1em; padding-right: 1em; text-align: center; vertical-align: top\">03 27, 2014</td>\n",
       "    </tr>\n",
       "    <tr>\n",
       "        <td style=\"padding-left: 1em; padding-right: 1em; text-align: center; vertical-align: top\">Samsung Galaxy S III I747<br>New Unlocked 16GB - Blue ...</td>\n",
       "        <td style=\"padding-left: 1em; padding-right: 1em; text-align: center; vertical-align: top\">04 3, 2014</td>\n",
       "    </tr>\n",
       "    <tr>\n",
       "        <td style=\"padding-left: 1em; padding-right: 1em; text-align: center; vertical-align: top\">Samsung Galaxy S Advance<br>I9070 8Gb White WiFi ...</td>\n",
       "        <td style=\"padding-left: 1em; padding-right: 1em; text-align: center; vertical-align: top\">06 21, 2014</td>\n",
       "    </tr>\n",
       "    <tr>\n",
       "        <td style=\"padding-left: 1em; padding-right: 1em; text-align: center; vertical-align: top\">Samsung Galaxy S Advance<br>I9070 8Gb White WiFi ...</td>\n",
       "        <td style=\"padding-left: 1em; padding-right: 1em; text-align: center; vertical-align: top\">04 27, 2014</td>\n",
       "    </tr>\n",
       "    <tr>\n",
       "        <td style=\"padding-left: 1em; padding-right: 1em; text-align: center; vertical-align: top\">Samsung Galaxy S Advance<br>I9070 8Gb White WiFi ...</td>\n",
       "        <td style=\"padding-left: 1em; padding-right: 1em; text-align: center; vertical-align: top\">05 9, 2013</td>\n",
       "    </tr>\n",
       "    <tr>\n",
       "        <td style=\"padding-left: 1em; padding-right: 1em; text-align: center; vertical-align: top\">HTC Dash / S620 / S621<br>(Excalibur) Black Win ...</td>\n",
       "        <td style=\"padding-left: 1em; padding-right: 1em; text-align: center; vertical-align: top\">01 12, 2012</td>\n",
       "    </tr>\n",
       "    <tr>\n",
       "        <td style=\"padding-left: 1em; padding-right: 1em; text-align: center; vertical-align: top\">HTC Dash / S620 / S621<br>(Excalibur) Black Win ...</td>\n",
       "        <td style=\"padding-left: 1em; padding-right: 1em; text-align: center; vertical-align: top\">02 22, 2014</td>\n",
       "    </tr>\n",
       "    <tr>\n",
       "        <td style=\"padding-left: 1em; padding-right: 1em; text-align: center; vertical-align: top\">HTC Dash / S620 / S621<br>(Excalibur) Black Win ...</td>\n",
       "        <td style=\"padding-left: 1em; padding-right: 1em; text-align: center; vertical-align: top\">03 26, 2012</td>\n",
       "    </tr>\n",
       "</table>\n",
       "[351306 rows x 14 columns]<br/>Note: Only the head of the SFrame is printed.<br/>You can use print_rows(num_rows=m, num_columns=n) to print more rows and columns.\n",
       "</div>"
      ],
      "text/plain": [
       "Columns:\n",
       "\tasin\tstr\n",
       "\thelpful\tlist\n",
       "\toverall\tfloat\n",
       "\treviewText\tstr\n",
       "\treviewerID\tstr\n",
       "\tsummary\tstr\n",
       "\tunixReviewTime\tint\n",
       "\tbrand\tstr\n",
       "\tdescription\tstr\n",
       "\timUrl\tstr\n",
       "\tprice\tfloat\n",
       "\tsalesRank\tdict\n",
       "\ttitle\tstr\n",
       "\treviewTime\tstr\n",
       "\n",
       "Rows: 351306\n",
       "\n",
       "Data:\n",
       "+------------+---------+---------+-------------------------------+\n",
       "|    asin    | helpful | overall |           reviewText          |\n",
       "+------------+---------+---------+-------------------------------+\n",
       "| 1466736038 |  [2, 2] |   5.0   | Product came exactly as de... |\n",
       "| 1466736038 |  [0, 0] |   5.0   | First of all, I have a Con... |\n",
       "| 1466736038 |  [1, 1] |   5.0   | I am very pleased with the... |\n",
       "| 1466736038 |  [0, 0] |   5.0   | The Samsung Galazy S3 is o... |\n",
       "| 1621911888 |  [0, 0] |   1.0   | The worst phone I've ever ... |\n",
       "| 1621911888 |  [0, 0] |   1.0   | It actually is a 2.3 Ginge... |\n",
       "| 1621911888 |  [0, 0] |   5.0   | good basic phone. go and s... |\n",
       "| 9043435856 |  [0, 0] |   5.0   | Quick delivery, phone is g... |\n",
       "| 9043435856 |  [0, 0] |   1.0   | Once I received the produc... |\n",
       "| 9043435856 |  [0, 2] |   3.0   | I would like to have or to... |\n",
       "+------------+---------+---------+-------------------------------+\n",
       "+----------------+--------------------------------+----------------+-------+\n",
       "|   reviewerID   |            summary             | unixReviewTime | brand |\n",
       "+----------------+--------------------------------+----------------+-------+\n",
       "| ACF628HTT7K73  |             Great              |   1394409600   |       |\n",
       "| A2VJIXZ6L7WQLQ | Great phone at a reasonabl...  |   1398988800   |       |\n",
       "| A1BTEONV9LZTSG |        Excellent phone.        |   1395878400   |       |\n",
       "| A3D84T6HETBCKY | As described and a great phone |   1396483200   |       |\n",
       "| A3DGN1GU561RZQ |          Crap phone.           |   1403308800   |  None |\n",
       "| A1O9GEMIUKBPOI |      Don't buy this phone      |   1398556800   |  None |\n",
       "| AK55NSPES0MAW  |           good phone           |   1368057600   |  None |\n",
       "| A1PZOQBJFPPW9I |          Great phone           |   1326326400   |  None |\n",
       "| A1OQ9J9JKXOC2G |      Aggravated Mistake!!      |   1393027200   |  None |\n",
       "| A3GZ9I0DWK335B | I would like more informat...  |   1332720000   |  None |\n",
       "+----------------+--------------------------------+----------------+-------+\n",
       "+-------------------------------+-------------------------------+--------+\n",
       "|          description          |             imUrl             | price  |\n",
       "+-------------------------------+-------------------------------+--------+\n",
       "| Brand New Unlocked Camera:... | http://ecx.images-amazon.c... | 284.49 |\n",
       "| Brand New Unlocked Camera:... | http://ecx.images-amazon.c... | 284.49 |\n",
       "| Brand New Unlocked Camera:... | http://ecx.images-amazon.c... | 284.49 |\n",
       "| Brand New Unlocked Camera:... | http://ecx.images-amazon.c... | 284.49 |\n",
       "| The Samsung Galaxy S Advan... | http://ecx.images-amazon.c... | 239.99 |\n",
       "| The Samsung Galaxy S Advan... | http://ecx.images-amazon.c... | 239.99 |\n",
       "| The Samsung Galaxy S Advan... | http://ecx.images-amazon.c... | 239.99 |\n",
       "| Exclusive to T-Mobile, the... | http://ecx.images-amazon.c... | 68.49  |\n",
       "| Exclusive to T-Mobile, the... | http://ecx.images-amazon.c... | 68.49  |\n",
       "| Exclusive to T-Mobile, the... | http://ecx.images-amazon.c... | 68.49  |\n",
       "+-------------------------------+-------------------------------+--------+\n",
       "+-------------------------------+-------------------------------+-------------+\n",
       "|           salesRank           |             title             |  reviewTime |\n",
       "+-------------------------------+-------------------------------+-------------+\n",
       "| {'Cell Phones & Accessorie... | Samsung Galaxy S III I747 ... | 03 10, 2014 |\n",
       "| {'Cell Phones & Accessorie... | Samsung Galaxy S III I747 ... |  05 2, 2014 |\n",
       "| {'Cell Phones & Accessorie... | Samsung Galaxy S III I747 ... | 03 27, 2014 |\n",
       "| {'Cell Phones & Accessorie... | Samsung Galaxy S III I747 ... |  04 3, 2014 |\n",
       "| {'Cell Phones & Accessorie... | Samsung Galaxy S Advance I... | 06 21, 2014 |\n",
       "| {'Cell Phones & Accessorie... | Samsung Galaxy S Advance I... | 04 27, 2014 |\n",
       "| {'Cell Phones & Accessorie... | Samsung Galaxy S Advance I... |  05 9, 2013 |\n",
       "| {'Cell Phones & Accessorie... | HTC Dash / S620 / S621 (Ex... | 01 12, 2012 |\n",
       "| {'Cell Phones & Accessorie... | HTC Dash / S620 / S621 (Ex... | 02 22, 2014 |\n",
       "| {'Cell Phones & Accessorie... | HTC Dash / S620 / S621 (Ex... | 03 26, 2012 |\n",
       "+-------------------------------+-------------------------------+-------------+\n",
       "[351306 rows x 14 columns]\n",
       "Note: Only the head of the SFrame is printed.\n",
       "You can use print_rows(num_rows=m, num_columns=n) to print more rows and columns."
      ]
     },
     "execution_count": 42,
     "metadata": {},
     "output_type": "execute_result"
    }
   ],
   "source": [
    "my_data_temp"
   ]
  },
  {
   "cell_type": "code",
   "execution_count": null,
   "metadata": {
    "collapsed": false
   },
   "outputs": [],
   "source": [
    "my_data_temp.show()"
   ]
  },
  {
   "cell_type": "code",
   "execution_count": 43,
   "metadata": {
    "collapsed": false
   },
   "outputs": [],
   "source": [
    "my_data_temp=my_data_temp.fillna('brand','')"
   ]
  },
  {
   "cell_type": "code",
   "execution_count": null,
   "metadata": {
    "collapsed": false
   },
   "outputs": [],
   "source": [
    "my_data_temp.show()"
   ]
  },
  {
   "cell_type": "code",
   "execution_count": 44,
   "metadata": {
    "collapsed": false
   },
   "outputs": [],
   "source": [
    "my_data_temp['new_title']=replace_title"
   ]
  },
  {
   "cell_type": "code",
   "execution_count": 45,
   "metadata": {
    "collapsed": false
   },
   "outputs": [
    {
     "data": {
      "text/plain": [
       "dtype: str\n",
       "Rows: 351306\n",
       "['Samsung', 'Samsung', 'Samsung', 'Samsung', 'Samsung', 'Samsung', 'Samsung', 'HTC', 'HTC', 'HTC', 'HTC', 'HTC', 'HTC', 'HTC', 'HTC', 'HTC', 'HTC', 'HTC', 'HTC', 'HTC', 'Nokia', 'Nokia', 'Nokia', 'Nokia', 'Nokia', 'Nokia', 'Nokia', 'Nokia', 'Nokia', 'Nokia', 'Nokia', 'Nokia', 'Nokia', 'Nokia', 'Nokia', 'Nokia', 'Nokia', 'Nokia', 'Nokia', 'Motorola', 'Motorola', 'Motorola', 'Motorola', 'Motorola', 'Motorola', 'Motorola', 'Motorola', 'Motorola', 'Motorola', 'Motorola', 'Motorola', 'T-Mobile', 'T-Mobile', 'T-Mobile', 'T-Mobile', 'T-Mobile', 'T-Mobile', 'T-Mobile', 'T-Mobile', 'T-Mobile', 'T-Mobile', 'T-Mobile', 'T-Mobile', 'T-Mobile', 'T-Mobile', 'T-Mobile', 'T-Mobile', 'T-Mobile', 'T-Mobile', 'T-Mobile', 'T-Mobile', 'T-Mobile', 'T-Mobile', 'T-Mobile', 'T-Mobile', 'T-Mobile', 'T-Mobile', 'T-Mobile', 'T-Mobile', 'T-Mobile', 'T-Mobile', 'T-Mobile', 'T-Mobile', 'Motorola', 'Motorola', 'Motorola', 'Motorola', 'Motorola', 'Motorola', 'Motorola', 'Motorola', 'Motorola', 'Motorola', 'Motorola', 'Motorola', 'Motorola', 'Motorola', 'Motorola', 'Motorola', 'Motorola', ... ]"
      ]
     },
     "execution_count": 45,
     "metadata": {},
     "output_type": "execute_result"
    }
   ],
   "source": [
    "my_data_temp['new_title']"
   ]
  },
  {
   "cell_type": "code",
   "execution_count": 46,
   "metadata": {
    "collapsed": true
   },
   "outputs": [],
   "source": [
    "my_data_temp['new_brand']=my_data_temp.apply(lambda x:x['new_title'] if x['brand']=='' else x['brand'])"
   ]
  },
  {
   "cell_type": "code",
   "execution_count": null,
   "metadata": {
    "collapsed": false
   },
   "outputs": [],
   "source": [
    "my_data_temp.show()"
   ]
  },
  {
   "cell_type": "code",
   "execution_count": 47,
   "metadata": {
    "collapsed": false,
    "scrolled": true
   },
   "outputs": [
    {
     "data": {
      "text/plain": [
       "['asin',\n",
       " 'helpful',\n",
       " 'overall',\n",
       " 'reviewText',\n",
       " 'reviewerID',\n",
       " 'summary',\n",
       " 'unixReviewTime',\n",
       " 'brand',\n",
       " 'description',\n",
       " 'imUrl',\n",
       " 'price',\n",
       " 'salesRank',\n",
       " 'title',\n",
       " 'reviewTime',\n",
       " 'new_title',\n",
       " 'new_brand']"
      ]
     },
     "execution_count": 47,
     "metadata": {},
     "output_type": "execute_result"
    }
   ],
   "source": [
    "my_data_temp.column_names()"
   ]
  },
  {
   "cell_type": "code",
   "execution_count": 48,
   "metadata": {
    "collapsed": true
   },
   "outputs": [],
   "source": [
    "mobile_data=my_data_temp['asin',\n",
    " 'helpful',\n",
    " 'overall',\n",
    " 'reviewText',\n",
    " 'reviewerID',\n",
    " 'summary',\n",
    " 'unixReviewTime',\n",
    " 'description',\n",
    " 'imUrl',\n",
    " 'price',\n",
    " 'salesRank',\n",
    " 'title',\n",
    " 'new_brand',\n",
    "'reviewTime']"
   ]
  },
  {
   "cell_type": "code",
   "execution_count": 49,
   "metadata": {
    "collapsed": false
   },
   "outputs": [],
   "source": [
    "mobile_data['new_brand']=mobile_data['new_brand'].apply(lambda x: x.lower())"
   ]
  },
  {
   "cell_type": "code",
   "execution_count": null,
   "metadata": {
    "collapsed": false
   },
   "outputs": [],
   "source": [
    "mobile_data"
   ]
  },
  {
   "cell_type": "code",
   "execution_count": 50,
   "metadata": {
    "collapsed": false
   },
   "outputs": [],
   "source": [
    "mobile_data['sentiment']=mobile_data['overall'].apply(lambda x:+1 if x>3 else 0)"
   ]
  },
  {
   "cell_type": "code",
   "execution_count": null,
   "metadata": {
    "collapsed": false
   },
   "outputs": [],
   "source": [
    "mobile_data.show()"
   ]
  },
  {
   "cell_type": "code",
   "execution_count": 51,
   "metadata": {
    "collapsed": false
   },
   "outputs": [
    {
     "data": {
      "text/html": [
       "<div style=\"max-height:1000px;max-width:1500px;overflow:auto;\"><table frame=\"box\" rules=\"cols\">\n",
       "    <tr>\n",
       "        <th style=\"padding-left: 1em; padding-right: 1em; text-align: center\">new_brand</th>\n",
       "        <th style=\"padding-left: 1em; padding-right: 1em; text-align: center\">sentiment</th>\n",
       "    </tr>\n",
       "    <tr>\n",
       "        <td style=\"padding-left: 1em; padding-right: 1em; text-align: center; vertical-align: top\">samsung</td>\n",
       "        <td style=\"padding-left: 1em; padding-right: 1em; text-align: center; vertical-align: top\">1</td>\n",
       "    </tr>\n",
       "    <tr>\n",
       "        <td style=\"padding-left: 1em; padding-right: 1em; text-align: center; vertical-align: top\">samsung</td>\n",
       "        <td style=\"padding-left: 1em; padding-right: 1em; text-align: center; vertical-align: top\">1</td>\n",
       "    </tr>\n",
       "    <tr>\n",
       "        <td style=\"padding-left: 1em; padding-right: 1em; text-align: center; vertical-align: top\">samsung</td>\n",
       "        <td style=\"padding-left: 1em; padding-right: 1em; text-align: center; vertical-align: top\">1</td>\n",
       "    </tr>\n",
       "    <tr>\n",
       "        <td style=\"padding-left: 1em; padding-right: 1em; text-align: center; vertical-align: top\">samsung</td>\n",
       "        <td style=\"padding-left: 1em; padding-right: 1em; text-align: center; vertical-align: top\">1</td>\n",
       "    </tr>\n",
       "    <tr>\n",
       "        <td style=\"padding-left: 1em; padding-right: 1em; text-align: center; vertical-align: top\">samsung</td>\n",
       "        <td style=\"padding-left: 1em; padding-right: 1em; text-align: center; vertical-align: top\">0</td>\n",
       "    </tr>\n",
       "    <tr>\n",
       "        <td style=\"padding-left: 1em; padding-right: 1em; text-align: center; vertical-align: top\">samsung</td>\n",
       "        <td style=\"padding-left: 1em; padding-right: 1em; text-align: center; vertical-align: top\">0</td>\n",
       "    </tr>\n",
       "    <tr>\n",
       "        <td style=\"padding-left: 1em; padding-right: 1em; text-align: center; vertical-align: top\">samsung</td>\n",
       "        <td style=\"padding-left: 1em; padding-right: 1em; text-align: center; vertical-align: top\">1</td>\n",
       "    </tr>\n",
       "    <tr>\n",
       "        <td style=\"padding-left: 1em; padding-right: 1em; text-align: center; vertical-align: top\">htc</td>\n",
       "        <td style=\"padding-left: 1em; padding-right: 1em; text-align: center; vertical-align: top\">1</td>\n",
       "    </tr>\n",
       "    <tr>\n",
       "        <td style=\"padding-left: 1em; padding-right: 1em; text-align: center; vertical-align: top\">htc</td>\n",
       "        <td style=\"padding-left: 1em; padding-right: 1em; text-align: center; vertical-align: top\">0</td>\n",
       "    </tr>\n",
       "    <tr>\n",
       "        <td style=\"padding-left: 1em; padding-right: 1em; text-align: center; vertical-align: top\">htc</td>\n",
       "        <td style=\"padding-left: 1em; padding-right: 1em; text-align: center; vertical-align: top\">0</td>\n",
       "    </tr>\n",
       "</table>\n",
       "[351306 rows x 2 columns]<br/>Note: Only the head of the SFrame is printed.<br/>You can use print_rows(num_rows=m, num_columns=n) to print more rows and columns.\n",
       "</div>"
      ],
      "text/plain": [
       "Columns:\n",
       "\tnew_brand\tstr\n",
       "\tsentiment\tint\n",
       "\n",
       "Rows: 351306\n",
       "\n",
       "Data:\n",
       "+-----------+-----------+\n",
       "| new_brand | sentiment |\n",
       "+-----------+-----------+\n",
       "|  samsung  |     1     |\n",
       "|  samsung  |     1     |\n",
       "|  samsung  |     1     |\n",
       "|  samsung  |     1     |\n",
       "|  samsung  |     0     |\n",
       "|  samsung  |     0     |\n",
       "|  samsung  |     1     |\n",
       "|    htc    |     1     |\n",
       "|    htc    |     0     |\n",
       "|    htc    |     0     |\n",
       "+-----------+-----------+\n",
       "[351306 rows x 2 columns]\n",
       "Note: Only the head of the SFrame is printed.\n",
       "You can use print_rows(num_rows=m, num_columns=n) to print more rows and columns."
      ]
     },
     "execution_count": 51,
     "metadata": {},
     "output_type": "execute_result"
    }
   ],
   "source": [
    "mobile_data['new_brand','sentiment']"
   ]
  },
  {
   "cell_type": "code",
   "execution_count": 52,
   "metadata": {
    "collapsed": false
   },
   "outputs": [],
   "source": [
    "samsung=mobile_data[mobile_data['new_brand']=='samsung']"
   ]
  },
  {
   "cell_type": "code",
   "execution_count": 53,
   "metadata": {
    "collapsed": true
   },
   "outputs": [],
   "source": [
    "lg=mobile_data[mobile_data['new_brand']=='lg']"
   ]
  },
  {
   "cell_type": "code",
   "execution_count": 54,
   "metadata": {
    "collapsed": true
   },
   "outputs": [],
   "source": [
    "motorola=mobile_data[mobile_data['new_brand']=='motorola']"
   ]
  },
  {
   "cell_type": "code",
   "execution_count": 55,
   "metadata": {
    "collapsed": true
   },
   "outputs": [],
   "source": [
    "nokia=mobile_data[mobile_data['new_brand']=='nokia']"
   ]
  },
  {
   "cell_type": "code",
   "execution_count": 56,
   "metadata": {
    "collapsed": true
   },
   "outputs": [],
   "source": [
    "blackberry=mobile_data[mobile_data['new_brand']=='blackberry']"
   ]
  },
  {
   "cell_type": "code",
   "execution_count": 57,
   "metadata": {
    "collapsed": true
   },
   "outputs": [],
   "source": [
    "htc=mobile_data[mobile_data['new_brand']=='htc']"
   ]
  },
  {
   "cell_type": "code",
   "execution_count": 58,
   "metadata": {
    "collapsed": true
   },
   "outputs": [],
   "source": [
    "apple=mobile_data[mobile_data['new_brand']=='apple']"
   ]
  },
  {
   "cell_type": "code",
   "execution_count": 59,
   "metadata": {
    "collapsed": true
   },
   "outputs": [],
   "source": [
    "sony=mobile_data[mobile_data['new_brand']=='sony']"
   ]
  },
  {
   "cell_type": "code",
   "execution_count": null,
   "metadata": {
    "collapsed": false
   },
   "outputs": [],
   "source": [
    "samsung.show()"
   ]
  },
  {
   "cell_type": "code",
   "execution_count": 60,
   "metadata": {
    "collapsed": false
   },
   "outputs": [
    {
     "ename": "RuntimeError",
     "evalue": "Runtime Exception. Canceled by user",
     "output_type": "error",
     "traceback": [
      "\u001b[1;31m---------------------------------------------------------------------------\u001b[0m",
      "\u001b[1;31mRuntimeError\u001b[0m                              Traceback (most recent call last)",
      "\u001b[1;32m<ipython-input-60-58c60820f2f3>\u001b[0m in \u001b[0;36m<module>\u001b[1;34m()\u001b[0m\n\u001b[1;32m----> 1\u001b[1;33m \u001b[0msamsung\u001b[0m\u001b[1;33m.\u001b[0m\u001b[0mshape\u001b[0m\u001b[1;33m\u001b[0m\u001b[0m\n\u001b[0m",
      "\u001b[1;32m/home/hdpuser/anaconda2/lib/python2.7/site-packages/graphlab/data_structures/sframe.pyc\u001b[0m in \u001b[0;36mshape\u001b[1;34m(self)\u001b[0m\n\u001b[0;32m   6179\u001b[0m         \u001b[1;33m(\u001b[0m\u001b[1;36m3\u001b[0m\u001b[1;33m,\u001b[0m \u001b[1;36m2\u001b[0m\u001b[1;33m)\u001b[0m\u001b[1;33m\u001b[0m\u001b[0m\n\u001b[0;32m   6180\u001b[0m         \"\"\"\n\u001b[1;32m-> 6181\u001b[1;33m         \u001b[1;32mreturn\u001b[0m \u001b[1;33m(\u001b[0m\u001b[0mself\u001b[0m\u001b[1;33m.\u001b[0m\u001b[0mnum_rows\u001b[0m\u001b[1;33m(\u001b[0m\u001b[1;33m)\u001b[0m\u001b[1;33m,\u001b[0m \u001b[0mself\u001b[0m\u001b[1;33m.\u001b[0m\u001b[0mnum_cols\u001b[0m\u001b[1;33m(\u001b[0m\u001b[1;33m)\u001b[0m\u001b[1;33m)\u001b[0m\u001b[1;33m\u001b[0m\u001b[0m\n\u001b[0m\u001b[0;32m   6182\u001b[0m \u001b[1;33m\u001b[0m\u001b[0m\n\u001b[0;32m   6183\u001b[0m     \u001b[1;33m@\u001b[0m\u001b[0mproperty\u001b[0m\u001b[1;33m\u001b[0m\u001b[0m\n",
      "\u001b[1;32m/home/hdpuser/anaconda2/lib/python2.7/site-packages/graphlab/data_structures/sframe.pyc\u001b[0m in \u001b[0;36mnum_rows\u001b[1;34m(self)\u001b[0m\n\u001b[0;32m   2821\u001b[0m         \u001b[0mnum_columns\u001b[0m\u001b[1;33m\u001b[0m\u001b[0m\n\u001b[0;32m   2822\u001b[0m         \"\"\"\n\u001b[1;32m-> 2823\u001b[1;33m         \u001b[1;32mreturn\u001b[0m \u001b[0mself\u001b[0m\u001b[1;33m.\u001b[0m\u001b[0m__proxy__\u001b[0m\u001b[1;33m.\u001b[0m\u001b[0mnum_rows\u001b[0m\u001b[1;33m(\u001b[0m\u001b[1;33m)\u001b[0m\u001b[1;33m\u001b[0m\u001b[0m\n\u001b[0m\u001b[0;32m   2824\u001b[0m \u001b[1;33m\u001b[0m\u001b[0m\n\u001b[0;32m   2825\u001b[0m     \u001b[1;32mdef\u001b[0m \u001b[0mnum_cols\u001b[0m\u001b[1;33m(\u001b[0m\u001b[0mself\u001b[0m\u001b[1;33m)\u001b[0m\u001b[1;33m:\u001b[0m\u001b[1;33m\u001b[0m\u001b[0m\n",
      "\u001b[1;32mgraphlab/cython/cy_sframe.pyx\u001b[0m in \u001b[0;36mgraphlab.cython.cy_sframe.UnitySFrameProxy.num_rows\u001b[1;34m()\u001b[0m\n",
      "\u001b[1;32mgraphlab/cython/cy_sframe.pyx\u001b[0m in \u001b[0;36mgraphlab.cython.cy_sframe.UnitySFrameProxy.num_rows\u001b[1;34m()\u001b[0m\n",
      "\u001b[1;31mRuntimeError\u001b[0m: Runtime Exception. Canceled by user"
     ]
    }
   ],
   "source": [
    "samsung.shape"
   ]
  },
  {
   "cell_type": "code",
   "execution_count": null,
   "metadata": {
    "collapsed": false
   },
   "outputs": [],
   "source": [
    "lg.show()"
   ]
  },
  {
   "cell_type": "code",
   "execution_count": null,
   "metadata": {
    "collapsed": false
   },
   "outputs": [],
   "source": [
    "motorola.show()"
   ]
  },
  {
   "cell_type": "code",
   "execution_count": null,
   "metadata": {
    "collapsed": false
   },
   "outputs": [],
   "source": [
    "nokia.show()"
   ]
  },
  {
   "cell_type": "code",
   "execution_count": null,
   "metadata": {
    "collapsed": false
   },
   "outputs": [],
   "source": [
    "blackberry.show()"
   ]
  },
  {
   "cell_type": "code",
   "execution_count": null,
   "metadata": {
    "collapsed": false
   },
   "outputs": [],
   "source": [
    "htc.show()"
   ]
  },
  {
   "cell_type": "code",
   "execution_count": null,
   "metadata": {
    "collapsed": false
   },
   "outputs": [],
   "source": [
    "apple.show()"
   ]
  },
  {
   "cell_type": "code",
   "execution_count": null,
   "metadata": {
    "collapsed": false
   },
   "outputs": [],
   "source": [
    "sony.show()"
   ]
  },
  {
   "cell_type": "code",
   "execution_count": null,
   "metadata": {
    "collapsed": false,
    "scrolled": true
   },
   "outputs": [],
   "source": [
    "lg"
   ]
  },
  {
   "cell_type": "code",
   "execution_count": 61,
   "metadata": {
    "collapsed": true
   },
   "outputs": [],
   "source": [
    "mobile_brand_data=graphlab.SFrame()"
   ]
  },
  {
   "cell_type": "code",
   "execution_count": 62,
   "metadata": {
    "collapsed": false
   },
   "outputs": [],
   "source": [
    "mobile_brand_data=graphlab.SFrame(samsung)"
   ]
  },
  {
   "cell_type": "code",
   "execution_count": 63,
   "metadata": {
    "collapsed": false
   },
   "outputs": [],
   "source": [
    "mobile_brand_data=mobile_brand_data.append(lg)"
   ]
  },
  {
   "cell_type": "code",
   "execution_count": 64,
   "metadata": {
    "collapsed": false
   },
   "outputs": [],
   "source": [
    "mobile_brand_data=mobile_brand_data.append(motorola)"
   ]
  },
  {
   "cell_type": "code",
   "execution_count": 65,
   "metadata": {
    "collapsed": false
   },
   "outputs": [],
   "source": [
    "mobile_brand_data=mobile_brand_data.append(nokia)"
   ]
  },
  {
   "cell_type": "code",
   "execution_count": 66,
   "metadata": {
    "collapsed": false
   },
   "outputs": [],
   "source": [
    "mobile_brand_data=mobile_brand_data.append(blackberry)"
   ]
  },
  {
   "cell_type": "code",
   "execution_count": 67,
   "metadata": {
    "collapsed": false
   },
   "outputs": [],
   "source": [
    "mobile_brand_data=mobile_brand_data.append(htc)"
   ]
  },
  {
   "cell_type": "code",
   "execution_count": 68,
   "metadata": {
    "collapsed": false
   },
   "outputs": [],
   "source": [
    "mobile_brand_data=mobile_brand_data.append(apple)"
   ]
  },
  {
   "cell_type": "code",
   "execution_count": 69,
   "metadata": {
    "collapsed": false
   },
   "outputs": [],
   "source": [
    "mobile_brand_data=mobile_brand_data.append(sony)"
   ]
  },
  {
   "cell_type": "code",
   "execution_count": 97,
   "metadata": {
    "collapsed": false
   },
   "outputs": [
    {
     "data": {
      "text/plain": [
       "(246574, 15)"
      ]
     },
     "execution_count": 97,
     "metadata": {},
     "output_type": "execute_result"
    }
   ],
   "source": [
    "mobile_brand_data.shape"
   ]
  },
  {
   "cell_type": "code",
   "execution_count": null,
   "metadata": {
    "collapsed": false
   },
   "outputs": [],
   "source": [
    "mobile_brand_data.show()"
   ]
  },
  {
   "cell_type": "code",
   "execution_count": null,
   "metadata": {
    "collapsed": true
   },
   "outputs": [],
   "source": [
    "mobile_brand_data.save('mobile1.csv',format='csv')"
   ]
  },
  {
   "cell_type": "code",
   "execution_count": null,
   "metadata": {
    "collapsed": false,
    "scrolled": true
   },
   "outputs": [],
   "source": [
    "samsung"
   ]
  },
  {
   "cell_type": "code",
   "execution_count": 70,
   "metadata": {
    "collapsed": false,
    "scrolled": true
   },
   "outputs": [
    {
     "data": {
      "text/plain": [
       "['asin',\n",
       " 'helpful',\n",
       " 'overall',\n",
       " 'reviewText',\n",
       " 'reviewerID',\n",
       " 'summary',\n",
       " 'unixReviewTime',\n",
       " 'description',\n",
       " 'imUrl',\n",
       " 'price',\n",
       " 'salesRank',\n",
       " 'title',\n",
       " 'new_brand',\n",
       " 'reviewTime',\n",
       " 'sentiment']"
      ]
     },
     "execution_count": 70,
     "metadata": {},
     "output_type": "execute_result"
    }
   ],
   "source": [
    "mobile_brand_data.column_names()"
   ]
  },
  {
   "cell_type": "code",
   "execution_count": 71,
   "metadata": {
    "collapsed": true
   },
   "outputs": [],
   "source": [
    "sentiment=mobile_brand_data['sentiment']"
   ]
  },
  {
   "cell_type": "code",
   "execution_count": null,
   "metadata": {
    "collapsed": false
   },
   "outputs": [],
   "source": [
    "sentiment"
   ]
  },
  {
   "cell_type": "code",
   "execution_count": 72,
   "metadata": {
    "collapsed": true
   },
   "outputs": [],
   "source": [
    "mobile_brand_data_new=mobile_brand_data['asin','reviewText','summary']"
   ]
  },
  {
   "cell_type": "code",
   "execution_count": 73,
   "metadata": {
    "collapsed": false,
    "scrolled": true
   },
   "outputs": [
    {
     "data": {
      "text/html": [
       "<div style=\"max-height:1000px;max-width:1500px;overflow:auto;\"><table frame=\"box\" rules=\"cols\">\n",
       "    <tr>\n",
       "        <th style=\"padding-left: 1em; padding-right: 1em; text-align: center\">asin</th>\n",
       "        <th style=\"padding-left: 1em; padding-right: 1em; text-align: center\">reviewText</th>\n",
       "        <th style=\"padding-left: 1em; padding-right: 1em; text-align: center\">summary</th>\n",
       "    </tr>\n",
       "    <tr>\n",
       "        <td style=\"padding-left: 1em; padding-right: 1em; text-align: center; vertical-align: top\">1466736038</td>\n",
       "        <td style=\"padding-left: 1em; padding-right: 1em; text-align: center; vertical-align: top\">Product came exactly as<br>described and would ...</td>\n",
       "        <td style=\"padding-left: 1em; padding-right: 1em; text-align: center; vertical-align: top\">Great</td>\n",
       "    </tr>\n",
       "    <tr>\n",
       "        <td style=\"padding-left: 1em; padding-right: 1em; text-align: center; vertical-align: top\">1466736038</td>\n",
       "        <td style=\"padding-left: 1em; padding-right: 1em; text-align: center; vertical-align: top\">First of all, I have a<br>Consumer Cellular plan ...</td>\n",
       "        <td style=\"padding-left: 1em; padding-right: 1em; text-align: center; vertical-align: top\">Great phone at a<br>reasonable price ...</td>\n",
       "    </tr>\n",
       "    <tr>\n",
       "        <td style=\"padding-left: 1em; padding-right: 1em; text-align: center; vertical-align: top\">1466736038</td>\n",
       "        <td style=\"padding-left: 1em; padding-right: 1em; text-align: center; vertical-align: top\">I am very pleased with<br>the phone we received. ...</td>\n",
       "        <td style=\"padding-left: 1em; padding-right: 1em; text-align: center; vertical-align: top\">Excellent phone.</td>\n",
       "    </tr>\n",
       "    <tr>\n",
       "        <td style=\"padding-left: 1em; padding-right: 1em; text-align: center; vertical-align: top\">1466736038</td>\n",
       "        <td style=\"padding-left: 1em; padding-right: 1em; text-align: center; vertical-align: top\">The Samsung Galazy S3 is<br>one of the best phones ...</td>\n",
       "        <td style=\"padding-left: 1em; padding-right: 1em; text-align: center; vertical-align: top\">As described and a great<br>phone ...</td>\n",
       "    </tr>\n",
       "    <tr>\n",
       "        <td style=\"padding-left: 1em; padding-right: 1em; text-align: center; vertical-align: top\">1621911888</td>\n",
       "        <td style=\"padding-left: 1em; padding-right: 1em; text-align: center; vertical-align: top\">The worst phone I've ever<br>bought. It's ...</td>\n",
       "        <td style=\"padding-left: 1em; padding-right: 1em; text-align: center; vertical-align: top\">Crap phone.</td>\n",
       "    </tr>\n",
       "    <tr>\n",
       "        <td style=\"padding-left: 1em; padding-right: 1em; text-align: center; vertical-align: top\">1621911888</td>\n",
       "        <td style=\"padding-left: 1em; padding-right: 1em; text-align: center; vertical-align: top\">It actually is a 2.3<br>Ginger Bread platform. ...</td>\n",
       "        <td style=\"padding-left: 1em; padding-right: 1em; text-align: center; vertical-align: top\">Don't buy this phone</td>\n",
       "    </tr>\n",
       "    <tr>\n",
       "        <td style=\"padding-left: 1em; padding-right: 1em; text-align: center; vertical-align: top\">1621911888</td>\n",
       "        <td style=\"padding-left: 1em; padding-right: 1em; text-align: center; vertical-align: top\">good basic phone. go and<br>see many on line revi ...</td>\n",
       "        <td style=\"padding-left: 1em; padding-right: 1em; text-align: center; vertical-align: top\">good phone</td>\n",
       "    </tr>\n",
       "    <tr>\n",
       "        <td style=\"padding-left: 1em; padding-right: 1em; text-align: center; vertical-align: top\">B0000DZG40</td>\n",
       "        <td style=\"padding-left: 1em; padding-right: 1em; text-align: center; vertical-align: top\">The title says it all. If<br>you are looking for a ...</td>\n",
       "        <td style=\"padding-left: 1em; padding-right: 1em; text-align: center; vertical-align: top\">Great Size, Great Phone</td>\n",
       "    </tr>\n",
       "    <tr>\n",
       "        <td style=\"padding-left: 1em; padding-right: 1em; text-align: center; vertical-align: top\">B0000DZG40</td>\n",
       "        <td style=\"padding-left: 1em; padding-right: 1em; text-align: center; vertical-align: top\">I received this cell<br>phone in Febuary, and I ...</td>\n",
       "        <td style=\"padding-left: 1em; padding-right: 1em; text-align: center; vertical-align: top\">Don't buy this phone</td>\n",
       "    </tr>\n",
       "    <tr>\n",
       "        <td style=\"padding-left: 1em; padding-right: 1em; text-align: center; vertical-align: top\">B0000DZG40</td>\n",
       "        <td style=\"padding-left: 1em; padding-right: 1em; text-align: center; vertical-align: top\">I have tried quite a few<br>cell phones out and I ...</td>\n",
       "        <td style=\"padding-left: 1em; padding-right: 1em; text-align: center; vertical-align: top\">Very pleased overall</td>\n",
       "    </tr>\n",
       "</table>\n",
       "[246574 rows x 3 columns]<br/>Note: Only the head of the SFrame is printed.<br/>You can use print_rows(num_rows=m, num_columns=n) to print more rows and columns.\n",
       "</div>"
      ],
      "text/plain": [
       "Columns:\n",
       "\tasin\tstr\n",
       "\treviewText\tstr\n",
       "\tsummary\tstr\n",
       "\n",
       "Rows: 246574\n",
       "\n",
       "Data:\n",
       "+------------+-------------------------------+--------------------------------+\n",
       "|    asin    |           reviewText          |            summary             |\n",
       "+------------+-------------------------------+--------------------------------+\n",
       "| 1466736038 | Product came exactly as de... |             Great              |\n",
       "| 1466736038 | First of all, I have a Con... | Great phone at a reasonabl...  |\n",
       "| 1466736038 | I am very pleased with the... |        Excellent phone.        |\n",
       "| 1466736038 | The Samsung Galazy S3 is o... | As described and a great phone |\n",
       "| 1621911888 | The worst phone I've ever ... |          Crap phone.           |\n",
       "| 1621911888 | It actually is a 2.3 Ginge... |      Don't buy this phone      |\n",
       "| 1621911888 | good basic phone. go and s... |           good phone           |\n",
       "| B0000DZG40 | The title says it all. If ... |    Great Size, Great Phone     |\n",
       "| B0000DZG40 | I received this cell phone... |      Don't buy this phone      |\n",
       "| B0000DZG40 | I have tried quite a few c... |      Very pleased overall      |\n",
       "+------------+-------------------------------+--------------------------------+\n",
       "[246574 rows x 3 columns]\n",
       "Note: Only the head of the SFrame is printed.\n",
       "You can use print_rows(num_rows=m, num_columns=n) to print more rows and columns."
      ]
     },
     "execution_count": 73,
     "metadata": {},
     "output_type": "execute_result"
    }
   ],
   "source": [
    "mobile_brand_data_new"
   ]
  },
  {
   "cell_type": "code",
   "execution_count": 74,
   "metadata": {
    "collapsed": true
   },
   "outputs": [],
   "source": [
    "mobile_brand_data_new['reviewText']=mobile_brand_data_new['reviewText'].apply(lambda x: x.lower())"
   ]
  },
  {
   "cell_type": "code",
   "execution_count": 75,
   "metadata": {
    "collapsed": true
   },
   "outputs": [],
   "source": [
    "mobile_brand_data_new['summary']=mobile_brand_data_new['summary'].apply(lambda x: x.lower())"
   ]
  },
  {
   "cell_type": "code",
   "execution_count": 76,
   "metadata": {
    "collapsed": false
   },
   "outputs": [],
   "source": [
    "title=mobile_brand_data_new['summary']"
   ]
  },
  {
   "cell_type": "code",
   "execution_count": 77,
   "metadata": {
    "collapsed": true
   },
   "outputs": [],
   "source": [
    "import string"
   ]
  },
  {
   "cell_type": "code",
   "execution_count": 78,
   "metadata": {
    "collapsed": false
   },
   "outputs": [],
   "source": [
    "title=title.apply(lambda x: x.translate(None,string.punctuation))"
   ]
  },
  {
   "cell_type": "code",
   "execution_count": 79,
   "metadata": {
    "collapsed": true
   },
   "outputs": [],
   "source": [
    "title=graphlab.text_analytics.count_words(title)"
   ]
  },
  {
   "cell_type": "code",
   "execution_count": 80,
   "metadata": {
    "collapsed": false,
    "scrolled": true
   },
   "outputs": [
    {
     "data": {
      "text/plain": [
       "dtype: dict\n",
       "Rows: 246574\n",
       "[{'great': 1}, {'a': 1, 'great': 1, 'price': 1, 'phone': 1, 'at': 1, 'reasonable': 1}, {'phone': 1, 'excellent': 1}, {'a': 1, 'and': 1, 'great': 1, 'described': 1, 'phone': 1, 'as': 1}, {'phone': 1, 'crap': 1}, {'this': 1, 'phone': 1, 'buy': 1, 'dont': 1}, {'phone': 1, 'good': 1}, {'phone': 1, 'great': 2, 'size': 1}, {'this': 1, 'phone': 1, 'buy': 1, 'dont': 1}, {'very': 1, 'overall': 1, 'pleased': 1}, {'dont': 1, 'plans': 1, 'warning': 1, 'with': 1, 'change': 1, 'tmobile': 1}, {'and': 1, 'phone': 1, 'reliable': 1, 'good': 1}, {'barebones': 1}, {'a': 1, 'tmobile': 1, 'for': 1, 'this': 1, 'make': 1, 'experience': 1, 'phone': 1, 'painful': 1}, {'phone': 1, 'great': 1}, {'motorola': 1, 'replaced': 1}, {'me': 1, 'even': 1, 'good': 1, 'phone': 1, 'lasts': 2, 'with': 1, 'really': 1}, {'better': 1, 'be': 1, 'could': 1, 'good': 1, 'but': 1}, {'and': 1, 'the': 1, 'cons': 1, 'pros': 1}, {'all': 1, 'right': 1}, {'pim': 1, 'beware': 1, 'sync': 1, 'to': 1, 'want': 1, 'you': 1, 'with': 1, 'your': 1, 'if': 1}, {'this': 1, 'phone': 1, 'love': 1}, {'and': 1, 'great': 1, 'works': 1, 'still': 1, 'after': 1, 'years': 1, '3': 1, '2': 1, 'cycles': 1, 'rinse': 1}, {'small': 1, 'phone': 1, 'sleek': 1, 'cool': 1}, {'a': 1, 'little': 1, 'look': 1, 'sturdy': 1, 'great': 1, 'phone': 1, 'stylish': 1, 'with': 1}, {'sghe105': 1, 'samsung': 1}, {'email': 1, 'klugey': 1}, {'phone': 1, 'good': 1, 'pretty': 1}, {'far': 1, 'good': 1, 'so': 1}, {'a': 1, 'used': 1, 'samsung': 1, 'i': 1, 'e105': 1, '1': 1, 'year': 1, 'bought': 1}, {'worst': 1, 'ive': 1, 'had': 1, 'phone': 1}, {'this': 1, 'buy': 1, 'dont': 1}, {'good': 1, 'works': 1, 'bad': 1, 'looks': 1}, {'tmobile': 1, 'but': 1, 'terirble': 1, 'phone': 1, 'treatment': 1, 'nice': 1}, {'fits': 1, 'fine': 1, 'samsunga650': 1}, {'thumbs': 1, 'two': 1, 'up': 1}, {'phone': 1, 'average': 1}, {'user': 1, 'satisfied': 1}, {'not': 1, 'support': 1, 'does': 1, 'yet': 1, 'tmobile': 1}, {'again': 1, 'ok': 1, 'wouldnt': 1, 'get': 1, 'it': 1, 'but': 1, 'phone': 1}, {'autoupdate': 1, 'not': 1, 'does': 1, 'clock': 1}, {'on': 1, 'good': 1, 'is': 1, 'but': 1, 'small': 1, 'come': 1}, {'what': 1, 'all': 1, 'about': 1, 'talking': 1, 'are': 1, 'you': 1}, {'phone': 1, 'ever': 1, 'best': 1}, {'consider': 1, 'but': 1, 'your': 1, 'bad': 1, 'not': 1, 'options': 1}, {'be': 1, 'buy': 1, 'this': 1, 'phone': 1, 'you': 1, 'careful': 1, 'where': 1}, {'cell': 1, 'phone': 1, 'favorite': 1, 'my': 1}, {'a': 1, 'but': 1, 'phone': 1, 'bad': 1, 'not': 2, 'the': 1, 'best': 1}, {'interesting': 1, 'experience': 1, 'an': 1}, {'a': 1, 'little': 1, 'could': 1, 'been': 1, 'better': 1, 'have': 1}, {'impressed': 1}, {'samsung': 1, 'e105': 1}, {'for': 1, 'lots': 1, 'of': 1, 'dollar': 1, 'bang': 1, 'the': 1}, {'and': 1, 'a': 1, 'work': 1, 'phone': 1, 'as': 1, 'need': 1, 'whistles': 1, 'fine': 1, 'bells': 1}, {'a': 1, 'not': 1, 'watch': 1, 'substitute': 1}, {'phone': 1, 'little': 1, 'great': 1}, {'phone': 1, 'little': 1, 'great': 1}, {'a': 1, 'and': 1, 'buy': 1, 'string': 1, 'money': 1, 'two': 1, 'save': 1, 'cups': 1, 'your': 1}, {'good': 1, 'very': 1, 'some': 1, 'deficits': 1, 'phone': 1, 'small': 1}, {'hook': 1, 'the': 1, 'off': 1}, {'matt': 1, 'always': 1, 'is': 1, 'correct': 1, 'as': 1, 'hoffman': 1}, {'and': 1, 'a': 1, 'great': 1, 'form': 1, 'function': 1, 'of': 1, 'e105': 1, 'balance': 1}, {'phone': 1, 'great': 1, 'sleek': 1}, {'a': 1, 'buy': 1, 'from': 1, 'dont': 1, 'kiosk': 1, 'ever': 1}, {'great': 1, 'everyone': 1, 'for': 2, 'embrassing': 1, 'else': 1, 'kids': 1}, {'trick': 1, 'new': 1, 'some': 1, 'with': 1, 'e105': 1}, {'compact': 1, 'phone': 1, 'good': 1, 'overall': 1}, {'i': 1, 'mine': 1, 'like': 1}, {'phone': 1, 'great': 2}, {'horrible': 1, 'software': 1}, {'still': 1, 'going': 1, 'but': 1}, {'good': 1, 'last': 1, 'very': 1, 'but': 1, 'doesnt': 1, 'long': 1, 'not': 1, 'at': 1, 'first': 1}, {'to': 1, 'last': 1, 'built': 1}, {'phone': 1, 'great': 1}, {'perfect': 1, 'phone': 1, 'is': 1}, {'the': 1, 'what': 1}, {'great': 1, 'for': 1, 'average': 1, 'daily': 1, 'phone': 1, 'usage': 1}, {'tiny': 1, 'powerhouse': 1}, {'perfect': 1, 'fantastic': 1, 'almost': 1, 'is': 1, 'little': 1, 'phone': 1}, {'phone': 1, 'great': 1}, {'all': 1, 'very': 1, 'rebates': 1, 'phone': 1, 'worked': 1, 'nice': 1}, {'disappointing': 1, 'product': 1}, {'worst': 1, 'ive': 1, 'used': 1, 'ever': 1, 'phone': 1}, {'i': 1, 'phone': 1, 'my': 1, 'like': 1}, {'and': 1, 'love': 1, 'i': 1, 'it': 1, 'cell': 1, 'phone': 1, 'first': 1}, {'me': 1, 'ok': 1, 'my': 1, 'nokia': 1, 'cheap': 1, 'but': 1, 'betterfor': 1, 'was': 1, 'its': 1}, {'then': 1, 'pleased': 1, 'more': 1}, {'refund': 1, 'please': 1}, {'compact': 1, 'phone': 1, 'great': 1}, {'phone': 1, 'good': 1, 'economic': 1}, {'a': 2, 'great': 1, 'phone': 1, 'downsides': 1, 'few': 1, 'only': 1, 'with': 1}, {'of': 1, 'warning': 1, 'word': 1}, {'phonemeets': 1, 'cons': 1, 'expectationsfew': 1, 'good': 1}, {'great': 1, 'but': 1}, {'little': 1, 'flaws': 1, 'great': 1, 'phone': 1, 'with': 1, 'minor': 1}, {'phone': 1, 'good': 1}, {'i': 1, 'phone': 1, 'my': 1, 'love': 1}, {'rrudy': 1}, {'phone': 1, 'great': 2, 'service': 1}, {'moneys': 1, 'my': 1, 'worth': 1, 'got': 1}, ... ]"
      ]
     },
     "execution_count": 80,
     "metadata": {},
     "output_type": "execute_result"
    }
   ],
   "source": [
    "title"
   ]
  },
  {
   "cell_type": "code",
   "execution_count": 82,
   "metadata": {
    "collapsed": false
   },
   "outputs": [],
   "source": [
    "title=title.dict_trim_by_keys(graphlab.text_analytics.stopwords(),True)"
   ]
  },
  {
   "cell_type": "code",
   "execution_count": 83,
   "metadata": {
    "collapsed": false,
    "scrolled": true
   },
   "outputs": [
    {
     "data": {
      "text/plain": [
       "dtype: dict\n",
       "Rows: 246574\n",
       "[{'great': 1}, {'phone': 1, 'price': 1, 'great': 1, 'reasonable': 1}, {'phone': 1, 'excellent': 1}, {'phone': 1, 'great': 1}, {'phone': 1, 'crap': 1}, {'phone': 1, 'buy': 1, 'dont': 1}, {'phone': 1, 'good': 1}, {'phone': 1, 'great': 2, 'size': 1}, {'phone': 1, 'buy': 1, 'dont': 1}, {'pleased': 1}, {'warning': 1, 'dont': 1, 'tmobile': 1, 'change': 1, 'plans': 1}, {'phone': 1, 'reliable': 1, 'good': 1}, {'barebones': 1}, {'phone': 1, 'make': 1, 'experience': 1, 'painful': 1, 'tmobile': 1}, {'phone': 1, 'great': 1}, {'motorola': 1, 'replaced': 1}, {'phone': 1, 'good': 1, 'lasts': 2}, {'good': 1}, {'cons': 1, 'pros': 1}, {}, {'beware': 1, 'sync': 1, 'pim': 1}, {'phone': 1, 'love': 1}, {'great': 1, 'works': 1, 'years': 1, '3': 1, '2': 1, 'cycles': 1, 'rinse': 1}, {'small': 1, 'phone': 1, 'sleek': 1, 'cool': 1}, {'stylish': 1, 'phone': 1, 'great': 1, 'sturdy': 1}, {'sghe105': 1, 'samsung': 1}, {'email': 1, 'klugey': 1}, {'phone': 1, 'good': 1, 'pretty': 1}, {'good': 1}, {'1': 1, 'year': 1, 'samsung': 1, 'bought': 1, 'e105': 1}, {'ive': 1, 'worst': 1, 'phone': 1}, {'buy': 1, 'dont': 1}, {'good': 1, 'works': 1, 'bad': 1}, {'phone': 1, 'terirble': 1, 'nice': 1, 'treatment': 1, 'tmobile': 1}, {'fits': 1, 'fine': 1, 'samsunga650': 1}, {'thumbs': 1}, {'phone': 1, 'average': 1}, {'user': 1, 'satisfied': 1}, {'support': 1, 'tmobile': 1}, {'phone': 1, 'wouldnt': 1}, {'autoupdate': 1, 'clock': 1}, {'small': 1, 'good': 1}, {'talking': 1}, {'phone': 1}, {'bad': 1, 'options': 1}, {'phone': 1, 'careful': 1, 'buy': 1}, {'cell': 1, 'phone': 1, 'favorite': 1}, {'phone': 1, 'bad': 1}, {'interesting': 1, 'experience': 1}, {}, {'impressed': 1}, {'samsung': 1, 'e105': 1}, {'lots': 1, 'bang': 1, 'dollar': 1}, {'whistles': 1, 'work': 1, 'fine': 1, 'bells': 1, 'phone': 1}, {'watch': 1, 'substitute': 1}, {'phone': 1, 'great': 1}, {'phone': 1, 'great': 1}, {'money': 1, 'buy': 1, 'cups': 1, 'string': 1, 'save': 1}, {'small': 1, 'phone': 1, 'good': 1, 'deficits': 1}, {'hook': 1}, {'hoffman': 1, 'correct': 1, 'matt': 1}, {'function': 1, 'great': 1, 'balance': 1, 'form': 1, 'e105': 1}, {'phone': 1, 'great': 1, 'sleek': 1}, {'buy': 1, 'kiosk': 1, 'dont': 1}, {'embrassing': 1, 'great': 1, 'kids': 1}, {'trick': 1, 'e105': 1}, {'compact': 1, 'phone': 1, 'good': 1}, {'mine': 1}, {'phone': 1, 'great': 2}, {'horrible': 1, 'software': 1}, {}, {'good': 1, 'doesnt': 1, 'long': 1}, {'built': 1}, {'phone': 1, 'great': 1}, {'perfect': 1, 'phone': 1}, {}, {'usage': 1, 'phone': 1, 'average': 1, 'great': 1, 'daily': 1}, {'tiny': 1, 'powerhouse': 1}, {'perfect': 1, 'phone': 1, 'fantastic': 1}, {'phone': 1, 'great': 1}, {'phone': 1, 'worked': 1, 'nice': 1, 'rebates': 1}, {'disappointing': 1, 'product': 1}, {'ive': 1, 'worst': 1, 'phone': 1}, {'phone': 1}, {'cell': 1, 'phone': 1, 'love': 1}, {'betterfor': 1, 'nokia': 1, 'cheap': 1}, {'pleased': 1}, {'refund': 1}, {'compact': 1, 'phone': 1, 'great': 1}, {'phone': 1, 'good': 1, 'economic': 1}, {'phone': 1, 'great': 1, 'downsides': 1}, {'warning': 1, 'word': 1}, {'phonemeets': 1, 'cons': 1, 'expectationsfew': 1, 'good': 1}, {'great': 1}, {'phone': 1, 'great': 1, 'flaws': 1, 'minor': 1}, {'phone': 1, 'good': 1}, {'phone': 1, 'love': 1}, {'rrudy': 1}, {'phone': 1, 'great': 2, 'service': 1}, {'moneys': 1, 'worth': 1}, ... ]"
      ]
     },
     "execution_count": 83,
     "metadata": {},
     "output_type": "execute_result"
    }
   ],
   "source": [
    "title"
   ]
  },
  {
   "cell_type": "code",
   "execution_count": 84,
   "metadata": {
    "collapsed": true
   },
   "outputs": [],
   "source": [
    "review=mobile_brand_data_new['reviewText']"
   ]
  },
  {
   "cell_type": "code",
   "execution_count": 85,
   "metadata": {
    "collapsed": true
   },
   "outputs": [],
   "source": [
    "review=review.apply(lambda x : x.translate(None,string.punctuation))"
   ]
  },
  {
   "cell_type": "code",
   "execution_count": 86,
   "metadata": {
    "collapsed": true
   },
   "outputs": [],
   "source": [
    "review=graphlab.text_analytics.count_words(review)"
   ]
  },
  {
   "cell_type": "code",
   "execution_count": 87,
   "metadata": {
    "collapsed": true
   },
   "outputs": [],
   "source": [
    "review=review.dict_trim_by_keys(graphlab.text_analytics.stopwords(),True)"
   ]
  },
  {
   "cell_type": "code",
   "execution_count": 88,
   "metadata": {
    "collapsed": true
   },
   "outputs": [],
   "source": [
    "review=graphlab.text_analytics.tf_idf(review)"
   ]
  },
  {
   "cell_type": "code",
   "execution_count": 89,
   "metadata": {
    "collapsed": false
   },
   "outputs": [
    {
     "data": {
      "text/plain": [
       "dtype: dict\n",
       "Rows: 246574\n",
       "[{'product': 5.003959093726972, 'star': 4.24891711109773, 'give': 3.1772673576373323, 's3': 4.24891711109773, '5': 2.896636932740309, 'recommend': 2.426211002314117, 'galaxy': 3.11523635427681}, {'smarts': 8.918909868786303, 'file': 5.019695821650737, 'phones': 1.93841118461224, 'yetsecond': 11.029123069132892, 'years': 3.0374462168926484, 'patience': 6.315098478232718, 'computer': 3.8429787646105664, 'apn': 11.825254768674316, 'learning': 4.764297254550082, 'love': 2.1263954050973686, 'nerd': 8.111352337048613, 'galaxy': 3.11523635427681, 'dont': 1.894989023161962, 'sell': 4.530088190979591, 'network': 3.3389513668329274, 'service': 2.523445933677902, 'lots': 4.176880500081014, 'make': 2.559860411474204, 'access': 3.7635185359842533, 'call': 2.603223136163045, 'worksoverall': 10.335975888572946, 'lot': 2.6765097530344515, 'wanting': 5.481994404522068, 'hope': 3.909689716945823, 'retired': 7.200481672643797, 'phone': 1.701856649571702, 'plan': 3.125988651957636, 'cellular': 14.314366443750757, 'entries': 6.485828286862888, 'general': 4.928243736039043, 'minute': 4.598194644744615, 'great': 1.3951175524045933, '15': 4.265815694516627, 'nowi': 7.233633879960697, 'settings': 7.814126375007499, 'work': 2.0340510890994445, 'smart': 3.0293606005347806, 'reasonable': 4.956654737871823, 'fun': 4.536125945170512, '4g': 3.643892146066318, 'consumer': 17.184926467158803}, {'set': 3.2826062607858373, 'ad': 5.924693895750275, 'number': 3.380383280176649, 'dropped': 3.525971264934494, 'purchased': 2.9162955903815173, 'advertised': 8.590252232568442, 'seller': 6.024620487242212, 'pleased': 3.976834639418456, 'reviews': 6.835055960104132, 'buyers': 5.64807430498739, 'genuine': 6.708307165503906, 'floor': 6.0251767631874324, 's3': 12.74675133329319, 'suggest': 4.824565306564201, 'concerned': 5.474227375184408, 'breed': 7.147559271189454, 'system': 3.5383145323878833, 'sghi747': 8.831898491796672, 's4': 4.534235228025681, 'read': 3.330413549587897, 'refurbished': 4.270157863735917, 'tile': 6.787796316562145, '5': 2.896636932740309, 'bundled': 7.495436504424657, 'clone': 7.661827239146418, 'store': 3.218263620080775, 'product': 5.003959093726972, 'names': 5.936907788044213, 'plugged': 5.055949791997161, 'performed': 6.3354842351571925, 'price': 2.265108863048088, 'problems': 2.726113687659392, 'sellers': 5.127173029232658, 'phone': 1.134571099714468, 'amazon': 2.6751549388196203, 'operating': 4.288603709526668, 'line': 3.9167956244219804, 'card': 2.402089412037122, 'received': 5.9601903953774995, 'receiving': 4.721935789417607, 'awayi': 8.777831270526397, 'flawlessly': 5.530930778209999, 'wife': 3.8786177091976266, 'samsung': 2.556874943759823, 'sale': 5.248379553340562, 'specific': 10.469172462416452, 'shipped': 4.43334255517158, 'sim': 2.7426646697266848, 'att': 5.8324413511941, 'model': 3.4952956783803772, 'minutes': 3.1069526602834006, 'displays': 5.81147360565231}, {'ive': 2.5000013068513804, 's3': 4.24891711109773, 'love': 2.1263954050973686, 'samsung': 2.556874943759823, 'absolutely': 4.0120650552603045, 'photo': 4.666957406353085, 'phone': 0.283642774928617, 'phones': 1.93841118461224, 'galazy': 9.419685156698792, 'quality': 2.424102167351134}, {'kernel': 7.55560502589111, 'rom': 5.51872309863007, 'sloooowwww': 11.722270249692837, 'phones': 1.93841118461224, 'ive': 2.5000013068513804, 'open': 3.6766819688893086, 'dial': 4.708354774882309, 'crap': 4.85898946081253, 'placing': 6.4992153676453475, 'long': 2.9875492457480255, 'pad': 4.935553299087756, 'call': 2.603223136163045, 'nice': 2.4324719563819386, 'product': 2.501979546863486, 'buy': 2.059326763151086, 'seconds': 4.453698614271417, 'problems': 2.726113687659392, 'bought': 1.966123285055418, 'stay': 4.33425165252735, 'phone': 0.283642774928617, 'putting': 5.119682357503501, 'kitkat': 6.0946491360022, 'wait': 3.9859631531445516, 'wont': 3.2275271871141915, 'samsung': 5.113749887519646, '30': 3.9596742011527675, 'fixes': 6.260559336236365, 'sloooooooowwww': 11.722270249692837, 'ui': 5.1863035524594805, 'time': 1.8850026310768182, 'worst': 12.273971006407134, 'piece': 4.148738986946887, 'software': 3.2089846831076163}, {'sell': 4.530088190979591, 'product': 2.501979546863486, 'false': 6.035294893353017, 'phone': 0.567285549857234, '23': 4.914887944857487, '8gb': 5.048972281925183, 'ginger': 8.751855784123135, 'platform': 5.5780846155671915, 'understand': 4.2865372881271435, 'gb': 4.5166350732824725, 'advertisement': 6.816995471254407, 'memory': 3.082505505888419, '399': 7.790444616968511, 'bread': 8.181310925655524, 'nice': 2.4324719563819386}, {'good': 1.3603457042824387, 'price': 2.265108863048088, 'reviews': 3.417527980052066, 'phone': 0.283642774928617, 'expect': 3.925184420419328, 'basic': 3.5569066172188544, 'line': 3.9167956244219804, 'advanced': 5.4898222331423145}, {'sunlightas': 12.415417430252782, 'smartphonepda': 11.316805141584672, 'features': 4.926279427094444, 'people': 2.85526561435927, 'color': 4.070912346662261, 'handset': 5.417821447270856, 'slim': 4.928804117112827, 'direct': 5.460778565371795, 'month': 3.0803846143192812, 'infrared': 6.885988342741359, 'screens': 4.514040076460167, 'design': 3.714237402723529, 'sunlight': 5.742119462485128, 'calendar': 4.61279936681011, 'lacks': 5.526844970687419, 'fine': 2.934439420434077, 'worked': 3.0344064442235066, 'elsewhereive': 12.415417430252782, 'pim': 8.390065739517633, 'avoided': 7.688029611540442, 'fit': 4.173977740423052, 'space': 4.275101890092797, 'purchasing': 4.524834895596246, 'pocketbut': 10.805979517818681, 'battery': 1.7412662547288804, 'black': 3.8776376052281565, 'low': 3.5597539995526586, 'easy': 2.3561234265784545, 'white': 4.30049445604819, 'life': 2.4188038997271706, 'good': 4.081037112847316, 'reception': 3.499716611295879, 'sleek': 4.6367872829269725, 'title': 6.006888639193284, 'screen': 1.7267278100730565, 'e105': 8.44512551670066, 'volume': 3.817750854686668, 'phone': 1.418213874643085, 'part': 3.8970249582610625, 'charm': 5.836166218242681, 'impairments': 10.469507281197469, 'hearing': 5.373131258313039, 'complain': 4.731093362571627, 'pc': 4.437449337124233, 'great': 1.3951175524045933, 'tmobile': 3.156382136737841, 'samsung': 2.556874943759823, 'alarm': 4.813515470377617, 'youre': 3.6125942705108947, 'flip': 4.075438858262355, 'phonebook': 6.396824215756547, 'sync': 4.62018250125061, 'behavior': 7.256362131038253, 'small': 2.912332820232554, 'saves': 6.001958473085425, 'pretty': 2.9103200721528566, 'display': 3.5709369117924044, 'pda': 5.924693895750275, 'software': 3.2089846831076163}, {'months': 2.818590916766238, 'middle': 4.843428980875342, 'colors': 4.701186285403697, 'doesnt': 5.143253609949563, 'awful': 10.516922131274292, 'sounds': 4.716481230439334, 'open': 3.6766819688893086, 'poorly': 5.861484026226971, 'shuts': 5.241459110495988, 'cell': 2.662927201268583, 'buy': 2.059326763151086, 'received': 2.9800951976887498, 'conversations': 6.165442187993299, 'screen': 1.7267278100730565, 'febuary': 10.017522157454412, 'phone': 0.850928324785851, 'put': 3.071245710643079, 'loved': 3.943430831674624, 'work': 2.0340510890994445, 'flip': 4.075438858262355, 'turn': 3.264084238856632, 'good': 1.3603457042824387, 'reception': 3.499716611295879, 'luck': 4.799133868672397}, {'text': 2.833444538704887, 'customer': 3.427221109257726, 'pleased': 3.976834639418456, 'dont': 1.894989023161962, '25': 4.89681021343753, 'slow': 3.370777514054318, 'caveats': 8.372366162418231, 'charge': 2.8981807669010142, 'speaker': 3.646998703395379, 'worth': 3.387078666259634, 'happened': 4.674318340217416, 'ranking': 9.850468072791246, 'song': 5.784734044610411, 'big': 2.9038619715422342, 'nokia': 2.8686048216553863, 'pocket': 3.6277391912132853, 'sony': 3.9901202535410816, 'motorola': 3.4062145293281945, 'worried': 5.3748810400368265, 'leave': 4.643085855083169, 'stupid': 5.319524209155251, 'meanyway': 11.316805141584672, 'sunlightthe': 8.918909868786303, 'phones': 5.81523355383672, 'ringsnot': 12.415417430252782, 'zones': 7.587103692950481, 'computer': 3.8429787646105664, 'connect': 3.9725168434183997, 'superb': 5.411443293530102, 'cell': 2.662927201268583, 'internet': 2.891434884155287, 'capabilites': 8.981430225767635, 'free': 3.337808770730558, 'desired': 6.033601412846684, 'muchhhhhh': 12.415417430252782, 'super': 3.9419671617844636, 'great': 1.3951175524045933, 'incoming': 5.357519492840925, 'messages': 3.670929316399859, 'dissapointed': 6.07505812652503, 'amount': 4.5026282095621015, 'golden': 8.426433383688508, 'flexiblekinda': 12.415417430252782, 'breakdisplay': 12.415417430252782, 'likes': 4.920431196302249, 'impossible': 4.857944528638035, 'ring': 4.392848483264528, 'quality': 2.424102167351134, 'expensive': 3.9200609334457193, 'city': 5.682015538415423, 'takes': 3.2479845592878758, 'service': 2.523445933677902, 'transfer': 4.328084503779431, 'top': 3.8465810056847065, 'live': 7.307421323572285, 'recommend': 2.426211002314117, 'wap': 7.1631440022061525, 'verizon': 6.6100157938032975, 'antennae': 7.893628853203742, 'phone': 1.134571099714468, 'hear': 3.814986640266489, 'external': 4.796675052582369, 'excellent': 2.884806796231667, 'sound': 3.2415335952872146, 'caller': 5.621951297672773, 'tones': 5.147194409093217, 'display': 3.5709369117924044, 'browser': 4.0120650552603045, 'cents': 6.312858835639213, 'awesome': 3.4042599721459657, 'sharp': 5.0308070470758075, 'annoying': 4.102791404577819, 'id': 3.770182888955661, 'boot': 5.734562751462567, 'admit': 5.528885787722272, 'drawback': 5.607482486552856, '5': 2.896636932740309, 'department': 6.1849359826743004, 'ericson': 7.77102653111141, 'phonethe': 5.140245110800011, 'nice': 2.4324719563819386, 'normal': 4.377551195543164, 'price': 2.265108863048088, 'accessi': 9.707367229150572, 'coverage': 9.089739171490141, 'date': 4.453698614271417, 'data': 3.039562619799026, 'ringsthe': 12.415417430252782, 'mobile': 6.1271549920058, 'invest': 6.43653166535166, 'uglier': 10.623657961024728, 'costs': 5.072638240920936, 'reception': 3.499716611295879, 'time': 1.8850026310768182, 'boonies': 8.40808424502031}, {'refund': 4.252901180112604, 'switched': 4.619359455936658, 'terminate': 8.565269828542723, 'month': 9.241153842957843, 'bright': 4.216777974955413, 'carefully': 6.182969413702259, 'previous': 3.8113128668472482, '20': 4.25176125408435, 'acknowledge': 7.418205156488667, 'prolong': 9.582204086196565, 'charge': 2.8981807669010142, 'paying': 4.557163248066753, 'customers': 4.872144083547337, 'handle': 4.814015095669049, 'cheaper': 4.38598458967154, 'pocket': 3.6277391912132853, 'amazon': 2.6751549388196203, '12': 8.821435839406465, 'telling': 5.462688785627914, 'minute': 13.794583934233845, 'tmobile': 25.251057093902727, 's105': 8.608754940482463, '50': 4.3798147373342005, 'bad': 5.7057441796186374, 'small': 2.912332820232554, 'replacement': 3.6159065288839143, 'deal': 3.427221109257726, 'phones': 3.87682236922448, 'reduce': 6.766443192091576, 'idea': 4.764297254550082, 'past': 8.535679388102023, 'year': 3.093535683543692, 'close': 4.124121578347376, 'sprint': 4.361848261118241, 'stops': 5.81963691629147, 'current': 4.634278920407766, 'written': 5.521761075650147, 'print': 5.993795162446264, 'told': 3.655748759222843, 'warrenty': 14.990873008849315, 'free': 3.337808770730558, '100': 3.828138631269857, 'wanted': 3.0200092758146195, 'change': 17.79663187500247, 'care': 4.149252993640291, 'received': 2.9800951976887498, 'great': 1.3951175524045933, 'working': 2.841893342425041, 'ahead': 10.580268677484142, 'fault': 4.939511460885385, 'months': 14.09295458383119, 'contract': 24.84975223149412, 'credit': 5.18485427684349, 'disappointment': 5.287723730905384, 'asked': 4.516263946909684, '1000': 24.11415244356055, 'major': 4.3022903260310015, 'dont': 5.684967069485886, 'extra': 3.8651763847903444, 'cancel': 6.133150683356775, 'fee': 5.521761075650147, 'service': 10.093783734711607, 'long': 2.9875492457480255, 'treat': 6.5835349529692655, '6': 3.935926106020556, 'life': 2.4188038997271706, 'started': 3.651051709722974, 'offered': 9.696143508479086, 'back': 4.511089985245285, 'phone': 2.269142199428936, 'basically': 4.596584986449377, 'careful': 4.938945049088877, 'customer': 10.281663327773177, '10': 3.6334014605308464, 'made': 3.0770357083957154, '16': 10.151759469690214, 'problem': 4.86891941389951, 'minutes': 6.213905320566801, 'display': 10.712810735377213, 'supervisor': 6.960096314895081, 'give': 3.1772673576373323, 'accept': 5.246067413582183, 'promotional': 8.44512551670066, 'shame': 5.4898222331423145, 'dropped': 3.525971264934494, 'purchased': 2.9162955903815173, 'apparently': 4.844974178195408, 'carriers': 4.734318428716423, 'complaining': 5.87150558468799, 'suggest': 4.824565306564201, 'make': 2.559860411474204, 'responsible': 6.186906426661599, '9': 5.286921484572746, 'nice': 2.4324719563819386, '200': 4.706557829205607, 'plans': 4.865282087764353, 'stay': 4.33425165252735, 'plan': 15.62994325978818, 'letter': 16.6454524373727, 'response': 4.605876105599372, 'purchase': 2.8752698407741715, 'samsung': 5.113749887519646, 'upset': 5.584543195606603, 'spent': 4.489175907081821, 'digress': 8.751855784123135, 'time': 1.8850026310768182, 'termination': 8.210724810861816, 'model': 3.4952956783803772, 'starting': 5.224741395920574, 'order': 3.4681315609036503}, {'ive': 2.5000013068513804, 'built': 4.2189806190177555, 'phone': 0.283642774928617, 'read': 3.330413549587897, 'screen': 1.7267278100730565, 'months': 2.818590916766238, 'problems': 2.726113687659392, 'sunlight': 5.742119462485128, 'sleek': 4.6367872829269725, 'default': 4.904986873874775, '4': 2.949040463660364, 'ringtones': 4.575104446932618, 'works': 1.923782166888349, 'didnt': 2.6433492165834895, 'gave': 3.84014402776002}, {'weighs': 7.030922367463694, 'major': 4.3022903260310015, 'good': 1.3603457042824387, 'barebones': 8.272282703861249, 'phone': 0.283642774928617, 'checking': 5.311273337265255, 'screen': 1.7267278100730565, 'tiny': 4.8563791748093985, 'color': 4.070912346662261, 'isnt': 3.4265969284747118, 'camera': 2.073481417126475, 'external': 4.796675052582369, 'time': 1.8850026310768182, 'doesnt': 2.5716268049747817}, {'northside': 12.415417430252782, 'itll': 5.686788817168081, 'people': 2.85526561435927, 'understand': 4.2865372881271435, 'money': 2.835791957623192, 'pressing': 5.314565521308732, 'havent': 3.7001933883374103, 'happen': 4.79864162155441, 'quality': 2.424102167351134, 'brink': 10.218192852916562, 'cell': 2.662927201268583, 'style': 4.93048714696312, 'crap': 4.85898946081253, 'service': 2.523445933677902, 'chicago': 7.378464827839153, 'open': 3.6766819688893086, 'top': 3.8465810056847065, '45': 4.9071786555741195, 'finally': 3.7300016064220918, 'buttons': 3.6231715827849054, 'start': 7.7000113331321405, 'live': 3.6537106617861426, '4': 2.949040463660364, '80s': 8.40808424502031, 'save': 4.095700043402177, 'youll': 4.264372484567759, 'filled': 6.360978083983412, 'bought': 1.966123285055418, 'soemthing': 10.335975888572946, 'seconds': 8.907397228542834, 'acceptable': 5.4898222331423145, 'stop': 4.475189665107081, 'problem': 4.86891941389951, 'nation': 8.372366162418231, 'phone': 1.701856649571702, 'wake': 5.847339518840807, 'rebates': 7.705887228940448, 'true': 4.4474442505898475, 'voicestream': 10.112832337258737, 'colored': 6.934778506910791, 'muched': 11.316805141584672, 'improved': 5.291744645048175, 'tmobile': 6.312764273475682, 'flip': 4.075438858262355, 'carrier': 7.720316076060177, 'fun': 4.536125945170512, 'worst': 4.091323668802378, 'model': 3.4952956783803772, 'likes': 4.920431196302249}, {'talking': 4.213208993816335, '10': 3.6334014605308464, 'great': 1.3951175524045933, 'dont': 1.894989023161962, 'people': 2.85526561435927, 'ringtones': 4.575104446932618, 'hoffman': 12.415417430252782, 'ppl': 7.082698636987413, 'phone': 0.283642774928617, 'individuals': 7.742588595790876, 'aboutandmatt': 12.415417430252782, 'assign': 6.688569682665585}, {'work': 4.068102178198889, 'figure': 4.303789351945042, 'phones': 1.93841118461224, 'quotbusinessquot': 12.415417430252782, 'drawbacks': 6.488491404282371, 'back': 2.2555449926226423, 'piercing': 9.930510780464783, 'middle': 4.843428980875342, 'itonly': 8.831898491796672, 'samsung': 2.556874943759823, 'table': 6.330918017177611, 'ring': 8.785696966529056, 'fine': 2.934439420434077, 'previous': 3.8113128668472482, 'standing': 6.762928249984132, 'quit': 5.743384484791715, 'dial': 4.708354774882309, 'ringbut': 11.316805141584672, 'stream': 6.052389326712317, 'callerid': 9.707367229150572, 'works': 1.923782166888349, 'situations': 6.363328261328365, 'review': 3.4804353810395483, 'rings': 5.953949253899065, 'drawback': 5.607482486552856, 'vibrate': 11.239423310158536, 'needed': 3.3953904650001063, 'absence': 7.77102653111141, 'setting': 4.341079736163269, 'verizon': 3.3050078969016488, 'answer': 4.440540529693906, 'charger': 3.1622091580494236, 'sliding': 5.685593359763307, 'youre': 3.6125942705108947, 'vibrates': 7.189670756539581, 'life': 2.4188038997271706, 'good': 1.3603457042824387, 'handsfree': 5.998685147740456, 'business': 4.176088002350987, 'askingbattery': 12.415417430252782, 'couple': 3.5744031197688906, 'mr': 7.926781060520643, 'stop': 4.475189665107081, 'impressing': 10.017522157454412, 'phone': 1.418213874643085, 'hear': 3.814986640266489, 'hands': 4.047188391976503, 'front': 3.874312418790232, 'nottmoble': 12.415417430252782, 'dialing': 9.874495472185993, 'aisle': 11.722270249692837, 'great': 2.7902351048091867, 'include': 5.090268472297207, 'airports': 8.426433383688508, 'world': 4.213757239444102, 'talking': 4.213208993816335, 'anywaythe': 8.272282703861249, 'headphones': 4.459641648718596, 'days': 5.36389488010889, 'leave': 4.643085855083169, 'n105': 10.805979517818681, 'time': 1.8850026310768182, 'found': 3.057519493918985, 'guy': 5.033915535746075, 'voice': 13.872005918410615, 'loud': 12.404119063769805, 'worrying': 7.431810808544446}, {'ive': 10.000005227405522, 'counter': 7.12211260552829, 'set': 3.2826062607858373, 'broke': 4.362166276703685, 'people': 2.85526561435927, 'battery': 1.7412662547288804, 'money': 2.835791957623192, 'hard': 3.278400722695443, 'purse': 5.64807430498739, 'replace': 3.626823998959047, 'hardy': 8.354974419706362, 'tons': 5.270221295255611, 'good': 2.7206914085648775, 'im': 4.334270451617274, 'connect': 3.9725168434183997, 'year': 3.093535683543692, 'dish': 8.701845363548474, 'ringers': 7.315551002428584, 'rarely': 5.305537967180511, 'electronic': 11.828255519424786, 'id': 3.770182888955661, 'ago': 3.5063172953272312, 'trust': 5.204598976780562, 'stands': 6.375162718975368, 'vibration': 6.391969837291749, 'things': 9.273370704602263, 'top': 3.8465810056847065, 'itll': 11.373577634336161, 'overly': 6.795016564535632, 'vibrate': 5.619711655079268, 'buttons': 3.6231715827849054, 'finally': 3.7300016064220918, 'call': 2.603223136163045, 'cest': 9.930510780464783, 'horrible': 4.428572529091399, 'slamming': 10.017522157454412, 'charging': 3.791165166543137, 'worth': 3.387078666259634, 'bought': 1.966123285055418, 'hip': 7.661827239146418, 'case': 3.1999900192280424, 'felt': 4.931610742586947, 'la': 4.142846821827879, 'screen': 3.453455620146113, 'attention': 5.50068653753422, 'faceplate': 8.225762688226357, 'hurt': 6.704990412877913, 'hours': 3.339980820741401, 'phone': 1.418213874643085, 'lcd': 10.73928170674654, 'retry': 8.949681527453055, 'wear': 5.496722211232311, 'lasts': 4.294234188173954, 'scratches': 4.38761458188247, 'front': 7.748624837580464, 'strong': 4.811021081456444, 'condition': 3.579188858726768, 'times': 5.960350107895053, 'wont': 3.2275271871141915, 'pocket': 3.6277391912132853, 'great': 5.580470209618373, 'viethe': 12.415417430252782, 'couple': 7.148806239537781, 'showed': 5.390768399799145, 'aroundi': 9.37089499252936, 'tear': 6.721685291450083, 'loud': 4.134706354589935, 'signal': 3.661730203154197, 'caller': 5.621951297672773, 'days': 2.681947440054445, 'face': 4.960697480888781, 'work': 4.068102178198889, 'arent': 4.718296112970157, 'goingover': 12.415417430252782, 'didnt': 2.6433492165834895, 'dropped': 7.051942529868988}, {'gprs': 6.67884513277359, 'stink': 8.701845363548474, 'isnt': 3.4265969284747118, 'hated': 5.772930628885526, 'chargesover': 12.415417430252782, 'previously': 4.890316684126982, 'cover': 3.8203377001794734, 'flip': 8.15087771652471, 'high': 3.6674300285918124, 'front': 7.748624837580464, 'bright': 4.216777974955413, 'doesnt': 7.714880414924345, '4': 2.949040463660364, 'pitch': 15.993153644912368, 'tmobile': 3.156382136737841, '2005': 7.327821095020398, 'ring': 8.785696966529056, 'sounds': 4.716481230439334, 'battery': 3.482532509457761, 'dont': 1.894989023161962, 'happy': 2.7520924342004585, 'worthless': 5.953949253899065, '3595': 8.86006936876337, 'january': 6.1000594287304475, 'itafter': 8.30454356607947, 'wellpros': 10.218192852916562, 'readable': 7.068309899535313, 'charge': 5.7963615338020285, 'cell': 5.325854402537166, 'tight': 6.157749842370143, '3': 5.703074046066709, '5': 2.896636932740309, 'low': 3.5597539995526586, 'easy': 2.3561234265784545, 'phones': 1.93841118461224, 'recorder': 5.914127759712393, 'shows': 4.633861471017442, 'friend': 4.271609453481298, 'pants': 6.21288191306486, 'wearing': 7.035520076712323, 'life': 2.4188038997271706, 'buy': 2.059326763151086, 'screen': 3.453455620146113, 'internet': 2.891434884155287, 'bought': 1.966123285055418, 'pocket': 3.6277391912132853, 'applications': 3.955641509706495, 'put': 3.071245710643079, 'wanted': 3.0200092758146195, 'care': 4.149252993640291, 'kind': 3.9907782204471527, '12': 4.410717919703233, 'bar': 9.441138715736344, 'connectioncons': 10.469507281197469, 'phone': 2.269142199428936, 'minutes': 3.1069526602834006, 'reliable': 4.419773825965511, 'months': 2.818590916766238, 'sucks': 4.455093801103942, 'days': 2.681947440054445, 'dent': 7.334013065268319, 'record': 5.31209536772667, 'games': 3.666636440739672, 'thin': 4.681296126924477, 'tones': 5.147194409093217, 'fully': 4.324708714168785, 'nokia': 2.8686048216553863, 'cracked': 5.301461320686747, 'voice': 3.4680014796026537, 'slightly': 9.416709549764619, 'charged': 4.031984229016069}, {'golf': 8.152737553211466, 'ringtones': 9.150208893865235, 'saver': 6.011843232317967, 'cheap': 3.494093353741517, 'yellow': 6.695105653645371, 'ended': 4.726046322723092, 'ringers': 14.631102004857167, 'find': 2.8170294242055043, 'recharge': 5.454121384342615, 'generous': 14.919180745303043, 'lightingsmall': 12.415417430252782, 'fit': 8.347955480846103, 'capablelets': 12.415417430252782, 'buttons': 3.6231715827849054, 'add': 3.98639992974027, 'attractive': 5.655002739169355, 'easy': 4.712246853156909, 'amazed': 5.784734044610411, 'specificationsconsscratches': 12.415417430252782, 'friendly': 4.424501967161457, '286': 10.469507281197469, 'downloading': 5.033915535746075, 'bubblesmile': 12.415417430252782, 'read': 3.330413549587897, 'tonesno': 11.029123069132892, 'pocket': 3.6277391912132853, 'hifi': 17.96286045153527, 'contactuser': 12.415417430252782, 'basement': 7.48094349712209, 'press': 4.25718751329329, 'day': 5.188558821467359, 'tmobile': 3.156382136737841, 'entire': 4.969415931928662, 'motorola': 3.4062145293281945, 'helpful': 4.851697761838416, 'turns': 4.5383995346303845, 'signal': 7.323460406308394, 'list': 4.337659866515862, 'specific': 5.234586231208226, 'bad': 2.8528720898093187, 'night': 4.3201236534081335, 'break': 4.815015095752382, 'found': 3.057519493918985, 'havent': 3.7001933883374103, 'refer': 14.24422521105658, 'people': 2.85526561435927, 'phones': 1.93841118461224, 'energy': 6.662844791427149, 'mobilechess': 12.415417430252782, 'phone': 4.821927173786489, 'depends': 6.155835966187859, 'ozsleek': 12.415417430252782, 'year': 3.093535683543692, 'download': 7.095698194092681, 'blue': 4.732474260374491, 'pictures': 3.1119510802871155, 'review': 3.4804353810395483, 'pros': 9.908703831796998, 'camerabad': 12.415417430252782, 'cell': 2.662927201268583, 'electronics': 5.571667481246558, 'shows': 4.633861471017442, 'shortcutslight': 12.415417430252782, 'seconds': 4.453698614271417, 'screen': 1.7267278100730565, 'hours': 3.339980820741401, 'small': 5.824665640465108, 'reason': 3.5044269355960624, 'reloops': 12.415417430252782, 'key': 4.0766334588105835, 'stylish': 5.436272155183972, 'strong': 4.811021081456444, 'change': 3.5593263750004933, 'thrown': 6.406604244810187, 'manual': 8.148968408503809, 'great': 2.7902351048091867, 'figured': 4.877987393666273, 'pressgames': 12.415417430252782, 'noticeable': 5.860060538442117, 'technical': 10.277722055068145, 'galore': 8.65421731455922, 'flipped': 7.488163745095577, 'thing': 2.586815074908443, 'games': 3.666636440739672, 'mildly': 7.893628853203742, 'gorgeous': 5.553706089772052, 'love': 2.1263954050973686, 'simple': 3.4525133021598537, 'netbattery': 12.415417430252782, 'owned': 7.558395064829807, 'highly': 3.7978360648052765, 'ring': 8.785696966529056, 'open': 3.6766819688893086, 'size': 3.030703671331819, 'impressed': 4.483414277891398, 'quality': 16.968715171457937, 'durable': 9.406841846410225, 'slept': 9.37089499252936, 'due': 3.8622781120630756, 'camera': 8.2939256685059, 'low': 3.5597539995526586, '6': 3.935926106020556, 'minor': 4.65665688609512, 'listed': 5.08435712503415, 'function': 4.120867915109104, 'life': 2.4188038997271706, 'inches': 6.020155832137333, 'mind': 4.290082343538492, 'recommend': 4.852422004628234, 'buttonstrong': 12.415417430252782, 'back': 2.2555449926226423, 'photos': 3.834498547956, 'tapping': 6.631592247923045, 'scratches': 4.38761458188247, 'etcmany': 11.316805141584672, 'easymediocre': 12.415417430252782, 'countless': 6.656515656375501, 'sound': 6.483067190574429, 'megatones': 10.805979517818681, 'wouldnt': 3.7664944681586503, 'lessenedetc': 12.415417430252782, '18': 5.966528036105925, 'challenge': 6.7318376629141, 'flip': 4.075438858262355, '33': 8.390065739517633, 'idle': 6.784205648431417, 'accidently': 6.577686983086842, 'tones': 15.44158322727965, 'learn': 4.651121423802264, 'problem': 2.434459706949755, 'voice': 6.936002959205307, 'cons': 9.866597013401334, 'shortcuts': 12.139562138848373, 'pro': 5.336233035643114, 'purse': 5.64807430498739, 'general': 4.928243736039043, 'high': 3.6674300285918124, 'good': 4.081037112847316, 'dropped': 3.525971264934494, 'fashioned': 7.644732805787117, 'lightweight': 5.278934221662535, 'times': 2.9801750539475265, 'dying': 6.273380024665426, 'efficient': 5.798014452278305, 'things': 3.091123568200754, 'pricepersonally': 12.415417430252782, 'faultetc': 12.415417430252782, 'downprosextremely': 12.415417430252782, 'tight': 6.157749842370143, 'interested': 5.415994962744821, '5': 2.896636932740309, 'details': 16.031532198123752, 'entitled': 8.777831270526397, 'useimpressively': 12.415417430252782, 'picture': 3.7054574241810516, 'kinds': 6.229208806352289, 'separate': 5.414171808183307, 'keys': 7.971053134478683, 'price': 2.265108863048088, 'time': 1.8850026310768182, 'includes': 5.477132946235822, 'preset': 7.391536909406506, 'lighting': 5.791352202452889, 'fun2link': 12.415417430252782, 'extremely': 4.113647667135616, 'specificationsthese': 12.415417430252782, 'purchase': 2.8752698407741715, 'sturdy': 4.846005637802071, 'youre': 7.225188541021789, 'ultimate': 7.044779402125119, 'classy': 7.107149732851577, 'model': 3.4952956783803772, '08': 8.804499517608559, 'fact': 3.652145716239839, 'outnumbered': 10.805979517818681}, {'work': 2.0340510890994445, 'sucks': 4.455093801103942, 'cheap': 3.494093353741517, 'sleek': 4.6367872829269725, 'isnt': 3.4265969284747118, 'cons': 4.933298506700667, 'including': 4.348268390342676, 'dropped': 10.577913794803482, 'download': 3.5478490970463405, 'close': 4.124121578347376, 'hate': 4.408050362269452, 'tzones': 7.54022010705163, 'turn': 3.264084238856632, 'things': 3.091123568200754, 'durable': 4.703420923205113, 'drying': 8.544216419344892, 'bad': 2.8528720898093187, 'plastic': 4.299000357458578, 'window': 5.50068653753422, '6': 3.935926106020556, 'east': 6.755935214493161, 'ago': 3.5063172953272312, 'full': 3.282066099804735, 'option': 3.935926106020556, 'couple': 3.5744031197688906, 'water': 9.195583974398826, 'phone': 0.283642774928617, 'scratches': 4.38761458188247, 'wait': 3.9859631531445516, 'workeds': 12.415417430252782, 'turns': 4.5383995346303845, 'months': 2.818590916766238, 'holes': 7.7332862031285625, 'times': 2.9801750539475265, 'ugly': 6.216938713760474, 'phonebook': 6.396824215756547, 'text': 2.833444538704887, 'small': 2.912332820232554, 'messaging': 4.5125602389722, 'bathtub': 9.707367229150572, 'minutes': 3.1069526602834006}, {'outlook': 5.487859523974466, 'pim': 8.390065739517633, 'color': 4.070912346662261, 'modern': 10.85770194169271, 'number': 6.760766560353298, 'computer': 3.8429787646105664, 'pass': 5.926212498927465, 'irda': 8.88905690563662, 'xp': 7.340243615018955, 'port': 9.095091879712921, 'e105': 8.44512551670066, 'information': 4.402405319883867, 'copy': 5.5780846155671915, 'handheld': 7.2280316244120275, 'good': 1.3603457042824387, 'program': 4.870556361594325, 'functionality': 4.493519019228986, 'nice': 4.864943912763877, 'downloading': 5.033915535746075, 'creating': 6.752456950116836, 'screen': 1.7267278100730565, 'school': 5.65037845347224, 'sync': 4.62018250125061, 'phone': 1.701856649571702, 'running': 3.9596742011527675, 'device': 6.038357145984604, 'samsungs': 5.504666642290847, 'info': 4.857422471721977, 'numbernice': 12.415417430252782, 'seperate': 15.580889233937022, 'package': 4.20556494895151, 'windows': 3.527626666057456, 'easygprs': 9.324374976894466, 'work': 2.0340510890994445, 'person': 3.7579406933894886, '2000': 6.759425619432929, 'entry': 10.817444406831482, 'problem': 2.434459706949755, 'ir': 6.714973856862096, 'software': 3.2089846831076163}, {'ive': 2.5000013068513804, 'love': 2.1263954050973686, 'features': 2.463139713547222, 'ringtones': 9.150208893865235, 'month': 3.0803846143192812, 'tons': 5.270221295255611, 'download': 3.5478490970463405, 'check': 3.874117163493312, 'perfect': 2.9487308661346714, 'things': 3.091123568200754, 'bad': 2.8528720898093187, 'cell': 2.662927201268583, 'internet': 8.67430465246586, 'games': 7.333272881479344, 'email': 3.2839038388225705, 'nice': 2.4324719563819386, 'play': 3.598564189625357, '299': 7.438683687832207, 'phone': 1.134571099714468, 'youre': 3.6125942705108947, 'christmas': 4.876922430839317, 'absloutely': 12.415417430252782, 'adore': 7.714937064460366, 'time': 1.8850026310768182, 'fun': 4.536125945170512, 'problem': 2.434459706949755}, {'ive': 2.5000013068513804, 'drier': 10.805979517818681, 'turned': 3.8329984539188375, 'back': 2.2555449926226423, 'owned': 3.7791975324149036, 'years': 3.0374462168926484, 'monitor': 6.698389728846561, '48': 6.351632221565174, 'top': 3.8465810056847065, '2': 2.5129303780502377, 'washer': 7.972766173762466, 'today': 4.299896548706013, 'gave': 3.84014402776002, 'ago': 3.5063172953272312, 'problems': 2.726113687659392, 'e105': 8.44512551670066, 'hours': 3.339980820741401, 'dry': 6.878083163234246, 'great': 1.3951175524045933, 'crt': 9.930510780464783, 'samsung': 2.556874943759823, 'days': 2.681947440054445, 'works': 1.923782166888349}, {'ordered': 3.400605442557836, 'features': 2.463139713547222, 'give': 3.1772673576373323, 'moments': 6.708307165503906, 'years': 3.0374462168926484, 'heard': 4.711507220636471, 'isnt': 3.4265969284747118, 'numbers': 4.295126116284221, 'sony': 3.9901202535410816, 'wont': 3.2275271871141915, '80': 5.517712487124147, 'lacks': 5.526844970687419, 'open': 3.6766819688893086, 'reliable': 4.419773825965511, 'size': 3.030703671331819, 'dial': 4.708354774882309, 'flaws': 5.7408560384383565, 'ericsson': 5.148590082732191, 'color': 4.070912346662261, 'camera': 2.073481417126475, 'black': 3.8776376052281565, 'exellent': 7.996576822456184, '105': 8.918909868786303, 'minor': 4.65665688609512, 'picture': 3.7054574241810516, 'good': 1.3603457042824387, 'big': 2.9038619715422342, 'screen': 1.7267278100730565, 'recommend': 4.852422004628234, 'rejected': 7.587103692950481, 'delivery': 4.512190621522049, 'phone': 1.418213874643085, 'stays': 5.779470874566136, 't610': 7.102211451210994, 'e715': 7.309471956352201, 'cool': 7.767459585372184, 'ago': 3.5063172953272312, '13': 5.31786857963799, 'motorola': 3.4062145293281945, 'samsung': 2.556874943759823, 'recieved': 5.399705009765553, 'dollars': 4.6617938836930355, 'days': 2.681947440054445, 'times': 2.9801750539475265, 'thought': 3.3539251550130156, 'thing': 2.586815074908443, 'common': 5.008099719783365, 'v300': 8.28828304520769}, {'smaller': 4.3089029139975965, 'features': 2.463139713547222, 'ringtones': 4.575104446932618, 'satisfied': 3.96436404134109, 'flip': 4.075438858262355, 'bright': 4.216777974955413, 'doesnt': 2.5716268049747817, 'im': 4.334270451617274, 'pics': 4.623481473314723, 'worry': 5.213501112721155, 'impressed': 4.483414277891398, 'crap': 4.85898946081253, 'incredible': 4.993043729265958, 'color': 4.070912346662261, 'dropping': 5.274964387151623, '65000': 9.014220048590627, 'extensive': 6.49116163283825, 'steel': 7.0217898839004205, 'good': 1.3603457042824387, 'colorful': 6.61329905487572, 'song': 5.784734044610411, 'models': 4.825070484650216, 'screen': 1.7267278100730565, 'polyphonic': 7.473775007643478, 'damagenothing': 12.415417430252782, 'phone': 0.567285549857234, 'lcd': 5.36964085337327, 'baby': 6.150116217515072, 'e105': 8.44512551670066, 'day': 2.5942794107336793, 'sound': 3.2415335952872146, 'received': 2.9800951976887498, 'casing': 6.275532878026527, 'samsung': 2.556874943759823, 'clear': 3.4468938748564306, 'selections': 7.3528223972258155, 'tons': 5.270221295255611, 'worried': 5.3748810400368265, 'arent': 4.718296112970157, 'reception': 3.499716611295879, 'stylish': 5.436272155183972, 'loud': 4.134706354589935}, {'orgnaizer': 12.415417430252782, 'smaller': 4.3089029139975965, 'features': 2.463139713547222, 'ringtones': 4.575104446932618, 'phones': 1.93841118461224, '65000': 9.014220048590627, 'replace': 3.626823998959047, 'colors': 9.402372570807394, 'purchased': 2.9162955903815173, '256': 7.893628853203742, 'huge': 4.091566298913965, 'nokia': 11.474419286621545, 'built': 4.2189806190177555, 'menu': 4.170820673870285, 'color': 12.212737039986784, 'music': 3.131919537658873, 'easy': 2.3561234265784545, 'forward': 5.08304822432372, 'include': 5.090268472297207, 'sghe105': 24.830834860505565, 'real': 3.7980169784195192, 'good': 1.3603457042824387, 'pretty': 2.9103200721528566, '3390': 18.839370313397584, 'screen': 6.906911240292226, 'polyphonic': 7.473775007643478, 'choice': 4.215678469621996, 'phone': 0.567285549857234, 'understand': 4.2865372881271435, 'sound': 3.2415335952872146, '4056': 10.623657961024728, 'hesitant': 6.3539605113247655, 'samsung': 5.113749887519646, 'straight': 4.464914995443931, 'flip': 4.075438858262355, 'aim': 7.0778793505514646, 'purchase': 2.8752698407741715, 'display': 7.141873823584809}, {'trim': 7.742588595790876, 'deciding': 6.537681648473143, 'set': 6.565212521571675, 'addresses': 13.244807643737277, 'simply': 3.9888056170677832, 'ive': 2.5000013068513804, 'techie': 6.773510359314669, 'text': 2.833444538704887, 'address': 18.88592041897404, 'wishing': 7.611396385519526, 'back': 2.2555449926226423, 'existing': 5.680825770279834, 'heard': 4.711507220636471, 'im': 4.334270451617274, 'comments': 5.286921484572746, 'motos': 8.608754940482463, 'message': 15.487887470769916, 'made': 3.0770357083957154, 'quality': 2.424102167351134, 'overwhelmed': 8.05870860356319, 'size': 3.030703671331819, 'blow': 6.828168771852533, 'note': 3.9432216047672806, 'guess': 4.07424568308202, 'monkey': 9.014220048590627, 'horrid': 7.459590372651522, 'things': 3.091123568200754, 'tossing': 8.777831270526397, 'switch': 4.140550609567528, 'send': 16.058998020187133, 'networks': 4.940078193686046, 'rubberized': 6.714973856862096, 'include': 5.090268472297207, 'quotautomatequot': 12.415417430252782, 'book': 4.685682098867732, 'slipping': 7.611396385519526, '9': 5.286921484572746, 'subject': 6.637765107030126, 'type': 7.6215259261331, 'email': 22.987326871757993, 'att': 5.8324413511941, 'templates': 17.89936305490611, 'head': 5.430701110134517, 'rub': 8.565269828542723, 'hand': 3.7724730335309844, 'phone': 0.850928324785851, 'ridiculous': 5.57273414801436, 'characters': 6.256322041760849, 'messaging': 4.5125602389722, 'line': 3.9167956244219804, 'nooooo': 10.469507281197469, 'sound': 3.2415335952872146, 'motorola': 3.4062145293281945, 'tmobile': 9.469146410213522, 'persons': 6.4992153676453475, 'quot500quotheres': 12.415417430252782, 'phonesim': 9.582204086196565, 'experience': 3.540549794564729, 'agree': 5.592131307897095, 'thing': 2.586815074908443, 'bad': 2.8528720898093187, 'part': 3.8970249582610625, 'painful': 6.947357289117651, 'klunky': 9.930510780464783, 'add': 3.98639992974027, 'small': 5.824665640465108, 'emailsthe': 9.582204086196565, 'slightly': 4.708354774882309, 'v300': 8.28828304520769}, {'answering': 6.404150255848621, 'dar': 16.967183595056913, 'sentence': 7.371992313333536, 'text': 2.833444538704887, 'move': 4.585389347718943, 'rest': 9.904108769465523, 'discovered': 5.357519492840925, 'elapses': 11.316805141584672, 'isnt': 10.279790785424135, 'selection': 5.5547537588044955, 'comma': 8.701845363548474, 'darrel': 12.415417430252782, 'telling': 5.462688785627914, 'ringers': 7.315551002428584, 'fine': 2.934439420434077, 'find': 5.634058848411009, 'displaysheres': 12.415417430252782, '1': 10.213146060332903, 'restuarants': 12.415417430252782, 'group': 6.038690482354156, 'fit': 4.173977740423052, 'volumeonce': 12.415417430252782, 'front': 7.748624837580464, 'fix': 3.994074564493379, 'dryout': 12.415417430252782, 'send': 3.2117996040374264, 'handy': 4.934425267383257, 'annoyingreception': 12.415417430252782, 'add': 7.97279985948054, 'pretty': 2.9103200721528566, 'msgsing': 11.316805141584672, 'complaint': 4.513669911732638, 'fond': 7.398137593437858, 'hit': 8.979074227030443, 'slash': 8.949681527453055, 'food': 15.08044021410326, 'handi': 9.279923214323633, 'number': 16.901916400883245, 'putting': 5.119682357503501, 'decide': 10.606179971083742, 'press': 4.25718751329329, 'immediately': 4.52820884443885, 'realize': 5.030186507186208, 'tmobile': 3.156382136737841, 't9': 18.865644738415792, 'button': 6.619320196938078, 'sentenceanother': 12.415417430252782, 'bright': 4.216777974955413, 'greatanother': 10.805979517818681, 'phonebook': 6.396824215756547, 'continue': 5.229273125730457, 'common': 5.008099719783365, 'night': 4.3201236534081335, 'phoenix': 8.544216419344892, 'found': 6.11503898783797, 'bought': 3.932246570110836, 'side': 3.7974743357364016, 'restaurants': 7.619626884656041, 'displayedremember': 12.415417430252782, 'keystroking': 12.415417430252782, 'phones': 3.87682236922448, 'hard': 3.278400722695443, 'positioned': 8.30454356607947, 'back': 9.02217997049057, 'sign': 10.737540304808054, 'computer': 3.8429787646105664, 'choices': 5.909633370124554, 'click': 5.0326709805138705, 'special': 5.227760266137826, 'exclamation': 8.777831270526397, 'headset': 4.546398053753759, 'dictionary': 20.88028894468524, 'space': 17.10040756037119, 'giving': 4.581817206591678, 'rings': 5.953949253899065, 'access': 3.7635185359842533, 'rel': 10.469507281197469, 'alernate': 12.415417430252782, 'mode': 4.160888548313038, 'onscrolling': 12.415417430252782, 'stkhse': 12.415417430252782, 'opening': 5.227760266137826, 'screen': 3.453455620146113, 'pushing': 18.537143520147232, 'dome': 10.469507281197469, 'worries': 6.780627827083532, 'key': 61.14950188215875, 'put': 12.284982842572315, 'appears': 4.957808140537176, 'change': 21.35595825000296, 'thrift': 10.805979517818681, 'great': 1.3951175524045933, 'accident': 6.048946982521344, 'daughter': 4.279484658247892, 'working': 2.841893342425041, 'voicemail': 5.459824821856485, 'changed': 4.660078617406281, 'days': 2.681947440054445, 'agree': 5.592131307897095, 'turn': 3.264084238856632, 'airport': 7.184308813398196, 'period': 15.004341420187012, 'youve': 16.05967739389868, 'canthen': 12.415417430252782, 'apostrophe': 17.96286045153527, 'weird': 5.334549533562001, 'replacement': 3.6159065288839143, 'loud': 4.134706354589935, 'options': 4.091566298913965, 'silence': 7.017254728735029, 'voicemailthis': 11.316805141584672, 'contractions': 11.316805141584672, 'letters': 5.220980579152448, 'coverage': 4.5448695857450705, 'magically': 7.949509311598199, 'extra': 3.8651763847903444, 'anothers': 8.88905690563662, 'tmo': 7.082698636987413, 'unbelievable': 6.4805232346331945, 'flipping': 7.466657539874614, '60': 5.0988692530698065, 'initialize': 8.65421731455922, 'colon': 10.218192852916562, 'names': 5.936907788044213, 'changing': 5.3236753151576295, 'ring': 4.392848483264528, 'txt': 6.377546510330644, 'open': 3.6766819688893086, 'suck': 5.936907788044213, 'long': 5.975098491496051, 'dont': 3.789978046323924, 'takes': 3.2479845592878758, 'service': 2.523445933677902, 'question': 5.443748825526993, 'lets': 4.76667764129654, 'fast': 2.5556205663413873, 'mark': 6.194827260153043, 'hitting': 5.885998591990557, 'needed': 3.3953904650001063, 'droppings': 11.316805141584672, '2': 5.025860756100475, 'call': 10.41289254465218, 'typing': 4.584991812432451, 'perfectly': 3.692674555923383, 'type': 22.8645777783993, 'friend': 4.271609453481298, 'function': 4.120867915109104, 'myselfi': 8.981430225767635, 'buy': 2.059326763151086, 'complete': 4.694512178316003, 'silenced': 9.525045672356617, 'relieved': 7.872122647982779, 'voicemailsomeone': 12.415417430252782, 'silences': 9.419685156698792, 'phone': 3.687356074072021, 'finished': 6.6853176472792075, 'simply': 15.955222468271133, 'hear': 7.629973280532978, 'broke': 4.362166276703685, 'worked': 6.068812888447013, 'true': 4.4474442505898475, 'eat': 6.469996821646207, 'case': 3.1999900192280424, 'unscrewed': 11.316805141584672, 'made': 3.0770357083957154, 'word': 66.5544648845197, 'unlike': 4.827600210259355, 'locks': 5.50068653753422, 'default': 4.904986873874775, 'friendspouse': 12.415417430252782, 'ebay': 5.4325546787838395, 'cursor': 7.178975467422833, 'store': 3.218263620080775, 'balance': 5.903672100608055, 'display': 3.5709369117924044, 'dropped': 7.051942529868988, 'toilet': 6.8394683271064665, 'juvenile': 9.642828708013, 'ringing': 12.40963470645626, 'semicolon': 11.316805141584672, 'give': 9.531802072911997, 'ringer': 11.375971410803853, 'sticker': 6.507334492083851, 'toneson': 12.415417430252782, 'turned': 3.8329984539188375, 'mine': 3.815723017324801, 'ive': 7.500003920554141, 'dash': 7.510142651814353, 'middle': 4.843428980875342, 'numbers': 12.885378348852663, 'ready': 4.704316178412625, 'times': 11.920700215790106, 'id': 3.770182888955661, 'earpiece': 5.717149376137369, 'worse': 4.62389461110205, 'thought': 3.3539251550130156, 'anymore': 4.638043827594921, 'punctuation': 7.996576822456184, 'tip': 19.111236348650312, 'feature': 6.570839621918275, 'shocked': 6.477881225170356, 'til': 14.27460554204453, 'instance': 6.123848290694462, 'problemvery': 11.316805141584672, 'book': 9.371364197735463, 'eatoutback': 12.415417430252782, 'answer': 4.440540529693906, 'place': 4.077829488136271, 'begin': 5.738333969005646, 'finish': 5.642337054597247, 'multiple': 4.5391585479495555, 'inadvertently': 7.327821095020398, 'keys': 3.9855265672393414, 'typed': 6.791399924065444, 'optionsbut': 11.316805141584672, 'bangt9': 12.415417430252782, 'wrong': 14.911226346181659, 'letter': 11.0969682915818, 'messaging': 4.5125602389722, 'alpha': 16.89025103340132, 'spelling': 7.398137593437858, 'tmobiles': 5.603072336075304, 'theonetouch': 12.415417430252782, 'million': 6.389551456427468, 'antenna': 10.744515028528884, 'calls': 2.6460328622401343, 'neatstill': 12.415417430252782, 'clear': 6.893787749712861, 'youre': 10.837782811532684, 'sunphone': 12.415417430252782, 'complaintsscreen': 12.415417430252782, 'phoneto': 8.181310925655524, 'person': 7.515881386778977, 'part': 7.794049916522125, 'fact': 3.652145716239839, 'time': 11.310015786460909, 'push': 62.66039196818453, 'left': 11.929206059701706, 'words': 4.836249462856706, 'scroll': 10.593182362381409, 'talk': 3.5237683176027255, 'modei': 8.751855784123135}, {'ive': 2.5000013068513804, 'weeks': 3.4650142704198217, 'figure': 4.303789351945042, 'text': 2.833444538704887, 'ill': 3.8821540586590504, 'suggestions': 6.784205648431417, 'havnt': 8.210724810861816, 'dialing': 4.9372477360929965, 'phone': 0.283642774928617, 'good': 1.3603457042824387, 'individuals': 7.742588595790876, 'decrease': 7.705887228940448, 'tones': 5.147194409093217, 'ring': 4.392848483264528, 'assign': 6.688569682665585, 'complain': 4.731093362571627, 'size': 3.030703671331819}, {'addresses': 6.622403821868638, 'people': 5.71053122871854, 'battery': 1.7412662547288804, 'phones': 1.93841118461224, 'back': 2.2555449926226423, 'phone': 0.567285549857234, 'juice': 6.1146316355895385, 'weather': 5.411443293530102, 'talkes': 11.029123069132892, 'numbers': 4.295126116284221, 'happen': 4.79864162155441, 'fine': 2.934439420434077, 'readily': 7.054125264543357, 'funny': 6.071536996126452, 'shame': 5.4898222331423145, 'aesthetically': 7.3528223972258155, 'superglued': 9.930510780464783, 'things': 3.091123568200754, 'make': 2.559860411474204, 'percent': 6.6346739144604525, 'signals': 6.295120011301832, 'charge': 2.8981807669010142, 'ticking': 7.915607759922517, 'recommend': 2.426211002314117, 'pleasing': 6.951585625227172, 'speaking': 5.669005301679408, 'poor': 7.851602013213559, 'buy': 2.059326763151086, 'recently': 4.396133637335989, 'business': 4.176088002350987, 'afford': 5.586705358611098, 'antennae': 7.893628853203742, 'antenae': 11.316805141584672, 'signal': 3.661730203154197, 'lcd': 5.36964085337327, 'broke': 4.362166276703685, 'sexy': 6.387138910022084, 'strong': 9.622042162912887, '95': 6.766443192091576, 'annoy': 7.411471124307323, 'drops': 4.988868357855478, 'calls': 2.6460328622401343, 'appearthe': 12.415417430252782, 'fully': 4.324708714168785, 'reliable': 4.419773825965511, 'drop': 4.236778641662082, 'display': 3.5709369117924044, 'callsit': 9.1573208922313, 'massive': 6.6346739144604525, 'reception': 3.499716611295879, 'im': 2.167135225808637, 'left': 3.9764020199005685, 'called': 3.726121382236922, 'dropped': 7.051942529868988}, {'feed': 7.044779402125119, 'feedback': 5.671358243941435, 'sentence': 7.371992313333536, 'headsets': 6.557484275769323, 'year': 3.093535683543692, 'caps': 7.872122647982779, 'number': 6.760766560353298, 'pcs': 5.992170466719262, 'due': 3.8622781120630756, 'high': 3.6674300285918124, 'im': 2.167135225808637, 'names': 5.936907788044213, 'entering': 6.035294893353017, 'forgot': 6.103682621099868, 'home': 3.418889282161925, 'ring': 8.785696966529056, 'port': 4.547545939856461, 'move': 4.585389347718943, 'idea': 4.764297254550082, 'huge': 12.274698896741896, 'speakers': 4.852736183530897, 'end': 3.5197878031162997, 'pc': 4.437449337124233, 'check': 3.874117163493312, 'plantronix': 12.415417430252782, '3': 2.8515370230333543, 'vibrate': 5.619711655079268, 'created': 6.179047840049078, 'stuck': 4.442951414278217, 'add': 3.98639992974027, '2': 2.5129303780502377, 'versa': 7.340243615018955, 'online': 3.712741018705011, 'input': 5.3819109459650845, 'type': 3.81076296306655, 'switching': 4.911025871091543, 'sim': 2.7426646697266848, 'back': 11.277724963113211, 'ir': 6.714973856862096, 'pain': 5.011747140240408, 'jabra': 7.619626884656041, 'palms': 8.225762688226357, 'nokia': 2.8686048216553863, 'free': 3.337808770730558, 'rebates': 7.705887228940448, 'pocket': 3.6277391912132853, 'phone': 1.701856649571702, 'plan': 3.125988651957636, 'juvinile': 12.415417430252782, 'found': 3.057519493918985, 'wanted': 3.0200092758146195, 'entries': 6.485828286862888, 'sinc': 9.582204086196565, 'change': 3.5593263750004933, 'case': 3.1999900192280424, 'feet': 6.045516447424555, 'great': 1.3951175524045933, 'tmobile': 3.156382136737841, 'vice': 7.178975467422833, 'mobile': 6.1271549920058, 'work': 2.0340510890994445, 'phonebook': 6.396824215756547, 'store': 3.218263620080775, 'tones': 5.147194409093217, 'time': 3.7700052621536364, 'entry': 5.408722203415741, 'problem': 2.434459706949755, 'numbers': 8.590252232568442}, {'text': 8.500333616114661, 'press': 8.51437502658658, 'letters': 5.220980579152448, 'hate': 4.408050362269452, 'dont': 1.894989023161962, 'adding': 5.501680079593098, 'buttons': 3.6231715827849054, 'finally': 3.7300016064220918, 'attractive': 5.655002739169355, 'folks': 5.584543195606603, 'mail': 4.426196021437506, 'save': 4.095700043402177, 'onlyreally': 12.415417430252782, 'instantly': 5.914127759712393, 'predecessor': 7.587103692950481, 'sound': 3.2415335952872146, 'good': 1.3603457042824387, 'caps': 7.872122647982779, 'half': 3.8974245586659806, 'telling': 10.925377571255828, 'it3': 7.904557923735932, 's105': 8.608754940482463, 'hinges': 8.565269828542723, 'drop': 8.473557283324164, 'continue': 5.229273125730457, 'upthe': 7.452572799992875, 'poor': 3.9258010066067794, 'keypad': 4.357406629450697, 'people': 2.85526561435927, 'hard': 3.278400722695443, 'individual': 6.20080933183059, 'impossible': 4.857944528638035, 'close': 4.124121578347376, 'ruined': 7.017254728735029, 'ring': 4.392848483264528, 'sum': 6.691832328300402, 'cell': 2.662927201268583, 'lights': 5.972877263784583, 'waiting': 8.788979422542411, 'outgoing': 6.5046207862122545, 'noise': 5.380148830971685, 'through5': 12.415417430252782, 'free': 3.337808770730558, 'broken': 4.429252569920055, 'thrown': 6.406604244810187, 'comparison': 5.284518599956435, 'yelling': 8.86006936876337, 'messaging2': 11.316805141584672, 'messages': 7.341858632799718, 'terrible': 8.635982263311137, 'times': 2.9801750539475265, 'thing': 2.586815074908443, 'airport': 7.184308813398196, 'place': 4.077829488136271, 'ones7': 12.415417430252782, 'messaging': 4.5125602389722, 'attention6': 12.415417430252782, 'options': 8.18313259782793, 'tone': 5.504666642290847, 'addresses': 6.622403821868638, 'feel': 3.3354135600046027, 'clumsy': 6.434003218998302, 'loved9': 12.415417430252782, 'tiny': 4.8563791748093985, 'dinged': 8.44512551670066, 'message': 3.871971867692479, 'quality': 4.848204334702268, 'annoyance': 6.363328261328365, 'chrome': 6.330918017177611, 'charge': 2.8981807669010142, 'long': 2.9875492457480255, 'beep': 13.436647887494756, 'call': 2.603223136163045, '6': 3.935926106020556, 'store': 3.218263620080775, 'multitoned': 12.415417430252782, 'trapped': 8.426433383688508, 'phone': 0.567285549857234, 'hear': 15.259946561065956, 'effort': 5.958647774680619, 'case': 3.1999900192280424, 'caller': 5.621951297672773, 'smooth': 4.323790018651712, 'deleteway': 12.415417430252782, 'aim': 7.0778793505514646, 'tones': 5.147194409093217, 'annoyingcannot': 12.415417430252782, 'voice': 3.4680014796026537, 'delete': 4.903346184417316, 'lock': 4.338591398953974, 'year': 6.187071367087384, 'scratchesthe': 10.112832337258737, 'im': 2.167135225808637, 'dropped': 3.525971264934494, 'over4': 12.415417430252782, 'dozen': 6.6193596794874106, 'things': 6.182247136401508, 'holds': 5.270221295255611, 'timeotherwise1': 12.415417430252782, 'regularlythere': 12.415417430252782, 'speaker': 7.293997406790758, 'pales': 9.048121600266308, 'week': 3.4669614379072398, 'visually': 7.267922953439329, 'piece8': 12.415417430252782, 'qualities': 6.922355986912234, 'keys': 3.9855265672393414, 'constanly': 9.279923214323633, 'dented': 8.372366162418231, 'falls': 5.933840300976351, 'moment': 5.156301302155682, 'commit': 7.696918558957687, 'lower': 4.92488802819207, 'remember': 4.901162777436372, 'honestly': 5.040161652243028, 'reception': 3.499716611295879, 'time': 3.7700052621536364, 'order': 3.4681315609036503, 'capswith': 12.415417430252782}, {'poor': 3.9258010066067794, 'sound': 6.483067190574429, 'irish': 10.469507281197469, 'tough': 5.481994404522068, 'features': 2.463139713547222, 'fades': 8.166922188203424, 'general': 4.928243736039043, 'phone': 0.567285549857234, 'neat': 5.562118337066704, 'small': 2.912332820232554, 'outthe': 7.904557923735932, 'quality': 2.424102167351134, 'nice': 2.4324719563819386}, {'switched': 4.619359455936658, 'scratch': 14.847569622111905, 'agreed': 6.554631206786916, 'quotyes': 11.029123069132892, 'cheap': 6.988186707483034, 'competitive': 6.866341345357562, 'telling': 5.462688785627914, 'signs': 6.557484275769323, 'argued': 9.119580564248453, 'fine': 2.934439420434077, 'based': 4.641822962892588, 'true': 4.4474442505898475, 'finally': 3.7300016064220918, '4': 2.949040463660364, 'crack': 5.864337095209377, 'covered': 5.549526355369344, 'weeks': 3.4650142704198217, 'good': 1.3603457042824387, 't68is': 11.722270249692837, 'activated': 4.376582672465034, 'void': 14.016491317585327, 'period': 10.002894280124675, 'pocket': 3.6277391912132853, 'lcd': 5.36964085337327, 'front': 3.874312418790232, 'sony': 3.9901202535410816, 'yr': 18.952029444259626, 'day': 7.782838232201038, 'easily': 3.5815174873441475, 'tmobile': 18.938292820427044, 'covering': 6.850897022930089, 'tear': 13.443370582900165, 's105': 8.608754940482463, 'morning': 5.148590082732191, 'bad': 2.8528720898093187, 'lose': 4.919875486368526, 'small': 2.912332820232554, 'found': 3.057519493918985, 'bought': 3.932246570110836, 'replacement': 3.6159065288839143, 'intervening': 11.316805141584672, 'prevent': 6.118308110318846, 'phones': 3.87682236922448, 'receipt': 6.669214239712629, 'dead': 4.491707096283545, 'sign': 5.368770152404027, 'past': 4.267839694051012, 'phonei': 4.769063707806782, 'year': 9.280607050631076, 'ill': 3.8821540586590504, 'repairs': 6.721685291450083, 'waranty': 8.565269828542723, 'lense': 25.1701972185529, 'review': 3.4804353810395483, 'electronics': 5.571667481246558, '365': 8.30454356607947, 'numerous': 5.481994404522068, 'warranties': 7.8510692387849454, 'pressed': 5.700034043918101, 'cancelling': 7.949509311598199, 'yrquot': 12.415417430252782, 'screen': 1.7267278100730565, 'agreement': 7.205931277411361, 'voids': 15.411774457880895, 'refused': 5.772930628885526, 'addtional': 10.112832337258737, 'wear': 10.993444422464622, 'put': 3.071245710643079, 'service': 2.523445933677902, 'joke': 5.686788817168081, 'industry': 6.8356876042665595, 'months': 2.818590916766238, 'days': 2.681947440054445, 'experience': 3.540549794564729, 'flipped': 7.488163745095577, 's105s': 12.415417430252782, 'att': 2.91622067559705, 'warrantyquot': 24.830834860505565, 'luck': 4.799133868672397, 'asked': 4.516263946909684, 'warranty': 34.3001657878705, 'family': 4.453001750131718, 'point': 3.8431680330884666, 'feel': 3.3354135600046027, 'cosmetic': 21.051764186205087, 'couldnt': 3.6134965262112004, 'armed': 9.470978451086342, 'story': 5.64348187441318, 'working': 2.841893342425041, 'start': 3.8500056665660702, 'long': 2.9875492457480255, 'plastic': 8.598000714917156, 'needed': 3.3953904650001063, '2': 5.025860756100475, '6': 3.935926106020556, 'type': 3.81076296306655, 'happy': 8.256277302601376, 'phone': 3.970998849000638, 'hear': 3.814986640266489, 'quotany': 12.415417430252782, 'customer': 3.427221109257726, 'account': 4.240714547783321, 'cracks': 6.574775772879383, 'told': 14.622995036891371, 'thin': 4.681296126924477, 'cracked': 5.301461320686747, 'called': 3.726121382236922, 'proof': 6.20080933183059, 'defect': 5.884539802526897, 'rediculous': 8.503394424824636, 'single': 4.530840919656458, 'quotthe': 12.415417430252782, 'open': 3.6766819688893086, 'lousy': 6.377546510330644, 'damage': 14.677429536541236, '1': 20.426292120665806, 'couple': 3.5744031197688906, 'week': 3.4669614379072398, 'added': 4.672581474822033, 'normal': 8.755102391086329, 'keys': 3.9855265672393414, 'squatted': 12.415417430252782, 'knew': 4.672581474822033, 'problems': 2.726113687659392, 'bothered': 6.548949373319485, 'wrong': 3.7278065865454146, 'abuse': 12.707921022649531, 'plan': 3.125988651957636, 'coverage': 9.089739171490141, 'response': 4.605876105599372, 'ago': 7.0126345906544625, 'deny': 15.831215519845035, 'short': 4.011392936942182, 'calls': 2.6460328622401343, 'samsung': 5.113749887519646, 'considered': 5.743384484791715, 'cover': 7.640675400358947, 'contact': 3.972086087435, 'principle': 8.831898491796672}, {'nicet': 12.415417430252782, 'verizon': 3.3050078969016488, 'giving': 4.581817206591678, 'serve': 6.40170227420998, 'years': 3.0374462168926484, 'phone': 0.283642774928617, 'dave': 12.415417430252782}, {'600': 5.5888722066961884, 'outstanding': 5.497711820417477, 'color': 4.070912346662261, 'money': 2.835791957623192, 'purse': 5.64807430498739, 'upgradei': 9.196541605384581, 'month': 3.0803846143192812, 'past': 4.267839694051012, 'buy': 2.059326763151086, 'slip': 6.2068274041561535, 'mentioned': 4.748259174933635, 'ring': 4.392848483264528, 'pleased': 7.953669278836912, 'renewed': 7.724069548023638, 'service': 2.523445933677902, 'weekends': 7.915607759922517, 'people': 2.85526561435927, 'feature': 3.2854198109591377, 'tiny': 4.8563791748093985, 'camerai': 7.473775007643478, 'cheapo': 7.915607759922517, 'camera': 2.073481417126475, 'freebie': 9.014220048590627, '3999': 8.65421731455922, 'digital': 5.0713445796797165, 'nice': 2.4324719563819386, 'good': 1.3603457042824387, 'stabbing': 10.469507281197469, 'beat': 4.7301738222769485, 'screen': 1.7267278100730565, 'problems': 2.726113687659392, 'free': 3.337808770730558, 'yeah': 5.516702895922794, 'pocket': 3.6277391912132853, 'phone': 0.850928324785851, 'nights': 7.742588595790876, 'hear': 3.814986640266489, 'plan': 3.125988651957636, 'roaming': 6.071536996126452, 'tmobiles': 5.603072336075304, 'phones': 1.93841118461224, 'decided': 3.7765377205799453, 'gutand': 12.415417430252782, 'doesnt': 2.5716268049747817, 'time': 3.7700052621536364, 'havent': 3.7001933883374103, 'itand': 7.262125835755003, 'minutes': 3.1069526602834006, 'stick': 5.081088079952246}, {'small2': 10.335975888572946, 'ten': 5.679637416010455, 'piecespros1': 12.415417430252782, 'move': 4.585389347718943, 'infrared': 6.885988342741359, 'cons': 4.933298506700667, 'mentioned': 4.748259174933635, 'ring': 4.392848483264528, 'annoying': 4.102791404577819, 'top': 3.8465810056847065, 'tones4': 12.415417430252782, 'pros': 4.954351915898499, 'improvement': 5.300647981886319, 'bandcons1': 12.415417430252782, 'doubt': 5.18051900993795, 'dialing3': 11.316805141584672, 'lot': 2.6765097530344515, 'international': 4.0002569644016965, 'work2': 9.048121600266308, 'excited': 4.976445837856921, 'chess': 8.777831270526397, 'play': 3.598564189625357, 'buggy': 5.795344223722426, 'phone': 0.283642774928617, 'preset': 7.391536909406506, 'put': 3.071245710643079, 'ringvibration': 12.415417430252782, 'average': 4.562589617971038, 'compatible': 4.643085855083169, 'light3': 10.469507281197469, 'phonebook': 6.396824215756547, 'anything5': 12.415417430252782, 'voice': 3.4680014796026537}, {'samsung': 5.113749887519646, 'upgraded': 4.4221351021511905, 'caller': 5.621951297672773, 'dont': 5.684967069485886, 'extra': 3.8651763847903444, 'ringtones': 4.575104446932618, 'text': 5.666889077409774, 'year': 3.093535683543692, 'find': 2.8170294242055043, 'satisfied': 3.96436404134109, 'replica': 8.565269828542723, 'ringers': 7.315551002428584, 'effortless': 8.225762688226357, 'phones': 3.87682236922448, 'close': 4.124121578347376, 'operation': 5.5319548438396895, 'calling': 4.0407098871333, 'open': 3.6766819688893086, 'id': 3.770182888955661, 'e105': 25.33537655010198, 'impressive': 5.303089985541871, 'compact': 4.941780321756576, 'signal': 3.661730203154197, 'menus': 9.668415208112872, 'lots': 4.176880500081014, 'answering': 6.404150255848621, 'older': 4.362802611437216, 'feature': 3.2854198109591377, 'whos': 6.416480868306099, 'sound': 3.2415335952872146, 'offers': 4.897353249019704, 'call': 2.603223136163045, 'performs': 5.556852395461417, 'internet': 2.891434884155287, 'performance': 4.019714136424255, 'inconvenient': 6.483172242804772, 'features': 4.926279427094444, 'simplicity': 6.399260270554429, 'organizer': 7.142417871689036, 'good': 2.7206914085648775, 'option': 3.935926106020556, 'tmobilecom': 9.642828708013, 'version': 3.2208000187418357, 'pleased': 3.976834639418456, 'great': 1.3951175524045933, 'flipping': 7.466657539874614, 'phone': 0.283642774928617, 'hifi': 8.981430225767635, 'lot': 2.6765097530344515, 'lighting': 5.791352202452889, 'plan': 3.125988651957636, 'newer': 4.725131409576014, 'e105s': 11.316805141584672, 'trouble': 4.247781715006413, 'standard': 4.354877383714142, 'problem': 2.434459706949755, 'structure': 7.365561423003245, 'areas': 4.958962875076573, 'ago': 3.5063172953272312, 'loved': 3.943430831674624, 'keeping': 5.213501112721155, '12': 4.410717919703233, 'tmobile': 3.156382136737841, 'mega': 6.110968627830801, 't9': 6.288548246138597, 'annoyances': 7.157922058225001, 'navigation': 4.442951414278217, 'clear': 3.4468938748564306, 'months': 2.818590916766238, 'favorite': 4.837271957833316, 'minus': 6.346991842008672, 'tones': 5.147194409093217, 's105': 17.217509880964926, 'messaging': 4.5125602389722, 'model': 3.4952956783803772, 'makes': 3.2732488383799336, 'display': 3.5709369117924044}, {'upgraded': 4.4221351021511905, 'love': 2.1263954050973686, 'ringtones': 4.575104446932618, 'phones': 1.93841118461224, 'handset': 5.417821447270856, 'featuresone': 10.017522157454412, 'ringtonesthe': 9.196541605384581, 'month': 3.0803846143192812, 'recognized': 12.262566538363961, 'purchased': 2.9162955903815173, 'download': 7.095698194092681, 'tells': 5.64807430498739, 'tzones': 7.54022010705163, 'reasons': 5.207557558820307, 'ton': 5.638910437880599, 'main': 4.189646630904049, 'e105i': 11.316805141584672, 'v60': 8.354974419706362, 'phone': 0.850928324785851, 'tmobile': 3.156382136737841, 'ago': 3.5063172953272312, 'great': 1.3951175524045933, 'motorola': 3.4062145293281945, 'supportedi': 10.335975888572946, 'samsung': 2.556874943759823, 'shortlythat': 12.415417430252782, 'accesses': 8.631227796334521, 'problem': 4.86891941389951, 'fixed': 4.526707906070768, 'called': 3.726121382236922}, {'managed': 5.806068187085402, 'text': 5.666889077409774, 'activated': 4.376582672465034, 'bright': 4.216777974955413, 'fine': 2.934439420434077, 'find': 5.634058848411009, 'dont': 1.894989023161962, 'fix': 3.994074564493379, 'headed': 8.337879986347064, 'send': 6.423599208074853, 'squeezing': 9.119580564248453, 'virtually': 6.125701859343785, 'good': 2.7206914085648775, 'colorful': 6.61329905487572, 'batter': 6.589417322872332, 'glitches': 5.586705358611098, 'bar': 4.720569357868172, 'tmobile': 3.156382136737841, 't9': 6.288548246138597, 'signal': 3.661730203154197, 'performing': 6.914159219708055, 'manual': 4.074484204251904, 'isnt': 3.4265969284747118, 'found': 9.172558481756955, 'havent': 3.7001933883374103, 'cycles': 7.679218981858287, 'guessing': 6.874153885094356, 'lastest': 8.503394424824636, 'elevators': 9.119580564248453, 'back': 4.511089985245285, 'year': 6.187071367087384, 'close': 4.124121578347376, 'basements': 10.017522157454412, '3': 2.8515370230333543, 'smallest': 7.003771378397742, 'reply': 5.745919340394903, 'correct': 4.897353249019704, 'shut': 4.6998478957325736, 'chose': 4.89681021343753, 'extend': 6.571873013221422, 'bc': 12.585849241476792, 'screen': 1.7267278100730565, 'hours': 3.339980820741401, 'great': 1.3951175524045933, 'receive': 3.742760136212473, 'barely': 4.826081607082165, 'days': 2.681947440054445, 'times': 2.9801750539475265, 'turn': 3.264084238856632, 'admit': 5.528885787722272, 'shaded': 10.017522157454412, 'powersaving': 8.86006936876337, 'frustating': 10.218192852916562, 'tone': 5.504666642290847, 'features': 2.463139713547222, 'predictive': 6.375162718975368, 'battery': 1.7412662547288804, 'doesnt': 5.143253609949563, 'downside': 5.305537967180511, 'impossible': 4.857944528638035, 'ring': 4.392848483264528, 'quality': 2.424102167351134, 'select': 5.091586864050465, 'impressed': 4.483414277891398, 'service': 2.523445933677902, 'texting': 3.3651284464248263, 'long': 5.975098491496051, 'msg': 14.547507747500244, 'type': 3.81076296306655, 'function': 8.241735830218207, 'life': 2.4188038997271706, 'searching': 5.272590029091162, 'phone': 1.418213874643085, 'bum': 9.083212920077578, 'dialing': 4.9372477360929965, 'word': 4.753890348894265, 'work': 2.0340510890994445, 'error': 4.892476512180412, 'ive': 10.000005227405522, 'stated': 4.856900687207138, 'sales': 5.854386764356209, 'middle': 4.843428980875342, 'im': 4.334270451617274, 'angle': 6.515520076670291, 'lith': 12.415417430252782, 'pain': 10.023494280480817, 'description': 4.375615086516298, 'ion': 7.705887228940448, 'tmobiles': 5.603072336075304, 'recent': 5.39254934417014, 'ago': 3.5063172953272312, 'talktime': 8.337879986347064, 'considered': 5.743384484791715, 'contiunally': 12.415417430252782, 'lasted': 4.8785203006866125, 'person': 3.7579406933894886, 'solve': 5.438136088622035, 'greatest': 5.443748825526993, 'reception': 10.499149833887637, 'model': 3.4952956783803772}, {'set': 3.2826062607858373, 'give': 3.1772673576373323, 'canceled': 7.5791355233013045, 'im': 2.167135225808637, 'cans': 8.426433383688508, 'incorrect': 6.951585625227172, 'network': 3.3389513668329274, 'travel': 4.628035403768082, 'listing': 6.333198519876336, 'string': 7.445604130676782, 'verizon': 3.3050078969016488, 'hand': 3.7724730335309844, 'phone': 0.567285549857234, 'amazon': 2.6751549388196203, 'hadnt': 6.138773940911138, 'ghettoi': 12.415417430252782, 'tmobile': 3.156382136737841, 'shame': 5.4898222331423145, 'time': 3.7700052621536364, 'problem': 2.434459706949755, 'gsm': 4.069724556998916, 'fact': 3.652145716239839}, {'timeam': 11.316805141584672, 'fair': 5.346394003674523, 'ringer': 5.6879857054019265, 'snooze': 7.54022010705163, 'cons': 4.933298506700667, 'hides': 8.483591797528456, 'ring': 4.392848483264528, 'open': 3.6766819688893086, 'city': 5.682015538415423, 'fails': 6.047230243902289, 'compared': 3.8036415963505967, 'takes': 3.2479845592878758, 'service': 2.523445933677902, 'lil': 6.889964491120998, 'defend': 10.017522157454412, 'rings': 5.953949253899065, 'long': 2.9875492457480255, '1': 3.4043820201109676, 'start': 3.8500056665660702, '3': 5.703074046066709, 'pocket3': 10.218192852916562, 'with4': 11.316805141584672, 'option3': 10.218192852916562, 'nice': 2.4324719563819386, 'easy': 2.3561234265784545, 'cons1': 8.071612008399098, 'strokes': 8.195909725076675, 'nokia': 5.737209643310773, 'hand': 3.7724730335309844, 'volume': 3.817750854686668, 'tones': 5.147194409093217, 'key': 4.0766334588105835, 'models5': 12.415417430252782, 'e105': 8.44512551670066, 'change': 7.118652750000987, '6010': 7.949509311598199, 'great': 1.3951175524045933, 'alarm': 4.813515470377617, 'coz': 7.239267697678953, 'flip': 4.075438858262355, 'daily': 4.891936117679284, 'light2': 9.470978451086342, 'girlishpros': 12.415417430252782, 'bad': 5.7057441796186374, 'on2': 9.37089499252936, 'place': 4.077829488136271, 'atleast': 6.9816954266985425, 'reception': 6.999433222591758, 'outdoors': 6.328642703340475, 'alarms': 6.1615886186773094, 'irritating3': 11.316805141584672}, {'tear': 6.721685291450083, 'set': 3.2826062607858373, 'tone': 11.009333284581693, 'key': 4.0766334588105835, 'people': 2.85526561435927, 'ringer': 5.6879857054019265, 'recieves': 8.981430225767635, 'screens': 4.514040076460167, 'colors': 4.701186285403697, 'finish': 5.642337054597247, 'im': 2.167135225808637, 'sony': 3.9901202535410816, 'love': 2.1263954050973686, 'message': 3.871971867692479, 'ring': 13.178545449793583, 'special': 5.227760266137826, 'blue': 4.732474260374491, 'reviews': 3.417527980052066, 'layout': 5.833392291359956, 'service': 2.523445933677902, 'bottom': 4.503360542073777, 'lots': 12.530641500243041, 'convenient': 5.217233853150839, 'make': 2.559860411474204, 'negative': 4.726046322723092, 'vibrate': 5.619711655079268, 'useit': 8.272282703861249, 'buttons': 3.6231715827849054, 'flimsy': 5.89332463208263, 'breeze': 5.880176159239124, 'easy': 2.3561234265784545, 'forward': 5.08304822432372, 'friedly': 12.415417430252782, 'surprised': 4.660078617406281, 'bought': 1.966123285055418, 'reliable': 4.419773825965511, 'arent': 9.436592225940315, '7': 4.356141206947133, 'normal': 4.377551195543164, 'jazz': 8.949681527453055, 'loudest': 7.459590372651522, 'wrote': 5.745919340394903, 'small': 2.912332820232554, 'lcd': 5.36964085337327, 'hear': 3.814986640266489, 'wear': 5.496722211232311, 'kinda': 5.301461320686747, 'scratches': 4.38761458188247, 'put': 3.071245710643079, 'crap': 4.85898946081253, 'toits': 10.469507281197469, 'hold': 3.704303546199238, 'ago': 3.5063172953272312, 'easily': 3.5815174873441475, 'calls': 5.292065724480269, 'phone': 1.985499424500319, 'solid': 4.121117821395547, 'light': 3.31858175907342, 'straight': 4.464914995443931, 'months': 2.818590916766238, 'seriouslyi': 12.415417430252782, 'practical': 5.733308832802973, 'turn': 3.264084238856632, 'erricsons': 12.415417430252782, 'mode': 4.160888548313038, 'tones': 20.588777636372868, 'delecate': 12.415417430252782, 'fun': 4.536125945170512, 'situation': 5.636632532567606, 'nice': 2.4324719563819386, 'makes': 3.2732488383799336, 'top': 3.8465810056847065, 'badi': 8.020968275580344}, {'200': 4.706557829205607, 'features': 2.463139713547222, 'give': 3.1772673576373323, 'ringtones': 4.575104446932618, 'tax': 6.306169847488417, 't720i': 9.850468072791246, 'quality': 2.424102167351134, 'previous': 3.8113128668472482, 'cips': 12.415417430252782, 'suggest': 4.824565306564201, 'young': 6.286367220192237, 'rebate': 6.625457259355529, 'camera': 2.073481417126475, '5': 2.896636932740309, 'teenager': 6.532095041764503, 'stars': 3.6983902569579588, 'folks': 5.584543195606603, 'picture': 3.7054574241810516, 'buy': 2.059326763151086, 'monday': 6.43653166535166, 'polyphonic': 7.473775007643478, 'phone': 1.701856649571702, 'excellent': 2.884806796231667, '100': 7.656277262539714, 'great': 5.580470209618373, 'motorola': 3.4062145293281945, 'aim': 7.0778793505514646, 'occupiedlol': 12.415417430252782, 'audio': 4.482696402770834, 'fact': 3.652145716239839}, {'detailed': 6.080363178754723, 'normal': 4.377551195543164, 'letters': 5.220980579152448, 'dont': 3.789978046323924, 'clip': 12.698618680298068, 'ive': 5.000002613702761, 'text': 5.666889077409774, 'drawbacks': 6.488491404282371, 'back': 2.2555449926226423, 'capitalized': 9.279923214323633, 'manuel': 8.210724810861816, 'isnt': 3.4265969284747118, 'doesnt': 2.5716268049747817, 'numbers': 8.590252232568442, 'excellentoverallits': 12.415417430252782, 'samsung': 2.556874943759823, 'carry': 4.386636267765636, 'noticedcons': 12.415417430252782, 'message': 3.871971867692479, 'correspond': 8.321072868030681, 'belt': 12.73136795004165, 'misaligned': 9.850468072791246, 'replacements': 7.0217898839004205, 'sonyericsson': 7.030922367463694, 'contacts': 3.8978243188152177, 'index': 15.876161231549151, 'constantly': 4.236217631829696, 'switch': 4.140550609567528, 'noticed': 4.502262244324714, 'colours': 7.398137593437858, 'flimsy': 5.89332463208263, 'book': 4.685682098867732, 'speaker': 3.646998703395379, 'pretty': 2.9103200721528566, 'weeks': 3.4650142704198217, 'offer': 4.600614000763422, 'friendly': 4.424501967161457, 'minor': 4.65665688609512, 'mode': 8.321777096626075, 'week': 3.4669614379072398, 'good': 1.3603457042824387, 'pain': 5.011747140240408, 'adding': 5.501680079593098, 'brings': 5.841737263292137, 'couple': 7.148806239537781, 'problems': 5.452227375318784, 'free': 3.337808770730558, 'phone': 1.134571099714468, 'wrong': 3.7278065865454146, 'nonletter': 12.415417430252782, 'preferred': 6.315098478232718, 'characters': 6.256322041760849, 'graphics': 5.2965911811907045, 'actual': 4.982933622335663, '100': 3.828138631269857, 'handy': 4.934425267383257, 'case': 3.1999900192280424, 'categorized': 9.119580564248453, 'word': 4.753890348894265, 't9': 12.577096492277194, 'messaging': 4.5125602389722, 'flip': 4.075438858262355, 'page': 9.319300520299569, 'bad': 2.8528720898093187, 'arent': 4.718296112970157, 'writing': 5.0713445796797165, 'small': 2.912332820232554, 'definitions': 9.850468072791246, 'phonepros': 7.495436504424657, 'automatically': 4.634278920407766}, {'cute': 5.315390263623523, 'pim': 8.390065739517633, '270': 8.949681527453055, 'shame': 5.4898222331423145, 'samsung': 2.556874943759823, 'download': 3.5478490970463405, 'xp': 7.340243615018955, 'ring': 4.392848483264528, 'blue': 4.732474260374491, 'milpitas': 12.415417430252782, 'system': 3.5383145323878833, 'station': 6.762928249984132, 'flexible': 6.843263398075018, '200': 4.706557829205607, 'screen': 1.7267278100730565, 'mei': 6.330918017177611, 'crashed': 6.136896006086937, 'california': 6.9904674127713795, 'interface': 4.027877447063416, 'tune': 7.340243615018955, 'deathit': 12.415417430252782, 'tmobile': 3.156382136737841, 'treo': 6.640865884708374, 'phone': 0.850928324785851, 'joke': 5.686788817168081, 'work': 2.0340510890994445, 'consistantly': 9.1573208922313, 'aim': 7.0778793505514646, 'tones': 5.147194409093217, 'charged': 4.031984229016069, 'software': 3.2089846831076163}, {'ive': 7.500003920554141, 'fantastic': 4.458940632216001, 'love': 2.1263954050973686, 'features': 2.463139713547222, 'champs': 12.415417430252782, 'tired': 5.56106292799776, 'color': 4.070912346662261, 'phones': 1.93841118461224, 'sharpness': 7.445604130676782, 'back': 2.2555449926226423, 'phone': 1.418213874643085, 'accidentally': 5.161239583796264, 'fits': 4.297210380847, 'doesnt': 2.5716268049747817, 'palm': 5.51468676620761, 'dropped': 3.525971264934494, 'foundanyone': 12.415417430252782, 'sox': 11.316805141584672, 'times': 2.9801750539475265, 'open': 3.6766819688893086, 'find': 2.8170294242055043, 'e105': 8.44512551670066, 'anymore': 4.638043827594921, 'series': 5.524808310105616, 'hated': 5.772930628885526, 'quickly': 3.6778043934439317, 'cell': 5.325854402537166, 'elevators': 9.119580564248453, 'book': 4.685682098867732, 'hand': 3.7724730335309844, 'boston': 8.483591797528456, 'screen': 1.7267278100730565, 'red': 5.095552500443812, 'scratched': 5.440938519227737, 'offer': 4.600614000763422, 'company': 3.6234754417966633, 'wallpaper': 5.8700677699183625, 'e105i': 11.316805141584672, 'mine': 3.815723017324801, 'downloaded': 4.526707906070768, 'understand': 4.2865372881271435, 'newer': 4.725131409576014, 'excellent': 2.884806796231667, 'keeper': 7.334013065268319, 'world': 4.213757239444102, 'years': 3.0374462168926484, 'day': 5.188558821467359, 'card': 2.402089412037122, '2': 2.5129303780502377, '6': 3.935926106020556, 'front': 3.874312418790232, 'samsung': 2.556874943759823, 'charges': 4.774333181077868, 'clear': 3.4468938748564306, 'scroll': 5.2965911811907045, 'programming': 6.643976307122767, 'flip': 4.075438858262355, 'display': 3.5709369117924044, 'turn': 3.264084238856632, 'sim': 2.7426646697266848, '2004': 7.644732805787117, 'menu': 4.170820673870285, 'im': 2.167135225808637, 'problem': 2.434459706949755, 'works': 1.923782166888349, 'inside': 4.425518055309842, 'receptioneven': 10.623657961024728}, {'ive': 2.5000013068513804, 'ascameraspeaker': 12.415417430252782, 'love': 2.1263954050973686, 'scratch': 4.949189874037302, 'month': 3.0803846143192812, 'hassle': 5.149288650696331, 'id': 3.770182888955661, 'ringers': 7.315551002428584, 'lacks': 5.526844970687419, 'november': 6.165442187993299, 'screw': 6.714973856862096, 'upgrade': 3.496098031993895, 'service': 2.523445933677902, 'things': 3.091123568200754, 'hugh': 9.470978451086342, 'speakerphone': 4.823555715362849, 'fight': 7.547882979797199, 'afford': 5.586705358611098, 'camera': 4.14696283425295, 'easy': 2.3561234265784545, 'horrible': 4.428572529091399, 'plate': 6.7250579759287215, 'good': 1.3603457042824387, 'likly': 11.316805141584672, 'wo': 6.74209416308129, 'problems': 2.726113687659392, 'faceplate': 8.225762688226357, 'phone': 1.134571099714468, 'hifi': 8.981430225767635, 'driveralthough': 12.415417430252782, 'phonebeing': 10.112832337258737, 'bit': 3.204477238204632, 'wanted': 3.0200092758146195, 'change': 10.67797912500148, 'great': 1.3951175524045933, 'motorola': 3.4062145293281945, 'light': 3.31858175907342, 'ceel': 12.415417430252782, 'sucks': 4.455093801103942, 'face': 4.960697480888781, 'thing': 2.586815074908443, 'everytimei': 11.316805141584672, 'drop': 4.236778641662082, 'works': 1.923782166888349, 'v300': 8.28828304520769, 'tha': 7.488163745095577}, {'ac': 6.454412090629509, 'selection': 5.5547537588044955, 'battery': 3.482532509457761, 'developed': 6.295120011301832, 'hard': 3.278400722695443, 'turned': 11.498995361756513, 'handprint': 12.415417430252782, 'phone': 1.134571099714468, 'relative': 6.773510359314669, 'ease': 5.047077743941401, 'tmobilecons': 11.029123069132892, 'set': 3.2826062607858373, 'finepros': 11.316805141584672, 'plugged': 5.055949791997161, 'keystroke': 8.726537976138847, 'popping': 13.72491569066233, 'ringtonesfour': 12.415417430252782, 'slow': 3.370777514054318, 'working': 2.841893342425041, 'fine': 2.934439420434077, 'fix': 3.994074564493379, 'sunlight': 5.742119462485128, 'peculiar': 9.850468072791246, '1': 6.808764040221935, 'initially': 5.2797300832246385, 'causing': 6.21288191306486, 'call': 2.603223136163045, 'stars': 3.6983902569579588, 'units': 6.273380024665426, 'resulted': 7.391536909406506, 'poor': 3.9258010066067794, 'offer': 4.600614000763422, 'read': 3.330413549587897, 'auto': 5.277344396208435, 'problems': 2.726113687659392, 'update': 3.4859821464493566, 'e105': 8.44512551670066, 'onthumbsup': 12.415417430252782, 'sporadically': 8.166922188203424, 'battery3': 9.525045672356617, 'fresh': 6.682076153355037, 'on2': 9.37089499252936, 'worked': 3.0344064442235066, 'response': 4.605876105599372, 'tmobile': 3.156382136737841, 'customer': 3.427221109257726, 'received': 2.9800951976887498, 'great': 1.3951175524045933, 'service': 2.523445933677902, 'package': 4.20556494895151, 'charger': 3.1622091580494236, 'months': 2.818590916766238, 'purchase': 2.8752698407741715, 'days': 2.681947440054445, 'display': 3.5709369117924044, 'turn': 3.264084238856632, 'bypassed': 9.419685156698792, 'back': 2.2555449926226423, 'time': 1.8850026310768182, 'small': 2.912332820232554, 'phoneservice': 9.237363599904837, 'problem': 7.303379120849265, 'called': 3.726121382236922, 'replacement': 3.6159065288839143}, {'quotmquot': 12.415417430252782, 'switched': 4.619359455936658, 'ringtones': 4.575104446932618, 'keyboard': 2.953384923557974, 'dont': 1.894989023161962, 'compact': 4.941780321756576, 'ergonomic': 15.448139096047276, 'capabilities': 4.761448249774007, 'improvement': 5.300647981886319, 'battery': 1.7412662547288804, 'easy': 2.3561234265784545, 'real': 3.7980169784195192, 'good': 4.081037112847316, 'colorful': 6.61329905487572, 'means': 4.1811177945565285, 'entries': 12.971656573725776, 't610': 7.102211451210994, 'helpful': 4.851697761838416, 'small': 5.824665640465108, 'found': 3.057519493918985, 'havent': 3.7001933883374103, 'bells': 5.034538394688666, 'side': 3.7974743357364016, 't68i': 45.24060800133154, 'sync': 9.24036500250122, 'computer': 3.8429787646105664, 'images': 10.559460166449277, 'home': 3.418889282161925, 'click': 5.0326709805138705, 'attachement': 11.316805141584672, 'miss': 4.528960159275093, 'cell': 2.662927201268583, 'mess': 5.915630389596928, 'full': 3.282066099804735, 'selecting': 6.59533449990042, 'screen': 1.7267278100730565, 'free': 3.337808770730558, 'stylish': 5.436272155183972, 'card': 2.402089412037122, 'sending': 4.439165486507159, 'great': 2.7902351048091867, 'works': 1.923782166888349, 'atleast': 6.9816954266985425, 'context': 7.893628853203742, 'browsing': 4.344198890282919, 'whistles': 5.115620063494621, 'weird': 10.669099067124002, 'ot': 7.800296913411523, 'software': 3.2089846831076163, 'load': 4.52820884443885, 'outlook': 5.487859523974466, 'organize': 7.32166722944602, 'features': 2.463139713547222, 'color': 8.141824693324523, 'manage': 5.454121384342615, 'number': 3.380383280176649, 'doesnt': 2.5716268049747817, 'lively': 10.805979517818681, 'quality': 4.848204334702268, 'select': 5.091586864050465, 'size': 3.030703671331819, 'silent': 5.874387431062879, 'inconsistant': 12.415417430252782, 'top': 3.8465810056847065, 'long': 2.9875492457480255, 'quothquot': 12.415417430252782, 'lot': 2.6765097530344515, 'type': 3.81076296306655, 'happy': 2.7520924342004585, 'option': 3.935926106020556, 'polyphonic': 7.473775007643478, 'phone': 2.269142199428936, 'dialingoverall': 12.415417430252782, 'sound': 3.2415335952872146, 'intuitive': 4.698066158067453, 'work': 2.0340510890994445, 'enought': 8.097929316716472, 'behavior': 14.512724262076507, 'voice': 3.4680014796026537, 'display': 3.5709369117924044, 'address': 14.164440314230532, 'syncing': 5.888922570681992, 'demo': 7.152727241347897, 'annoying': 4.102791404577819, 'ericsson': 5.148590082732191, 'panasonic': 8.138751311236726, 'huge': 4.091566298913965, 'feature': 3.2854198109591377, 'menus': 4.834207604056436, 'book': 14.057046296603195, 'speaker': 7.293997406790758, 'sim': 2.7426646697266848, 'nice': 2.4324719563819386, 'multiple': 4.5391585479495555, 'keys': 7.971053134478683, 'charm': 5.836166218242681, 't68mi': 12.415417430252782, 'mobile': 3.0635774960029, 'lightsomethings': 12.415417430252782, 'sony': 3.9901202535410816, 'gu87a': 12.415417430252782}, {'ive': 5.000002613702761, 'smaller': 4.3089029139975965, 'jeans': 6.368045251206504, 'phone': 1.701856649571702, 'decided': 7.553075441159891, 'year': 3.093535683543692, 'ready': 4.704316178412625, 'ring': 4.392848483264528, 'service': 2.523445933677902, 'make': 2.559860411474204, 'research': 4.594175346729225, 'cell': 5.325854402537166, 'connecting': 5.463645265853871, 'lot': 2.6765097530344515, 'surprised': 4.660078617406281, 'happy': 2.7520924342004585, 'week': 3.4669614379072398, 'picture': 3.7054574241810516, 'plunge': 7.525068302031029, 'pretty': 2.9103200721528566, 'infrequent': 8.390065739517633, 'turned': 3.8329984539188375, 'problems': 2.726113687659392, 'free': 3.337808770730558, 'pocket': 3.6277391912132853, 'downloaded': 4.526707906070768, 'user': 3.2393579922534737, 'fits': 4.297210380847, 'immediately': 4.52820884443885, 'nofrills': 8.195909725076675, 'pleasantly': 6.194827260153043, 'received': 5.9601903953774995, 'calls': 2.6460328622401343, 'samsung': 2.556874943759823, 'clear': 3.4468938748564306, 'tones': 5.147194409093217, 'problem': 2.434459706949755}, {'great': 1.3951175524045933, 'good': 2.7206914085648775, 'phone': 0.850928324785851, 'samsung': 5.113749887519646, 'solid': 4.121117821395547, 'price': 2.265108863048088, 'hard': 3.278400722695443, 'flow': 7.378464827839153, 'cash': 6.512784096851416, 'long': 2.9875492457480255, 'beat': 4.7301738222769485, 'amazing': 3.3731407433238547, 'industrial': 8.372366162418231, 'design': 3.714237402723529, 'recommend': 2.426211002314117, 'designer': 8.020968275580344, 'quality': 2.424102167351134, 'engineering': 7.127150399558247, 'lasting': 6.052389326712317}, {'love': 2.1263954050973686, 'regret': 4.831152611863723, 'family': 4.453001750131718, 'grade': 6.9816954266985425, 'phones': 1.93841118461224, '2nd': 5.517712487124147, 'twoyou': 11.316805141584672, 'manualbuy': 12.415417430252782, 'loaded': 4.9770339002084745, 'features': 2.463139713547222, 'congrats': 9.119580564248453, 'cell': 2.662927201268583, 'instructionswhich': 12.415417430252782, 'easy': 9.424493706313818, 'reading': 4.289490627544896, 'bought': 1.966123285055418, 'read': 6.660827099175794, 'phone': 0.283642774928617, 'plan': 3.125988651957636, 'oneor': 10.805979517818681, 'wont': 3.2275271871141915, 'great': 1.3951175524045933, 'samsung': 2.556874943759823, 'industry': 6.8356876042665595, 'instruction': 5.658485041005229, 'fun': 4.536125945170512, 'making': 3.878421611540365, 'providing': 6.467382441072136, 'book': 4.685682098867732}, {'impression': 11.939395221734408, 'leftring': 12.415417430252782, 'keystrokes': 8.084684089966451, 'camel': 11.316805141584672, 'dance': 8.65421731455922, 'lack': 4.437449337124233, 'years': 3.0374462168926484, 'colors': 4.701186285403697, 'heavenquot': 12.415417430252782, 'subtle': 7.810247244264691, '6100': 18.393083210769163, 'fine': 2.934439420434077, 'find': 2.8170294242055043, 'bunch': 5.411443293530102, 'cell': 2.662927201268583, 'slow': 6.741555028108636, 'chinese': 5.298211927088438, 'personal': 4.76097420378267, 'folded': 8.337879986347064, 'shortcut': 6.4390665209548485, 'improvement': 5.300647981886319, 'board': 5.388102916213006, 'easy': 2.3561234265784545, 'mail': 4.426196021437506, 'include': 5.090268472297207, 'versus': 6.540486699400752, 'good': 1.3603457042824387, 'song': 5.784734044610411, 'nokia': 8.605814464966159, 'anyonethe': 9.324374976894466, 'synchronization': 7.3528223972258155, 'background': 4.972339055904267, 'sony': 3.9901202535410816, 'quotphonequot': 12.415417430252782, 'vast': 7.030922367463694, 'manager': 5.562118337066704, 'tmobile': 3.156382136737841, 'stranger': 9.119580564248453, 'quotstairway': 12.415417430252782, 'edit': 5.5770122294054385, 'array': 7.861540538652242, 't9': 6.288548246138597, 'toggle': 6.943146756581307, 'email': 3.2839038388225705, 'stuff': 4.194207336327712, 'quotquot': 11.316805141584672, 'mode': 4.160888548313038, 'small': 8.736998460697663, 'havent': 3.7001933883374103, 'difficult': 4.088416690011068, 'set': 3.2826062607858373, 'andor': 5.8700677699183625, 'fair': 5.346394003674523, 'people': 2.85526561435927, 'tea': 8.464173711671355, 'horoscopes': 11.316805141584672, 'connect': 3.9725168434183997, 'entering': 12.070589786706034, 'download': 10.643547291139022, 'close': 4.124121578347376, 'calendar': 4.61279936681011, 'slots': 7.012740048380502, 'tzones': 7.54022010705163, 'toooverall': 9.014220048590627, 'contacts': 3.8978243188152177, 'quotcrashedquot': 12.415417430252782, 'access': 3.7635185359842533, 'calendaring': 9.642828708013, 'navigating': 6.138773940911138, 'assuming': 6.592371534769764, 'method': 6.391969837291749, 'unsure': 7.359171624904474, 'ability': 4.59137141939649, 'initially': 10.559460166449277, 'screen': 3.453455620146113, 'standard': 4.354877383714142, 'quick': 3.8257175480497967, 'amazement': 8.701845363548474, 'beginning': 5.327843724694809, 'problem': 2.434459706949755, 'buck': 6.266949134335135, 'great': 1.3951175524045933, 'purports': 10.218192852916562, 'incoming': 5.357519492840925, 'tangents': 12.415417430252782, 'standalone': 7.297423617836027, 'joke': 5.686788817168081, 'eperiod': 12.415417430252782, 'despair': 9.850468072791246, 'games': 7.333272881479344, 'whistles': 5.115620063494621, 'mistake': 4.934425267383257, 'loud': 4.134706354589935, 'upgraded': 4.4221351021511905, 'outlook': 5.487859523974466, 'organize': 7.32166722944602, 'saving': 5.348950460115824, 'dont': 1.894989023161962, 'recoveredi': 12.415417430252782, '150': 5.58778819574993, 'battery': 1.7412662547288804, 'youd': 5.607482486552856, 'prefer': 4.695843440993201, 'primary': 5.674898070646559, 'screens': 4.514040076460167, 'doesnt': 2.5716268049747817, 'names': 5.936907788044213, 'ring': 4.392848483264528, 'quality': 2.424102167351134, 'rolls': 7.938080615774576, 'featurei': 8.631227796334521, 'ancient': 7.117100063704745, 'java': 5.988928972795091, 'additional': 4.859512336641435, 'service': 2.523445933677902, 'works': 1.923782166888349, 'palmos': 10.017522157454412, 'transfer': 4.328084503779431, 'manually': 5.364427983184737, 'tiny': 4.8563791748093985, 'amazoncom': 5.2965911811907045, 'withthe': 8.354974419706362, 'call': 2.603223136163045, 'lot': 2.6765097530344515, 'phones': 5.81523355383672, 'jingle': 9.470978451086342, 'bits': 7.627925687470736, 'store': 3.218263620080775, 'wap': 7.1631440022061525, 'function': 4.120867915109104, 'head': 5.430701110134517, 'interest': 6.560345508050355, 'tool': 5.775541596426247, 'polyphonic': 7.473775007643478, 'phone': 1.701856649571702, 'input': 5.3819109459650845, 'case': 6.399980038456085, '128x128': 10.112832337258737, 'bother': 5.131969201496151, 'work': 8.136204356397778, 'bucket': 8.181310925655524, '65k': 9.014220048590627, 'clie': 9.642828708013, 'tones': 20.588777636372868, 'light': 3.31858175907342, 'playable': 8.918909868786303, 'voice': 6.936002959205307, 'browser': 4.0120650552603045, 'ive': 2.5000013068513804, 'links': 13.244807643737277, 'give': 3.1772673576373323, 'life': 2.4188038997271706, 'itanother': 8.88905690563662, 'comfortably': 6.247900939364441, 'im': 4.334270451617274, 'numbers': 8.590252232568442, 'home': 3.418889282161925, 'organizer': 7.142417871689036, 'made': 3.0770357083957154, 'cumbersome': 6.241631326350846, 'feethe': 11.316805141584672, 'tedious': 13.861240993524255, 'information': 8.804810639767734, 'annoying': 4.102791404577819, 'shirt': 6.571873013221422, 'carriers': 4.734318428716423, 'nutcracker': 12.415417430252782, 'feature': 3.2854198109591377, 'id': 3.770182888955661, 'delay': 11.628374623047812, 'strange': 11.70312380744131, 'chess': 8.777831270526397, 'incorrectly': 7.8510692387849454, 'finding': 5.242225687766184, 'incredibly': 5.525826121898317, 'sim': 5.4853293394533695, 'bells': 5.034538394688666, 'profile': 6.028538110890137, 'play': 3.598564189625357, 'venerable': 9.083212920077578, 'multiple': 4.5391585479495555, 'pocketmy': 10.017522157454412, 'funny': 6.071536996126452, 'space': 4.275101890092797, 'hand': 3.7724730335309844, 'running': 3.9596742011527675, 'lighting': 5.791352202452889, 'fits': 4.297210380847, 'alpha': 8.44512551670066, 'pages': 5.219480203777213, 'tune': 7.340243615018955, 'storing': 6.889964491120998, 'longer': 3.8335607255108224, 'slightly': 4.708354774882309, 'required': 5.0508704159971405, 'entry': 5.408722203415741, 'blend': 8.321072868030681, 'make': 2.559860411474204, 'songs': 10.384243501380936}, {'bill': 4.9276836688163375, 'dont': 1.894989023161962, 'weight': 4.574710978503383, 'people': 2.85526561435927, 'phones': 1.93841118461224, 'modern': 5.428850970846355, 'month': 3.0803846143192812, 'doesnt': 2.5716268049747817, 'expect': 3.925184420419328, 'ring': 4.392848483264528, 'server': 6.1312832691819805, 'quality': 2.424102167351134, 'substitute': 7.168393358092296, 'size': 3.030703671331819, 'web': 3.399754637280138, 'things': 3.091123568200754, 'cameras': 5.045186788445701, 'access': 3.7635185359842533, 'call': 2.603223136163045, 'electronics': 5.571667481246558, 'screen': 1.7267278100730565, 'bells': 5.034538394688666, 'good': 1.3603457042824387, 'wonderfullymy': 12.415417430252782, 'contention': 10.805979517818681, 'couple': 3.5744031197688906, 'watch': 4.5657036726479125, 'e105': 8.44512551670066, 'phone': 0.850928324785851, 'reason': 3.5044269355960624, 'connected': 4.470216297840023, 'fits': 4.297210380847, 'highly': 3.7978360648052765, 'handy': 4.934425267383257, '14': 5.493759246101654, 'sorts': 6.691832328300402, 'light': 3.31858175907342, 'age': 5.926212498927465, 'months': 2.818590916766238, 'miniaturization': 12.415417430252782, 'loses': 6.312858835639213, 'bad': 2.8528720898093187, 'replaced': 4.182445639659345, 'tones': 5.147194409093217, 'time': 3.7700052621536364, 'small': 2.912332820232554, 'whistles': 5.115620063494621, 'minutes': 3.1069526602834006, 'display': 3.5709369117924044, 'bone': 8.677747811969414, 'replacement': 3.6159065288839143}, {'body': 5.241459110495988, 'set': 3.2826062607858373, 'ive': 2.5000013068513804, 'awesome': 3.4042599721459657, 'mind': 4.290082343538492, 'bluetooth': 3.47282579302093, 'doesnt': 2.5716268049747817, 'rooms': 7.742588595790876, 'dozen': 6.6193596794874106, 'hasnt': 5.054042001275434, 'beaten': 8.272282703861249, 'tiny': 4.8563791748093985, 'years23': 12.415417430252782, '2': 2.5129303780502377, 'call': 2.603223136163045, '4': 2.949040463660364, 'pretty': 2.9103200721528566, 'crack': 5.864337095209377, 'main': 4.189646630904049, 'friend': 4.271609453481298, 'europe': 4.963595193724853, 'worse': 4.62389461110205, 'camera': 2.073481417126475, '6': 3.935926106020556, 'object': 7.195061605174457, 'phone': 1.701856649571702, 'italthough': 9.525045672356617, 'affect': 6.601286898427715, 'worked': 3.0344064442235066, 'strong': 4.811021081456444, 'tmobile': 3.156382136737841, 'thrown': 6.406604244810187, 'timex': 10.112832337258737, 'biggie': 7.378464827839153, 'frickin': 9.582204086196565, 'clear': 3.4468938748564306, 'months': 8.455772750298713, 'times': 2.9801750539475265, 'hinge': 6.878083163234246, 'playtoy': 11.316805141584672, 'visited': 7.488163745095577, 'guy': 5.033915535746075, 'country': 4.328391959585081, 'dropped': 3.525971264934494}, {'cons': 4.933298506700667, 'money': 2.835791957623192, 'dont': 3.789978046323924, 'ringtones': 4.575104446932618, 'ringer': 5.6879857054019265, 'mine': 3.815723017324801, 'cost': 3.7229272969795546, 'directly': 4.701632813654027, 'download': 7.095698194092681, 'ringers': 7.315551002428584, 'ring': 4.392848483264528, 'tzones': 7.54022010705163, 'compact': 4.941780321756576, 'things': 3.091123568200754, 'pros': 4.954351915898499, 'detail': 5.700034043918101, 'note': 3.9432216047672806, '2': 2.5129303780502377, 'call': 2.603223136163045, 'lot': 2.6765097530344515, 'text': 2.833444538704887, 'dislike': 6.068028220596772, 'care': 4.149252993640291, 'buy': 2.059326763151086, '611': 8.677747811969414, 'rebates': 7.705887228940448, 'phone': 2.269142199428936, 'regular': 4.40075105978784, 'plenty': 4.764297254550082, 'put': 3.071245710643079, '149': 8.084684089966451, 'disappointed': 3.637707834457533, 'standard': 8.709754767428285, 'wait': 3.9859631531445516, 'customer': 3.427221109257726, 'great': 2.7902351048091867, 'tmobile': 3.156382136737841, 'however1': 10.805979517818681, 'free2': 10.805979517818681, 'months': 5.637181833532476, 'reviews': 3.417527980052066, 'reception': 3.499716611295879, 'motorolas': 6.14821688171142, 'talk': 3.5237683176027255}, {'ive': 2.5000013068513804, 'shoddy': 7.7332862031285625, 'people': 2.85526561435927, 'tinny': 7.008245658792664, 'unusable': 5.924693895750275, 'highly': 3.7978360648052765, 'reviewer': 5.964947008108606, 'painintheneck': 12.415417430252782, 'ratings': 13.477327255969001, 'style': 9.86097429392624, 'rated': 5.843134887558774, 'pooryly': 12.415417430252782, 'menu': 4.170820673870285, 'skewing': 12.415417430252782, 'happy': 2.7520924342004585, 'complains': 6.303950090750104, 'means': 4.1811177945565285, 'teenagers': 7.27961899320252, 'phone': 0.283642774928617, 'made': 3.0770357083957154, 'worst': 4.091323668802378, 'imagine': 5.333708844147207, 'totally': 4.299597729041455, 'case': 3.1999900192280424, 'substance': 8.503394424824636, 'samsung': 2.556874943759823, 'cover': 3.8203377001794734, 'agree': 5.592131307897095, 'thing': 2.586815074908443, 'team': 5.54744302128249, 'display': 3.5709369117924044, 'fact': 3.652145716239839}, {'upgraded': 4.4221351021511905, 'predictive': 12.750325437950735, 'smaller': 4.3089029139975965, 'features': 2.463139713547222, '64000': 12.415417430252782, 'battery': 1.7412662547288804, 'text': 5.666889077409774, 'highly': 3.7978360648052765, 'disabled': 5.822372896110346, 'clumsy': 6.434003218998302, 'good': 2.7206914085648775, 'ive': 2.5000013068513804, 'mediocre': 6.061047389455432, 'quality': 7.272306502053402, 'recharge': 5.454121384342615, 'size': 3.030703671331819, 'superior': 5.433482753096394, 'style': 4.93048714696312, 'slow': 3.370777514054318, 'silent': 5.874387431062879, '23': 4.914887944857487, 'constantly': 4.236217631829696, 'writing': 15.214033739039149, 'ringtones': 4.575104446932618, '2': 2.5129303780502377, 'dont': 1.894989023161962, 'recommend': 4.852422004628234, 'weeks': 3.4650142704198217, 'main': 8.379293261808098, 'life': 2.4188038997271706, 'nokia': 2.8686048216553863, 'power': 3.6257573321912444, 'huge': 4.091566298913965, 'screen': 1.7267278100730565, 'polyphonic': 7.473775007643478, 'v60': 16.709948839412725, 'menus': 4.834207604056436, '6610': 8.831898491796672, 'bit': 3.204477238204632, 'sleek': 4.6367872829269725, 'color': 4.070912346662261, 'sound': 6.483067190574429, 'great': 2.7902351048091867, 'motorola': 3.4062145293281945, 'phone': 1.701856649571702, 'default': 4.904986873874775, 'light': 3.31858175907342, 'messages': 3.670929316399859, 'days': 2.681947440054445, 'profiles': 6.662844791427149, 'hog': 7.670485301889532, 'switch': 4.140550609567528, 'important': 4.28094985997522, 'mode': 8.321777096626075, 'reception': 3.499716611295879, 'small': 2.912332820232554, 'display': 10.712810735377213}, {'sentence': 7.371992313333536, 'text': 2.833444538704887, 'cheap': 3.494093353741517, 'isnt': 3.4265969284747118, 'spaces': 8.084684089966451, 'speed': 7.6965837401766715, 'bunch': 5.411443293530102, 'laced': 12.415417430252782, 'music': 3.131919537658873, 'pcs': 11.984340933438524, 'rebate': 6.625457259355529, 'add': 3.98639992974027, 'offers': 4.897353249019704, 'surprised': 4.660078617406281, 'gave': 3.84014402776002, 'blinking': 7.285518715329709, 'trouble': 4.247781715006413, 'realize': 10.060373014372416, 'wont': 3.2275271871141915, 'mothers': 7.178975467422833, '50': 4.3798147373342005, 'spha460': 12.415417430252782, 'stuff': 4.194207336327712, 'guy': 5.033915535746075, 'crowd': 7.359171624904474, 'people': 8.565796843077809, 'phones': 1.93841118461224, 'year': 3.093535683543692, 'download': 3.5478490970463405, 'sprint': 13.085544783354724, 'packed': 5.6152473619505825, 'lots': 4.176880500081014, 'lights': 5.972877263784583, 'electronics': 5.571667481246558, 'ass': 7.4249848434740455, 'business': 8.352176004701974, 'missing': 4.568045594092993, 'gota': 11.316805141584672, 'geared': 7.984600631409468, 'reason': 3.5044269355960624, 'imagine': 5.333708844147207, 'att': 2.91622067559705, 'ish': 9.37089499252936, 'options': 4.091566298913965, '1000': 6.028538110890137, 'dont': 1.894989023161962, 'nextel': 6.299525304769748, 'color': 4.070912346662261, 'number': 3.380383280176649, 'holster': 6.6724142424433, 'cingular': 4.9044396782386865, '250': 6.16931066477122, 'clarity': 10.297180165464383, 'call': 2.603223136163045, 'stars': 3.6983902569579588, 'damn': 6.142540423706615, 'hottest': 8.981430225767635, 'speaking': 5.669005301679408, 'happy': 5.504184868400917, 'verizon': 3.3050078969016488, 'phone': 2.269142199428936, 'understand': 4.2865372881271435, 'dialing': 9.874495472185993, '10': 3.6334014605308464, 'older': 4.362802611437216, 'didnt': 5.286698433166979, 'ive': 2.5000013068513804, 'give': 3.1772673576373323, 'slim': 4.928804117112827, 'purposes': 5.9492727060151624, 'im': 4.334270451617274, 'earpiece': 5.717149376137369, 'storage': 4.151569298883876, '1': 3.4043820201109676, 'tight': 6.157749842370143, '5': 2.896636932740309, 'sim': 2.7426646697266848, 'nice': 2.4324719563819386, 'star': 4.24891711109773, 'definately': 6.394394080903256, 'included': 4.130408534802903, 'friends': 3.950570719208754, 'man': 5.727062716306021, 'younger': 13.663842242942167, 'samsung': 5.113749887519646, 'youre': 3.6125942705108947, 'professional': 5.708555093650035}, {'phone': 0.283642774928617, 'works': 1.923782166888349, 'ive': 2.5000013068513804}, {'selection': 16.664261276413487, 'golf': 8.152737553211466, 'ringtones': 9.150208893865235, 'including': 4.348268390342676, 'find': 2.8170294242055043, 'indicator': 6.295120011301832, 'upgrade': 3.496098031993895, 'color': 12.212737039986784, 'instantly': 5.914127759712393, 'real': 3.7980169784195192, 'good': 1.3603457042824387, 'song': 5.784734044610411, 'front': 3.874312418790232, 'ys': 11.316805141584672, 'downright': 7.77102653111141, 'level': 4.834717678028219, 'popular': 5.671358243941435, 'set': 3.2826062607858373, 'generation': 5.770326460747138, 'design': 3.714237402723529, 'displays': 5.81147360565231, 'liking': 6.292924620738396, 'missed': 4.965337860445284, 'pictures': 3.1119510802871155, 'version': 3.2208000187418357, 'receiving': 4.721935789417607, 'youll': 4.264372484567759, 'screen': 3.453455620146113, 'standard': 4.354877383714142, 'e105': 25.33537655010198, 'great': 4.18535265721378, 'fault': 4.939511460885385, 'messages': 3.670929316399859, 'times': 2.9801750539475265, 'games': 3.666636440739672, 'youve': 5.3532257979662266, 'weird': 5.334549533562001, 'rendered': 7.50276254451673, 'features': 2.463139713547222, 'striking': 8.726537976138847, 'battery': 3.482532509457761, 'prefer': 4.695843440993201, 'number': 3.380383280176649, 'loaded': 4.9770339002084745, 'message': 3.871971867692479, 'quality': 2.424102167351134, 'elevator': 8.831898491796672, 'camera': 2.073481417126475, 'music': 3.131919537658873, 'lot': 2.6765097530344515, 'gorgeous': 5.553706089772052, 'call': 2.603223136163045, 'bthe': 11.316805141584672, 'today': 4.299896548706013, 'life': 4.837607799454341, 'grayscale': 10.469507281197469, 'phone': 2.269142199428936, 'understandable': 7.517577630301871, 'sound': 6.483067190574429, 'default': 4.904986873874775, '65k': 9.014220048590627, 'flashes': 7.200481672643797, 'problem': 2.434459706949755, 'display': 3.5709369117924044, 'modern': 5.428850970846355, 'cringed': 12.415417430252782, 'obnoxious': 8.033390795578901, 'make': 2.559860411474204, 'feature': 6.570839621918275, 'ringtone': 10.889374704218513, 'drawback': 5.607482486552856, 'chess': 8.777831270526397, 'nice': 4.864943912763877, 'poor': 3.9258010066067794, 'badly': 6.182969413702259, 'buildings': 7.285518715329709, 'models': 4.825070484650216, 'average': 4.562589617971038, 'date': 4.453698614271417, 'remember': 4.901162777436372, 'calls': 5.292065724480269, 'sturdy': 4.846005637802071, 'light': 3.31858175907342, 'clear': 3.4468938748564306, 'person': 3.7579406933894886, 'reception': 6.999433222591758, 'time': 1.8850026310768182, 'entry': 5.408722203415741, 'spend': 4.230624776087704}, {'days': 2.681947440054445, 'major': 4.3022903260310015, '152': 9.1573208922313, 'managed': 5.806068187085402, 'color': 4.070912346662261, 'money': 2.835791957623192, 'awesome': 3.4042599721459657, 'ringtonesthe': 9.196541605384581, 'general': 4.928243736039043, 'visible': 6.190859000977422, 'ran': 5.406008497544145, 'doesnt': 2.5716268049747817, 'im': 2.167135225808637, 'long': 2.9875492457480255, 'directly': 4.701632813654027, 'download': 3.5478490970463405, 'menus': 4.834207604056436, 'market': 3.7541238948627877, 'size': 3.030703671331819, 'slow': 6.741555028108636, 'java': 5.988928972795091, 'smallest': 7.003771378397742, 'mentioned': 4.748259174933635, 'webonly': 12.415417430252782, 'sun': 6.379935997728026, 'caught': 6.488491404282371, 'flimsy': 5.89332463208263, 'sunlight': 5.742119462485128, 'plastic': 8.598000714917156, 'plentiful': 8.241030160357145, 'ringtones': 4.575104446932618, 'charge': 5.7963615338020285, 'camera': 2.073481417126475, 'sick': 6.4390665209548485, 'phones': 1.93841118461224, 'perfectly': 3.692674555923383, 'worth': 3.387078666259634, 'nice': 2.4324719563819386, 'poor': 3.9258010066067794, 'flip': 4.075438858262355, 'doubt': 5.18051900993795, 'screen': 3.453455620146113, 'lag': 4.708354774882309, 'problems': 2.726113687659392, 't722is': 12.415417430252782, 'gonna': 5.621951297672773, 'e105': 8.44512551670066, 'phone': 1.134571099714468, 'construction': 5.75869090607439, 'moving': 5.2537954273135945, 'lighter': 5.732056484486508, 'complaints': 4.291266826946152, 'eye': 5.865766688018972, 'extremely': 8.227295334271233, 'wellall': 9.582204086196565, 'great': 1.3951175524045933, 'motorola': 3.4062145293281945, 'casing': 6.275532878026527, 'solid': 4.121117821395547, 'vibrant': 5.836166218242681, 'whine': 9.470978451086342, 't722i': 30.338497011776212, 'thing': 5.173630149816886, 'manages': 7.411471124307323, 'games': 7.333272881479344, 'time': 1.8850026310768182, 'phew': 10.469507281197469, 'metal': 5.3970156311835815, 'loud': 8.26941270917987, 'display': 3.5709369117924044}, {'weighs': 7.030922367463694, 'love': 2.1263954050973686, 'honesty': 7.488163745095577, 'lied': 6.943146756581307, 'phones': 1.93841118461224, 'told': 10.96724627766853, 'explained': 6.264814661806503, 'activated': 4.376582672465034, 'number': 13.521533120706597, 'existing': 5.680825770279834, 'lies': 7.359171624904474, 'pieces': 6.218973302458262, 'numbers': 4.295126116284221, 'samsung': 5.113749887519646, 'sells': 5.987312157568186, 'functions': 3.917407058253319, 'service': 5.046891867355804, 'transfer': 8.656169007558862, 'make': 2.559860411474204, 'visit': 6.625457259355529, 'call': 5.20644627232609, 'easy': 2.3561234265784545, 'straighten': 8.949681527453055, 'weeks': 3.4650142704198217, 'ericson': 7.77102653111141, 'store': 3.218263620080775, 'gave': 7.68028805552004, 'excellent': 2.884806796231667, 'kiosk': 34.26107931417089, 'virtues': 9.470978451086342, 'e105': 25.33537655010198, 'replace': 3.626823998959047, 'phone': 2.83642774928617, 'salesperson': 23.953801894228405, 'representative': 6.264814661806503, 'charged': 4.031984229016069, 'compatable': 7.984600631409468, 'sony': 3.9901202535410816, 'removed': 5.269432962538395, 'freea': 11.316805141584672, 'tmobile': 18.938292820427044, 'locked': 4.035190093909702, 'happening': 6.173194164797617, 'calls': 2.6460328622401343, 'practically': 6.073296011531631, 'car': 4.16166908692428, 'bill': 4.9276836688163375, 'straightened': 9.014220048590627, 'sale': 5.248379553340562, 'asked': 4.516263946909684, 'replaced': 4.182445639659345, 'reception': 3.499716611295879, 'charger': 6.324418316098847, 'problem': 2.434459706949755, 'bought': 3.932246570110836, 'top': 3.8465810056847065, 'automatically': 4.634278920407766, 'dropped': 3.525971264934494}, {'tone': 5.504666642290847, 'dont': 1.894989023161962, 'contacted': 4.627620552071611, 'extensive': 6.49116163283825, 'simple': 10.35753990647956, 'sound': 3.2415335952872146, 'play': 3.598564189625357, 'download': 3.5478490970463405, 'sounds': 4.716481230439334, 'counting': 7.285518715329709, 'melody': 9.196541605384581, 'make': 2.559860411474204, 'adds': 6.127558870090998, 'commercials': 8.241030160357145, 'menu': 4.170820673870285, 'support': 3.5854593860173005, 'voicethe': 10.017522157454412, 'system': 3.5383145323878833, 'find': 5.634058848411009, 'till': 5.300647981886319, 'ringim': 11.316805141584672, 'music': 3.131919537658873, 'weeks': 3.4650142704198217, 'frustrated': 5.614134395781162, 'bought': 1.966123285055418, 'ago': 3.5063172953272312, 'direction': 6.418965341633761, 'buy': 2.059326763151086, 'option': 3.935926106020556, 'hum': 9.776360100637524, 'expires': 7.303429641896239, 'standard': 4.354877383714142, 'useablering': 12.415417430252782, 'phone': 0.850928324785851, 'ridiculous': 5.57273414801436, 'hear': 3.814986640266489, 'realize': 5.030186507186208, 'customer': 3.427221109257726, 'great': 1.3951175524045933, 'kids': 5.128541018502083, 'tmobile': 3.156382136737841, 'ring': 8.785696966529056, 'days': 2.681947440054445, 'contract': 3.5499646044991597, 'bad': 2.8528720898093187, 'occassions': 9.525045672356617, 'tones': 5.147194409093217, 'options': 4.091566298913965}, {'office': 9.404159082761824, 'tendigitphonetmomailnet': 12.415417430252782, 'group': 6.038690482354156, 'send': 9.635398812112278, 'add': 3.98639992974027, '4': 2.949040463660364, 'quottext': 12.415417430252782, 'instantly': 5.914127759712393, 'putting': 5.119682357503501, 'updates': 4.412054371622834, 'tmobile': 3.156382136737841, 'quotquot': 11.316805141584672, 'found': 3.057519493918985, 'spamkeyword': 12.415417430252782, 'messagingquot': 11.029123069132892, 'set': 3.2826062607858373, 'tel': 8.321072868030681, 'people': 5.71053122871854, 'phones': 1.93841118461224, 'provided': 4.945763257320654, 'friend': 4.271609453481298, 'quotpower': 12.415417430252782, 'restricted': 7.359171624904474, 'sms': 20.82430869459949, 'cell': 2.662927201268583, 'reply': 5.745919340394903, 'receiving': 4.721935789417607, 'email': 22.987326871757993, 'tmobilecom': 9.642828708013, 'featurequot': 12.415417430252782, 'address': 18.88592041897404, 'put': 3.071245710643079, 'fast4': 9.776360100637524, 'change': 3.5593263750004933, 'sending': 4.439165486507159, 'great': 1.3951175524045933, 'personone': 12.415417430252782, 'filter': 7.861540538652242, 'thing': 2.586815074908443, 'carrier': 7.720316076060177, '646': 11.316805141584672, 'messaging': 4.5125602389722, 'addresses': 6.622403821868638, '850339xxxxtmomailnet': 12.415417430252782, 'number': 6.760766560353298, 'cingular': 4.9044396782386865, 'message': 3.871971867692479, 'forwarding': 7.996576822456184, 'quality': 2.424102167351134, 'select': 20.36634745620186, 'log': 6.016822495717575, 'system': 3.5383145323878833, 'window': 5.50068653753422, 'expected': 3.5225312890620506, 'minor': 4.65665688609512, 'sharing': 6.485828286862888, 'pretty': 2.9103200721528566, 'form': 5.006886863358156, 'yournametmomailnet': 12.415417430252782, 'quotchange': 12.415417430252782, 'recently1': 12.415417430252782, 'eat': 6.469996821646207, 'addressquoton': 12.415417430252782, 'easytorememberemail': 12.415417430252782, 'work': 2.0340510890994445, 'cellemail': 12.415417430252782, 'minutes': 3.1069526602834006, 'cellphone3': 10.623657961024728, 'compare': 4.814015095669049, 'creat': 10.218192852916562, 'drawbacks': 6.488491404282371, 'buy': 2.059326763151086, 'tab': 5.966528036105925, 'check': 3.874117163493312, 'information': 13.2072159596516, 'min': 5.729556483184423, 'pay': 3.320487909787927, '1': 6.808764040221935, 'instance': 6.123848290694462, 'book': 4.685682098867732, 'nice': 2.4324719563819386, 'poor': 3.9258010066067794, 'customize': 5.522775789080693, 'spot': 5.39254934417014, 'alert': 6.138773940911138, 'optionadd': 12.415417430252782, 'services': 9.747468660741342, 'guys': 5.170475883915775, 'memory2': 10.469507281197469, 'phone': 1.134571099714468, 'fieldshome': 12.415417430252782, 'tricks': 6.889964491120998, 'anytime': 5.944617926470181, 'numbersalthough': 12.415417430252782, 'person': 15.031762773557954, 'contact': 11.916258262305, 'quotcommunicationquot': 12.415417430252782, 'entry': 5.408722203415741, 'left': 3.9764020199005685}, {'mini': 4.274518969644929, 'concert': 8.033390795578901, 'keypad': 4.357406629450697, 'wasnt': 10.871338179500352, 'hard': 6.556801445390886, 'previous': 3.8113128668472482, 'line': 3.9167956244219804, 'complaints': 4.291266826946152, 'mild': 7.872122647982779, 'service': 2.523445933677902, 'expect': 3.925184420419328, 'daylight': 6.404150255848621, 'owner': 5.620830849376283, 'impossible': 4.857944528638035, 'times': 2.9801750539475265, 'pleased': 3.976834639418456, 'dont': 1.894989023161962, 'dial': 4.708354774882309, 'apartment': 7.211410743175986, 'keys': 3.9855265672393414, 'driving': 5.274964387151623, 'conversation': 5.422402307319822, 'pet': 8.138751311236726, 'menu': 4.170820673870285, 'holds': 5.270221295255611, 'peeves': 8.981430225767635, 'long': 2.9875492457480255, 'cell': 2.662927201268583, 'wouldnt': 3.7664944681586503, 'live': 3.6537106617861426, 'black': 3.8776376052281565, 'folks': 5.584543195606603, 'perfectly': 3.692674555923383, 'issue': 3.2982894399987783, 'difficult': 4.088416690011068, 'picture': 3.7054574241810516, 'noise': 5.380148830971685, 'option': 3.935926106020556, 'purchasing': 4.524834895596246, 'read': 3.330413549587897, 'screen': 3.453455620146113, 'problems': 2.726113687659392, 'e105': 25.33537655010198, 'laptops': 7.168393358092296, 'phone': 1.418213874643085, 'hear': 7.629973280532978, 'background': 4.972339055904267, 'basement': 7.48094349712209, 'date': 4.453698614271417, 'sitting': 5.6411935438951675, 'change': 3.5593263750004933, 'boyfriend': 6.391969837291749, 'loved': 3.943430831674624, 'made': 3.0770357083957154, 'bar': 4.720569357868172, 'room': 5.0508704159971405, 'calls': 2.6460328622401343, 's105': 17.217509880964926, 'clear': 6.893787749712861, 'caller': 5.621951297672773, 'lost': 4.041863689038156, 'picks': 6.518263562616042, 'crystal': 11.810318179459266, 'idle': 6.784205648431417, 'replaced': 4.182445639659345, 'arent': 4.718296112970157, 'connected': 4.470216297840023, 'havent': 3.7001933883374103}, {'upgraded': 4.4221351021511905, 'selection': 5.5547537588044955, 'dont': 1.894989023161962, 'iti': 5.219480203777213, 'ringtones': 4.575104446932618, 'text': 5.666889077409774, 'calculator': 5.912627384337158, 'half': 3.8974245586659806, 'number': 3.380383280176649, 'phone': 1.418213874643085, 'flip': 4.075438858262355, 'fab': 9.37089499252936, 'lived': 6.43653166535166, 'ericsson': 5.148590082732191, 'numbers': 4.295126116284221, 'download': 3.5478490970463405, 'message': 3.871971867692479, 'quality': 2.424102167351134, 'ring': 4.392848483264528, 'organizer': 7.142417871689036, 'confusing': 5.93078219461753, 'practically': 12.146592023063262, 'indispensible': 10.623657961024728, 'outer': 6.6346739144604525, 'takes': 3.2479845592878758, 'confirm': 6.349309340149034, 'things': 3.091123568200754, 'section': 6.260559336236365, 'nature': 6.640865884708374, 'rings': 5.953949253899065, 'feature': 3.2854198109591377, 'id': 3.770182888955661, 'click': 5.0326709805138705, 'list': 4.337659866515862, 'add': 3.98639992974027, 'book': 9.371364197735463, 'select': 5.091586864050465, 'navigate': 4.819025126188586, 'steps': 11.441710743463373, 'personalized': 7.587103692950481, 'awesome': 3.4042599721459657, 'minor': 4.65665688609512, 't300': 10.218192852916562, 'bit': 3.204477238204632, 'ability': 4.59137141939649, 'missing': 4.568045594092993, 'great': 1.3951175524045933, 'menus': 4.834207604056436, 'tones': 5.147194409093217, 'excellent': 2.884806796231667, 'complaints': 4.291266826946152, 'sony': 3.9901202535410816, 'ticket': 7.452572799992875, 'sleek': 4.6367872829269725, 'friends': 3.950570719208754, 'day': 2.5942794107336793, 'cool': 3.883729792686092, 'sound': 3.2415335952872146, 'todo': 5.303905313756625, 'tmobile': 3.156382136737841, 'calls': 2.6460328622401343, 'java': 5.988928972795091, 'alarm': 4.813515470377617, 'caller': 5.621951297672773, 'messages': 3.670929316399859, 'days': 2.681947440054445, 'hot': 4.9121277995777, 'aim': 7.0778793505514646, 'huge': 4.091566298913965, 'callers': 6.394394080903256, 'games': 3.666636440739672, 'calendar': 4.61279936681011, 'small': 2.912332820232554, 'messaging': 4.5125602389722, 'makes': 3.2732488383799336, 'options': 4.091566298913965, 'delete': 9.806692368834632}, {'predictive': 6.375162718975368, 'bars': 4.855336965230955, 'money': 2.835791957623192, 'figure': 4.303789351945042, 'simple': 3.4525133021598537, 'phones': 3.87682236922448, 'calendar': 4.61279936681011, 'perfect': 2.9487308661346714, 'nj': 8.181310925655524, 'service': 2.523445933677902, 'add': 3.98639992974027, 'lets': 4.76667764129654, 'easy': 2.3561234265784545, 'easiness': 9.850468072791246, 'text': 5.666889077409774, 'worth': 3.387078666259634, 'dictionary': 6.960096314895081, '6': 3.935926106020556, 'problems': 2.726113687659392, 'phone': 1.418213874643085, 'words': 4.836249462856706, 'great': 5.580470209618373, 'instant': 6.109142143304767, 'tmobile': 3.156382136737841, 'samsung': 2.556874943759823, 'created': 6.179047840049078, 'messages': 7.341858632799718, 'aim': 14.155758701102929, 'games': 3.666636440739672, 'arent': 4.718296112970157, 'makes': 3.2732488383799336}, {'rating': 4.669981819978402, 'walking': 6.49116163283825, 'pointed': 6.977338121329587, 'queen': 10.218192852916562, 'existing': 5.680825770279834, 'assigned': 6.854735799237255, 'including': 4.348268390342676, 'ornate': 11.316805141584672, 'reviewer': 11.929894016217212, 'dopes': 12.415417430252782, 'issues': 3.338608450901122, 'adding': 5.501680079593098, 'slow': 3.370777514054318, 'clueless': 8.225762688226357, 'icons': 5.314565521308732, 'ounces': 7.893628853203742, 'menu': 4.170820673870285, 'confusingif': 11.029123069132892, 'theme': 6.6346739144604525, 'black': 3.8776376052281565, 'board': 5.388102916213006, 'adequate': 5.36964085337327, 'surprised': 4.660078617406281, 'weeks': 3.4650142704198217, 'song': 5.784734044610411, 'stomp': 9.470978451086342, 'functional': 4.908276350525174, 'game': 4.9310487869666515, 'designers': 7.742588595790876, 'scrolling': 5.693991729462138, 'advertisementbut': 12.415417430252782, 'cool': 3.883729792686092, 'tmobile': 12.625528546951363, 'level': 4.834717678028219, 'positions': 8.608754940482463, 'married': 8.631227796334521, 'manual': 4.074484204251904, 'fewer': 6.858589368553244, 'stuff': 4.194207336327712, 'flashy': 7.184308813398196, 'defaults': 7.495436504424657, 'small': 2.912332820232554, 'found': 3.057519493918985, 'bought': 1.966123285055418, 'noted': 6.144428998394483, 'view': 4.829628608520748, 'saddled': 9.930510780464783, 'square': 6.554631206786916, 'art': 6.574775772879383, 'weight': 4.574710978503383, 'sequence': 7.861540538652242, 'diminutive': 9.850468072791246, 'house': 4.862130824652363, 'fish': 8.210724810861816, 'hard': 3.278400722695443, 'positioned': 8.30454356607947, 'phone': 1.418213874643085, 'displays': 5.81147360565231, 'year': 3.093535683543692, 'logo': 5.390768399799145, 'thing': 2.586815074908443, 'category': 6.523773218427011, 'provided': 4.945763257320654, 'opted': 6.411530363146243, 'advantageous': 10.469507281197469, 'riveting': 12.415417430252782, 'rep': 5.585623692740357, 'horribly': 7.137302771022265, '3': 5.703074046066709, 'version': 3.2208000187418357, 'told': 3.655748759222843, 'shut': 4.6998478957325736, 'full': 3.282066099804735, 'run': 3.790626228238527, 'marketing': 6.64709643445901, 'screen': 3.453455620146113, 'obscures': 9.776360100637524, 'threedimensional': 11.316805141584672, 'address': 4.72148010474351, 'interface': 4.027877447063416, 'goodby': 11.316805141584672, 'takes': 3.2479845592878758, 'box': 3.2409115112858156, 'starsnow': 11.316805141584672, 'search': 4.456840526438884, 'animated': 7.587103692950481, 'incoming': 5.357519492840925, 'receive': 3.742760136212473, 'messages': 3.670929316399859, 'page': 4.6596502601497845, 'turn': 6.528168477713264, 'waded': 11.316805141584672, 'youve': 5.3532257979662266, 'makes': 3.2732488383799336, 'options': 8.18313259782793, 'dancing': 9.279923214323633, 'software': 6.417969366215233, 'load': 4.52820884443885, 'features': 4.926279427094444, 'garbage': 5.6377708366176655, 'color': 4.070912346662261, 'number': 10.141149840529948, 'spinning': 8.544216419344892, 'impossible': 4.857944528638035, 'ring': 4.392848483264528, 'size': 3.030703671331819, 'annotated': 10.469507281197469, 'service': 2.523445933677902, 'system': 3.5383145323878833, 'tropical': 9.930510780464783, 'call': 2.603223136163045, 'unbelievably': 7.510142651814353, 'tacky': 8.321072868030681, 'white': 4.30049445604819, 'final': 6.1000594287304475, 'lowest': 6.4239528831448, 'pity': 7.872122647982779, 'fantastically': 8.726537976138847, 'great': 1.3951175524045933, 'boys': 7.670485301889532, 'graphics': 5.2965911811907045, 'ha': 12.21099830405253, '160': 7.127150399558247, 'entered': 6.475246177532351, 'case': 3.1999900192280424, 'keeping': 5.213501112721155, '12': 4.410717919703233, 'hour': 4.4561414701363855, 'work': 2.0340510890994445, 'ruined': 7.017254728735029, 'suppose': 5.3515134687807135, 'supposed': 4.42011080996196, 'tones': 5.147194409093217, 'fun': 4.536125945170512, 'piece': 4.148738986946887, 'engineers': 7.391536909406506, 'beautiful': 8.212465805132968, 'juvenile': 9.642828708013, 'arentany': 12.415417430252782, 'glass': 4.772413794692064, 'pieces': 6.218973302458262, 'hardware': 8.496698503823088, 'consulted': 9.324374976894466, 'im': 2.167135225808637, 'numbers': 21.475630581421107, 'home': 3.418889282161925, 'obnoxious': 8.033390795578901, 'identities': 10.469507281197469, 'subadult': 12.415417430252782, 'annoying': 4.102791404577819, 'purposesa': 12.415417430252782, 'comfort': 7.200481672643797, 'note': 3.9432216047672806, 'amazing': 3.3731407433238547, 'book': 4.685682098867732, 'chess': 8.777831270526397, 'incorrectly': 7.8510692387849454, 'department': 6.1849359826743004, 'couple': 3.5744031197688906, 'moronic': 10.218192852916562, 'play': 7.197128379250714, 'multiple': 4.5391585479495555, 'closest': 7.132213701514794, 'normal': 4.377551195543164, 'representation': 9.083212920077578, 'tmobiles': 5.603072336075304, '1bit': 12.415417430252782, 'forever': 5.036409302624477, 'samsung': 2.556874943759823, 'mobile': 3.0635774960029, 'light': 3.31858175907342, 'noooo': 10.017522157454412, 'movingand': 12.415417430252782, 'person': 3.7579406933894886, 'add': 15.94559971896108, 'entry': 10.817444406831482, 'amazed': 5.784734044610411}, {'ive': 2.5000013068513804, 'set': 3.2826062607858373, 'groups': 7.184308813398196, 'manually': 5.364427983184737, 'ringtones': 4.575104446932618, 'pop': 5.33791937668355, 'sad': 5.463645265853871, 'clamshelldesign': 12.415417430252782, 'sturdier': 7.972766173762466, 'im': 2.167135225808637, 'dropped': 3.525971264934494, 'dialing': 4.9372477360929965, 'download': 7.095698194092681, 'sounds': 4.716481230439334, 'obnoxious': 8.033390795578901, 'miss': 4.528960159275093, 'ring': 8.785696966529056, 'battery': 1.7412662547288804, 'nokias': 5.102197043162481, 'nokia': 5.737209643310773, 'upgrade': 3.496098031993895, 'thrilling': 10.623657961024728, 'takes': 3.2479845592878758, 'area': 3.9907782204471527, 'id': 3.770182888955661, 'rings': 5.953949253899065, 'hilly': 9.324374976894466, 'bricks': 8.608754940482463, 'live': 3.6537106617861426, 'book': 4.685682098867732, 'exterior': 6.529313398802627, 'correct': 4.897353249019704, 'happy': 2.7520924342004585, 'looksreception': 12.415417430252782, 'everyonefunctional': 12.415417430252782, 'slows': 6.854735799237255, 'inaccurate': 7.438683687832207, 'accidental': 6.813298609373081, 'phoneafter': 7.8407064517494, 'screen': 1.7267278100730565, 'caller': 11.243902595345546, 'problems': 8.178341062978175, 'forever': 5.036409302624477, 'hoping': 5.089609927657009, 'phone': 1.134571099714468, 'step': 5.153490337550031, 'welli': 6.780627827083532, 'timeaesthetic': 12.415417430252782, 'initialize': 8.65421731455922, 'silver': 5.864337095209377, 'color': 4.070912346662261, 'assignable': 10.218192852916562, 'search': 4.456840526438884, 'tmobile': 3.156382136737841, 'noticeable': 5.860060538442117, 'light': 6.63716351814684, 'clock': 5.1082151154880435, 'accidentally': 5.161239583796264, 'noted': 6.144428998394483, 'times': 2.9801750539475265, 'shipped': 4.43334255517158, 'arent': 4.718296112970157, 'reception': 3.499716611295879, 'grab': 6.4992153676453475, 'spotty': 6.548949373319485, 'display': 3.5709369117924044, 'songs': 5.192121750690468}, {'weve': 6.333198519876336, 'dont': 3.789978046323924, 'nicer': 6.14821688171142, 'phones': 5.81523355383672, 'share': 5.368770152404027, 'experienced': 5.265500594120674, 'purchased': 2.9162955903815173, 'year': 3.093535683543692, 'ring': 4.392848483264528, 'previous': 3.8113128668472482, 'functions': 3.917407058253319, 'shuts': 5.241459110495988, 'family': 8.906003500263436, 'long': 5.975098491496051, 'cell': 2.662927201268583, 'offers': 4.897353249019704, 'lot': 2.6765097530344515, '6': 7.871852212041112, 'excited': 4.976445837856921, 'customers': 4.872144083547337, 'good': 1.3603457042824387, 'tones': 5.147194409093217, 'bc': 6.292924620738396, 'promo': 7.742588595790876, 'screen': 1.7267278100730565, 'problems': 2.726113687659392, 'free': 3.337808770730558, 'rebates': 7.705887228940448, 'phone': 1.985499424500319, 'motorola': 3.4062145293281945, 'members': 6.938953878321271, 'e715': 7.309471956352201, 'yr': 6.317343148086542, 'complain': 4.731093362571627, 'ago': 3.5063172953272312, 'great': 1.3951175524045933, 'graphic': 7.12211260552829, 'samsung': 2.556874943759823, 'months': 2.818590916766238, 'conversation': 5.422402307319822, 'exp': 9.324374976894466, '825': 10.805979517818681, 'works': 1.923782166888349}, {'biggerim': 12.415417430252782, 'month': 3.0803846143192812, 'dishwater': 11.316805141584672, 'upgrade': 6.99219606398779, 'thinking': 4.438822020936206, 'menu': 4.170820673870285, 'functionmy': 11.316805141584672, 'backlighting': 8.084684089966451, 'battery': 3.482532509457761, 'pretty': 2.9103200721528566, 'worse': 4.62389461110205, 'read': 3.330413549587897, 'featuresbut': 8.523597132142156, 'years': 3.0374462168926484, 'tmobile': 3.156382136737841, 'drop': 8.473557283324164, 'list': 4.337659866515862, 'view': 4.829628608520748, 'reupped': 10.805979517818681, 'set': 3.2826062607858373, 'hard': 3.278400722695443, 'back': 2.2555449926226423, 'feel': 3.3354135600046027, 'dried': 7.688029611540442, 'year': 3.093535683543692, 'friendships': 11.316805141584672, 'reviews': 3.417527980052066, 'missed': 4.965337860445284, 'contacts': 3.8978243188152177, 'outlasted': 9.850468072791246, 'cell': 2.662927201268583, '3': 2.8515370230333543, 'nominal': 9.324374976894466, 'filled': 6.360978083983412, 'screen': 1.7267278100730565, 'packrat': 11.316805141584672, 'e105': 8.44512551670066, 'hours': 6.679961641482802, 'sink': 7.619626884656041, 'irritating': 6.384732169991519, 'great': 1.3951175524045933, 'casing': 6.275532878026527, 'dunno': 8.28828304520769, 'scars': 10.335975888572946, 'downsides': 7.211410743175986, 'producti': 7.273753873750122, 'hinge': 13.756166326468492, 'issueit': 9.642828708013, 'action': 6.016822495717575, 'navigation': 4.442951414278217, 'obsolecence': 12.415417430252782, 'basicno': 11.316805141584672, 'dont': 3.789978046323924, 'point': 3.8431680330884666, 'reasons': 5.207557558820307, 'boat': 7.661827239146418, 'funnyacting': 12.415417430252782, 'noticed': 4.502262244324714, 'chargers': 5.685593359763307, 'memory': 3.082505505888419, 'textmessage': 9.582204086196565, 'store': 3.218263620080775, 'sort': 5.176202456472977, 'life': 2.4188038997271706, 'amazinga': 12.415417430252782, 'contract': 3.5499646044991597, 'newer': 4.725131409576014, '12': 4.410717919703233, 'intuitive': 4.698066158067453, 'attached': 5.8830831380304325, 'um': 7.696918558957687, 'silly': 6.406604244810187, 'dirty': 6.241631326350846, 'cards': 4.507765835541694, 'bet': 6.532095041764503, 'result': 5.618593711977927, 'fulfills': 8.008698182988528, 'pic': 5.905159089729633, 'turned': 3.8329984539188375, 'surface': 5.9384450673631, 'ive': 5.000002613702761, 'dropped': 3.525971264934494, 'messagesdont': 12.415417430252782, 'id': 3.770182888955661, 'hasnt': 5.054042001275434, 'generally': 5.380148830971685, 'loosening': 10.805979517818681, 'tight': 6.157749842370143, '5': 2.896636932740309, 'tile': 6.787796316562145, 'planned': 7.017254728735029, 'intended': 5.847339518840807, 'normal': 4.377551195543164, 'models': 4.825070484650216, 'frills': 6.809615363956785, 'delight': 7.790444616968511, 'toiletsoaped': 12.415417430252782, 'adventure': 8.372366162418231, 'device': 3.019178572992302, 'ago': 3.5063172953272312, 'longer': 3.8335607255108224, 'calls': 2.6460328622401343, 'phone': 1.134571099714468, 'gather': 8.272282703861249, 'concrete': 6.308394542510528, 'excellenti': 8.097929316716472}, {'ive': 2.5000013068513804, 'bargain': 6.068028220596772, 'color': 4.070912346662261, 'hard': 3.278400722695443, 'sync': 4.62018250125061, 'highly': 3.7978360648052765, 'decided': 3.7765377205799453, 'radio': 4.092294542665047, 'worldclass': 10.805979517818681, 'technologybluetoothblackberry': 12.415417430252782, 'year': 3.093535683543692, 'sounds': 4.716481230439334, 'speed': 3.8482918700883357, 'investment': 6.20481735322813, 'compact': 4.941780321756576, 'funny': 6.071536996126452, 'dial': 4.708354774882309, 'service': 2.523445933677902, 'pay': 3.320487909787927, '3': 2.8515370230333543, 'lol': 5.463645265853871, 'rebate': 6.625457259355529, 'buttons': 3.6231715827849054, 'company': 3.6234754417966633, 'live': 3.6537106617861426, 'call': 2.603223136163045, '4': 2.949040463660364, 'easy': 2.3561234265784545, 'recommend': 2.426211002314117, 'addon': 7.525068302031029, 'connected': 4.470216297840023, 'worth': 3.387078666259634, 'surprised': 4.660078617406281, 'bells': 5.034538394688666, 'function': 4.120867915109104, 'noise': 5.380148830971685, 'driving': 5.274964387151623, 'option': 3.935926106020556, 'read': 3.330413549587897, 'screen': 1.7267278100730565, 'problems': 2.726113687659392, 'voicedial': 9.279923214323633, 'free': 3.337808770730558, 'e105': 8.44512551670066, 'phone': 1.134571099714468, 'reason': 3.5044269355960624, 'hear': 3.814986640266489, 'background': 4.972339055904267, 'opinion': 4.605064746528493, 'fuzzy': 6.960096314895081, 'difference': 4.493519019228986, 'tmobile': 6.312764273475682, 'customer': 6.854442218515452, 'loved': 3.943430831674624, 'great': 4.18535265721378, 'center': 5.242992853127937, 'siemens': 16.42144962172363, 'car': 4.16166908692428, 'work': 4.068102178198889, 'misdial': 10.335975888572946, 'usefull': 7.030922367463694, 'walked': 6.831921121471083, 'times': 2.9801750539475265, 'travels': 7.05883115558077, 'att': 2.91622067559705, 'stuff': 4.194207336327712, 'friend': 4.271609453481298, 'reception': 3.499716611295879, 'country': 4.328391959585081, 'small': 2.912332820232554, 'whistles': 5.115620063494621, 'model': 3.4952956783803772, 'makes': 6.546497676759867, 'commented': 7.087541261463201, 'fact': 7.304291432479678}, {'people': 2.85526561435927, 'ringer': 11.375971410803853, 'awesome': 3.4042599721459657, 'individual': 12.40161866366118, 'make': 2.559860411474204, 'perfect': 2.9487308661346714, 'group': 6.038690482354156, 'distinctive': 8.726537976138847, 'review': 3.4804353810395483, 'quotgroupquot': 12.415417430252782, 'buy': 2.059326763151086, 'multiple': 4.5391585479495555, 'part': 3.8970249582610625, 'groups': 7.184308813398196, 'based': 4.641822962892588, 'dialing': 4.9372477360929965, 'disadvantage': 7.239267697678953, '10': 3.6334014605308464, 'longer': 3.8335607255108224, 'groupeverything': 11.316805141584672, 'person': 3.7579406933894886, 'voice': 3.4680014796026537, 'assign': 13.37713936533117}, {'looksthe': 10.017522157454412, 'dont': 1.894989023161962, 'garbage': 5.6377708366176655, 'people': 2.85526561435927, 'back': 2.2555449926226423, 'wantthis': 10.218192852916562, 'doesnt': 2.5716268049747817, '30secin': 12.415417430252782, 'z1010': 11.722270249692837, 'oly': 10.805979517818681, '3650': 16.04193655116069, 'features': 2.463139713547222, 'errsion': 24.830834860505565, 'end': 3.5197878031162997, 'min': 5.729556483184423, 'thinking': 4.438822020936206, 'peace': 7.152727241347897, 'long': 5.975098491496051, 'recorder': 5.914127759712393, 'waste': 4.2788991781374905, 'gifti': 10.017522157454412, 'nokia': 5.737209643310773, 'thoe': 10.805979517818681, 'badit': 9.776360100637524, 'sony': 7.980240507082163, 'phone': 1.134571099714468, 'contract': 3.5499646044991597, 'record': 5.31209536772667, 't610': 14.204422902421989, 'small': 2.912332820232554}, {'competitors': 6.762928249984132, 'major': 4.3022903260310015, 'set': 3.2826062607858373, 'nextel': 6.299525304769748, 'people': 2.85526561435927, 'ringtones': 9.150208893865235, 'i60': 10.469507281197469, 'adaptation': 9.37089499252936, 'cingular': 4.9044396782386865, 'download': 3.5478490970463405, 'fine': 2.934439420434077, 'tzones': 7.54022010705163, 'nokia': 2.8686048216553863, 'helpfulenjoy': 12.415417430252782, 'network': 3.3389513668329274, 'service': 2.523445933677902, 'interstates': 9.850468072791246, 'personal': 4.76097420378267, 'broad': 7.882817937099526, 'alerts': 6.622403821868638, 'due': 3.8622781120630756, 'previously': 4.890316684126982, '2': 2.5129303780502377, 'functionality': 4.493519019228986, 'size': 3.030703671331819, 'good': 2.7206914085648775, 'practice': 6.485828286862888, 'months': 2.818590916766238, 'polyphonic': 7.473775007643478, 'spot': 5.39254934417014, 'hand': 3.7724730335309844, 'phone': 1.134571099714468, 'hifi': 8.981430225767635, 'compared': 3.8036415963505967, 'operating': 4.288603709526668, 'groups': 7.184308813398196, 'hands': 4.047188391976503, 'trouble': 4.247781715006413, 'cities': 6.9816954266985425, 'tmobiles': 5.603072336075304, 'bigger': 4.329930658149936, 'sound': 3.2415335952872146, '10': 3.6334014605308464, 'great': 2.7902351048091867, 'motorola': 3.4062145293281945, 'settings': 3.9070631875037494, 'requires': 4.971168780756076, 'da': 7.315551002428584, 'caller': 5.621951297672773, 'winner': 6.6660244443445285, 'bad': 2.8528720898093187, 'neat': 5.562118337066704, 'works': 1.923782166888349, 'time': 1.8850026310768182, 'clearity': 9.707367229150572, 'voice': 3.4680014796026537, 'loud': 4.134706354589935, 'assign': 6.688569682665585}, {'helpfull': 8.464173711671355, 'good': 1.3603457042824387, 'modes': 6.488491404282371, 'capable': 5.0713445796797165, 'alarm': 4.813515470377617, 'complaint': 4.513669911732638, 'bluetooth': 3.47282579302093, 'compatible': 4.643085855083169, 'phone': 0.283642774928617, 'additions': 8.084684089966451, 'phonei': 4.769063707806782, 'features': 2.463139713547222, 'exception': 5.932310078795584, 'tones': 5.147194409093217, 'mixed': 6.7318376629141, 'small': 2.912332820232554, 'organizer': 7.142417871689036, 'makes': 3.2732488383799336, 'ring': 4.392848483264528, 'size': 3.030703671331819}, {'set': 3.2826062607858373, 'feedback': 5.671358243941435, 'switched': 4.619359455936658, 'ringtones': 4.575104446932618, 'satisfied': 3.96436404134109, 'month': 3.0803846143192812, 'bring': 4.990059543225631, 'stored': 5.885998591990557, 't720i': 19.700936145582492, 'saved': 10.306980675100062, 'e105': 8.44512551670066, 'dont': 1.894989023161962, 'adding': 5.501680079593098, 'layout': 5.833392291359956, 'fit': 8.347955480846103, 'menus': 4.834207604056436, 'menu': 8.34164134774057, 'naviging': 12.415417430252782, 'improvement': 5.300647981886319, 'buttons': 7.246343165569811, 'wtactile': 11.316805141584672, 'finally': 3.7300016064220918, '081804the': 12.415417430252782, 'easy': 2.3561234265784545, 'plenty': 4.764297254550082, 'include': 5.090268472297207, 'pixel': 5.8251163820560965, 'sound': 9.724600785861643, 'good': 6.801728521412194, 'couple': 3.5744031197688906, 'rhyme': 8.464173711671355, 'odditiescant': 12.415417430252782, 'motorola': 3.4062145293281945, 'listening': 5.225495259506975, 'specific': 5.234586231208226, 'day': 2.5942794107336793, 'color': 8.141824693324523, 'areas': 4.958962875076573, 'groups': 7.184308813398196, 'memorythe': 8.152737553211466, 'tmobile': 3.156382136737841, 'nicely': 5.209782253842418, 'ring': 21.96424241632264, 'oddly': 7.532615507666411, 'leave': 4.643085855083169, 'small': 2.912332820232554, 'found': 3.057519493918985, 'works': 1.923782166888349, 'soft': 5.35065840246098, 'worrying': 7.431810808544446, 'view': 4.829628608520748, 'heavy': 4.126129107252465, 'correct': 4.897353249019704, 'bill': 4.9276836688163375, 'people': 2.85526561435927, 'phones': 1.93841118461224, 'phone': 3.1200705242147873, 'individual': 24.80323732732236, 'bookmarks': 15.503956672281431, 'screenloud': 10.623657961024728, 'tactile': 6.483172242804772, 'large': 3.8932366973255057, 'missed': 4.965337860445284, 'contacts': 11.693472956445653, 'pictures': 3.1119510802871155, 'boy': 6.218973302458262, 'access': 7.527037071968507, 'exit': 6.571873013221422, 'issues': 3.338608450901122, 'youll': 8.528744969135518, 'email': 3.2839038388225705, 'choose': 4.553305218590034, 'full': 3.282066099804735, 'run': 3.790626228238527, 'ability': 4.59137141939649, 'power': 3.6257573321912444, 'selecting': 13.19066899980084, 'screen': 1.7267278100730565, 'lithiumion': 9.014220048590627, 'groupssecond': 12.415417430252782, 'standard': 4.354877383714142, 'downloaded': 4.526707906070768, 'reason': 3.5044269355960624, 'itproscompact': 12.415417430252782, 'key': 12.22990037643175, 'strong': 9.622042162912887, '4way': 8.918909868786303, 'itthere': 8.152737553211466, 'topleft': 12.415417430252782, 'great': 4.18535265721378, 'incoming': 5.357519492840925, 'items': 4.922100181390637, 'meaning': 5.772930628885526, 'reports': 6.755935214493161, 'hinge': 6.878083163234246, 'placementthe': 11.316805141584672, 'delete': 4.903346184417316, 'navigation': 4.442951414278217, 'options': 4.091566298913965, 'automatically': 4.634278920407766, 'dialingsome': 12.415417430252782, 'clamshell': 13.511870428986322, 'fantastic': 4.458940632216001, 'features': 2.463139713547222, 'battery': 5.2237987641866415, 'image': 5.23306531836752, 'logical': 7.239267697678953, 'contactsedit': 12.415417430252782, '62': 7.661827239146418, 'doesnt': 2.5716268049747817, 'ringergood': 11.316805141584672, 'tzonesspecific': 12.415417430252782, 'excersize': 12.415417430252782, 'select': 10.18317372810093, 'size': 3.030703671331819, 'save': 4.095700043402177, 'monthly': 4.796675052582369, 'charge': 2.8981807669010142, 'fast': 2.5556205663413873, 'quickly': 3.6778043934439317, 'flimsy': 5.89332463208263, 'call': 2.603223136163045, 'wobbly': 16.51306869378622, 'frustration': 5.93078219461753, 'oddities': 9.470978451086342, 'perfectly': 3.692674555923383, 'store': 3.218263620080775, 'wap': 14.326288004412305, 'tingy': 12.415417430252782, 'life': 2.4188038997271706, 'option': 15.743704424082225, 'sending': 4.439165486507159, 'memo': 6.802289323864712, 'polyphonic': 14.947550015286955, 'eliminates': 8.124957989104391, 'menusgreat': 12.415417430252782, 'construction': 11.51738181214878, 'link': 10.806604271892805, 'e105s': 11.316805141584672, 'viewlisten': 12.415417430252782, 'dialing': 4.9372477360929965, 'glad': 4.36790791927136, 'callers': 6.394394080903256, 'case': 3.1999900192280424, '10': 7.266802921061693, 'kind': 3.9907782204471527, '128x128': 10.112832337258737, 'samsung': 2.556874943759823, 'attached': 5.8830831380304325, 'flip': 8.15087771652471, 'minor': 4.65665688609512, 'tones': 30.8831664545593, 'voice': 10.404004438807961, 'didnt': 5.286698433166979, 'browser': 16.048260221041218, 'rename': 8.804499517608559, 'ive': 2.5000013068513804, 'youre': 14.450377082043579, 'calender': 13.877907756642543, 'links': 6.622403821868638, 'jpg': 8.777831270526397, 'slooooooow': 12.415417430252782, 'pressing': 10.629131042617464, 'im': 4.334270451617274, 'purchased': 2.9162955903815173, 'events': 6.628520048886075, 'organizer': 7.142417871689036, 'menusthe': 9.525045672356617, 'loud': 4.134706354589935, 'depending': 5.302275321545695, 'fortunately': 5.982477337513603, 'make': 2.559860411474204, 'message': 3.871971867692479, 'feature': 9.856259432877414, 'event': 6.622403821868638, 'itall': 8.008698182988528, 'parts': 5.18051900993795, 'feedbackconsno': 12.415417430252782, 'holding': 9.937664662190114, 'online': 7.425482037410022, 'reminder': 6.999317028048362, 'tzones': 60.32176085641304, 'phonethe': 5.140245110800011, 'independent': 7.532615507666411, 'thoughfirst': 11.316805141584672, 'lightweightgood': 10.805979517818681, 'button': 3.309660098469039, 'viewing': 10.804803281226304, 'designed': 4.860035486012509, 'favorites': 7.117100063704745, 'included': 4.130408534802903, 'types': 6.173194164797617, 'built': 4.2189806190177555, 'picture': 3.7054574241810516, 'center': 5.242992853127937, 'phonesfast': 12.415417430252782, 'charger': 3.1622091580494236, 'alarm': 4.813515470377617, 'required': 5.0508704159971405, 'assign': 40.13141809599351, 'contact': 3.972086087435, 'time': 1.8850026310768182, 'alarms': 6.1615886186773094}, {'perfect': 2.9487308661346714, 'fast': 2.5556205663413873, 'charges': 4.774333181077868, 'weight': 4.574710978503383, '16': 5.075879734845107, 'sleek': 4.6367872829269725, 'light': 3.31858175907342, 'months': 2.818590916766238, 'problems': 2.726113687659392, 'surprised': 4.660078617406281, 'tiny': 4.8563791748093985, 'purses': 8.544216419344892, 'reviews': 3.417527980052066, 'complaints': 4.291266826946152, 'bad': 2.8528720898093187, 'dropped': 3.525971264934494, 'fits': 4.297210380847, 'times': 2.9801750539475265, 'condition': 3.579188858726768, 'phone': 0.850928324785851}, {'150': 5.58778819574993, 'years': 3.0374462168926484, 'phonesand': 8.88905690563662, 'quality': 2.424102167351134, '100': 3.828138631269857, 'previous': 3.8113128668472482, 'compared': 3.8036415963505967, 'nice': 4.864943912763877, 'paint': 6.735244821235715, '2': 2.5129303780502377, 'bought': 1.966123285055418, 'good': 1.3603457042824387, 'screen': 1.7267278100730565, 'problems': 2.726113687659392, 'rebates': 7.705887228940448, 'phone': 0.567285549857234, 'amazon': 2.6751549388196203, 'worked': 3.0344064442235066, 'friends': 3.950570719208754, 'great': 1.3951175524045933, 'voice': 3.4680014796026537, 'tmobile': 3.156382136737841, 'samsung': 5.113749887519646, 'january': 6.1000594287304475, 'experience': 3.540549794564729, 'ugly': 6.216938713760474, 'n105': 10.805979517818681, 'mixed': 6.7318376629141, 'works': 1.923782166888349}, {'frequently5': 12.415417430252782, 'ringtones': 4.575104446932618, 'money': 2.835791957623192, 'trade': 5.8918551241032695, 'isnt': 3.4265969284747118, 'one3': 9.37089499252936, 'bunch': 5.411443293530102, 'pause': 6.938953878321271, 'menu': 8.34164134774057, 'controls': 5.963368475815557, 'rebate': 6.625457259355529, 'button': 3.309660098469039, 'dislike': 6.068028220596772, 'eventually': 5.1082151154880435, 'read': 3.330413549587897, 'unbeatable': 7.044779402125119, 'windowsgo': 12.415417430252782, 'longer4': 11.316805141584672, 'it1': 8.111352337048613, 'outweigh': 7.267922953439329, 'tmobile': 3.156382136737841, 'signal': 7.323460406308394, 'server': 6.1312832691819805, 'small': 2.912332820232554, 'side': 3.7974743357364016, 'keypad': 4.357406629450697, 'phones': 3.87682236922448, 'hard': 3.278400722695443, 'yeah': 5.516702895922794, 'usefulwhat': 12.415417430252782, 'zones': 7.587103692950481, 'hassle': 5.149288650696331, 'changed': 4.660078617406281, 'download': 3.5478490970463405, 'nicein': 12.415417430252782, 'heres': 5.894796302694086, 'pros': 4.954351915898499, 'access': 3.7635185359842533, 'attracted': 7.411471124307323, 'shut': 4.6998478957325736, 'screen': 1.7267278100730565, 'sunlight7': 12.415417430252782, 'key': 4.0766334588105835, 'change': 3.5593263750004933, 'ill': 3.8821540586590504, 'months': 2.818590916766238, 'contract': 3.5499646044991597, 'flipped': 7.488163745095577, 'light2': 9.470978451086342, 'turn': 3.264084238856632, 'stand': 5.120361013790152, 'durable3': 12.415417430252782, 'laggy': 6.391969837291749, 'battery': 1.7412662547288804, 'e1051': 12.415417430252782, 'ring': 8.785696966529056, 'size': 3.030703671331819, 'bars2': 11.316805141584672, '6': 3.935926106020556, 'preloaded': 5.80337639541969, 'life': 2.4188038997271706, 'direct': 5.460778565371795, 'volume': 7.635501709373336, 'phone': 1.418213874643085, 'stick': 5.081088079952246, 'caller': 5.621951297672773, 'flip': 4.075438858262355, 'display': 3.5709369117924044, 'decent4': 10.469507281197469, 'control': 4.78350091718153, 'warning6': 12.415417430252782, 'cons': 4.933298506700667, 'manually': 5.364427983184737, 'amazons': 5.903672100608055, 'pushed': 6.173194164797617, 'im': 2.167135225808637, 'ready': 4.704316178412625, 'obnoxious': 8.033390795578901, 'linked': 7.102211451210994, 'make': 2.559860411474204, 'id': 3.770182888955661, '1': 3.4043820201109676, 'conclusion': 6.179047840049078, 'normal': 4.377551195543164, 'updown': 8.071612008399098, 'clearer': 6.574775772879383, '2second': 10.623657961024728, 'plenty': 4.764297254550082, 'date': 4.453698614271417, 'changing': 5.3236753151576295, 'response': 4.605876105599372, 'fair': 5.346394003674523, 'times': 2.9801750539475265, 'purchase': 2.8752698407741715, 'samsung': 2.556874943759823, 'deal': 3.427221109257726, 'switch': 4.140550609567528, 'reception': 3.499716611295879, 'time': 5.655007893230454, 'external': 9.593350105164738}, {'ive': 2.5000013068513804, 'love': 2.1263954050973686, 'regret': 4.831152611863723, 'fair': 5.346394003674523, 'give': 3.1772673576373323, 'ringtones': 4.575104446932618, 'toss': 7.7614570800952585, 'turned': 7.665996907837675, 'back': 2.2555449926226423, 'touch': 2.815267189779008, 'slower': 5.295781792235146, 'annoying': 4.102791404577819, 'open': 3.6766819688893086, 'november': 6.165442187993299, 'sssllloooo': 12.415417430252782, 'working': 5.683786684850082, 'durable': 4.703420923205113, 'wasnt': 3.6237793931667843, 'crappy': 5.431627464994648, '2': 2.5129303780502377, '520': 6.286367220192237, 'listed': 5.08435712503415, 'closed': 5.567412155676419, 'weeks': 3.4650142704198217, 'excited': 4.976445837856921, 'bought': 1.966123285055418, 'started': 3.651051709722974, 'worse': 4.62389461110205, 'mess': 5.915630389596928, 'screen': 5.18018343021917, 'nokia': 5.737209643310773, 'problems': 2.726113687659392, 'noticing': 14.571037430659418, 'e105': 8.44512551670066, 'phone': 1.985499424500319, 'chance': 5.043928135038505, 'dont': 1.894989023161962, 'trouble': 4.247781715006413, 'wanted': 3.0200092758146195, 'day': 5.188558821467359, 'sound': 3.2415335952872146, '6010': 15.899018623196397, 'great': 1.3951175524045933, 'short': 4.011392936942182, 'tmobile': 3.156382136737841, 'samsung': 2.556874943759823, 'light': 3.31858175907342, 'needing': 5.862909543218192, 'seconds': 4.453698614271417, 'reason': 3.5044269355960624, 'flipped': 7.488163745095577, 'thing': 2.586815074908443, 'stopped': 4.178202726903293, 'real': 3.7980169784195192, 'problem': 2.434459706949755, 'didnt': 5.286698433166979, 'began': 10.93880687830711, 'waited': 5.564232502759039}, {'matt': 9.525045672356617, 'easy': 2.3561234265784545, 'family': 4.453001750131718, 'battery': 1.7412662547288804, 'screen': 1.7267278100730565, 'drawbacks': 6.488491404282371, 'great': 1.3951175524045933, 'daily': 4.891936117679284, 'assigned': 6.854735799237255, 'phone': 0.283642774928617, 'tones': 5.147194409093217, 'small': 5.824665640465108, 'couldnt': 3.6134965262112004, 'charged': 4.031984229016069, 'friends': 3.950570719208754, 'differnt': 8.65421731455922, 'ring': 4.392848483264528, 'brighterand': 12.415417430252782}, {'love': 4.252790810194737, 'family': 4.453001750131718, 'people': 2.85526561435927, 'absolutely': 4.0120650552603045, 'recognize': 5.4006030789772375, 'ir': 6.714973856862096, 'accept': 5.246067413582183, 'download': 3.5478490970463405, 'talky': 11.316805141584672, 'computer': 3.8429787646105664, 'exist': 6.379935997728026, 'carry': 4.386636267765636, 'xp': 7.340243615018955, 'open': 3.6766819688893086, 'walky': 12.415417430252782, 'cell': 2.662927201268583, 'slow': 3.370777514054318, 'nextel': 6.299525304769748, 'service': 5.046891867355804, 'transfer': 4.328084503779431, 'feeone': 12.415417430252782, 'rings': 5.953949253899065, 'feature': 3.2854198109591377, 'delay': 5.814187311523906, 'dropping': 5.274964387151623, 'call': 2.603223136163045, 'buying': 3.2722858079700496, 'provider': 4.3320888214664075, 'opens': 6.277690376166548, 'files': 4.572745955273326, 'box': 3.2409115112858156, 'screen': 1.7267278100730565, 'unlimited': 4.367588072794941, 'free': 6.675617541461116, 'e105': 8.44512551670066, 'phone': 1.985499424500319, 'girlfriend': 5.96021886691266, 'plan': 3.125988651957636, 'put': 3.071245710643079, 'line': 3.9167956244219804, 'strong': 4.811021081456444, 'friends': 3.950570719208754, 'response': 4.605876105599372, 'glad': 4.36790791927136, 'wont': 3.2275271871141915, 'tmobile': 9.469146410213522, 'samsung': 2.556874943759823, 'windows': 3.527626666057456, 'light': 3.31858175907342, 'signal': 3.661730203154197, 'backgrounds': 7.563387166333165, 'thing': 5.173630149816886, 'bad': 2.8528720898093187, 'ipaq': 8.210724810861816, 'tones': 5.147194409093217, 'oneway': 10.017522157454412, 'small': 2.912332820232554, 'talk': 3.5237683176027255}, {'months': 2.818590916766238, 'love': 2.1263954050973686, 'features': 4.926279427094444, 'people': 2.85526561435927, 'battery': 1.7412662547288804, 'phones': 1.93841118461224, 'number': 3.380383280176649, 'states': 5.118326425092365, 'talking': 4.213208993816335, 'phonein': 7.5791355233013045, 'cingular': 14.71331903471606, 'waivers': 10.805979517818681, 'find': 5.634058848411009, 'sell': 4.530088190979591, 'dial': 4.708354774882309, 'busy': 12.346388329595234, 'okand': 10.017522157454412, 'tiny': 4.8563791748093985, '3': 2.8515370230333543, 'book': 4.685682098867732, 'call': 2.603223136163045, 'usage': 4.330546801114592, 'bought': 1.966123285055418, 'life': 2.4188038997271706, 'problems': 2.726113687659392, 'free': 3.337808770730558, 'volume': 3.817750854686668, 'phone': 1.134571099714468, 'companysome': 12.415417430252782, 'sons': 6.459580060787951, 'understand': 4.2865372881271435, 'nonexistent': 7.184308813398196, 'frequently': 5.11359508811485, 'scratchy': 8.701845363548474, 'beginning': 5.327843724694809, 'simpler': 6.728442073912962, 'ago': 3.5063172953272312, 'february': 6.416480868306099, 'lost': 4.041863689038156, 'limits': 6.394394080903256, 'instruction': 5.658485041005229, 'united': 6.182969413702259, 'contract': 3.5499646044991597, 'specific': 5.234586231208226, 'loud': 4.134706354589935}, {'load': 4.52820884443885, 'people': 5.71053122871854, 'highly': 3.7978360648052765, 'couldnt': 3.6134965262112004, 'pleased': 7.953669278836912, 'adding': 5.501680079593098, 'reciving': 10.623657961024728, 'service': 7.5703378010337055, 'generally': 5.380148830971685, 'feature': 3.2854198109591377, 'fast': 2.5556205663413873, 'cell': 2.662927201268583, 'book': 4.685682098867732, '4': 2.949040463660364, 'easy': 4.712246853156909, 'recommend': 2.426211002314117, 'issue': 3.2982894399987783, 'resolved': 5.7408560384383565, '1the': 8.751855784123135, 'online': 3.712741018705011, 'problems': 5.452227375318784, 'phone': 1.418213874643085, 'amazon': 2.6751549388196203, 'address': 4.72148010474351, 'immediately': 4.52820884443885, 'companyall': 12.415417430252782, 'discoloration': 8.918909868786303, 'glad': 4.36790791927136, 'tmobile': 3.156382136737841, 'thati': 7.012740048380502, 'calls': 2.6460328622401343, 'encounteredi': 11.316805141584672, 'setup': 4.700293826620677, 'lines': 5.604173051651489, 'shipped': 4.43334255517158, 'era': 6.4390665209548485, 'reception': 3.499716611295879, 'learn': 4.651121423802264, 'making': 3.878421611540365, 'problem': 2.434459706949755, 'makes': 3.2732488383799336, 'waited': 5.564232502759039}, {'cute': 5.315390263623523, 'major': 4.3022903260310015, 'love': 2.1263954050973686, 'battery': 1.7412662547288804, 'telephone': 5.173335070995821, 'gadgetaholici': 12.415417430252782, 'cash': 6.512784096851416, 'talker': 7.670485301889532, 'hate': 4.408050362269452, 'hes': 12.304038335322318, 'durable': 4.703420923205113, 'cell': 2.662927201268583, 'needed': 3.3953904650001063, 'charge': 2.8981807669010142, 'black': 3.8776376052281565, '4': 2.949040463660364, 'instantly': 5.914127759712393, 'read': 3.330413549587897, 'screen': 1.7267278100730565, 'lasted': 4.8785203006866125, 'wifey': 10.469507281197469, 'phone': 1.701856649571702, 'fell': 5.1464973020590605, 'wont': 3.2275271871141915, 'purchase': 2.8752698407741715, 'everits': 10.469507281197469, 'trashthe': 11.316805141584672, 'flow': 7.378464827839153, 'flip': 4.075438858262355, 'hubby': 7.168393358092296, 'husband': 4.5155221071130525, 'replacement': 3.6159065288839143}, {'atampt': 9.048121600266308, 'love': 2.1263954050973686, 'dont': 1.894989023161962, 'people': 2.85526561435927, 'sends': 6.167374555744353, 'idea': 4.764297254550082, 'logical': 7.239267697678953, 'brought': 5.057861229342429, 'heard': 4.711507220636471, 'beats': 5.462688785627914, 'static': 6.109142143304767, 'switched': 4.619359455936658, 'hell': 5.761264910069563, 'issues': 3.338608450901122, 'nokias': 10.204394086324962, 'compact': 4.941780321756576, 'web': 3.399754637280138, 'service': 5.046891867355804, 'ways': 5.215739084561609, 'things': 3.091123568200754, 'ease': 5.047077743941401, 'worksthe': 8.751855784123135, 'ringvibrate': 9.776360100637524, 'pc': 4.437449337124233, 'biggest': 4.726046322723092, 'valley': 8.677747811969414, 'minor': 4.65665688609512, 'intutive': 10.017522157454412, 'telephone': 5.173335070995821, 'phone': 1.418213874643085, 'bit': 6.408954476409264, 'xfer': 9.776360100637524, 'complain': 4.731093362571627, 'change': 3.5593263750004933, 'quotcopyquot': 12.415417430252782, 'sound': 3.2415335952872146, 'boy': 6.218973302458262, 'great': 6.9755877620229665, 'tmobile': 6.312764273475682, 'samsung': 2.556874943759823, 'mobile': 3.0635774960029, 'work': 2.0340510890994445, 'silicon': 7.972766173762466, 'bad': 2.8528720898093187, 'command': 5.936907788044213, 'enter': 5.037033717256068, 'problem': 2.434459706949755, 'makes': 3.2732488383799336, 'software': 3.2089846831076163}, {'clearcut': 10.805979517818681, 'features': 2.463139713547222, 'extra': 3.8651763847903444, 'pro': 5.336233035643114, 'lightweight': 5.278934221662535, 'casual': 6.601286898427715, 'e315': 10.112832337258737, 'compared': 3.8036415963505967, 'end': 3.5197878031162997, 'vivid': 6.006888639193284, 'whitsle': 12.415417430252782, 'adequate': 5.36964085337327, 'type': 3.81076296306655, 'friendly': 4.424501967161457, 'bells': 5.034538394688666, 'korea': 6.960096314895081, 'models': 4.825070484650216, 'screen': 1.7267278100730565, 'chinacons': 12.415417430252782, 'user': 3.2393579922534737, 'strong': 4.811021081456444, 'built': 4.2189806190177555, 'wont': 3.2275271871141915, 'made': 3.0770357083957154, 'sturdy': 4.846005637802071, 'signal': 3.661730203154197, 'reception': 3.499716611295879, 'higher': 4.8470381624162595}, {'background': 14.9170171677128, 'text': 11.333778154819548, 'rest': 9.904108769465523, 'month': 3.0803846143192812, 'discovered': 5.357519492840925, 'front': 19.37156209395116, 'toggle': 6.943146756581307, 'distant': 8.195909725076675, 'aspect': 5.903672100608055, 'mentioned': 4.748259174933635, 'corner': 5.7408560384383565, 'negatives1': 9.279923214323633, 'activating': 5.71222931701192, 'clock': 30.64929069292826, 'unplugged': 7.55560502589111, '24': 5.164781918354102, 'indicator': 6.295120011301832, 'slow': 3.370777514054318, '20': 4.25176125408435, 'icons': 5.314565521308732, 'surprises': 7.205931277411361, 'apparently': 9.689948356390817, 'languages': 5.976067059152684, 'battery': 6.965065018915522, 'add': 3.98639992974027, 'book': 4.685682098867732, 'numberpredictive': 12.415417430252782, 'choose': 9.106610437180068, 'lt': 7.7332862031285625, 'displaythe': 8.831898491796672, 'differing': 9.470978451086342, 'main': 20.948233154520246, 'balloons': 10.805979517818681, 'disconnecting': 7.619626884656041, 'good': 2.7206914085648775, 'aspects': 6.216938713760474, 'closed': 5.567412155676419, 'secondsthe': 9.419685156698792, 'reviewer3': 12.415417430252782, 'backlight': 6.554631206786916, 'someones': 7.152727241347897, 'period': 5.0014471400623375, 'dark': 5.23154671519033, 'menus': 9.668415208112872, 'feels': 3.921697595022187, 'itfirst': 8.464173711671355, 'actions': 7.040139022568617, 'usefulthe': 8.777831270526397, 'press': 4.25718751329329, 'pertinent': 9.37089499252936, 'scrolling': 5.693991729462138, 'animation': 40.29354301781595, 'categories': 7.790444616968511, 'dim': 6.6724142424433, 'rotate': 7.082698636987413, 'bar': 14.161708073604515, 'lost': 4.041863689038156, 'settings': 7.814126375007499, 'signal': 7.323460406308394, 'sizes': 7.0730831782879715, 'list': 4.337659866515862, 'solution': 5.0553134572636305, 'serves': 5.896270142312386, 'bird': 8.195909725076675, 'large': 3.8932366973255057, 'synchronize': 7.184308813398196, 'stuff': 4.194207336327712, 'unstable': 7.05883115558077, 'lets': 4.76667764129654, 'havent': 3.7001933883374103, 'week2': 12.415417430252782, 'page': 9.319300520299569, 'minute': 4.598194644744615, 'accessible': 6.282019387256134, 'predictive': 6.375162718975368, 'bars': 9.71067393046191, 'set': 6.565212521571675, 'keypad': 8.714813258901394, 'sequence': 7.861540538652242, 'modestabilityive': 12.415417430252782, 'phones': 3.87682236922448, 'topright': 11.029123069132892, 'alive': 7.32166722944602, 'seat': 7.7519783361407155, 'design': 3.714237402723529, 'displays': 17.43442081695693, 'entering': 6.035294893353017, 'multiple': 4.5391585479495555, 'calendar': 9.22559873362022, 'lifeto': 12.415417430252782, 'analog': 7.48094349712209, 'dial': 9.416709549764619, 'outs': 8.097929316716472, 'network': 3.3389513668329274, 'bottom': 9.006721084147554, 'displaying': 7.2280316244120275, 'reboot': 5.065543725514445, 'bouncing': 8.372366162418231, 'alertthe': 11.316805141584672, 'cell': 2.662927201268583, 'lights': 5.972877263784583, '3': 2.8515370230333543, 'continue': 5.229273125730457, 'exit': 6.571873013221422, 'lazily': 10.805979517818681, '7': 4.356141206947133, 'stories': 7.50276254451673, 'issue': 3.2982894399987783, 'email': 3.2839038388225705, 'filled': 6.360978083983412, 'shows': 9.267722942034885, 'preserve': 7.696918558957687, 'eagle': 9.470978451086342, 'shut': 4.6998478957325736, 'led': 5.0508704159971405, 'power': 7.251514664382489, 'impressed': 4.483414277891398, 'seconds': 13.361095842814251, 'screen': 3.453455620146113, 'attention': 5.50068653753422, 'answers': 6.441607818383521, 'standard': 8.709754767428285, 'hours': 3.339980820741401, 'pressure': 6.356294234670985, 'rapid': 7.32166722944602, 'operating': 4.288603709526668, 'address': 4.72148010474351, 'interface': 4.027877447063416, 'mailbox': 7.619626884656041, 'tower': 6.3539605113247655, 'digits': 7.452572799992875, 'water': 4.597791987199413, 'cubes': 11.029123069132892, 'incoming': 10.71503898568185, 'toplevel': 21.611959035637362, 'receive': 3.742760136212473, 'months': 2.818590916766238, 'flipped': 7.488163745095577, 'turn': 19.58450543313979, 'negative': 9.452092645446184, 'menu': 8.34164134774057, 'suggestion': 6.704990412877913, 'pick': 4.781563870571014, 'calculators': 9.048121600266308, 'military': 7.571230343794191, 'displaysphone': 12.415417430252782, 'loses': 6.312858835639213, 'durable': 4.703420923205113, 'silence': 7.017254728735029, 'purpose': 10.384243501380936, 'calling': 8.0814197742666, 'dont': 5.684967069485886, 'simple': 3.4525133021598537, 'requiring': 6.598306270289578, 'backlit': 7.239267697678953, 'number': 10.141149840529948, 'owned': 3.7791975324149036, 'nested': 9.850468072791246, 'initialize': 8.65421731455922, 'bookyou': 11.316805141584672, 'tightly': 7.696918558957687, 'reached': 6.404150255848621, 'message': 7.743943735384958, 'total': 4.880120727808694, 'nowadays': 6.6533660474726055, 'displayaside': 12.415417430252782, 'belt': 6.365683975020825, 'offbattery': 10.017522157454412, 'feel': 3.3354135600046027, 'flaws': 5.7408560384383565, 'additional': 4.859512336641435, 'area': 3.9907782204471527, 'monthly': 4.796675052582369, 'top': 7.693162011369413, 'system': 3.5383145323878833, 'long': 2.9875492457480255, 'quickly': 3.6778043934439317, 'frenetically': 11.316805141584672, 'sends': 6.167374555744353, 'flimsy': 5.89332463208263, 'explicitly': 8.701845363548474, 'call': 5.20644627232609, 'semiuseful': 12.415417430252782, 'protrudes': 9.419685156698792, 'mysterious': 17.50371156824627, 'permanently': 7.044779402125119, 'ph': 7.7519783361407155, 'waste': 4.2788991781374905, 'minor': 4.65665688609512, 'plug': 4.423825148184689, 'flaw': 5.679637416010455, 'option': 11.807778318061668, 'season': 8.084684089966451, 'designed': 4.860035486012509, 'jack': 10.021059709273313, 'volume': 7.635501709373336, 'phone': 4.821927173786489, 'finished': 6.6853176472792075, 'cycles': 7.679218981858287, 'differentiate': 8.565269828542723, 'shellim': 12.415417430252782, 'side': 3.7974743357364016, 'hold': 3.704303546199238, 'true': 4.4474442505898475, 'white': 4.30049445604819, 'sound': 3.2415335952872146, '10': 7.266802921061693, '15': 4.265815694516627, 'designthe': 17.50371156824627, 'work': 2.0340510890994445, 'attached': 5.8830831380304325, 'flip': 8.15087771652471, 'mobile': 3.0635774960029, 'wellthoughtout': 10.805979517818681, 'suppose': 5.3515134687807135, 'plugged': 5.055949791997161, 'reliably': 13.83649840991916, 'flashes': 7.200481672643797, 'detached': 8.918909868786303, 'happened': 4.674318340217416, 'minutes': 3.1069526602834006, 'display': 24.99655838254683, 'backlighting': 8.084684089966451, 'control': 9.56700183436306, 'ive': 7.500003920554141, 'puzzling': 9.048121600266308, 'item': 3.667747640155543, 'colors': 4.701186285403697, 'mind': 4.290082343538492, 'life': 4.837607799454341, 'surface': 5.9384450673631, 'ins': 7.972766173762466, 'heard': 4.711507220636471, 'single': 4.530840919656458, '3060': 9.014220048590627, 'numbers': 12.885378348852663, 'home': 3.418889282161925, 'occupied': 8.390065739517633, 'action': 6.016822495717575, 'flap': 7.984600631409468, 'strength': 10.975719047948932, 'date': 4.453698614271417, 'configurablevisual': 12.415417430252782, 'open': 7.353363937778617, 'perform': 5.747189181835379, 'welldesigned': 8.210724810861816, 'make': 2.559860411474204, 'generally': 5.380148830971685, 'feature': 3.2854198109591377, 'configurable': 7.861540538652242, 'rubber': 12.258838671487835, 'field': 6.434003218998302, 'isnt': 3.4265969284747118, 'occasionally': 5.22173161185767, '5': 2.896636932740309, 'useless': 8.735176145589882, 'digital': 5.0713445796797165, 'answer': 4.440540529693906, 'valuable': 7.054125264543357, 'wallpapers': 6.247900939364441, 'earbud': 8.008698182988528, 'mystifying': 10.469507281197469, 'kinds': 6.229208806352289, 'animationsdespite': 12.415417430252782, 'separate': 5.414171808183307, 'keys': 3.9855265672393414, 'time': 5.655007893230454, 'plugging': 6.755935214493161, 'wellintegrated': 12.415417430252782, 'compared': 3.8036415963505967, 'allowing': 5.9792670618833546, 'animations': 7.532615507666411, 'services': 4.873734330370671, 'choice': 8.431356939243992, 'approved': 7.431810808544446, 'menusevery': 12.415417430252782, 'inactivity': 9.048121600266308, 'break': 4.815015095752382, 'antenna': 10.744515028528884, 'calls': 2.6460328622401343, 'charges': 4.774333181077868, 'typically': 12.998430735290695, 'blinks': 8.020968275580344, 'cover': 3.8203377001794734, 'person': 3.7579406933894886, 'contact': 3.972086087435, 'green': 5.976067059152684, 'configure': 6.0982527435054985, 'enter': 5.037033717256068, 'button': 3.309660098469039, 'pretty': 2.9103200721528566, 'textthere': 12.415417430252782, 'silencing': 9.37089499252936, 'fact': 3.652145716239839, 'typical': 5.77162769710511}, {'wasnt': 3.6237793931667843, 'phones': 3.87682236922448, 'highly': 3.7978360648052765, 'screens': 9.028080152920333, 'rate': 4.708354774882309, 'year': 6.187071367087384, 'pain': 5.011747140240408, 'mill': 9.014220048590627, 'issue': 3.2982894399987783, 'run': 3.790626228238527, 'power': 3.6257573321912444, 'replacing': 5.451281817834538, 'time': 1.8850026310768182, 'e105': 8.44512551670066, 'phone': 0.850928324785851, 'regular': 4.40075105978784, 'half': 3.8974245586659806, 'appears': 4.957808140537176, 'samsung': 5.113749887519646, 's105': 8.608754940482463, 'lose': 4.919875486368526, 'problem': 4.86891941389951, 'makes': 3.2732488383799336, 'options': 4.091566298913965}, {'respond': 5.002050094557542, 'shwing': 12.415417430252782, 'dont': 1.894989023161962, 'weight': 4.574710978503383, 'show': 4.369188329177405, 'color': 4.070912346662261, 'lightest': 8.210724810861816, 'phone': 0.283642774928617, 'ppl': 7.082698636987413, 'doesnt': 2.5716268049747817, 'forgot': 6.103682621099868, 'operation': 5.5319548438396895, 'mere': 7.7614570800952585, 'happy': 5.504184868400917, 'slow': 3.370777514054318, 'spoke': 6.2584384446672265, 'lil': 6.889964491120998, 'wot': 11.316805141584672, 'delays': 7.0217898839004205, '28': 6.910085894320419, 'a460': 10.335975888572946, 'tells': 5.64807430498739, 'replacing': 5.451281817834538, 'camera': 2.073481417126475, 'functionality': 4.493519019228986, 'usp': 9.707367229150572, 'expected': 3.5225312890620506, 'a460and': 12.415417430252782, 'parameter': 9.279923214323633, 'today': 4.299896548706013, 'nice': 2.4324719563819386, 'real': 3.7980169784195192, 'fopr': 11.316805141584672, 'bit': 3.204477238204632, 'keys': 3.9855265672393414, 'screen': 1.7267278100730565, 'jazz': 8.949681527453055, 'strongeralmost': 12.415417430252782, 'clearer': 6.574775772879383, 'clearprobably': 12.415417430252782, 'mention': 4.66308226695049, 'initialising': 12.415417430252782, 'phoneconsit': 10.623657961024728, 'device': 3.019178572992302, 'buy': 2.059326763151086, 'earlier': 5.1244426521098, 'faith': 7.233633879960697, 'made': 3.0770357083957154, 'samsung': 5.113749887519646, 'message': 3.871971867692479, 'devices': 4.248633141196631, 'times': 2.9801750539475265, 'thing': 2.586815074908443, 'phonebook': 6.396824215756547, 'neat': 5.562118337066704, 'oz': 8.097929316716472, 'time': 1.8850026310768182, 'voice': 3.4680014796026537, 'added': 4.672581474822033}, {'ive': 2.5000013068513804, 'outlook': 5.487859523974466, 'tone': 5.504666642290847, 'inability': 6.885988342741359, 'text': 5.666889077409774, 'dialling': 8.751855784123135, 'lack': 4.437449337124233, 'prefer': 4.695843440993201, 'numberi': 8.631227796334521, 'assigned': 6.854735799237255, 'isnt': 3.4265969284747118, 'waps': 12.415417430252782, 'im': 2.167135225808637, 'receptionvoice': 11.316805141584672, 'ring': 13.178545449793583, 'speed': 3.8482918700883357, 'id': 3.770182888955661, 'subject': 6.637765107030126, 'happy': 2.7520924342004585, 'dial': 4.708354774882309, 'slow': 3.370777514054318, 'depending': 5.302275321545695, '3digit': 11.316805141584672, 'quality': 2.424102167351134, 'flash': 3.735255410558405, 'vibrate': 16.859134965237804, 'cell': 2.662927201268583, 'thrilled': 6.109142143304767, '3': 2.8515370230333543, '2': 2.5129303780502377, 'pocketability': 9.582204086196565, 'easy': 2.3561234265784545, 'criteria': 7.696918558957687, 'porting': 7.068309899535313, 'tooymmv': 12.415417430252782, 'nonfancy': 12.415417430252782, 'store': 3.218263620080775, 'nice': 4.864943912763877, 'buy': 2.059326763151086, 'towers': 5.807416804956695, 'activated': 4.376582672465034, 'excels': 7.800296913411523, 'ringring': 11.316805141584672, 'job': 4.104510673084332, 'important': 4.28094985997522, 'synched': 8.321072868030681, 'put': 3.071245710643079, 'amp': 8.138751311236726, 'message': 7.743943735384958, 'cumbersome': 6.241631326350846, 'minutesmonth': 10.017522157454412, 'info': 4.857422471721977, 'tooworst': 12.415417430252782, 'tmobile': 3.156382136737841, 'phone': 0.567285549857234, 'bother': 5.131969201496151, 'clock': 5.1082151154880435, 'loses': 6.312858835639213, 'contact': 3.972086087435, 'mode': 4.160888548313038, 'small': 2.912332820232554, 'voice': 3.4680014796026537, 'drawbacks': 6.488491404282371, 'notes': 5.526844970687419, 'automatically': 9.268557840815532}, {'ive': 2.5000013068513804, 'serving': 7.661827239146418, 'tough': 5.481994404522068, 'supply': 6.847072926491685, 'ringtones': 4.575104446932618, 'complaint': 4.513669911732638, 'daylight': 6.404150255848621, 'vibrate': 5.619711655079268, 'download': 3.5478490970463405, 'bizarre': 8.124957989104391, 'fine': 5.868878840868154, 'siren': 10.623657961024728, 'decent': 3.674600802685484, 'feature': 3.2854198109591377, 'supplied': 6.379935997728026, 'battery': 1.7412662547288804, 'easy': 2.3561234265784545, 'biggest': 4.726046322723092, 'differenceanyhow': 12.415417430252782, 'hope': 3.909689716945823, 'function': 4.120867915109104, 'life': 2.4188038997271706, 'good': 1.3603457042824387, 'star': 4.24891711109773, 'screen': 3.453455620146113, 'trek': 8.831898491796672, 'alert': 12.277547881822276, 'phone': 0.283642774928617, 'cultural': 10.218192852916562, 'angling': 12.415417430252782, 'present': 5.14232483425326, 'great': 1.3951175524045933, 'short': 4.011392936942182, 'samsung': 2.556874943759823, 'counter': 7.12211260552829, 'bright': 4.216777974955413, 'reports': 6.755935214493161, 'reviews': 3.417527980052066, 'red': 5.095552500443812, 'reception': 3.499716611295879, 'sun': 6.379935997728026, 'koreanus': 12.415417430252782, 'problem': 2.434459706949755, 'works': 1.923782166888349, 'agree': 5.592131307897095}, {'ive': 2.5000013068513804, 'give': 3.1772673576373323, 'battery': 3.482532509457761, 'phones': 1.93841118461224, 'screenringtones': 12.415417430252782, 'move': 4.585389347718943, 'dead': 4.491707096283545, 'talking': 4.213208993816335, 'good': 1.3603457042824387, 'im': 2.167135225808637, 'numbers': 4.295126116284221, 'purchased': 2.9162955903815173, 'cuts': 6.421456002946213, 'find': 2.8170294242055043, 'clearexternal': 12.415417430252782, 'offthe': 7.972766173762466, 'slow': 3.370777514054318, 'shuts': 5.241459110495988, 'offit': 9.237363599904837, 'consthe': 8.544216419344892, 'prosvery': 9.582204086196565, 'long': 2.9875492457480255, 'quickly': 3.6778043934439317, '2': 2.5129303780502377, '1250': 11.029123069132892, 'dies': 5.436272155183972, '8': 3.9637232210692406, 'tryin': 9.850468072791246, 'amazonthe': 7.938080615774576, 'sim': 2.7426646697266848, 'nice': 4.864943912763877, 'buy': 2.059326763151086, 'amazon': 2.6751549388196203, 'speakerphoneno': 12.415417430252782, 'dialingthis': 11.316805141584672, 'screen': 5.18018343021917, 'usecan': 10.805979517818681, 'hours': 3.339980820741401, 'phone': 0.850928324785851, 'completely': 3.8768542131003523, 'wanring': 12.415417430252782, 'cardnow': 9.850468072791246, 'gamesno': 12.415417430252782, 'sound': 3.2415335952872146, 'great': 1.3951175524045933, 'months': 2.818590916766238, 'screensmall': 10.805979517818681, 'doesnt': 2.5716268049747817, 'store': 3.218263620080775, 'including': 4.348268390342676, 'voice': 3.4680014796026537, 'sizeeasy': 10.805979517818681, 'lasting': 6.052389326712317}, {'tricky': 6.625457259355529, 'great': 2.7902351048091867, 'buy': 2.059326763151086, 'phone': 0.850928324785851, 'improvement': 5.300647981886319, 'hard': 3.278400722695443, 'smooth': 4.323790018651712, 'dial': 9.416709549764619, 'highly': 3.7978360648052765, 'buttons': 3.6231715827849054, 'small': 2.912332820232554, 'easy': 2.3561234265784545, 'hand': 3.7724730335309844, 'lightweighta': 12.415417430252782, 'bit': 3.204477238204632, 'hold': 3.704303546199238, 'reccomend': 6.231268539315299, 'problem': 2.434459706949755}, {'ive': 2.5000013068513804, 'crazy': 5.141631112407888, 'sees': 7.315551002428584, 'dont': 1.894989023161962, 'house': 4.862130824652363, 'owned': 3.7791975324149036, 'years': 3.0374462168926484, 'doesnt': 2.5716268049747817, 'asks': 6.65967521666587, 'wont': 3.2275271871141915, 'verizon': 3.3050078969016488, 'boss': 15.239253769312082, 'phone': 1.134571099714468, 'excellent': 2.884806796231667, 'rudy': 10.805979517818681, 'boyfriend': 6.391969837291749, 'customer': 3.427221109257726, 'tmobile': 3.156382136737841, 'robin': 10.218192852916562, 'loyal': 6.601286898427715, 'neat': 5.562118337066704, 'time': 1.8850026310768182, 'boyfriends': 17.173552067527375, 'sincerly': 10.469507281197469}, {'ive': 5.000002613702761, 'pound': 7.961070133999274, 'embarrassing': 7.309471956352201, 'people': 5.71053122871854, 'ringtones': 9.150208893865235, 'ringer': 5.6879857054019265, 'play': 3.598564189625357, 'owned': 3.7791975324149036, 'download': 3.5478490970463405, 'depends': 6.155835966187859, 'tzonesall': 12.415417430252782, 'im': 2.167135225808637, 'research': 4.594175346729225, 'phones': 1.93841118461224, 'ringers': 7.315551002428584, 'mediocre': 6.061047389455432, 'blab': 12.415417430252782, 'quality': 4.848204334702268, 'everyday': 5.242992853127937, 'e105': 8.44512551670066, 'web': 3.399754637280138, 'guess': 4.07424568308202, 'service': 2.523445933677902, 'area': 3.9907782204471527, 'rings': 5.953949253899065, 'superb': 5.411443293530102, 'access': 7.527037071968507, 'battery': 1.7412662547288804, '2': 2.5129303780502377, 'call': 2.603223136163045, 'location': 5.227004693755829, 'easy': 2.3561234265784545, 'basic': 3.5569066172188544, 'weeks': 3.4650142704198217, 'public': 6.377546510330644, 'wap': 14.326288004412305, 'life': 2.4188038997271706, 'song': 5.784734044610411, 'free': 13.351235082922232, 'includes': 10.954265892471645, 'phone': 0.850928324785851, 'pop': 5.33791937668355, 'favorites': 14.23420012740949, 'excellent': 2.884806796231667, 'included': 4.130408534802903, 'hold': 3.704303546199238, 'complain': 9.462186725143255, 'sound': 6.483067190574429, 'great': 1.3951175524045933, 'tmobile': 6.312764273475682, 'downloaded': 4.526707906070768, 'button': 3.309660098469039, 'backgrounds': 7.563387166333165, 'games': 7.333272881479344, 'browsing': 8.688397780565838, 'making': 3.878421611540365, 'voice': 3.4680014796026537, 'loud': 4.134706354589935, 'playing': 4.353930563381456}, {'ive': 2.5000013068513804, 'cmon': 8.195909725076675, '600': 5.5888722066961884, 'people': 11.42106245743708, 'battery': 1.7412662547288804, 'december': 5.905159089729633, 'lack': 4.437449337124233, 'rip': 6.22101203914811, '50': 4.3798147373342005, 'recieve': 6.182969413702259, 'louder': 5.93078219461753, 'palm': 5.51468676620761, 'dropped': 3.525971264934494, 'ready': 4.704316178412625, 'ring': 4.392848483264528, 'forget': 4.919320085076826, 'worry': 5.213501112721155, 'features': 7.3894191406416665, 'perfect': 2.9487308661346714, 'complaining': 5.87150558468799, 'pay': 3.320487909787927, 'make': 2.559860411474204, 'domake': 11.316805141584672, 'feature': 3.2854198109591377, 'rebate': 6.625457259355529, 'ringtones': 4.575104446932618, 'palmone': 9.850468072791246, 'worth': 6.774157332519268, 'phone': 2.552784974357553, 'life': 2.4188038997271706, 'good': 1.3603457042824387, 'nokia': 2.8686048216553863, 'problems': 2.726113687659392, 'free': 3.337808770730558, 'quick': 3.8257175480497967, '75': 5.800691830049021, 'degrade': 8.65421731455922, 'scratches': 4.38761458188247, 'world': 4.213757239444102, 'paid': 3.7777780857606778, 'growing': 6.91824920495958, 'definetly': 7.50276254451673, '15': 4.265815694516627, 'calls': 5.292065724480269, 'treo': 13.281731769416748, 'moneys': 15.503956672281431, 'technical': 5.138861027534072, 'months': 2.818590916766238, 'days': 2.681947440054445, '2003': 7.820297580118193, 'doesnt': 10.286507219899127, 'honestly': 5.040161652243028, 'supposed': 4.42011080996196, 'popular': 5.671358243941435, 'agree': 5.592131307897095}, ... ]"
      ]
     },
     "execution_count": 89,
     "metadata": {},
     "output_type": "execute_result"
    }
   ],
   "source": [
    "review"
   ]
  },
  {
   "cell_type": "code",
   "execution_count": 90,
   "metadata": {
    "collapsed": false
   },
   "outputs": [],
   "source": [
    "mobile_brand_data_new['sentiment']=sentiment\n",
    "mobile_brand_data_new['review_tf_idf']=review\n",
    "mobile_brand_data_new['title_tf_idf']=title"
   ]
  },
  {
   "cell_type": "code",
   "execution_count": 91,
   "metadata": {
    "collapsed": false
   },
   "outputs": [
    {
     "data": {
      "text/plain": [
       "['asin', 'reviewText', 'summary', 'sentiment', 'review_tf_idf', 'title_tf_idf']"
      ]
     },
     "execution_count": 91,
     "metadata": {},
     "output_type": "execute_result"
    }
   ],
   "source": [
    "mobile_brand_data_new.column_names()"
   ]
  },
  {
   "cell_type": "code",
   "execution_count": 92,
   "metadata": {
    "collapsed": false
   },
   "outputs": [
    {
     "data": {
      "text/html": [
       "<div style=\"max-height:1000px;max-width:1500px;overflow:auto;\"><table frame=\"box\" rules=\"cols\">\n",
       "    <tr>\n",
       "        <th style=\"padding-left: 1em; padding-right: 1em; text-align: center\">asin</th>\n",
       "        <th style=\"padding-left: 1em; padding-right: 1em; text-align: center\">sentiment</th>\n",
       "        <th style=\"padding-left: 1em; padding-right: 1em; text-align: center\">review_tf_idf</th>\n",
       "        <th style=\"padding-left: 1em; padding-right: 1em; text-align: center\">title_tf_idf</th>\n",
       "    </tr>\n",
       "    <tr>\n",
       "        <td style=\"padding-left: 1em; padding-right: 1em; text-align: center; vertical-align: top\">1466736038</td>\n",
       "        <td style=\"padding-left: 1em; padding-right: 1em; text-align: center; vertical-align: top\">1</td>\n",
       "        <td style=\"padding-left: 1em; padding-right: 1em; text-align: center; vertical-align: top\">{'product':<br>5.003959093726972, ...</td>\n",
       "        <td style=\"padding-left: 1em; padding-right: 1em; text-align: center; vertical-align: top\">{'great': 1}</td>\n",
       "    </tr>\n",
       "    <tr>\n",
       "        <td style=\"padding-left: 1em; padding-right: 1em; text-align: center; vertical-align: top\">1466736038</td>\n",
       "        <td style=\"padding-left: 1em; padding-right: 1em; text-align: center; vertical-align: top\">1</td>\n",
       "        <td style=\"padding-left: 1em; padding-right: 1em; text-align: center; vertical-align: top\">{'smarts':<br>8.918909868786303, ...</td>\n",
       "        <td style=\"padding-left: 1em; padding-right: 1em; text-align: center; vertical-align: top\">{'phone': 1, 'price': 1,<br>'great': 1, 'reasonab ...</td>\n",
       "    </tr>\n",
       "    <tr>\n",
       "        <td style=\"padding-left: 1em; padding-right: 1em; text-align: center; vertical-align: top\">1466736038</td>\n",
       "        <td style=\"padding-left: 1em; padding-right: 1em; text-align: center; vertical-align: top\">1</td>\n",
       "        <td style=\"padding-left: 1em; padding-right: 1em; text-align: center; vertical-align: top\">{'set':<br>3.2826062607858373, ' ...</td>\n",
       "        <td style=\"padding-left: 1em; padding-right: 1em; text-align: center; vertical-align: top\">{'phone': 1, 'excellent':<br>1} ...</td>\n",
       "    </tr>\n",
       "    <tr>\n",
       "        <td style=\"padding-left: 1em; padding-right: 1em; text-align: center; vertical-align: top\">1466736038</td>\n",
       "        <td style=\"padding-left: 1em; padding-right: 1em; text-align: center; vertical-align: top\">1</td>\n",
       "        <td style=\"padding-left: 1em; padding-right: 1em; text-align: center; vertical-align: top\">{'ive':<br>2.5000013068513804, ' ...</td>\n",
       "        <td style=\"padding-left: 1em; padding-right: 1em; text-align: center; vertical-align: top\">{'phone': 1, 'great': 1}</td>\n",
       "    </tr>\n",
       "    <tr>\n",
       "        <td style=\"padding-left: 1em; padding-right: 1em; text-align: center; vertical-align: top\">1621911888</td>\n",
       "        <td style=\"padding-left: 1em; padding-right: 1em; text-align: center; vertical-align: top\">0</td>\n",
       "        <td style=\"padding-left: 1em; padding-right: 1em; text-align: center; vertical-align: top\">{'kernel':<br>7.55560502589111, 'rom': ...</td>\n",
       "        <td style=\"padding-left: 1em; padding-right: 1em; text-align: center; vertical-align: top\">{'phone': 1, 'crap': 1}</td>\n",
       "    </tr>\n",
       "    <tr>\n",
       "        <td style=\"padding-left: 1em; padding-right: 1em; text-align: center; vertical-align: top\">1621911888</td>\n",
       "        <td style=\"padding-left: 1em; padding-right: 1em; text-align: center; vertical-align: top\">0</td>\n",
       "        <td style=\"padding-left: 1em; padding-right: 1em; text-align: center; vertical-align: top\">{'sell':<br>4.530088190979591, ...</td>\n",
       "        <td style=\"padding-left: 1em; padding-right: 1em; text-align: center; vertical-align: top\">{'phone': 1, 'buy': 1,<br>'dont': 1} ...</td>\n",
       "    </tr>\n",
       "    <tr>\n",
       "        <td style=\"padding-left: 1em; padding-right: 1em; text-align: center; vertical-align: top\">1621911888</td>\n",
       "        <td style=\"padding-left: 1em; padding-right: 1em; text-align: center; vertical-align: top\">1</td>\n",
       "        <td style=\"padding-left: 1em; padding-right: 1em; text-align: center; vertical-align: top\">{'good':<br>1.3603457042824387, ...</td>\n",
       "        <td style=\"padding-left: 1em; padding-right: 1em; text-align: center; vertical-align: top\">{'phone': 1, 'good': 1}</td>\n",
       "    </tr>\n",
       "    <tr>\n",
       "        <td style=\"padding-left: 1em; padding-right: 1em; text-align: center; vertical-align: top\">B0000DZG40</td>\n",
       "        <td style=\"padding-left: 1em; padding-right: 1em; text-align: center; vertical-align: top\">1</td>\n",
       "        <td style=\"padding-left: 1em; padding-right: 1em; text-align: center; vertical-align: top\">{'sunlightas':<br>12.415417430252782, ...</td>\n",
       "        <td style=\"padding-left: 1em; padding-right: 1em; text-align: center; vertical-align: top\">{'phone': 1, 'great': 2,<br>'size': 1} ...</td>\n",
       "    </tr>\n",
       "    <tr>\n",
       "        <td style=\"padding-left: 1em; padding-right: 1em; text-align: center; vertical-align: top\">B0000DZG40</td>\n",
       "        <td style=\"padding-left: 1em; padding-right: 1em; text-align: center; vertical-align: top\">0</td>\n",
       "        <td style=\"padding-left: 1em; padding-right: 1em; text-align: center; vertical-align: top\">{'months':<br>2.818590916766238, ...</td>\n",
       "        <td style=\"padding-left: 1em; padding-right: 1em; text-align: center; vertical-align: top\">{'phone': 1, 'buy': 1,<br>'dont': 1} ...</td>\n",
       "    </tr>\n",
       "    <tr>\n",
       "        <td style=\"padding-left: 1em; padding-right: 1em; text-align: center; vertical-align: top\">B0000DZG40</td>\n",
       "        <td style=\"padding-left: 1em; padding-right: 1em; text-align: center; vertical-align: top\">1</td>\n",
       "        <td style=\"padding-left: 1em; padding-right: 1em; text-align: center; vertical-align: top\">{'text':<br>2.833444538704887, ...</td>\n",
       "        <td style=\"padding-left: 1em; padding-right: 1em; text-align: center; vertical-align: top\">{'pleased': 1}</td>\n",
       "    </tr>\n",
       "</table>\n",
       "[246574 rows x 4 columns]<br/>Note: Only the head of the SFrame is printed.<br/>You can use print_rows(num_rows=m, num_columns=n) to print more rows and columns.\n",
       "</div>"
      ],
      "text/plain": [
       "Columns:\n",
       "\tasin\tstr\n",
       "\tsentiment\tint\n",
       "\treview_tf_idf\tdict\n",
       "\ttitle_tf_idf\tdict\n",
       "\n",
       "Rows: 246574\n",
       "\n",
       "Data:\n",
       "+------------+-----------+-------------------------------+\n",
       "|    asin    | sentiment |         review_tf_idf         |\n",
       "+------------+-----------+-------------------------------+\n",
       "| 1466736038 |     1     | {'product': 5.003959093726... |\n",
       "| 1466736038 |     1     | {'smarts': 8.9189098687863... |\n",
       "| 1466736038 |     1     | {'set': 3.2826062607858373... |\n",
       "| 1466736038 |     1     | {'ive': 2.5000013068513804... |\n",
       "| 1621911888 |     0     | {'kernel': 7.5556050258911... |\n",
       "| 1621911888 |     0     | {'sell': 4.530088190979591... |\n",
       "| 1621911888 |     1     | {'good': 1.360345704282438... |\n",
       "| B0000DZG40 |     1     | {'sunlightas': 12.41541743... |\n",
       "| B0000DZG40 |     0     | {'months': 2.8185909167662... |\n",
       "| B0000DZG40 |     1     | {'text': 2.833444538704887... |\n",
       "+------------+-----------+-------------------------------+\n",
       "+-------------------------------+\n",
       "|          title_tf_idf         |\n",
       "+-------------------------------+\n",
       "|          {'great': 1}         |\n",
       "| {'phone': 1, 'price': 1, '... |\n",
       "|  {'phone': 1, 'excellent': 1} |\n",
       "|    {'phone': 1, 'great': 1}   |\n",
       "|    {'phone': 1, 'crap': 1}    |\n",
       "| {'phone': 1, 'buy': 1, 'do... |\n",
       "|    {'phone': 1, 'good': 1}    |\n",
       "| {'phone': 1, 'great': 2, '... |\n",
       "| {'phone': 1, 'buy': 1, 'do... |\n",
       "|         {'pleased': 1}        |\n",
       "+-------------------------------+\n",
       "[246574 rows x 4 columns]\n",
       "Note: Only the head of the SFrame is printed.\n",
       "You can use print_rows(num_rows=m, num_columns=n) to print more rows and columns."
      ]
     },
     "execution_count": 92,
     "metadata": {},
     "output_type": "execute_result"
    }
   ],
   "source": [
    "mobile_brand_data_new.remove_columns(['reviewText','summary'])"
   ]
  },
  {
   "cell_type": "code",
   "execution_count": 93,
   "metadata": {
    "collapsed": false
   },
   "outputs": [
    {
     "data": {
      "text/plain": [
       "{'asin': '1466736038',\n",
       " 'review_tf_idf': {'5': 2.896636932740309,\n",
       "  'galaxy': 3.11523635427681,\n",
       "  'give': 3.1772673576373323,\n",
       "  'product': 5.003959093726972,\n",
       "  'recommend': 2.426211002314117,\n",
       "  's3': 4.24891711109773,\n",
       "  'star': 4.24891711109773},\n",
       " 'sentiment': 1,\n",
       " 'title_tf_idf': {'great': 1}}"
      ]
     },
     "execution_count": 93,
     "metadata": {},
     "output_type": "execute_result"
    }
   ],
   "source": [
    "mobile_brand_data_new['asin'==1466736038]"
   ]
  },
  {
   "cell_type": "code",
   "execution_count": 100,
   "metadata": {
    "collapsed": false
   },
   "outputs": [
    {
     "name": "stdout",
     "output_type": "stream",
     "text": [
      "Canvas is accessible via web browser at the URL: http://localhost:34979/index.html\n",
      "Opening Canvas in default web browser.\n"
     ]
    }
   ],
   "source": [
    "mobile_brand_data_new.show()"
   ]
  },
  {
   "cell_type": "code",
   "execution_count": 94,
   "metadata": {
    "collapsed": true
   },
   "outputs": [],
   "source": [
    "#split data into train and test\n",
    "mobile_brand_data_new_train,mobile_brand_data_new_test=mobile_brand_data_new.random_split(0.8)"
   ]
  },
  {
   "cell_type": "code",
   "execution_count": 95,
   "metadata": {
    "collapsed": false
   },
   "outputs": [
    {
     "data": {
      "text/plain": [
       "(197287, 4)"
      ]
     },
     "execution_count": 95,
     "metadata": {},
     "output_type": "execute_result"
    }
   ],
   "source": [
    "mobile_brand_data_new_train.shape"
   ]
  },
  {
   "cell_type": "code",
   "execution_count": 96,
   "metadata": {
    "collapsed": false
   },
   "outputs": [
    {
     "data": {
      "text/plain": [
       "(49287, 4)"
      ]
     },
     "execution_count": 96,
     "metadata": {},
     "output_type": "execute_result"
    }
   ],
   "source": [
    "mobile_brand_data_new_test.shape"
   ]
  },
  {
   "cell_type": "code",
   "execution_count": 99,
   "metadata": {
    "collapsed": false
   },
   "outputs": [
    {
     "name": "stdout",
     "output_type": "stream",
     "text": [
      "Canvas is accessible via web browser at the URL: http://localhost:34979/index.html\n",
      "Opening Canvas in default web browser.\n"
     ]
    }
   ],
   "source": [
    "mobile_brand_data_new_test.show()"
   ]
  },
  {
   "cell_type": "code",
   "execution_count": 101,
   "metadata": {
    "collapsed": false
   },
   "outputs": [
    {
     "name": "stdout",
     "output_type": "stream",
     "text": [
      "PROGRESS: Creating a validation set from 5 percent of training data. This may take a while.\n",
      "          You can set ``validation_set=None`` to disable validation tracking.\n",
      "\n"
     ]
    },
    {
     "data": {
      "text/html": [
       "<pre>WARNING: The number of feature dimensions in this problem is very large in comparison with the number of examples. Unless an appropriate regularization value is set, this model may not provide accurate predictions for a validation/test set.</pre>"
      ],
      "text/plain": [
       "WARNING: The number of feature dimensions in this problem is very large in comparison with the number of examples. Unless an appropriate regularization value is set, this model may not provide accurate predictions for a validation/test set."
      ]
     },
     "metadata": {},
     "output_type": "display_data"
    },
    {
     "data": {
      "text/html": [
       "<pre>Logistic regression:</pre>"
      ],
      "text/plain": [
       "Logistic regression:"
      ]
     },
     "metadata": {},
     "output_type": "display_data"
    },
    {
     "data": {
      "text/html": [
       "<pre>--------------------------------------------------------</pre>"
      ],
      "text/plain": [
       "--------------------------------------------------------"
      ]
     },
     "metadata": {},
     "output_type": "display_data"
    },
    {
     "data": {
      "text/html": [
       "<pre>Number of examples          : 187318</pre>"
      ],
      "text/plain": [
       "Number of examples          : 187318"
      ]
     },
     "metadata": {},
     "output_type": "display_data"
    },
    {
     "data": {
      "text/html": [
       "<pre>Number of classes           : 2</pre>"
      ],
      "text/plain": [
       "Number of classes           : 2"
      ]
     },
     "metadata": {},
     "output_type": "display_data"
    },
    {
     "data": {
      "text/html": [
       "<pre>Number of feature columns   : 2</pre>"
      ],
      "text/plain": [
       "Number of feature columns   : 2"
      ]
     },
     "metadata": {},
     "output_type": "display_data"
    },
    {
     "data": {
      "text/html": [
       "<pre>Number of unpacked features : 208486</pre>"
      ],
      "text/plain": [
       "Number of unpacked features : 208486"
      ]
     },
     "metadata": {},
     "output_type": "display_data"
    },
    {
     "data": {
      "text/html": [
       "<pre>Number of coefficients    : 208487</pre>"
      ],
      "text/plain": [
       "Number of coefficients    : 208487"
      ]
     },
     "metadata": {},
     "output_type": "display_data"
    },
    {
     "data": {
      "text/html": [
       "<pre>Starting Accelerated Gradient (FISTA)</pre>"
      ],
      "text/plain": [
       "Starting Accelerated Gradient (FISTA)"
      ]
     },
     "metadata": {},
     "output_type": "display_data"
    },
    {
     "data": {
      "text/html": [
       "<pre>--------------------------------------------------------</pre>"
      ],
      "text/plain": [
       "--------------------------------------------------------"
      ]
     },
     "metadata": {},
     "output_type": "display_data"
    },
    {
     "data": {
      "text/html": [
       "<pre>+-----------+----------+-----------+--------------+-------------------+---------------------+</pre>"
      ],
      "text/plain": [
       "+-----------+----------+-----------+--------------+-------------------+---------------------+"
      ]
     },
     "metadata": {},
     "output_type": "display_data"
    },
    {
     "data": {
      "text/html": [
       "<pre>| Iteration | Passes   | Step size | Elapsed Time | Training-accuracy | Validation-accuracy |</pre>"
      ],
      "text/plain": [
       "| Iteration | Passes   | Step size | Elapsed Time | Training-accuracy | Validation-accuracy |"
      ]
     },
     "metadata": {},
     "output_type": "display_data"
    },
    {
     "data": {
      "text/html": [
       "<pre>+-----------+----------+-----------+--------------+-------------------+---------------------+</pre>"
      ],
      "text/plain": [
       "+-----------+----------+-----------+--------------+-------------------+---------------------+"
      ]
     },
     "metadata": {},
     "output_type": "display_data"
    },
    {
     "data": {
      "text/html": [
       "<pre>Tuning step size. First iteration could take longer than subsequent iterations.</pre>"
      ],
      "text/plain": [
       "Tuning step size. First iteration could take longer than subsequent iterations."
      ]
     },
     "metadata": {},
     "output_type": "display_data"
    },
    {
     "data": {
      "text/html": [
       "<pre>| 1         | 2        | 0.000001  | 27.795215    | 0.774784          | 0.750527            |</pre>"
      ],
      "text/plain": [
       "| 1         | 2        | 0.000001  | 27.795215    | 0.774784          | 0.750527            |"
      ]
     },
     "metadata": {},
     "output_type": "display_data"
    },
    {
     "data": {
      "text/html": [
       "<pre>| 2         | 3        | 0.000001  | 29.785417    | 0.929612          | 0.909018            |</pre>"
      ],
      "text/plain": [
       "| 2         | 3        | 0.000001  | 29.785417    | 0.929612          | 0.909018            |"
      ]
     },
     "metadata": {},
     "output_type": "display_data"
    },
    {
     "data": {
      "text/html": [
       "<pre>| 3         | 4        | 0.000001  | 31.723663    | 0.917579          | 0.895777            |</pre>"
      ],
      "text/plain": [
       "| 3         | 4        | 0.000001  | 31.723663    | 0.917579          | 0.895777            |"
      ]
     },
     "metadata": {},
     "output_type": "display_data"
    },
    {
     "data": {
      "text/html": [
       "<pre>| 4         | 5        | 0.000001  | 33.623754    | 0.931048          | 0.908416            |</pre>"
      ],
      "text/plain": [
       "| 4         | 5        | 0.000001  | 33.623754    | 0.931048          | 0.908416            |"
      ]
     },
     "metadata": {},
     "output_type": "display_data"
    },
    {
     "data": {
      "text/html": [
       "<pre>| 5         | 6        | 0.000001  | 35.544167    | 0.936466          | 0.914134            |</pre>"
      ],
      "text/plain": [
       "| 5         | 6        | 0.000001  | 35.544167    | 0.936466          | 0.914134            |"
      ]
     },
     "metadata": {},
     "output_type": "display_data"
    },
    {
     "data": {
      "text/html": [
       "<pre>| 6         | 7        | 0.000001  | 37.426925    | 0.939910          | 0.917344            |</pre>"
      ],
      "text/plain": [
       "| 6         | 7        | 0.000001  | 37.426925    | 0.939910          | 0.917344            |"
      ]
     },
     "metadata": {},
     "output_type": "display_data"
    },
    {
     "data": {
      "text/html": [
       "<pre>| 7         | 8        | 0.000001  | 39.406635    | 0.942723          | 0.920152            |</pre>"
      ],
      "text/plain": [
       "| 7         | 8        | 0.000001  | 39.406635    | 0.942723          | 0.920152            |"
      ]
     },
     "metadata": {},
     "output_type": "display_data"
    },
    {
     "data": {
      "text/html": [
       "<pre>| 8         | 9        | 0.000001  | 41.324762    | 0.944960          | 0.921055            |</pre>"
      ],
      "text/plain": [
       "| 8         | 9        | 0.000001  | 41.324762    | 0.944960          | 0.921055            |"
      ]
     },
     "metadata": {},
     "output_type": "display_data"
    },
    {
     "data": {
      "text/html": [
       "<pre>| 9         | 10       | 0.000001  | 43.373449    | 0.946989          | 0.922961            |</pre>"
      ],
      "text/plain": [
       "| 9         | 10       | 0.000001  | 43.373449    | 0.946989          | 0.922961            |"
      ]
     },
     "metadata": {},
     "output_type": "display_data"
    },
    {
     "data": {
      "text/html": [
       "<pre>| 10        | 11       | 0.000001  | 45.418923    | 0.948857          | 0.924566            |</pre>"
      ],
      "text/plain": [
       "| 10        | 11       | 0.000001  | 45.418923    | 0.948857          | 0.924566            |"
      ]
     },
     "metadata": {},
     "output_type": "display_data"
    },
    {
     "data": {
      "text/html": [
       "<pre>| 11        | 12       | 0.000001  | 47.452703    | 0.950362          | 0.926271            |</pre>"
      ],
      "text/plain": [
       "| 11        | 12       | 0.000001  | 47.452703    | 0.950362          | 0.926271            |"
      ]
     },
     "metadata": {},
     "output_type": "display_data"
    },
    {
     "data": {
      "text/html": [
       "<pre>| 12        | 13       | 0.000001  | 49.382494    | 0.952081          | 0.928378            |</pre>"
      ],
      "text/plain": [
       "| 12        | 13       | 0.000001  | 49.382494    | 0.952081          | 0.928378            |"
      ]
     },
     "metadata": {},
     "output_type": "display_data"
    },
    {
     "data": {
      "text/html": [
       "<pre>| 13        | 14       | 0.000001  | 51.522661    | 0.953523          | 0.929180            |</pre>"
      ],
      "text/plain": [
       "| 13        | 14       | 0.000001  | 51.522661    | 0.953523          | 0.929180            |"
      ]
     },
     "metadata": {},
     "output_type": "display_data"
    },
    {
     "data": {
      "text/html": [
       "<pre>| 14        | 15       | 0.000001  | 53.477680    | 0.954708          | 0.930485            |</pre>"
      ],
      "text/plain": [
       "| 14        | 15       | 0.000001  | 53.477680    | 0.954708          | 0.930485            |"
      ]
     },
     "metadata": {},
     "output_type": "display_data"
    },
    {
     "data": {
      "text/html": [
       "<pre>| 15        | 16       | 0.000001  | 55.455047    | 0.955866          | 0.931789            |</pre>"
      ],
      "text/plain": [
       "| 15        | 16       | 0.000001  | 55.455047    | 0.955866          | 0.931789            |"
      ]
     },
     "metadata": {},
     "output_type": "display_data"
    },
    {
     "data": {
      "text/html": [
       "<pre>| 16        | 17       | 0.000001  | 57.360271    | 0.956886          | 0.932390            |</pre>"
      ],
      "text/plain": [
       "| 16        | 17       | 0.000001  | 57.360271    | 0.956886          | 0.932390            |"
      ]
     },
     "metadata": {},
     "output_type": "display_data"
    },
    {
     "data": {
      "text/html": [
       "<pre>| 17        | 18       | 0.000001  | 59.314375    | 0.957949          | 0.932992            |</pre>"
      ],
      "text/plain": [
       "| 17        | 18       | 0.000001  | 59.314375    | 0.957949          | 0.932992            |"
      ]
     },
     "metadata": {},
     "output_type": "display_data"
    },
    {
     "data": {
      "text/html": [
       "<pre>| 18        | 19       | 0.000001  | 61.330752    | 0.958819          | 0.932892            |</pre>"
      ],
      "text/plain": [
       "| 18        | 19       | 0.000001  | 61.330752    | 0.958819          | 0.932892            |"
      ]
     },
     "metadata": {},
     "output_type": "display_data"
    },
    {
     "data": {
      "text/html": [
       "<pre>| 19        | 20       | 0.000001  | 63.236664    | 0.959614          | 0.933293            |</pre>"
      ],
      "text/plain": [
       "| 19        | 20       | 0.000001  | 63.236664    | 0.959614          | 0.933293            |"
      ]
     },
     "metadata": {},
     "output_type": "display_data"
    },
    {
     "data": {
      "text/html": [
       "<pre>| 20        | 21       | 0.000001  | 65.182415    | 0.960612          | 0.933394            |</pre>"
      ],
      "text/plain": [
       "| 20        | 21       | 0.000001  | 65.182415    | 0.960612          | 0.933394            |"
      ]
     },
     "metadata": {},
     "output_type": "display_data"
    },
    {
     "data": {
      "text/html": [
       "<pre>| 21        | 22       | 0.000001  | 67.167747    | 0.961611          | 0.933895            |</pre>"
      ],
      "text/plain": [
       "| 21        | 22       | 0.000001  | 67.167747    | 0.961611          | 0.933895            |"
      ]
     },
     "metadata": {},
     "output_type": "display_data"
    },
    {
     "data": {
      "text/html": [
       "<pre>| 22        | 23       | 0.000001  | 69.066698    | 0.962358          | 0.934296            |</pre>"
      ],
      "text/plain": [
       "| 22        | 23       | 0.000001  | 69.066698    | 0.962358          | 0.934296            |"
      ]
     },
     "metadata": {},
     "output_type": "display_data"
    },
    {
     "data": {
      "text/html": [
       "<pre>| 23        | 24       | 0.000001  | 70.979321    | 0.962908          | 0.934798            |</pre>"
      ],
      "text/plain": [
       "| 23        | 24       | 0.000001  | 70.979321    | 0.962908          | 0.934798            |"
      ]
     },
     "metadata": {},
     "output_type": "display_data"
    },
    {
     "data": {
      "text/html": [
       "<pre>| 24        | 25       | 0.000001  | 73.213239    | 0.963543          | 0.935199            |</pre>"
      ],
      "text/plain": [
       "| 24        | 25       | 0.000001  | 73.213239    | 0.963543          | 0.935199            |"
      ]
     },
     "metadata": {},
     "output_type": "display_data"
    },
    {
     "data": {
      "text/html": [
       "<pre>| 25        | 26       | 0.000001  | 75.266704    | 0.964115          | 0.936002            |</pre>"
      ],
      "text/plain": [
       "| 25        | 26       | 0.000001  | 75.266704    | 0.964115          | 0.936002            |"
      ]
     },
     "metadata": {},
     "output_type": "display_data"
    },
    {
     "data": {
      "text/html": [
       "<pre>| 26        | 27       | 0.000001  | 77.182774    | 0.964702          | 0.936503            |</pre>"
      ],
      "text/plain": [
       "| 26        | 27       | 0.000001  | 77.182774    | 0.964702          | 0.936503            |"
      ]
     },
     "metadata": {},
     "output_type": "display_data"
    },
    {
     "data": {
      "text/html": [
       "<pre>| 27        | 28       | 0.000001  | 79.051933    | 0.965273          | 0.937105            |</pre>"
      ],
      "text/plain": [
       "| 27        | 28       | 0.000001  | 79.051933    | 0.965273          | 0.937105            |"
      ]
     },
     "metadata": {},
     "output_type": "display_data"
    },
    {
     "data": {
      "text/html": [
       "<pre>| 28        | 29       | 0.000001  | 81.018882    | 0.965946          | 0.937807            |</pre>"
      ],
      "text/plain": [
       "| 28        | 29       | 0.000001  | 81.018882    | 0.965946          | 0.937807            |"
      ]
     },
     "metadata": {},
     "output_type": "display_data"
    },
    {
     "data": {
      "text/html": [
       "<pre>| 29        | 30       | 0.000001  | 82.889778    | 0.966485          | 0.938509            |</pre>"
      ],
      "text/plain": [
       "| 29        | 30       | 0.000001  | 82.889778    | 0.966485          | 0.938509            |"
      ]
     },
     "metadata": {},
     "output_type": "display_data"
    },
    {
     "data": {
      "text/html": [
       "<pre>| 30        | 31       | 0.000001  | 84.879669    | 0.966944          | 0.939111            |</pre>"
      ],
      "text/plain": [
       "| 30        | 31       | 0.000001  | 84.879669    | 0.966944          | 0.939111            |"
      ]
     },
     "metadata": {},
     "output_type": "display_data"
    },
    {
     "data": {
      "text/html": [
       "<pre>| 31        | 32       | 0.000001  | 86.807461    | 0.967403          | 0.939813            |</pre>"
      ],
      "text/plain": [
       "| 31        | 32       | 0.000001  | 86.807461    | 0.967403          | 0.939813            |"
      ]
     },
     "metadata": {},
     "output_type": "display_data"
    },
    {
     "data": {
      "text/html": [
       "<pre>| 32        | 33       | 0.000001  | 88.747913    | 0.967942          | 0.939613            |</pre>"
      ],
      "text/plain": [
       "| 32        | 33       | 0.000001  | 88.747913    | 0.967942          | 0.939613            |"
      ]
     },
     "metadata": {},
     "output_type": "display_data"
    },
    {
     "data": {
      "text/html": [
       "<pre>+-----------+----------+-----------+--------------+-------------------+---------------------+</pre>"
      ],
      "text/plain": [
       "+-----------+----------+-----------+--------------+-------------------+---------------------+"
      ]
     },
     "metadata": {},
     "output_type": "display_data"
    },
    {
     "data": {
      "text/html": [
       "<pre>SUCCESS: Optimal solution found.</pre>"
      ],
      "text/plain": [
       "SUCCESS: Optimal solution found."
      ]
     },
     "metadata": {},
     "output_type": "display_data"
    },
    {
     "data": {
      "text/html": [
       "<pre></pre>"
      ],
      "text/plain": []
     },
     "metadata": {},
     "output_type": "display_data"
    }
   ],
   "source": [
    "model_sentiment=graphlab.logistic_classifier.create(mobile_brand_data_new_train,features=['review_tf_idf',\\\n",
    "'title_tf_idf'],target='sentiment',l1_penalty=0.2,max_iterations=50)"
   ]
  },
  {
   "cell_type": "code",
   "execution_count": 102,
   "metadata": {
    "collapsed": false
   },
   "outputs": [
    {
     "data": {
      "text/plain": [
       "94.18507922981719"
      ]
     },
     "execution_count": 102,
     "metadata": {},
     "output_type": "execute_result"
    }
   ],
   "source": [
    "(model_sentiment.evaluate(mobile_brand_data_new_test)['accuracy'])*100"
   ]
  },
  {
   "cell_type": "code",
   "execution_count": 103,
   "metadata": {
    "collapsed": false
   },
   "outputs": [
    {
     "data": {
      "text/html": [
       "<div style=\"max-height:1000px;max-width:1500px;overflow:auto;\"><table frame=\"box\" rules=\"cols\">\n",
       "    <tr>\n",
       "        <th style=\"padding-left: 1em; padding-right: 1em; text-align: center\">target_label</th>\n",
       "        <th style=\"padding-left: 1em; padding-right: 1em; text-align: center\">predicted_label</th>\n",
       "        <th style=\"padding-left: 1em; padding-right: 1em; text-align: center\">count</th>\n",
       "    </tr>\n",
       "    <tr>\n",
       "        <td style=\"padding-left: 1em; padding-right: 1em; text-align: center; vertical-align: top\">0</td>\n",
       "        <td style=\"padding-left: 1em; padding-right: 1em; text-align: center; vertical-align: top\">1</td>\n",
       "        <td style=\"padding-left: 1em; padding-right: 1em; text-align: center; vertical-align: top\">1828</td>\n",
       "    </tr>\n",
       "    <tr>\n",
       "        <td style=\"padding-left: 1em; padding-right: 1em; text-align: center; vertical-align: top\">1</td>\n",
       "        <td style=\"padding-left: 1em; padding-right: 1em; text-align: center; vertical-align: top\">0</td>\n",
       "        <td style=\"padding-left: 1em; padding-right: 1em; text-align: center; vertical-align: top\">1038</td>\n",
       "    </tr>\n",
       "    <tr>\n",
       "        <td style=\"padding-left: 1em; padding-right: 1em; text-align: center; vertical-align: top\">1</td>\n",
       "        <td style=\"padding-left: 1em; padding-right: 1em; text-align: center; vertical-align: top\">1</td>\n",
       "        <td style=\"padding-left: 1em; padding-right: 1em; text-align: center; vertical-align: top\">30119</td>\n",
       "    </tr>\n",
       "    <tr>\n",
       "        <td style=\"padding-left: 1em; padding-right: 1em; text-align: center; vertical-align: top\">0</td>\n",
       "        <td style=\"padding-left: 1em; padding-right: 1em; text-align: center; vertical-align: top\">0</td>\n",
       "        <td style=\"padding-left: 1em; padding-right: 1em; text-align: center; vertical-align: top\">16302</td>\n",
       "    </tr>\n",
       "</table>\n",
       "[4 rows x 3 columns]<br/>\n",
       "</div>"
      ],
      "text/plain": [
       "Columns:\n",
       "\ttarget_label\tint\n",
       "\tpredicted_label\tint\n",
       "\tcount\tint\n",
       "\n",
       "Rows: 4\n",
       "\n",
       "Data:\n",
       "+--------------+-----------------+-------+\n",
       "| target_label | predicted_label | count |\n",
       "+--------------+-----------------+-------+\n",
       "|      0       |        1        |  1828 |\n",
       "|      1       |        0        |  1038 |\n",
       "|      1       |        1        | 30119 |\n",
       "|      0       |        0        | 16302 |\n",
       "+--------------+-----------------+-------+\n",
       "[4 rows x 3 columns]"
      ]
     },
     "execution_count": 103,
     "metadata": {},
     "output_type": "execute_result"
    }
   ],
   "source": [
    "model_sentiment.evaluate(mobile_brand_data_new_test)['confusion_matrix']"
   ]
  },
  {
   "cell_type": "code",
   "execution_count": 104,
   "metadata": {
    "collapsed": false
   },
   "outputs": [
    {
     "data": {
      "text/plain": [
       "94.27802297555326"
      ]
     },
     "execution_count": 104,
     "metadata": {},
     "output_type": "execute_result"
    }
   ],
   "source": [
    "model_sentiment.evaluate(mobile_brand_data_new_test)['precision']*100"
   ]
  },
  {
   "cell_type": "code",
   "execution_count": 105,
   "metadata": {
    "collapsed": false
   },
   "outputs": [
    {
     "data": {
      "text/plain": [
       "96.66848541258786"
      ]
     },
     "execution_count": 105,
     "metadata": {},
     "output_type": "execute_result"
    }
   ],
   "source": [
    "model_sentiment.evaluate(mobile_brand_data_new_test)['recall']*100"
   ]
  },
  {
   "cell_type": "code",
   "execution_count": 106,
   "metadata": {
    "collapsed": false
   },
   "outputs": [],
   "source": [
    "roc_curve=model_sentiment.evaluate(mobile_brand_data_new_test)['roc_curve']"
   ]
  },
  {
   "cell_type": "code",
   "execution_count": 107,
   "metadata": {
    "collapsed": false
   },
   "outputs": [
    {
     "data": {
      "text/plain": [
       "graphlab.data_structures.sframe.SFrame"
      ]
     },
     "execution_count": 107,
     "metadata": {},
     "output_type": "execute_result"
    }
   ],
   "source": [
    "type(roc_curve)"
   ]
  },
  {
   "cell_type": "code",
   "execution_count": 108,
   "metadata": {
    "collapsed": false
   },
   "outputs": [
    {
     "data": {
      "text/html": [
       "<div style=\"max-height:1000px;max-width:1500px;overflow:auto;\"><table frame=\"box\" rules=\"cols\">\n",
       "    <tr>\n",
       "        <th style=\"padding-left: 1em; padding-right: 1em; text-align: center\">threshold</th>\n",
       "        <th style=\"padding-left: 1em; padding-right: 1em; text-align: center\">fpr</th>\n",
       "        <th style=\"padding-left: 1em; padding-right: 1em; text-align: center\">tpr</th>\n",
       "        <th style=\"padding-left: 1em; padding-right: 1em; text-align: center\">p</th>\n",
       "        <th style=\"padding-left: 1em; padding-right: 1em; text-align: center\">n</th>\n",
       "    </tr>\n",
       "    <tr>\n",
       "        <td style=\"padding-left: 1em; padding-right: 1em; text-align: center; vertical-align: top\">0.0</td>\n",
       "        <td style=\"padding-left: 1em; padding-right: 1em; text-align: center; vertical-align: top\">1.0</td>\n",
       "        <td style=\"padding-left: 1em; padding-right: 1em; text-align: center; vertical-align: top\">1.0</td>\n",
       "        <td style=\"padding-left: 1em; padding-right: 1em; text-align: center; vertical-align: top\">31157</td>\n",
       "        <td style=\"padding-left: 1em; padding-right: 1em; text-align: center; vertical-align: top\">18130</td>\n",
       "    </tr>\n",
       "    <tr>\n",
       "        <td style=\"padding-left: 1em; padding-right: 1em; text-align: center; vertical-align: top\">1e-05</td>\n",
       "        <td style=\"padding-left: 1em; padding-right: 1em; text-align: center; vertical-align: top\">0.973690016547</td>\n",
       "        <td style=\"padding-left: 1em; padding-right: 1em; text-align: center; vertical-align: top\">0.999807426902</td>\n",
       "        <td style=\"padding-left: 1em; padding-right: 1em; text-align: center; vertical-align: top\">31157</td>\n",
       "        <td style=\"padding-left: 1em; padding-right: 1em; text-align: center; vertical-align: top\">18130</td>\n",
       "    </tr>\n",
       "    <tr>\n",
       "        <td style=\"padding-left: 1em; padding-right: 1em; text-align: center; vertical-align: top\">2e-05</td>\n",
       "        <td style=\"padding-left: 1em; padding-right: 1em; text-align: center; vertical-align: top\">0.968008825152</td>\n",
       "        <td style=\"padding-left: 1em; padding-right: 1em; text-align: center; vertical-align: top\">0.999807426902</td>\n",
       "        <td style=\"padding-left: 1em; padding-right: 1em; text-align: center; vertical-align: top\">31157</td>\n",
       "        <td style=\"padding-left: 1em; padding-right: 1em; text-align: center; vertical-align: top\">18130</td>\n",
       "    </tr>\n",
       "    <tr>\n",
       "        <td style=\"padding-left: 1em; padding-right: 1em; text-align: center; vertical-align: top\">3e-05</td>\n",
       "        <td style=\"padding-left: 1em; padding-right: 1em; text-align: center; vertical-align: top\">0.964699393271</td>\n",
       "        <td style=\"padding-left: 1em; padding-right: 1em; text-align: center; vertical-align: top\">0.99974323587</td>\n",
       "        <td style=\"padding-left: 1em; padding-right: 1em; text-align: center; vertical-align: top\">31157</td>\n",
       "        <td style=\"padding-left: 1em; padding-right: 1em; text-align: center; vertical-align: top\">18130</td>\n",
       "    </tr>\n",
       "    <tr>\n",
       "        <td style=\"padding-left: 1em; padding-right: 1em; text-align: center; vertical-align: top\">4e-05</td>\n",
       "        <td style=\"padding-left: 1em; padding-right: 1em; text-align: center; vertical-align: top\">0.961776061776</td>\n",
       "        <td style=\"padding-left: 1em; padding-right: 1em; text-align: center; vertical-align: top\">0.99974323587</td>\n",
       "        <td style=\"padding-left: 1em; padding-right: 1em; text-align: center; vertical-align: top\">31157</td>\n",
       "        <td style=\"padding-left: 1em; padding-right: 1em; text-align: center; vertical-align: top\">18130</td>\n",
       "    </tr>\n",
       "    <tr>\n",
       "        <td style=\"padding-left: 1em; padding-right: 1em; text-align: center; vertical-align: top\">5e-05</td>\n",
       "        <td style=\"padding-left: 1em; padding-right: 1em; text-align: center; vertical-align: top\">0.958907887479</td>\n",
       "        <td style=\"padding-left: 1em; padding-right: 1em; text-align: center; vertical-align: top\">0.99974323587</td>\n",
       "        <td style=\"padding-left: 1em; padding-right: 1em; text-align: center; vertical-align: top\">31157</td>\n",
       "        <td style=\"padding-left: 1em; padding-right: 1em; text-align: center; vertical-align: top\">18130</td>\n",
       "    </tr>\n",
       "    <tr>\n",
       "        <td style=\"padding-left: 1em; padding-right: 1em; text-align: center; vertical-align: top\">6e-05</td>\n",
       "        <td style=\"padding-left: 1em; padding-right: 1em; text-align: center; vertical-align: top\">0.955653612796</td>\n",
       "        <td style=\"padding-left: 1em; padding-right: 1em; text-align: center; vertical-align: top\">0.99974323587</td>\n",
       "        <td style=\"padding-left: 1em; padding-right: 1em; text-align: center; vertical-align: top\">31157</td>\n",
       "        <td style=\"padding-left: 1em; padding-right: 1em; text-align: center; vertical-align: top\">18130</td>\n",
       "    </tr>\n",
       "    <tr>\n",
       "        <td style=\"padding-left: 1em; padding-right: 1em; text-align: center; vertical-align: top\">7e-05</td>\n",
       "        <td style=\"padding-left: 1em; padding-right: 1em; text-align: center; vertical-align: top\">0.953833425262</td>\n",
       "        <td style=\"padding-left: 1em; padding-right: 1em; text-align: center; vertical-align: top\">0.99974323587</td>\n",
       "        <td style=\"padding-left: 1em; padding-right: 1em; text-align: center; vertical-align: top\">31157</td>\n",
       "        <td style=\"padding-left: 1em; padding-right: 1em; text-align: center; vertical-align: top\">18130</td>\n",
       "    </tr>\n",
       "    <tr>\n",
       "        <td style=\"padding-left: 1em; padding-right: 1em; text-align: center; vertical-align: top\">8e-05</td>\n",
       "        <td style=\"padding-left: 1em; padding-right: 1em; text-align: center; vertical-align: top\">0.951627137341</td>\n",
       "        <td style=\"padding-left: 1em; padding-right: 1em; text-align: center; vertical-align: top\">0.99974323587</td>\n",
       "        <td style=\"padding-left: 1em; padding-right: 1em; text-align: center; vertical-align: top\">31157</td>\n",
       "        <td style=\"padding-left: 1em; padding-right: 1em; text-align: center; vertical-align: top\">18130</td>\n",
       "    </tr>\n",
       "    <tr>\n",
       "        <td style=\"padding-left: 1em; padding-right: 1em; text-align: center; vertical-align: top\">9e-05</td>\n",
       "        <td style=\"padding-left: 1em; padding-right: 1em; text-align: center; vertical-align: top\">0.949531163817</td>\n",
       "        <td style=\"padding-left: 1em; padding-right: 1em; text-align: center; vertical-align: top\">0.99974323587</td>\n",
       "        <td style=\"padding-left: 1em; padding-right: 1em; text-align: center; vertical-align: top\">31157</td>\n",
       "        <td style=\"padding-left: 1em; padding-right: 1em; text-align: center; vertical-align: top\">18130</td>\n",
       "    </tr>\n",
       "</table>\n",
       "[100001 rows x 5 columns]<br/>Note: Only the head of the SFrame is printed.<br/>You can use print_rows(num_rows=m, num_columns=n) to print more rows and columns.\n",
       "</div>"
      ],
      "text/plain": [
       "Columns:\n",
       "\tthreshold\tfloat\n",
       "\tfpr\tfloat\n",
       "\ttpr\tfloat\n",
       "\tp\tint\n",
       "\tn\tint\n",
       "\n",
       "Rows: 100001\n",
       "\n",
       "Data:\n",
       "+-----------+----------------+----------------+-------+-------+\n",
       "| threshold |      fpr       |      tpr       |   p   |   n   |\n",
       "+-----------+----------------+----------------+-------+-------+\n",
       "|    0.0    |      1.0       |      1.0       | 31157 | 18130 |\n",
       "|   1e-05   | 0.973690016547 | 0.999807426902 | 31157 | 18130 |\n",
       "|   2e-05   | 0.968008825152 | 0.999807426902 | 31157 | 18130 |\n",
       "|   3e-05   | 0.964699393271 | 0.99974323587  | 31157 | 18130 |\n",
       "|   4e-05   | 0.961776061776 | 0.99974323587  | 31157 | 18130 |\n",
       "|   5e-05   | 0.958907887479 | 0.99974323587  | 31157 | 18130 |\n",
       "|   6e-05   | 0.955653612796 | 0.99974323587  | 31157 | 18130 |\n",
       "|   7e-05   | 0.953833425262 | 0.99974323587  | 31157 | 18130 |\n",
       "|   8e-05   | 0.951627137341 | 0.99974323587  | 31157 | 18130 |\n",
       "|   9e-05   | 0.949531163817 | 0.99974323587  | 31157 | 18130 |\n",
       "+-----------+----------------+----------------+-------+-------+\n",
       "[100001 rows x 5 columns]\n",
       "Note: Only the head of the SFrame is printed.\n",
       "You can use print_rows(num_rows=m, num_columns=n) to print more rows and columns."
      ]
     },
     "execution_count": 108,
     "metadata": {},
     "output_type": "execute_result"
    }
   ],
   "source": [
    "roc_curve"
   ]
  },
  {
   "cell_type": "code",
   "execution_count": null,
   "metadata": {
    "collapsed": false
   },
   "outputs": [],
   "source": [
    "roc_curve.save('roc_curve.csv',format='csv')"
   ]
  },
  {
   "cell_type": "code",
   "execution_count": null,
   "metadata": {
    "collapsed": false
   },
   "outputs": [],
   "source": [
    "mobile_brand_data_new"
   ]
  },
  {
   "cell_type": "code",
   "execution_count": null,
   "metadata": {
    "collapsed": false
   },
   "outputs": [],
   "source": [
    "month={'01':'January','02':'February','03':'March','04':'April','05':'May','06':'June','07':'July','08':'August',\n",
    "      '09':'September','10':'October','11':'November','12':'December'}"
   ]
  },
  {
   "cell_type": "code",
   "execution_count": null,
   "metadata": {
    "collapsed": true
   },
   "outputs": [],
   "source": [
    "year=mobile_brand_data['reviewTime']"
   ]
  },
  {
   "cell_type": "code",
   "execution_count": null,
   "metadata": {
    "collapsed": true
   },
   "outputs": [],
   "source": [
    "new_month=year.apply(lambda x: x.split()[0::2])"
   ]
  },
  {
   "cell_type": "code",
   "execution_count": null,
   "metadata": {
    "collapsed": false
   },
   "outputs": [],
   "source": [
    "new_month[0]"
   ]
  },
  {
   "cell_type": "code",
   "execution_count": null,
   "metadata": {
    "collapsed": false
   },
   "outputs": [],
   "source": [
    "new_month=graphlab.SFrame(new_month)"
   ]
  },
  {
   "cell_type": "code",
   "execution_count": null,
   "metadata": {
    "collapsed": false
   },
   "outputs": [],
   "source": [
    "Months=[]\n",
    "\n",
    "for i in new_month:\n",
    "       Months.append(month[i['X1'][0]])"
   ]
  },
  {
   "cell_type": "code",
   "execution_count": null,
   "metadata": {
    "collapsed": false
   },
   "outputs": [],
   "source": [
    "Months"
   ]
  },
  {
   "cell_type": "code",
   "execution_count": null,
   "metadata": {
    "collapsed": true
   },
   "outputs": [],
   "source": [
    "year=[]\n",
    "for i in new_month:\n",
    "       year.append(i['X1'][1])"
   ]
  },
  {
   "cell_type": "code",
   "execution_count": null,
   "metadata": {
    "collapsed": false
   },
   "outputs": [],
   "source": [
    "month_year=[]\n",
    "for i in range(len(year)):\n",
    "    month_year.append(str(Months[i])+', '+str(year[i]))"
   ]
  },
  {
   "cell_type": "code",
   "execution_count": null,
   "metadata": {
    "collapsed": false
   },
   "outputs": [],
   "source": [
    "month_year"
   ]
  },
  {
   "cell_type": "code",
   "execution_count": null,
   "metadata": {
    "collapsed": false
   },
   "outputs": [],
   "source": [
    "mobile_brand_data"
   ]
  },
  {
   "cell_type": "code",
   "execution_count": null,
   "metadata": {
    "collapsed": true
   },
   "outputs": [],
   "source": [
    "mobile_brand_data['Time']=month_year"
   ]
  },
  {
   "cell_type": "code",
   "execution_count": null,
   "metadata": {
    "collapsed": false
   },
   "outputs": [],
   "source": [
    "mobile_brand_data.remove_column('reviewTime')"
   ]
  },
  {
   "cell_type": "code",
   "execution_count": null,
   "metadata": {
    "collapsed": false
   },
   "outputs": [],
   "source": [
    "mobile_brand_data.remove_column('imUrl')"
   ]
  },
  {
   "cell_type": "code",
   "execution_count": null,
   "metadata": {
    "collapsed": false
   },
   "outputs": [],
   "source": [
    "mobile_brand_data.show()"
   ]
  },
  {
   "cell_type": "code",
   "execution_count": null,
   "metadata": {
    "collapsed": true
   },
   "outputs": [],
   "source": [
    "mobile_brand_data.save('mobile3.csv',format='csv')"
   ]
  },
  {
   "cell_type": "code",
   "execution_count": null,
   "metadata": {
    "collapsed": false
   },
   "outputs": [],
   "source": [
    "mobile_brand_data"
   ]
  },
  {
   "cell_type": "code",
   "execution_count": null,
   "metadata": {
    "collapsed": false
   },
   "outputs": [],
   "source": [
    "samsung.save('samsung.csv',format='csv')"
   ]
  },
  {
   "cell_type": "code",
   "execution_count": null,
   "metadata": {
    "collapsed": false
   },
   "outputs": [],
   "source": [
    "lg.save('lg.csv',format='csv')"
   ]
  },
  {
   "cell_type": "code",
   "execution_count": null,
   "metadata": {
    "collapsed": false
   },
   "outputs": [],
   "source": [
    "apple.save('apple.csv',format='csv')"
   ]
  },
  {
   "cell_type": "code",
   "execution_count": null,
   "metadata": {
    "collapsed": false
   },
   "outputs": [],
   "source": [
    "sony.save('sony.csv',format='csv')"
   ]
  },
  {
   "cell_type": "code",
   "execution_count": null,
   "metadata": {
    "collapsed": false
   },
   "outputs": [],
   "source": [
    "motorola.save('motorola.csv',format='csv')"
   ]
  },
  {
   "cell_type": "code",
   "execution_count": null,
   "metadata": {
    "collapsed": false
   },
   "outputs": [],
   "source": [
    "htc.save('htc.csv',format='csv')"
   ]
  },
  {
   "cell_type": "code",
   "execution_count": null,
   "metadata": {
    "collapsed": false
   },
   "outputs": [],
   "source": [
    "nokia.save('nokia.csv',format='csv')"
   ]
  },
  {
   "cell_type": "code",
   "execution_count": null,
   "metadata": {
    "collapsed": true
   },
   "outputs": [],
   "source": [
    "blackberry.save('blackberry.csv',format=\"csv\")"
   ]
  }
 ],
 "metadata": {
  "anaconda-cloud": {},
  "kernelspec": {
   "display_name": "Python [conda root]",
   "language": "python",
   "name": "conda-root-py"
  },
  "language_info": {
   "codemirror_mode": {
    "name": "ipython",
    "version": 3
   },
   "file_extension": ".py",
   "mimetype": "text/x-python",
   "name": "python",
   "nbconvert_exporter": "python",
   "pygments_lexer": "ipython3",
   "version": "3.5.2"
  }
 },
 "nbformat": 4,
 "nbformat_minor": 0
}
